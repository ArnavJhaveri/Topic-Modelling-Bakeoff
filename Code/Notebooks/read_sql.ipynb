{
 "cells": [
  {
   "cell_type": "code",
   "execution_count": null,
   "metadata": {},
   "outputs": [],
   "source": [
    "\n",
    "\n",
    "import pandas as pd\n",
    "import sqlalchemy\n",
    "from sqlalchemy import create_engine\n",
    "from sqlalchemy.engine import reflection\n",
    "\n",
    "db = sqlalchemy.engine.url.URL(drivername='mysql', host='127.0.0.1', database='arnav', query={'read_default_file': '~/.my.cnf', 'charset':'utf8mb4'})\n",
    "engine = sqlalchemy.create_engine(db)\n",
    "\n",
    "query = \"SELECT * FROM feat$cat_met_a30_2000_cp_w$facebook_2020$message_id$1gra\"\n",
    "df = pd.read_sql_query(query, engine)"
   ]
  },
  {
   "cell_type": "code",
   "execution_count": 5,
   "metadata": {
    "metadata": {}
   },
   "outputs": [],
   "source": [
    "import pandas as pd\n",
    "import sqlalchemy\n",
    "from sqlalchemy import create_engine\n",
    "from sqlalchemy.engine import reflection\n",
    "\n",
    "db = sqlalchemy.engine.url.URL(drivername='mysql', host='127.0.0.1', database='dlatk_lexica', query={'read_default_file': '~/.my.cnf', 'charset':'utf8mb4'})\n",
    "engine = sqlalchemy.create_engine(db)\n",
    "\n",
    "# Using the inspector to get table information\n",
    "inspector = reflection.Inspector.from_engine(engine)\n",
    "\n",
    "# Retrieve the table names\n",
    "tables = inspector.get_table_names()\n",
    "\n",
    "query = \"SELECT * FROM met_a30_2000_cp\"\n",
    "outcomes = pd.read_sql_query(query, engine)\n",
    "\n",
    "db2 = sqlalchemy.engine.url.URL(drivername='mysql', host='127.0.0.1', database='arnav', query={'read_default_file': '~/.my.cnf', 'charset':'utf8mb4'})\n",
    "engine2 = sqlalchemy.create_engine(db2)\n",
    "\n",
    "outcomes.to_sql('met_a30_2000_cp', engine2, if_exists='replace', index=False, chunksize=500)"
   ]
  },
  {
   "cell_type": "code",
   "execution_count": 26,
   "metadata": {},
   "outputs": [],
   "source": [
    "import pandas as pd\n",
    "import sqlalchemy\n",
    "\n",
    "db = sqlalchemy.engine.url.URL(drivername='mysql', host='127.0.0.1', database='loneliness', query={'read_default_file': '~/.my.cnf', 'charset':'utf8mb4'})\n",
    "engine = sqlalchemy.create_engine(db)\n",
    "\n",
    "loneliness_query = \"SELECT * FROM loneliness_outcomes\"\n",
    "loneliness_outcomes = pd.read_sql_query(loneliness_query, engine)\n",
    "\n",
    "demographic_query = \"SELECT * FROM loneliness_outcomes_withdemographics\"\n",
    "demographic_outcomes = pd.read_sql_query(demographic_query, engine)\n",
    "\n",
    "user_query = \"SELECT * FROM user_outcomes\"\n",
    "user_outcomes = pd.read_sql_query(user_query, engine)\n",
    "user_outcomes = user_outcomes.rename(columns = {'PHQ_score': 'depression', 'PSS_score': 'stress'})\n",
    "\n",
    "df = pd.read_sql_query(\"SELECT * FROM msgs_fb1_dedup\", engine)"
   ]
  },
  {
   "cell_type": "code",
   "execution_count": 27,
   "metadata": {},
   "outputs": [],
   "source": [
    "outcomes = loneliness_outcomes[['user_id', 'age', 'sex', 'marital_status', 'income', 'education']].merge(demographic_outcomes[['user_id', 'total_loneliness_score']], how='inner', on='user_id')\n",
    "outcomes = outcomes.merge(user_outcomes[['user_id', 'depression', 'stress', 'Extraversion', 'Agreeableness', 'Conscientiousness', 'Emotional_Stability', 'Openness_to_newexp', 'UCLA_3item_sum']], how='inner', on='user_id')"
   ]
  },
  {
   "cell_type": "code",
   "execution_count": 28,
   "metadata": {},
   "outputs": [],
   "source": [
    "remove_marital_status = ['Widowed', 'Separated', 'Partner', 'Prefer not to answer']\n",
    "outcomes = outcomes[outcomes['marital_status'].isin(remove_marital_status) == False].reset_index(drop=True)\n",
    "\n",
    "remove_income = ['Less than $10,000', 'Prefer not to say']\n",
    "outcomes = outcomes[outcomes['income'].isin(remove_income) == False].reset_index(drop=True)\n",
    "\n",
    "education_income = [\"Associate's Degree\", \"Some college\", \"Less than high school\", \"Other\", \"Prefer not to answer\"]\n",
    "outcomes = outcomes[outcomes['education'].isin(education_income) == False].reset_index(drop=True)"
   ]
  },
  {
   "cell_type": "code",
   "execution_count": 29,
   "metadata": {},
   "outputs": [],
   "source": [
    "merged = df[['user_id', 'message_id', 'message']].merge(outcomes, how='inner', on='user_id')\n",
    "\n",
    "counts = merged['user_id'].value_counts().reset_index()\n",
    "counts.columns = ['user_id', 'message_count']\n",
    "merged = pd.merge(merged, counts, on = 'user_id', how = 'inner')\n",
    "merged = merged[merged['message_count'] > 100].reset_index(drop=True)\n",
    "\n",
    "counts = merged['user_id'].value_counts().reset_index()\n",
    "total = 0\n",
    "curr = 0\n",
    "user_id_set = set()\n",
    "\n",
    "for i in range(len(counts)):\n",
    "    user_id_set.add(counts.iloc[i]['index'])\n",
    "    total += counts.iloc[i]['user_id']\n",
    "    if total > 1000000:\n",
    "        break\n",
    "\n",
    "merged = merged[merged['user_id'].isin(list(user_id_set))].reset_index(drop=True)\n",
    "merged = merged.sample(1000000, random_state = 42).reset_index(drop=True).dropna()"
   ]
  },
  {
   "cell_type": "code",
   "execution_count": 30,
   "metadata": {},
   "outputs": [],
   "source": [
    "# merged.to_csv('/sandata/arnav/facebook.csv')\n",
    "merged.to_csv('facebook.csv')"
   ]
  },
  {
   "cell_type": "code",
   "execution_count": 31,
   "metadata": {},
   "outputs": [],
   "source": [
    "merged.to_csv('/sandata/arnav/facebook.csv')"
   ]
  },
  {
   "cell_type": "code",
   "execution_count": 20,
   "metadata": {},
   "outputs": [],
   "source": [
    "db = sqlalchemy.engine.url.URL(drivername='mysql', host='127.0.0.1', database='arnav', query={'read_default_file': '~/.my.cnf', 'charset':'utf8mb4'})\n",
    "engine = sqlalchemy.create_engine(db)\n",
    "\n",
    "merged = merged[['message']].reset_index()\n",
    "merged.columns = ['message_id', 'message']\n",
    "\n",
    "merged.to_sql('facebook', engine, if_exists='replace', index=False, chunksize=500)"
   ]
  }
 ],
 "metadata": {
  "kernelspec": {
   "display_name": "dlatk",
   "language": "python",
   "name": "python3"
  },
  "language_info": {
   "codemirror_mode": {
    "name": "ipython",
    "version": 3
   },
   "file_extension": ".py",
   "mimetype": "text/x-python",
   "name": "python",
   "nbconvert_exporter": "python",
   "pygments_lexer": "ipython3",
   "version": "3.5.undefined"
  }
 },
 "nbformat": 4,
 "nbformat_minor": 2
}
