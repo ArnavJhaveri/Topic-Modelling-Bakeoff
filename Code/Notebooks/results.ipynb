{
 "cells": [
  {
   "cell_type": "code",
   "execution_count": null,
   "metadata": {},
   "outputs": [],
   "source": [
    "import pandas as pd\n",
    "import numpy as np\n",
    "\n",
    "models = ['GensimLDA', 'Mallet_LDA', 'CTM', 'BERTopic', 'NMF']\n",
    "dataset = 'amazon'\n",
    "\n",
    "overall_df = []\n",
    "\n",
    "for model in models:\n",
    "  temp_dfs = []\n",
    "  averages = []\n",
    "  for run in range(1, 6):\n",
    "    temp_dfs.append(pd.read_csv('/home/arnav/' + dataset + '/' + model + '/run_' + str(run) + '/df_100.csv'))\n",
    "  \n",
    "  temp_df = pd.concat(temp_dfs)\n",
    "  \n",
    "  for i, col in enumerate(temp_df.columns):\n",
    "    if i > 0:\n",
    "      averages.append(np.mean(temp_df[col]))\n",
    "\n",
    "  print(model)\n",
    "  print(pd.DataFrame(averages).iloc[0:10].T)\n",
    "  print(pd.DataFrame(averages).iloc[10:].T)\n",
    "  print()"
   ]
  }
 ],
 "metadata": {
  "kernelspec": {
   "display_name": "BERTopic_1",
   "language": "python",
   "name": "python3"
  },
  "language_info": {
   "codemirror_mode": {
    "name": "ipython",
    "version": 3
   },
   "file_extension": ".py",
   "mimetype": "text/x-python",
   "name": "python",
   "nbconvert_exporter": "python",
   "pygments_lexer": "ipython3",
   "version": "3.5.0"
  }
 },
 "nbformat": 4,
 "nbformat_minor": 2
}
