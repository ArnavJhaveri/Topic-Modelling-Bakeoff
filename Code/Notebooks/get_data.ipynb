{
 "cells": [
  {
   "cell_type": "code",
   "execution_count": 9,
   "metadata": {},
   "outputs": [],
   "source": [
    "from datasets import load_dataset\n",
    "import pandas as pd\n",
    "\n",
    "yelp = load_dataset(\"yelp_review_full\")['train'].to_pandas()\n",
    "yelp.columns = ['label', 'message']\n",
    "yelp.to_csv('yelp_reviews/yelp_reviews.csv')\n",
    "\n",
    "imdb = load_dataset(\"mteb/imdb\")\n",
    "imdb = pd.concat([imdb['train'].to_pandas(), imdb['test'].to_pandas()]).reset_index(drop=True)[['text', 'label']]\n",
    "imdb.columns = ['message', 'label']\n",
    "imdb.to_csv('data/imdb.csv')\n",
    "\n",
    "ng = load_dataset(\"SetFit/20_newsgroups\")['train'].to_pandas()[['text', 'label']]\n",
    "ng.columns = ['message', 'label']\n",
    "ng.to_csv('data/20_newsgroup.csv')\n",
    "\n",
    "bbc_news = load_dataset(\"SetFit/bbc-news\")\n",
    "bbc_news = pd.concat([bbc_news['train'].to_pandas(), bbc_news['test'].to_pandas()]).reset_index(drop=True)[['text', 'label']]\n",
    "bbc_news.columns = ['message', 'label']\n",
    "bbc_news.to_csv('data/bbc_news.csv')"
   ]
  }
 ],
 "metadata": {
  "kernelspec": {
   "display_name": "Python 3",
   "language": "python",
   "name": "python3"
  },
  "language_info": {
   "codemirror_mode": {
    "name": "ipython",
    "version": 3
   },
   "file_extension": ".py",
   "mimetype": "text/x-python",
   "name": "python",
   "nbconvert_exporter": "python",
   "pygments_lexer": "ipython3",
   "version": "3.11.0"
  }
 },
 "nbformat": 4,
 "nbformat_minor": 2
}
