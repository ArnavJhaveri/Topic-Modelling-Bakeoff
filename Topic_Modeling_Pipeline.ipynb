{
  "cells": [
    {
      "cell_type": "markdown",
      "metadata": {
        "id": "PeMV7zTU1n9r"
      },
      "source": [
        "# Notes"
      ]
    },
    {
      "cell_type": "markdown",
      "metadata": {
        "id": "ex8TGwk0mTvd"
      },
      "source": [
        "1. Figure out what command CTM uses for (weight, word) pair in the topic and do the same thing as mentioned for Gensim LDA \n",
        "\n",
        "2. Why are the topics so monolingual -- this really needs to be answered --> maybe the embedding model could be changed --> take the vector embeddings for each language and subtract off the mean for all the sentence embeddings for that language\n",
        "\n",
        "\n",
        "Steps for the step 2 above:\n",
        "1. Embed each of my sentences (so we have an embedding for each of the sentences)\n",
        "2. Partition by language\n",
        "3. Take the average embedding for each language (centroid)\n",
        "4. When we retrieve the embedding for a given sentence, subtract off the average for that language\n",
        "5. Use this embedding for the clustering instead"
      ]
    },
    {
      "cell_type": "markdown",
      "metadata": {
        "id": "mZc9P1Knz4xN"
      },
      "source": [
        "# Installations"
      ]
    },
    {
      "cell_type": "code",
      "execution_count": 23,
      "metadata": {
        "colab": {
          "base_uri": "https://localhost:8080/",
          "height": 1000
        },
        "id": "BUw5EQi8v9r1",
        "outputId": "4adb927e-4343-4795-96fe-f410b213e7ca"
      },
      "outputs": [],
      "source": [
        "# !pip install contextualized-topic-models==2.3.0\n",
        "# !pip install datasets\n",
        "# !pip install pyldavis\n",
        "# !pip install bertopic"
      ]
    },
    {
      "cell_type": "code",
      "execution_count": 1,
      "metadata": {
        "id": "2OHuu51Y3opK"
      },
      "outputs": [
        {
          "name": "stderr",
          "output_type": "stream",
          "text": [
            "/home/arnav/.conda/envs/BERTopic_1/lib/python3.11/site-packages/umap/distances.py:1063: NumbaDeprecationWarning: The 'nopython' keyword argument was not supplied to the 'numba.jit' decorator. The implicit default value for this argument is currently False, but it will be changed to True in Numba 0.59.0. See https://numba.readthedocs.io/en/stable/reference/deprecation.html#deprecation-of-object-mode-fall-back-behaviour-when-using-jit for details.\n",
            "  @numba.jit()\n",
            "/home/arnav/.conda/envs/BERTopic_1/lib/python3.11/site-packages/umap/distances.py:1071: NumbaDeprecationWarning: The 'nopython' keyword argument was not supplied to the 'numba.jit' decorator. The implicit default value for this argument is currently False, but it will be changed to True in Numba 0.59.0. See https://numba.readthedocs.io/en/stable/reference/deprecation.html#deprecation-of-object-mode-fall-back-behaviour-when-using-jit for details.\n",
            "  @numba.jit()\n",
            "/home/arnav/.conda/envs/BERTopic_1/lib/python3.11/site-packages/umap/distances.py:1086: NumbaDeprecationWarning: The 'nopython' keyword argument was not supplied to the 'numba.jit' decorator. The implicit default value for this argument is currently False, but it will be changed to True in Numba 0.59.0. See https://numba.readthedocs.io/en/stable/reference/deprecation.html#deprecation-of-object-mode-fall-back-behaviour-when-using-jit for details.\n",
            "  @numba.jit()\n",
            "/home/arnav/.conda/envs/BERTopic_1/lib/python3.11/site-packages/umap/umap_.py:660: NumbaDeprecationWarning: The 'nopython' keyword argument was not supplied to the 'numba.jit' decorator. The implicit default value for this argument is currently False, but it will be changed to True in Numba 0.59.0. See https://numba.readthedocs.io/en/stable/reference/deprecation.html#deprecation-of-object-mode-fall-back-behaviour-when-using-jit for details.\n",
            "  @numba.jit()\n"
          ]
        }
      ],
      "source": [
        "import nltk\n",
        "import pandas as pd\n",
        "from nltk.corpus import stopwords as stop_words\n",
        "from datasets import load_dataset\n",
        "import numpy as np\n",
        "import sklearn\n",
        "from sklearn.feature_extraction.text import CountVectorizer\n",
        "import string\n",
        "from gensim.utils import deaccent\n",
        "import warnings\n",
        "from sentence_transformers import SentenceTransformer\n",
        "import scipy.sparse\n",
        "from contextualized_topic_models.datasets.dataset import CTMDataset\n",
        "from sklearn.preprocessing import OneHotEncoder\n",
        "from contextualized_topic_models.models.ctm import CombinedTM\n",
        "from contextualized_topic_models.models.ctm import ZeroShotTM\n",
        "from gensim.corpora.dictionary import Dictionary\n",
        "from gensim.test.utils import common_texts\n",
        "from gensim.models import LdaModel\n",
        "from gensim.models.coherencemodel import CoherenceModel\n",
        "from sklearn.linear_model import LinearRegression\n",
        "from sklearn.linear_model import LogisticRegression\n",
        "from sklearn.linear_model import Ridge\n",
        "from sklearn.metrics import mean_squared_error, r2_score, mean_absolute_error\n",
        "from contextualized_topic_models.evaluation.measures import CoherenceNPMI, InvertedRBO\n",
        "from bertopic import BERTopic"
      ]
    },
    {
      "cell_type": "markdown",
      "metadata": {
        "id": "lesAgL0U27xz"
      },
      "source": [
        "# Variables Changing"
      ]
    },
    {
      "cell_type": "code",
      "execution_count": 2,
      "metadata": {
        "colab": {
          "base_uri": "https://localhost:8080/"
        },
        "id": "tAo2LdVN29bK",
        "outputId": "3e91d32d-2f70-4d0f-aa6c-981a93d9a245"
      },
      "outputs": [
        {
          "name": "stderr",
          "output_type": "stream",
          "text": [
            "[nltk_data] Downloading package stopwords to /home/arnav/nltk_data...\n",
            "[nltk_data]   Package stopwords is already up-to-date!\n"
          ]
        }
      ],
      "source": [
        "is_combined = True\n",
        "perc = 0.10 # 10% of dataset\n",
        "\n",
        "nltk.download('stopwords')\n",
        "\n",
        "language = 'en' if is_combined else 'all_languages'\n",
        "stopwords = list(stop_words.words('english')) if is_combined else list(stop_words.words(stop_words.fileids())) # from every language\n",
        "embedding_model = 'paraphrase-distilroberta-base-v2' if is_combined else 'paraphrase-multilingual-mpnet-base-v2'\n",
        "\n",
        "num_epochs_ctm = 20\n",
        "num_topics = 50\n",
        "num_topics_word = 700"
      ]
    },
    {
      "cell_type": "markdown",
      "metadata": {
        "id": "-1gfpXtmz67m"
      },
      "source": [
        "# Dataset"
      ]
    },
    {
      "cell_type": "code",
      "execution_count": 3,
      "metadata": {
        "id": "PpVi-9I1TQ6U"
      },
      "outputs": [
        {
          "name": "stderr",
          "output_type": "stream",
          "text": [
            "Found cached dataset amazon_reviews_multi (/home/arnav/.cache/huggingface/datasets/amazon_reviews_multi/en/1.0.0/713a08095707e1b2f926d6af271aa1297e272779eea2b485687ba8e6171a62d4)\n"
          ]
        },
        {
          "data": {
            "application/vnd.jupyter.widget-view+json": {
              "model_id": "781a957b93d14101bb1aa00ba3d6558d",
              "version_major": 2,
              "version_minor": 0
            },
            "text/plain": [
              "  0%|          | 0/3 [00:00<?, ?it/s]"
            ]
          },
          "metadata": {},
          "output_type": "display_data"
        }
      ],
      "source": [
        "dataset = load_dataset('amazon_reviews_multi', language)"
      ]
    },
    {
      "cell_type": "code",
      "execution_count": 4,
      "metadata": {
        "id": "J8_SXkfKQYVq"
      },
      "outputs": [],
      "source": [
        "def data(part):\n",
        "  data = dataset[part].to_pandas()\n",
        "  review_body = list(data['review_body'])\n",
        "  return data, review_body"
      ]
    },
    {
      "cell_type": "code",
      "execution_count": 5,
      "metadata": {
        "colab": {
          "base_uri": "https://localhost:8080/",
          "height": 304
        },
        "id": "37O0Ez7WQ3Ac",
        "outputId": "47374d0a-28e0-48e9-b9d8-bfcfd1467ec9"
      },
      "outputs": [],
      "source": [
        "train, review_body = data('train')\n",
        "test, review_body_test = data('test')\n",
        "validation, review_body_validation = data('validation')"
      ]
    },
    {
      "cell_type": "code",
      "execution_count": 6,
      "metadata": {
        "id": "mBeI4ohCUt10"
      },
      "outputs": [],
      "source": [
        "def make_review_body(data, perc):\n",
        "  arr = sklearn.utils.shuffle(np.arange(len(data)), random_state=42)[0:int(len(data) * perc)]\n",
        "  temp = data.iloc[arr].reset_index(drop=True)\n",
        "  review_body = list(temp['review_body'])\n",
        "  temp = temp.reset_index()\n",
        "  temp = temp.rename(columns = {'index': 'message_id', 'review_body': 'message'})\n",
        "  return temp, review_body"
      ]
    },
    {
      "cell_type": "code",
      "execution_count": 7,
      "metadata": {
        "id": "kxKTimTHU-9H"
      },
      "outputs": [],
      "source": [
        "temp_train, review_body = make_review_body(train, perc)\n",
        "temp_test, test_review_body = make_review_body(test, 1)\n",
        "temp_validation, validation_review_body = make_review_body(validation, 1)"
      ]
    },
    {
      "cell_type": "markdown",
      "metadata": {},
      "source": [
        "## SQL to run DLATK Mallet LDA"
      ]
    },
    {
      "cell_type": "code",
      "execution_count": 79,
      "metadata": {},
      "outputs": [],
      "source": [
        "# temp_train = pd.concat([temp_train, temp_test])\n",
        "# review_body = pd.concat([pd.Series(review_body), pd.Series(test_review_body)])\n",
        "\n",
        "# temp_train_to_save = pd.concat([temp_train, temp_test])[['message_id', 'message']]\n",
        "# temp_test_to_save = temp_test[['message_id', 'message']]\n",
        "# temp_validation_to_save = temp_validation[['message_id', 'message']]"
      ]
    },
    {
      "cell_type": "code",
      "execution_count": 80,
      "metadata": {},
      "outputs": [],
      "source": [
        "# temp_train_to_save.to_csv('amazon_multi_train_ten.csv')\n",
        "# temp_test_to_save.to_csv('amazon_multi_test_ten.csv')\n",
        "# temp_validation_to_save.to_csv('amazon_multi_validation_ten.csv')\n",
        "\n",
        "# temp_train_to_save.to_csv('amazon_eng_train_ten.csv')\n",
        "# temp_test_to_save.to_csv('amazon_eng_test_ten.csv')\n",
        "# temp_validation_to_save.to_csv('amazon_eng_validation_ten.csv')"
      ]
    },
    {
      "cell_type": "code",
      "execution_count": 3,
      "metadata": {},
      "outputs": [],
      "source": [
        "# import pandas as pd\n",
        "# import sqlalchemy\n",
        "\n",
        "# temp_train_from_save = pd.read_csv('amazon_eng_train_ten.csv')\n",
        "# temp_train_from_save = temp_train_from_save[['message_id', 'message']]\n",
        "\n",
        "# # temp_test_from_save = pd.read_csv('amazon_eng_test_ten.csv')\n",
        "# # temp_test_from_save = temp_test_from_save[['message_id', 'message']]\n",
        "\n",
        "# # temp_validation_from_save = pd.read_csv('amazon_eng_validation_ten.csv')\n",
        "# # temp_validation_from_save = temp_validation_from_save[['message_id', 'message']]\n",
        "\n",
        "# db = sqlalchemy.engine.url.URL(drivername='mysql', host='127.0.0.1', database='arnav', query={'read_default_file': '~/.my.cnf', 'charset':'utf8mb4'})\n",
        "# engine = sqlalchemy.create_engine(db)\n",
        "\n",
        "# temp_train_from_save.to_sql('amazon_eng_train_ten', engine, if_exists='replace', index=False) \n",
        "# # temp_test_from_save.to_sql('amazon_eng_test_ten', engine, if_exists='replace', index=False) \n",
        "# # temp_validation_from_save.to_sql('amazon_eng_validation_ten', engine, if_exists='replace', index=False) "
      ]
    },
    {
      "cell_type": "markdown",
      "metadata": {
        "id": "GPJW1I8d0RLC"
      },
      "source": [
        "# Preprocessing\n"
      ]
    },
    {
      "cell_type": "code",
      "execution_count": 8,
      "metadata": {
        "id": "sh3oNwBqXh_G"
      },
      "outputs": [],
      "source": [
        "class WhiteSpacePreprocessingStopwords():\n",
        "    \"\"\"\n",
        "    Provides a very simple preprocessing script that filters infrequent tokens from text\n",
        "    \"\"\"\n",
        "\n",
        "    def __init__(self, documents, stopwords_list=None, vocabulary_size=2000, max_df=1.0, min_words=1,\n",
        "                 remove_numbers=True):\n",
        "        \"\"\"\n",
        "\n",
        "        :param documents: list of strings\n",
        "        :param stopwords_list: list of the stopwords to remove\n",
        "        :param vocabulary_size: the number of most frequent words to include in the documents. Infrequent words will be discarded from the list of preprocessed documents\n",
        "        :param max_df : float or int, default=1.0\n",
        "        When building the vocabulary ignore terms that have a document\n",
        "        frequency strictly higher than the given threshold (corpus-specific\n",
        "        stop words).\n",
        "        If float in range [0.0, 1.0], the parameter represents a proportion of\n",
        "        documents, integer absolute counts.\n",
        "        This parameter is ignored if vocabulary is not None.\n",
        "        :param min_words: int, default=1. Documents with less words than the parameter\n",
        "        will be removed\n",
        "        :param remove_numbers: bool, default=True. If true, numbers are removed from docs\n",
        "        \"\"\"\n",
        "        self.documents = documents\n",
        "        if stopwords_list is not None:\n",
        "            self.stopwords = set(stopwords_list)\n",
        "        else:\n",
        "            self.stopwords = []\n",
        "\n",
        "        self.vocabulary_size = vocabulary_size\n",
        "        self.max_df = max_df\n",
        "        self.min_words = min_words\n",
        "        self.remove_numbers = remove_numbers\n",
        "\n",
        "    def preprocess(self):\n",
        "        \"\"\"\n",
        "        Note that if after filtering some documents do not contain words we remove them. That is why we return also the\n",
        "        list of unpreprocessed documents.\n",
        "\n",
        "        :return: preprocessed documents, unpreprocessed documents and the vocabulary list\n",
        "        \"\"\"\n",
        "        preprocessed_docs_tmp = self.documents\n",
        "        preprocessed_docs_tmp = [deaccent(doc.lower()) for doc in preprocessed_docs_tmp]\n",
        "        preprocessed_docs_tmp = [doc.translate(\n",
        "            str.maketrans(string.punctuation, ' ' * len(string.punctuation))) for doc in preprocessed_docs_tmp]\n",
        "        if self.remove_numbers:\n",
        "            preprocessed_docs_tmp = [doc.translate(str.maketrans(\"0123456789\", ' ' * len(\"0123456789\")))\n",
        "                                     for doc in preprocessed_docs_tmp]\n",
        "        preprocessed_docs_tmp = [' '.join([w for w in doc.split() if len(w) > 0 and w not in self.stopwords])\n",
        "                                 for doc in preprocessed_docs_tmp]\n",
        "\n",
        "        vectorizer = CountVectorizer(max_features=self.vocabulary_size, max_df=self.max_df)\n",
        "        vectorizer.fit_transform(preprocessed_docs_tmp)\n",
        "        temp_vocabulary = set(vectorizer.get_feature_names_out())\n",
        "\n",
        "        preprocessed_docs_tmp = [' '.join([w for w in doc.split() if w in temp_vocabulary])\n",
        "                                 for doc in preprocessed_docs_tmp]\n",
        "\n",
        "        preprocessed_docs, unpreprocessed_docs, retained_indices = [], [], []\n",
        "        for i, doc in enumerate(preprocessed_docs_tmp):\n",
        "            if len(doc) > 0 and len(doc) >= self.min_words:\n",
        "                preprocessed_docs.append(doc)\n",
        "                unpreprocessed_docs.append(self.documents[i])\n",
        "                retained_indices.append(i)\n",
        "\n",
        "        vocabulary = list(set([item for doc in preprocessed_docs for item in doc.split()]))\n",
        "\n",
        "        return preprocessed_docs, unpreprocessed_docs, vocabulary, retained_indices\n"
      ]
    },
    {
      "cell_type": "markdown",
      "metadata": {
        "id": "jdrTu5G70cH0"
      },
      "source": [
        "# TopicModelDataPreparation"
      ]
    },
    {
      "cell_type": "code",
      "execution_count": 9,
      "metadata": {
        "id": "dcpoTEeEZDs-"
      },
      "outputs": [],
      "source": [
        "def get_bag_of_words(data, min_length):\n",
        "    \"\"\"\n",
        "    Creates the bag of words\n",
        "    \"\"\"\n",
        "    vect = [np.bincount(x[x != np.array(None)].astype('int'), minlength=min_length)\n",
        "            for x in data if np.sum(x[x != np.array(None)]) != 0]\n",
        "\n",
        "    vect = scipy.sparse.csr_matrix(vect)\n",
        "    return vect\n",
        "\n",
        "\n",
        "def bert_embeddings_from_file(text_file, sbert_model_to_load, batch_size=200, max_seq_length=None):\n",
        "    \"\"\"\n",
        "    Creates SBERT Embeddings from an input file, assumes one document per line\n",
        "    \"\"\"\n",
        "\n",
        "    model = SentenceTransformer(sbert_model_to_load)\n",
        "\n",
        "    if max_seq_length is not None:\n",
        "        model.max_seq_length = max_seq_length\n",
        "\n",
        "    with open(text_file, encoding=\"utf-8\") as filino:\n",
        "        texts = list(map(lambda x: x, filino.readlines()))\n",
        "\n",
        "    check_max_local_length(max_seq_length, texts)\n",
        "\n",
        "    return np.array(model.encode(texts, show_progress_bar=True, batch_size=batch_size))\n",
        "\n",
        "\n",
        "def bert_embeddings_from_list(texts, sbert_model_to_load, batch_size=200, max_seq_length=None):\n",
        "    \"\"\"\n",
        "    Creates SBERT Embeddings from a list\n",
        "    \"\"\"\n",
        "    model = SentenceTransformer(sbert_model_to_load)\n",
        "\n",
        "    if max_seq_length is not None:\n",
        "        model.max_seq_length = max_seq_length\n",
        "\n",
        "    check_max_local_length(max_seq_length, texts)\n",
        "\n",
        "    return np.array(model.encode(texts, show_progress_bar=True, batch_size=batch_size))\n",
        "\n",
        "\n",
        "def check_max_local_length(max_seq_length, texts):\n",
        "    max_local_length = np.max([len(t.split()) for t in texts])\n",
        "    if max_local_length > max_seq_length:\n",
        "        warnings.simplefilter('always', DeprecationWarning)\n",
        "        warnings.warn(f\"the longest document in your collection has {max_local_length} words, the model instead \"\n",
        "                      f\"truncates to {max_seq_length} tokens.\")\n",
        "\n",
        "\n",
        "class TopicModelDataPreparation:\n",
        "\n",
        "    def __init__(self, contextualized_model=None, show_warning=True, max_seq_length=128):\n",
        "        self.contextualized_model = contextualized_model\n",
        "        self.vocab = []\n",
        "        self.id2token = {}\n",
        "        self.vectorizer = None\n",
        "        self.label_encoder = None\n",
        "        self.show_warning = show_warning\n",
        "        self.max_seq_length = max_seq_length\n",
        "\n",
        "    def load(self, contextualized_embeddings, bow_embeddings, id2token, labels=None):\n",
        "        return CTMDataset(\n",
        "            X_contextual=contextualized_embeddings, X_bow=bow_embeddings, idx2token=id2token, labels=labels)\n",
        "\n",
        "    def fit(self, text_for_contextual, text_for_bow, labels=None, custom_embeddings=None):\n",
        "        \"\"\"\n",
        "        This method fits the vectorizer and gets the embeddings from the contextual model\n",
        "\n",
        "        :param text_for_contextual: list of unpreprocessed documents to generate the contextualized embeddings\n",
        "        :param text_for_bow: list of preprocessed documents for creating the bag-of-words\n",
        "        :param custom_embeddings: np.ndarray type object to use custom embeddings (optional).\n",
        "        :param labels: list of labels associated with each document (optional).\n",
        "        \"\"\"\n",
        "\n",
        "        if custom_embeddings is not None:\n",
        "            assert len(text_for_contextual) == len(custom_embeddings)\n",
        "\n",
        "            if text_for_bow is not None:\n",
        "                assert len(custom_embeddings) == len(text_for_bow)\n",
        "\n",
        "            if type(custom_embeddings).__module__ != 'numpy':\n",
        "                raise TypeError(\"contextualized_embeddings must be a numpy.ndarray type object\")\n",
        "\n",
        "        if text_for_bow is not None:\n",
        "            assert len(text_for_contextual) == len(text_for_bow)\n",
        "\n",
        "        if self.contextualized_model is None and custom_embeddings is None:\n",
        "            raise Exception(\"A contextualized model or contextualized embeddings must be defined\")\n",
        "\n",
        "        # TODO: this count vectorizer removes tokens that have len = 1, might be unexpected for the users\n",
        "        self.vectorizer = CountVectorizer()\n",
        "\n",
        "        train_bow_embeddings = self.vectorizer.fit_transform(text_for_bow)\n",
        "\n",
        "        # if the user is passing custom embeddings we don't need to create the embeddings using the model\n",
        "\n",
        "        if custom_embeddings is None:\n",
        "            train_contextualized_embeddings = bert_embeddings_from_list(\n",
        "                text_for_contextual, sbert_model_to_load=self.contextualized_model, max_seq_length=self.max_seq_length)\n",
        "        else:\n",
        "            train_contextualized_embeddings = custom_embeddings\n",
        "        self.vocab = self.vectorizer.get_feature_names_out()\n",
        "        self.id2token = {k: v for k, v in zip(range(0, len(self.vocab)), self.vocab)}\n",
        "\n",
        "        if labels:\n",
        "            self.label_encoder = OneHotEncoder()\n",
        "            encoded_labels = self.label_encoder.fit_transform(np.array([labels]).reshape(-1, 1))\n",
        "        else:\n",
        "            encoded_labels = None\n",
        "        return CTMDataset(\n",
        "            X_contextual=train_contextualized_embeddings, X_bow=train_bow_embeddings,\n",
        "            idx2token=self.id2token, labels=encoded_labels)\n",
        "\n",
        "    def transform(self, text_for_contextual, text_for_bow=None, custom_embeddings=None, labels=None):\n",
        "        \"\"\"\n",
        "        This method create the input for the prediction. Essentially, it creates the embeddings with the contextualized\n",
        "        model of choice and with trained vectorizer.\n",
        "\n",
        "        If text_for_bow is missing, it should be because we are using ZeroShotTM\n",
        "\n",
        "        :param text_for_contextual: list of unpreprocessed documents to generate the contextualized embeddings\n",
        "        :param text_for_bow: list of preprocessed documents for creating the bag-of-words\n",
        "        :param custom_embeddings: np.ndarray type object to use custom embeddings (optional).\n",
        "        :param labels: list of labels associated with each document (optional).\n",
        "        \"\"\"\n",
        "\n",
        "        if custom_embeddings is not None:\n",
        "            assert len(text_for_contextual) == len(custom_embeddings)\n",
        "\n",
        "            if text_for_bow is not None:\n",
        "                assert len(custom_embeddings) == len(text_for_bow)\n",
        "\n",
        "        if text_for_bow is not None:\n",
        "            assert len(text_for_contextual) == len(text_for_bow)\n",
        "\n",
        "        if self.contextualized_model is None:\n",
        "            raise Exception(\"You should define a contextualized model if you want to create the embeddings\")\n",
        "\n",
        "        if text_for_bow is not None:\n",
        "            test_bow_embeddings = self.vectorizer.transform(text_for_bow)\n",
        "        else:\n",
        "            # dummy matrix\n",
        "            if self.show_warning:\n",
        "                warnings.simplefilter('always', DeprecationWarning)\n",
        "                warnings.warn(\n",
        "                    \"The method did not have in input the text_for_bow parameter. This IS EXPECTED if you \"\n",
        "                    \"are using ZeroShotTM in a cross-lingual setting\")\n",
        "\n",
        "            # we just need an object that is matrix-like so that pytorch does not complain\n",
        "            test_bow_embeddings = scipy.sparse.csr_matrix(np.zeros((len(text_for_contextual), 1)))\n",
        "\n",
        "        if custom_embeddings is None:\n",
        "            test_contextualized_embeddings = bert_embeddings_from_list(\n",
        "                text_for_contextual, sbert_model_to_load=self.contextualized_model, max_seq_length=self.max_seq_length)\n",
        "        else:\n",
        "            test_contextualized_embeddings = custom_embeddings\n",
        "\n",
        "        if labels:\n",
        "            encoded_labels = self.label_encoder.transform(np.array([labels]).reshape(-1, 1))\n",
        "        else:\n",
        "            encoded_labels = None\n",
        "\n",
        "        return CTMDataset(X_contextual=test_contextualized_embeddings, X_bow=test_bow_embeddings,\n",
        "                          idx2token=self.id2token, labels=encoded_labels)\n"
      ]
    },
    {
      "cell_type": "markdown",
      "metadata": {
        "id": "W02I4GhA0ihe"
      },
      "source": [
        "# Modeling"
      ]
    },
    {
      "cell_type": "code",
      "execution_count": 10,
      "metadata": {
        "id": "lYOlwvGDn8DB"
      },
      "outputs": [],
      "source": [
        "documents = [line.strip() for line in review_body]\n",
        "test_documents = [line.strip() for line in test_review_body]\n",
        "\n",
        "sp = WhiteSpacePreprocessingStopwords(documents, stopwords_list=stopwords)\n",
        "preprocessed_documents, unpreprocessed_corpus, vocab, retained_indices = sp.preprocess()\n",
        "labels = temp_train['stars'][retained_indices]"
      ]
    },
    {
      "cell_type": "code",
      "execution_count": 11,
      "metadata": {},
      "outputs": [],
      "source": [
        "# PARAMS\n",
        "# data: testing dataset\n",
        "\n",
        "# RETURN\n",
        "# preprocessed_documents: documents after passed through preprocessing steps\n",
        "# labels: corresponding labels to ^\n",
        "\n",
        "def test_ready(data):\n",
        "  documents = [line.strip() for line in data['review_body']]\n",
        "  sp = WhiteSpacePreprocessingStopwords(documents, stopwords_list=stopwords)\n",
        "  preprocessed_documents, unpreprocessed_corpus, _, retained_indices = sp.preprocess()\n",
        "  labels = temp_test['stars'][retained_indices]\n",
        "  return unpreprocessed_corpus, preprocessed_documents, labels\n",
        "\n",
        "test_unpreprocessed_documents, test_preprocessed_documents, test_labels = test_ready(test)"
      ]
    },
    {
      "cell_type": "markdown",
      "metadata": {
        "id": "1W0A5eHDsDHE"
      },
      "source": [
        "## BERTopic"
      ]
    },
    {
      "cell_type": "code",
      "execution_count": 25,
      "metadata": {
        "id": "ts8S70BRceXW"
      },
      "outputs": [],
      "source": [
        "bert_topic_model = BERTopic(top_n_words = num_topics_word, nr_topics=num_topics).fit(documents + test_documents) if language!='en' else BERTopic(language = 'English', top_n_words = num_topics_word, nr_topics=num_topics).fit(documents + test_documents)"
      ]
    },
    {
      "cell_type": "code",
      "execution_count": 26,
      "metadata": {},
      "outputs": [],
      "source": [
        "mallet_stopwords = []\n",
        "with open(\"dlatk/amazon_eng/9f822b_stopwords\") as f:\n",
        "  for line in f:\n",
        "    mallet_stopwords.append(line.strip())"
      ]
    },
    {
      "cell_type": "code",
      "execution_count": 27,
      "metadata": {},
      "outputs": [],
      "source": [
        "bert_topic_loglik = [{i: j for (i, j) in bert_topic_model.get_topic(k-1) if i not in mallet_stopwords} for k in range(num_topics)]\n",
        "# bert_topic_loglik = [{i: j for (i, j) in bert_topic_model.get_topic(k-1)} for k in range(num_topics)]\n",
        "bert_topic_topics = [list(i.keys()) for i in bert_topic_loglik]\n",
        "\n",
        "bert_topic_loglik.append({i: 1.0 for i in mallet_stopwords})\n",
        "bert_topic_topics.append(mallet_stopwords)"
      ]
    },
    {
      "cell_type": "code",
      "execution_count": null,
      "metadata": {},
      "outputs": [],
      "source": [
        "len(bert_topic_topics[0])"
      ]
    },
    {
      "cell_type": "markdown",
      "metadata": {
        "id": "9kfGZ5Kc70sV"
      },
      "source": [
        "## CTM"
      ]
    },
    {
      "cell_type": "code",
      "execution_count": 12,
      "metadata": {
        "id": "BhWE-DOeXhd3"
      },
      "outputs": [
        {
          "data": {
            "application/vnd.jupyter.widget-view+json": {
              "model_id": "b90f70325d73464988d396e9f40dc52c",
              "version_major": 2,
              "version_minor": 0
            },
            "text/plain": [
              "Batches:   0%|          | 0/100 [00:00<?, ?it/s]"
            ]
          },
          "metadata": {},
          "output_type": "display_data"
        }
      ],
      "source": [
        "tp = TopicModelDataPreparation(embedding_model)\n",
        "training_dataset = tp.fit(text_for_contextual=unpreprocessed_corpus, text_for_bow=preprocessed_documents)"
      ]
    },
    {
      "cell_type": "code",
      "execution_count": 13,
      "metadata": {
        "id": "X-Ii3ivKQa-6"
      },
      "outputs": [
        {
          "name": "stderr",
          "output_type": "stream",
          "text": [
            "0it [00:00, ?it/s]"
          ]
        },
        {
          "name": "stderr",
          "output_type": "stream",
          "text": [
            "Epoch: [20/20]\t Seen Samples: [399680/399680]\tTrain Loss: 114.07640294364398\tTime: 0:00:11.035694: : 20it [03:38, 10.92s/it]\n",
            "0it [00:00, ?it/s]"
          ]
        }
      ],
      "source": [
        "warnings.filterwarnings('ignore')\n",
        "\n",
        "ctm = CombinedTM(bow_size=len(tp.vocab), contextual_size=768, n_components=num_topics, num_epochs=num_epochs_ctm) if is_combined else ZeroShotTM(bow_size=len(tp.vocab), contextual_size=768, n_components=num_topics, num_epochs=num_epochs_ctm)\n",
        "# ctm = CombinedTM(bow_size=len(tp.vocab), contextual_size=768, n_components=num_topics, num_epochs=num_epochs_ctm) # testing something out\n",
        "ctm.fit(training_dataset)"
      ]
    },
    {
      "cell_type": "code",
      "execution_count": null,
      "metadata": {
        "id": "lxcKgjbx3V2o"
      },
      "outputs": [],
      "source": [
        "ctm_topics = ctm.get_topic_lists(num_topics_word)\n",
        "documents = preprocessed_documents\n",
        "labels = temp_train['stars'][retained_indices]"
      ]
    },
    {
      "cell_type": "code",
      "execution_count": null,
      "metadata": {
        "id": "hqblvyh5E99L"
      },
      "outputs": [
        {
          "name": "stderr",
          "output_type": "stream",
          "text": [
            "Sampling: [20/20]: : 20it [02:00,  6.01s/it]\n"
          ]
        }
      ],
      "source": [
        "ctm_topic_distribution_train = ctm.get_doc_topic_distribution(training_dataset, n_samples = 20)"
      ]
    },
    {
      "cell_type": "code",
      "execution_count": null,
      "metadata": {},
      "outputs": [
        {
          "data": {
            "application/vnd.jupyter.widget-view+json": {
              "model_id": "8c7e088b88824c71a1337490ce1a2bcc",
              "version_major": 2,
              "version_minor": 0
            },
            "text/plain": [
              "Batches:   0%|          | 0/25 [00:00<?, ?it/s]"
            ]
          },
          "metadata": {},
          "output_type": "display_data"
        }
      ],
      "source": [
        "warnings.filterwarnings('ignore')\n",
        "testing_dataset = tp.transform(text_for_contextual=test_unpreprocessed_documents, text_for_bow=test_preprocessed_documents)"
      ]
    },
    {
      "cell_type": "code",
      "execution_count": null,
      "metadata": {},
      "outputs": [
        {
          "name": "stderr",
          "output_type": "stream",
          "text": [
            "0it [00:00, ?it/s]"
          ]
        }
      ],
      "source": [
        "ctm_topic_distribution_test = ctm.get_doc_topic_distribution(testing_dataset, n_samples = 20)"
      ]
    },
    {
      "cell_type": "code",
      "execution_count": null,
      "metadata": {},
      "outputs": [],
      "source": [
        "ctm_topic_distribution_train, ctm_topic_distribution_test"
      ]
    },
    {
      "cell_type": "markdown",
      "metadata": {
        "id": "438cbcf6"
      },
      "source": [
        "## LDA (GS)"
      ]
    },
    {
      "cell_type": "code",
      "execution_count": null,
      "metadata": {
        "id": "48fbb3d1"
      },
      "outputs": [],
      "source": [
        "split_preprocessed_documents = [d.split() for d in preprocessed_documents]\n",
        "dictionary = Dictionary(split_preprocessed_documents)\n",
        "corpus = [dictionary.doc2bow(text) for text in split_preprocessed_documents]\n",
        "\n",
        "lda = LdaModel(corpus, num_topics=num_topics, iterations=500, random_state=42, minimum_probability = 0)"
      ]
    },
    {
      "cell_type": "code",
      "execution_count": null,
      "metadata": {
        "id": "6a676a15"
      },
      "outputs": [],
      "source": [
        "def get_topics_lda(topk=10):\n",
        "  topic_terms = []\n",
        "  for i in range(num_topics):\n",
        "      topic_words_list = []\n",
        "      for word_tuple in lda.get_topic_terms(i, topk):\n",
        "          topic_words_list.append(dictionary[word_tuple[0]])\n",
        "      topic_terms.append(topic_words_list)\n",
        "  return topic_terms\n",
        "\n",
        "lda_topics = get_topics_lda(num_topics_word)"
      ]
    },
    {
      "cell_type": "code",
      "execution_count": null,
      "metadata": {
        "id": "AIp-b3ifE6Dz"
      },
      "outputs": [],
      "source": [
        "lda_topics"
      ]
    },
    {
      "cell_type": "markdown",
      "metadata": {},
      "source": [
        "## Mallet LDA"
      ]
    },
    {
      "cell_type": "code",
      "execution_count": 21,
      "metadata": {},
      "outputs": [],
      "source": [
        "# the actual code for Mallet LDA is run in the terminal using the following 2 commands:\n",
        "\n",
        "# ./dlatkInterface.py -d arnav -t amazon_eng_train_ten -c message_id --add_ngrams -n 1\n",
        "# ./dlatkInterface.py -d arnav -t amazon_eng_train_ten -c message_id -f 'feat$1gram$amazon_eng_train_ten$message_id' --estimate_lda_topics --lda_lexicon_name mtm_50 --mallet_path /home/sharath/mallet-2.0.8/bin/mallet --num_stopwords 100 --num_topics 50 --language en --save_lda_files amazon_eng\n",
        "\n",
        "lda_loglik = []\n",
        "with open(\"dlatk/amazon_eng/lda.topicGivenWord.csv\") as f:\n",
        "  for line in f:\n",
        "    temp = line.strip().split('\"')\n",
        "    if len(temp) > 1:\n",
        "      for i in range(len(temp)):\n",
        "        if i % 2 != 0:\n",
        "          temp[i] = (\"\".join(temp[i].split(\",\")))\n",
        "      temp = [\"\".join(temp)]\n",
        "    lda_loglik.append(temp[0].split(\",\")[1:])\n",
        "\n",
        "lda_loglik = lda_loglik[1:]\n",
        "\n",
        "mallet_lda_topics = [[x for i, x in enumerate(j) if i % 2 == 0] for j in lda_loglik]\n",
        "\n",
        "mallet_lda_loglik = []\n",
        "for k in lda_loglik:\n",
        "    mallet_lda_loglik.append({k[j]: float(k[j+1]) for j in range(0, len(k) - 1, 2)})"
      ]
    },
    {
      "cell_type": "code",
      "execution_count": 22,
      "metadata": {},
      "outputs": [],
      "source": [
        "mallet_lda_loglik.append({i: 1.0 for i in mallet_stopwords})\n",
        "mallet_lda_topics.append(mallet_stopwords)"
      ]
    },
    {
      "cell_type": "markdown",
      "metadata": {
        "id": "cECKEgHx1EUy"
      },
      "source": [
        "# Evaluating"
      ]
    },
    {
      "cell_type": "code",
      "execution_count": 28,
      "metadata": {},
      "outputs": [],
      "source": [
        "# PARAMS\n",
        "# documents: list of documents (each element in the list is a string) that the topics were extracted from\n",
        "# topics: list of list of topics from the model of choice\n",
        "# weights: list of dictionary mappings (word: weight)\n",
        "\n",
        "# RETURN\n",
        "# topic distribution\n",
        "\n",
        "def preprocess(documents, topics, weights):\n",
        "    # Initialize distribution matrix\n",
        "    distribution = np.zeros((len(documents), len(topics)))\n",
        "\n",
        "    for i, document in enumerate(documents):\n",
        "        # Preprocess document\n",
        "        document = document.translate(str.maketrans('', '', string.punctuation)) # removing periods, commas, etc\n",
        "        document = document.split(' ') # split on spaces\n",
        "        document = [word.lower() for word in document if len(word.lower()) > 0] # lower case everything since all topics are lower case\n",
        "\n",
        "        for j, loglik_dict in enumerate(weights):\n",
        "            distribution[i][j] = np.sum([0 if word not in loglik_dict else loglik_dict[word] for word in document]) # if word exists then its weight else 0\n",
        "\n",
        "        # Normalize\n",
        "        distribution[i] /= (len(document) + 2) # +2 for some weird reason ?\n",
        "        \n",
        "    return distribution\n",
        "\n",
        "\n",
        "# PARAMS\n",
        "# X: distribution from preprocess() above\n",
        "# y: stars ('labels')\n",
        "\n",
        "# RETURN\n",
        "# LR model\n",
        "\n",
        "def train_regression_model(X, y):\n",
        "    model = LinearRegression()\n",
        "    # model = LogisticRegression()\n",
        "    model.fit(X, y)\n",
        "    return model\n",
        "\n",
        "\n",
        "# PARAMS\n",
        "# model: model trained from train_regression_model()\n",
        "# X_test: distribution you want to make predictions on\n",
        "# y_test: the true labels for the X_test passed in\n",
        "\n",
        "# RETURN\n",
        "# MSE: MSE of the (X_test, y_test) data inputted\n",
        "# RMSE: RMSE of the (X_test, y_test) data inputted\n",
        "# R2: R2 of the (X_test, y_test) data inputted\n",
        "# MAE: MAE of the (X_test, y_test) data inputted\n",
        "\n",
        "def evaluate_model(model, X_test, y_test):\n",
        "    y_pred = model.predict(X_test)\n",
        "\n",
        "    # from sklearn.metrics import accuracy_score\n",
        "    # return accuracy_score(y_test, y_pred)\n",
        "\n",
        "    mse = mean_squared_error(y_true=y_test, y_pred=y_pred, squared=True)\n",
        "    rmse = mean_squared_error(y_true=y_test, y_pred=y_pred, squared=False)\n",
        "    r2 = r2_score(y_true=y_test, y_pred=y_pred)\n",
        "    mae = mean_absolute_error(y_true=y_test, y_pred=y_pred)\n",
        "\n",
        "    return mse, rmse, r2, mae\n",
        "\n",
        "\n",
        "# PARAMS\n",
        "# topics: list of list of topics\n",
        "# weights: list of dictionary mappings (word: weight)\n",
        "# flag: True if baseline (default is False\n",
        "\n",
        "# RETURN\n",
        "# r2_train: R2 on train set\n",
        "# mae_train: MAE on train set\n",
        "# mse_train: MSE on train set\n",
        "# rmse_train: RMSE on train set\n",
        "# r2_test: R2 on test set\n",
        "# mae_test: MAE on test set\n",
        "# mse_test: MSE on test set\n",
        "# rmse_test: RMSE on test set\n",
        "\n",
        "def results(topics, weights, flag=False):\n",
        "  if flag:\n",
        "    X = np.array([labels.mean()] * len(labels)).reshape(-1, 1)\n",
        "    X_test = np.array([test_labels.mean()] * len(test_labels)).reshape(-1, 1)\n",
        "\n",
        "  else:\n",
        "    X = preprocess([line.strip() for line in review_body], topics, weights)\n",
        "    X_test = preprocess([line.strip() for line in test_review_body], topics, weights)\n",
        "\n",
        "  y = temp_train['stars']\n",
        "  y_test = temp_test['stars']\n",
        "  model = train_regression_model(X, y)\n",
        "\n",
        "  mse_test, rmse_test, r2_test, mae_test = evaluate_model(model, X_test, y_test)\n",
        "  mse_train, rmse_train, r2_train, mae_train = evaluate_model(model, X, y)\n",
        "\n",
        "  # train_acc = evaluate_model(model, X, y)\n",
        "  # test_acc = evaluate_model(model, X_test, y_test)\n",
        "\n",
        "  # print(\"Train Accuracy: \", train_acc)\n",
        "  # print(\"Test Accuracy: \", test_acc)\n",
        "\n",
        "  # return train_acc, test_acc\n",
        "\n",
        "  print(\"Train\")\n",
        "  print(\"R2:\", r2_train)\n",
        "  print(\"MAE:\", mae_train)\n",
        "  print(\"MSE:\", mse_train)\n",
        "  print(\"RMSE:\", rmse_train)\n",
        "\n",
        "  print()\n",
        "\n",
        "  print(\"Test\")\n",
        "  print(\"R2:\", r2_test)\n",
        "  print(\"MAE:\", mae_test)\n",
        "  print(\"MSE:\", mse_test)\n",
        "  print(\"RMSE:\", rmse_test)\n",
        "\n",
        "  return r2_train, mae_train, mse_train, rmse_train, r2_test, mae_test, mse_test, rmse_test"
      ]
    },
    {
      "cell_type": "markdown",
      "metadata": {},
      "source": [
        "## Mallet LDA"
      ]
    },
    {
      "cell_type": "code",
      "execution_count": 24,
      "metadata": {},
      "outputs": [
        {
          "name": "stdout",
          "output_type": "stream",
          "text": [
            "Train\n",
            "R2: 0.2889225626947103\n",
            "MAE: 0.9944526499481171\n",
            "MSE: 1.4336292307861578\n",
            "RMSE: 1.1973425703557683\n",
            "\n",
            "Test\n",
            "R2: 0.27076150874184657\n",
            "MAE: 1.014729433981081\n",
            "MSE: 1.4584769825163069\n",
            "RMSE: 1.2076742037968298\n"
          ]
        }
      ],
      "source": [
        "mallet_r2_train, mallet_mae_train, mallet_mse_train, mallet_rmse_train, mallet_r2_test, mallet_mae_test, mallet_mse_test, mallet_rmse_test = results(mallet_lda_topics, mallet_lda_loglik)"
      ]
    },
    {
      "cell_type": "code",
      "execution_count": 69,
      "metadata": {},
      "outputs": [
        {
          "data": {
            "text/html": [
              "<div>\n",
              "<style scoped>\n",
              "    .dataframe tbody tr th:only-of-type {\n",
              "        vertical-align: middle;\n",
              "    }\n",
              "\n",
              "    .dataframe tbody tr th {\n",
              "        vertical-align: top;\n",
              "    }\n",
              "\n",
              "    .dataframe thead th {\n",
              "        text-align: right;\n",
              "    }\n",
              "</style>\n",
              "<table border=\"1\" class=\"dataframe\">\n",
              "  <thead>\n",
              "    <tr style=\"text-align: right;\">\n",
              "      <th></th>\n",
              "      <th>0</th>\n",
              "      <th>1</th>\n",
              "      <th>2</th>\n",
              "      <th>3</th>\n",
              "      <th>4</th>\n",
              "      <th>5</th>\n",
              "      <th>6</th>\n",
              "      <th>7</th>\n",
              "    </tr>\n",
              "  </thead>\n",
              "  <tbody>\n",
              "    <tr>\n",
              "      <th>0</th>\n",
              "      <td>0.288789</td>\n",
              "      <td>0.994525</td>\n",
              "      <td>1.433898</td>\n",
              "      <td>1.197455</td>\n",
              "      <td>0.270925</td>\n",
              "      <td>1.014734</td>\n",
              "      <td>1.45815</td>\n",
              "      <td>1.207539</td>\n",
              "    </tr>\n",
              "  </tbody>\n",
              "</table>\n",
              "</div>"
            ],
            "text/plain": [
              "          0         1         2         3         4         5        6  \\\n",
              "0  0.288789  0.994525  1.433898  1.197455  0.270925  1.014734  1.45815   \n",
              "\n",
              "          7  \n",
              "0  1.207539  "
            ]
          },
          "execution_count": 69,
          "metadata": {},
          "output_type": "execute_result"
        }
      ],
      "source": [
        "pd.concat([pd.Series([mallet_r2_train, mallet_mae_train, mallet_mse_train, mallet_rmse_train, mallet_r2_test, mallet_mae_test, mallet_mse_test, mallet_rmse_test])], axis = 1).T"
      ]
    },
    {
      "cell_type": "markdown",
      "metadata": {
        "id": "BCroeZXlgcMv"
      },
      "source": [
        "## Baseline"
      ]
    },
    {
      "cell_type": "code",
      "execution_count": null,
      "metadata": {
        "id": "8Toou_cqtlWv"
      },
      "outputs": [],
      "source": [
        "b_r2_train, b_mae_train, b_mse_train, b_rmse_train, b_r2_test, b_mae_test, b_mse_test, b_rmse_test = results(lda_topics, True)"
      ]
    },
    {
      "cell_type": "markdown",
      "metadata": {
        "id": "seKgX_3d17z9"
      },
      "source": [
        "## LDA (GS)"
      ]
    },
    {
      "cell_type": "code",
      "execution_count": null,
      "metadata": {
        "id": "-vHvXo6MsGpJ"
      },
      "outputs": [],
      "source": [
        "lda_r2_train, lda_mae_train, lda_mse_train, lda_rmse_train, lda_r2_test, lda_mae_test, lda_mse_test, lda_rmse_test = results(lda_topics)"
      ]
    },
    {
      "cell_type": "code",
      "execution_count": null,
      "metadata": {
        "id": "PBcId2fqd9qh"
      },
      "outputs": [],
      "source": [
        "pd.concat([pd.Series([lda_r2_train, lda_mae_train, lda_mse_train, lda_rmse_train, lda_r2_test, lda_mae_test, lda_mse_test, lda_rmse_test])], axis = 1).T"
      ]
    },
    {
      "cell_type": "markdown",
      "metadata": {
        "id": "PwdN-c_U14mH"
      },
      "source": [
        "## CTM"
      ]
    },
    {
      "cell_type": "code",
      "execution_count": null,
      "metadata": {
        "id": "PYX04Sx3sa7a"
      },
      "outputs": [],
      "source": [
        "ctm_r2_train, ctm_mae_train, ctm_mse_train, ctm_rmse_train, ctm_r2_test, ctm_mae_test, ctm_mse_test, ctm_rmse_test = results(ctm_topics)"
      ]
    },
    {
      "cell_type": "code",
      "execution_count": null,
      "metadata": {
        "id": "B43HKbgWexe0"
      },
      "outputs": [],
      "source": [
        "pd.concat([pd.Series([ctm_r2_train, ctm_mae_train, ctm_mse_train, ctm_rmse_train, ctm_r2_test, ctm_mae_test, ctm_mse_test, ctm_rmse_test])], axis = 1).T"
      ]
    },
    {
      "cell_type": "markdown",
      "metadata": {
        "id": "Nya0LM5OkBHs"
      },
      "source": [
        "Using paraphrase-multilingual-mpnet-base-v2, 200 topics, 50 epochs (best one so far):\n",
        "\n",
        "* MSE: 1.0463393882784946\n",
        "* RMSE: 1.0229073214512128"
      ]
    },
    {
      "cell_type": "markdown",
      "metadata": {
        "id": "zt60-STspjK3"
      },
      "source": [
        "## BERTopic"
      ]
    },
    {
      "cell_type": "code",
      "execution_count": 29,
      "metadata": {},
      "outputs": [
        {
          "name": "stdout",
          "output_type": "stream",
          "text": [
            "Train\n",
            "R2: 0.17960676583150925\n",
            "MAE: 1.0916315335116429\n",
            "MSE: 1.6540248073406172\n",
            "RMSE: 1.2860889577865977\n",
            "\n",
            "Test\n",
            "R2: 0.1699019646742399\n",
            "MAE: 1.0933582104319677\n",
            "MSE: 1.6601960706515202\n",
            "RMSE: 1.288485960595427\n"
          ]
        }
      ],
      "source": [
        "bert_r2_train, bert_mae_train, bert_mse_train, bert_rmse_train, bert_r2_test, bert_mae_test, bert_mse_test, bert_rmse_test = results(bert_topic_topics, bert_topic_loglik)"
      ]
    },
    {
      "cell_type": "code",
      "execution_count": 142,
      "metadata": {
        "id": "-onlxv-7e2kk"
      },
      "outputs": [
        {
          "data": {
            "text/html": [
              "<div>\n",
              "<style scoped>\n",
              "    .dataframe tbody tr th:only-of-type {\n",
              "        vertical-align: middle;\n",
              "    }\n",
              "\n",
              "    .dataframe tbody tr th {\n",
              "        vertical-align: top;\n",
              "    }\n",
              "\n",
              "    .dataframe thead th {\n",
              "        text-align: right;\n",
              "    }\n",
              "</style>\n",
              "<table border=\"1\" class=\"dataframe\">\n",
              "  <thead>\n",
              "    <tr style=\"text-align: right;\">\n",
              "      <th></th>\n",
              "      <th>0</th>\n",
              "      <th>1</th>\n",
              "      <th>2</th>\n",
              "      <th>3</th>\n",
              "      <th>4</th>\n",
              "      <th>5</th>\n",
              "      <th>6</th>\n",
              "      <th>7</th>\n",
              "    </tr>\n",
              "  </thead>\n",
              "  <tbody>\n",
              "    <tr>\n",
              "      <th>0</th>\n",
              "      <td>0.293018</td>\n",
              "      <td>0.997063</td>\n",
              "      <td>1.425371</td>\n",
              "      <td>1.193889</td>\n",
              "      <td>0.292939</td>\n",
              "      <td>0.992568</td>\n",
              "      <td>1.414122</td>\n",
              "      <td>1.189169</td>\n",
              "    </tr>\n",
              "  </tbody>\n",
              "</table>\n",
              "</div>"
            ],
            "text/plain": [
              "          0         1         2         3         4         5         6  \\\n",
              "0  0.293018  0.997063  1.425371  1.193889  0.292939  0.992568  1.414122   \n",
              "\n",
              "          7  \n",
              "0  1.189169  "
            ]
          },
          "execution_count": 142,
          "metadata": {},
          "output_type": "execute_result"
        }
      ],
      "source": [
        "pd.concat([pd.Series([bert_r2_train, bert_mae_train, bert_mse_train, bert_rmse_train, bert_r2_test, bert_mae_test, bert_mse_test, bert_rmse_test])], axis = 1).T"
      ]
    },
    {
      "cell_type": "markdown",
      "metadata": {
        "id": "F9jWv1XuJnMv"
      },
      "source": [
        "# Printing out topics and LR coefficients"
      ]
    },
    {
      "cell_type": "code",
      "execution_count": 31,
      "metadata": {
        "id": "zjQ-NsWxNzSf"
      },
      "outputs": [],
      "source": [
        "def topic_LR_coef(model, topics):\n",
        "  x1 = []\n",
        "  x2 = pd.Series(model.coef_)\n",
        "\n",
        "  for i, topic in enumerate(topics):\n",
        "    x1.append(\", \".join(topic))\n",
        "\n",
        "  x1 = pd.Series(x1)\n",
        "  return (pd.concat([x1, x2], axis=1))"
      ]
    },
    {
      "cell_type": "code",
      "execution_count": 32,
      "metadata": {
        "id": "DCu4BygLCR7e"
      },
      "outputs": [],
      "source": [
        "# lda_model = train_regression_model(preprocess(documents, lda_topics), labels)\n",
        "# ctm_model = train_regression_model(preprocess(documents, ctm_topics), labels)\n",
        "# mallet_lda_model = train_regression_model(preprocess(documents, mallet_lda_topics, mallet_lda_loglik), temp_train['stars'])\n",
        "bert_model = train_regression_model(preprocess(documents, bert_topic_topics, bert_topic_loglik), temp_train['stars'])"
      ]
    },
    {
      "cell_type": "code",
      "execution_count": 33,
      "metadata": {
        "id": "qrYRf_95GGHE"
      },
      "outputs": [],
      "source": [
        "# lda_LR_coef = topic_LR_coef(lda_model, lda_topics)\n",
        "# ctm_LR_coef = topic_LR_coef(ctm_model, ctm_topics)\n",
        "# mallet_LR_coef = topic_LR_coef(mallet_lda_model, mallet_lda_topics)\n",
        "bert_LR_coef = topic_LR_coef(bert_model, bert_topic_topics)"
      ]
    },
    {
      "cell_type": "code",
      "execution_count": null,
      "metadata": {},
      "outputs": [],
      "source": [
        "for i in range(0, 25):\n",
        "  print(mallet_LR_coef[0][i])    "
      ]
    },
    {
      "cell_type": "code",
      "execution_count": null,
      "metadata": {},
      "outputs": [],
      "source": [
        "for i in range(25, 50):\n",
        "  print(mallet_LR_coef[0][i])   "
      ]
    },
    {
      "cell_type": "code",
      "execution_count": null,
      "metadata": {
        "id": "5EbxEc3hDSM-"
      },
      "outputs": [],
      "source": [
        "# lda_LR_coef"
      ]
    },
    {
      "cell_type": "code",
      "execution_count": null,
      "metadata": {
        "id": "Jzb5_OnwN3_f"
      },
      "outputs": [],
      "source": [
        "# ctm_LR_coef"
      ]
    },
    {
      "cell_type": "code",
      "execution_count": 35,
      "metadata": {},
      "outputs": [
        {
          "name": "stdout",
          "output_type": "stream",
          "text": [
            "don, didn, made, doesn, first, also, some, better, came, ordered, put, box, looks, need, am, which, now, still, using, look, two, pretty, item, could, over, again, return, perfect, way, been, money, how, disappointed, enough, any, big, long, cute, plastic, arrived, make, ve, our, then, hard, day, see, however, its, water, top, recommend, received, few, bit, right, sure, worked, easily, set, purchase, fine, looking, new, last, re, keep, clean, lot, go, by, side, before, while, order, never, into, amazon, down, hold, super, seems, though, come, broke, around, since, broken, material, months, large, should, old, another, going, think, cheap, thing, open, needed, worth, definitely, tried, purchased, happy, bottle, different, same, without, she, he, want, something, give, able, wish, color, far, sturdy, through, makes, find, wear, days, know, feel, times, working, both, inside, problem, picture, thin, year, together, expected, thought, soft, took, wanted, seller, part, where, try, ok, design, waste, getting, pieces, everything, handle, bad, every, take, already, once, phone, weeks, being, light, job, piece, week, exactly, reviews, less, battery, package, issue, bag, hair, most, actually, beautiful, their, comes, wasn, fits, stars, daughter, many, apart, cut, place, said, won, yet, her, car, wouldn, say, ll, seem, bottom, longer, overall, stay, found, month, tight, couple, second, extra, help, comfortable, heavy, loved, wash, brand, best, cover, door, company, returned, sent, started, may, bed, years, durable, ones, anything, shipping, hot, strong, room, nothing, replacement, dog, several, until, looked, fabric, gets, damaged, spray, loose, buying, quite, baby, holes, probably, metal, difficult, half, maybe, isn, having, quickly, smell, 10, smaller, poor, packaging, his, away, black, next, turn, almost, weight, itself, opened, full, air, gift, went, short, unit, screws, kind, gave, completely, hand, terrible, needs, review, house, either, otherwise, son, cold, under, device, end, within, pay, screw, ever, seat, wrong, liked, instead, missing, instructions, high, unfortunately, haven, window, perfectly, replace, trying, three, mine, who, area, dry, loves, tape, store, why, colors, couldn, might, pull, send, support, glass, always, keeps, flimsy, thick, fell, close, star, fall, break, returning, table, mirror, runs, due, advertised, remove, left, things, products, cannot, guess, wood, oil, each, others, making, head, cheaper, feels, description, run, home, during, kids, paid, rug, warm, length, items, problems, least, refund, supposed, reason, issues, such, medium, skin, night, seemed, although, frame, fast, stopped, service, white, front, real, food, especially, base, case, minutes, space, deal, parts, decent, paint, ice, face, smooth, power, pain, awesome, install, hole, described, larger, cleaning, takes, idea, own, heat, packaged, stick, expensive, bigger, mask, nicely, husband, stand, hours, absolutely, us, ripped, outside, someone, washing, solid, floor, coming, done, pad, today, difference, holds, lasted, customer, noticed, says, lid, easier, pads, whole, let, stuff, point, party, fun, here, play, clear, uses, tell, disappointing, amount, neck, paper, stuck, free, wearing, else, those, charge, kitchen, life, mouse, change, cost, legs, okay, bike, mattress, sometimes, low, delivery, pack, add, twice, quick, cool, extremely, immediately, kit, simple, hope, hoping, cracked, button, expect, tv, purpose, kept, fact, glue, suction, ended, goes, ago, wall, people, seal, decided, original, useless, opening, christmas, board, start, excited, machine, cup, shipped, container, highly, move, huge, usb, clip, included, hands, properly, value, didnt, update, trip, horrible, amazing, velcro, cheaply, putting, lost, delivered, 12, summer, pictures, between, wore, 20, excellent, strap, storage, read, him, shape, rather, flat, arms, slightly, batteries, tiny, bottles, multiple, care, surface, connect, dont, handles, bent, leather, screen, hang, doing, replaced, wax, wheels, body, switch, wife, plus, later, turned, must, stop, barely, straps, leave, lots, bar, blue, unless, receive, impressed, date, usually, worst, line, mat, washed, regular, attached, holder, etc, cat, towel, towels, style, single, adjust, installed, falling, please, middle, sound, nose, lock, edges, sides, pair, rubber, arm, soap, clips, soon, anyone, except, figure, cable, rack, desk, double, sizes, garbage, careful\n",
            "book, story, read, characters, books, movie, her, series, author, enjoyed, reading, pages, she, written, his, he, interesting, some, character, how, plot, loved, who, ending, life, by, writing, end, next, could, stories, film, their, into, didn, through, first, people, page, novel, many, see, dvd, lot, things, liked, want, don, fun, funny, enjoy, been, world, recommend, main, each, romance, know, every, am, felt, action, bit, family, down, over, storyline, hard, best, better, going, way, wait, information, couldn, think, thought, forward, two, different, wasn, watch, found, also, put, words, most, mystery, still, being, sex, him, follow, real, enjoyable, any, short, enough, boring, bad, entertaining, why, amazing, which, acting, cd, chapter, everything, between, times, movies, reader, disappointed, highly, understand, find, feel, wonderful, new, sweet, again, point, then, though, never, finish, person, kept, nothing, both, however, worth, twist, together, make, learn, help, definitely, ve, stars, our, last, few, before, need, favorite, wanted, slow, line, looking, twists, hope, makes, us, without, done, kind, must, years, heart, part, such, someone, come, always, history, informative, another, interest, say, version, whole, myself, others, copy, sure, seemed, those, anyone, keep, long, overall, old, here, man, something, god, give, bible, re, fiction, should, go, everyone, wish, given, where, predictable, disc, condition, development, stupid, half, lives, throughout, ever, friends, doesn, thing, star, interested, excellent, while, english, second, relationship, start, instead, left, word, hero, happy, watching, review, own, look, fan, made, pretty, subject, album, its, language, ok, lost, sense, probably, full, actual, chapters, helpful, along, beginning, almost, ll, anything, reviews, now, took, truth, woman, attention, children, quite, until, once, quick, show, needed, mind, illustrations, lots, take, thank, rest, young, questions, awesome, trying, getting, may, okay, style, tom, authors, seems, maybe, far, business, least, true, having, set, same, let, course, learning, exciting, else, beautiful, won, especially, sequel, missing, played, three, place, women, write, rather, ended, war, humor, started, came, said, child, watched, quickly, important, right, edition, info, coloring, yet, drawn, takes, although, depth, human, description, thriller, detective, actors, drama, heroine, scenes, poor, happened, school, detailed, difficult, wouldn, dialogue, journal, scene, isn, might, care, year, guess, turns, perfect, disk, idea, comes, needs, top, tell, police, horror, wrong, sorry, knew, perspective, gives, actually, giving, totally, believe, become, glad, husband, parts, errors, truly, pictures, case, class, sad, grady, historical, sexual, murder, published, writer, likable, received, money, able, songs, details, friend, personal, change, collins, examples, christian, fascinating, recommended, several, middle, day, couple, telling, fast, past, since, facts, typos, thoroughly, town, away, finished, itself, gave, less, engaging, gift, developed, finding, premise, repetitive, changed, job, house, mr, honestly, expected, mother, sometimes, knowledge, somewhat, shows, fact, oh, mentioned, issues, during, moving, happens, daughter, collection, loves, usual, single, spelling, rented, thinking, extremely, amazon, fine, cute, either, son, matter, around, unfortunately, paced, setting, leaves, surprised, free, episodes, faith, detail, concept, magic, fantastic, special, seen, buying, points, low, basically, today, third, science, complete, unique, music, vinyl, animals, girl, keeps, reads, meet, seem, figure, explained, complex, age, building, making, gets, cast, disappointing, unexpected, mark, waste, background, list, check, brilliant, title, letters, wanting, realistic, learned, already, told, heard, due, future, coming, continue, novels, context, gay, suspense, films, emotional, hot, cover, reason, opinion, christmas, guide, paid, talent, concepts, lord, installment, angst, textbook, topic, text, study, expect, seriously, hours, problem, modern, american, filled, saw, hoping, journey, brothers, showing, added, please, obvious, behind, soon, damaged, doing, clear, moved, meaning, tells, online, based, dark, involved, thanks, basic, useful, showed, grace, death, readers, entire, deep, lines, happen, print, purchased, alive, scary, lovely, situations, sections, haven, doubt, towards, expecting, tried, ways, brings, wondering, order, starting, voice, surprise, finally, sexy, grown, five, game, boy, guys, miss, compelling, romantic, grammar, society, insight, romances, relationships, religious, paperback, lucy, relatable, suspenseful, script, provoking, described, big, strong, sent, absolutely, four, missed, honest, remember\n",
            "loves, gift, loved, she, old, toy, made, daughter, kids, year, cute, he, her, son, set, cheap, fun, granddaughter, baby, better, grandson, thank, purchase, birthday, happy, perfect, worth, money, best, play, excellent, poor, toys, christmas, again, looks, ok, recommend, value, party, flimsy, his, together, present, deal, didn, definitely, box, things, awesome, super, expected, also, some, cheaply, thought, purchased, yr, bow, wanted, hard, two, pieces, came, who, child, liked, children, last, low, our, am, enough, put, how, long, disappointed, pretty, first, item, don, pay, been, look, day, many, away, gave, products, niece, could, years, seems, friend, ones, adorable, easily, decent, ve, now, new, kid, go, overall, buying, pleased, lot, its, played, mom, every, think, here, job, 10, described, absolutely, him, doesn, make, find, bad, boy, durable, months, grand, broke, highly, likes, want, track, husband, family, say, different, looking, package, by, stars, still, material, playing, anyone, kit, service, few, exactly, brand, their, plastic, build, over, going, expect, wish, around, big, give, especially, come, however, while, sure, tracks, doll, advertised, soft, wife, boys, piece, figures, re, makes, opened, waste, anything, needed, gets, second, month, sister, favorite, music, right, else, given, recommended, fast, thing, which, high, apart, cars, should, isn, amazing, sturdy, affordable, solid, fine, comes, nothing, lots, excited, into, any, something, feel, priced, nephew, hold, girl, down, seller, bit, company, most, see, ordered, arrived, store, took, though, grandpa, way, wouldn, need, picture, house, batteries, seem, keep, then, needs, addition, such, design, adults, actually, grandkids, know, either, dollar, young, shipping, working, ll, idea, never, same, girls, amazon, review, everyone, easter, okay, condition, satisfied, mouth, mother, penny, before, place, having, far, home, real, man, missing, impressed, saw, said, terrible, cylinders, enjoyed, train, wasn, hours, giving, cheaper, received, cost, blocks, able, strong, building, paid, quickly, hands, beautiful, favors, bday, dad, pricey, thanks, bows, fall, wow, shower, through, poorly, maybe, expensive, light, customer, stores, reasonable, video, believe, friendly, loud, metal, toddlers, part, broken, won, complaints, prices, rattle, worked, where, battery, room, nicely, three, operated, uses, construction, days, instead, heavy, stopped, color, difficult, each, feature, items, cool, takes, start, brother, keeps, name, busy, found, smaller, father, reviews, boombox, quiver, done, couple, guess, college, hit, sent, head, didnt, carhartt, pub, event, finish, being, plays, itself, halloween, glad, people, trip, typical, feels, built, obstacles, couldn, surprise, always, why, 18, green, kind, helps, finished, laughs, 100, control, toddler, completely, quite, until, wrong, next, myself, true, funko, dollars, expectations, string, road, returned, short, touch, show, probably, another, beat, complain, yet, parts, musical, horse, grandsons, horrible, amount, may, materials, crap, lost, adult, properly, everything, 14, fact, tell, dolls, stuff, delivered, seemed, getting, blue, steel, let, lasted, future, brands, charge, ended, point, rip, thin, seven, accent, kept, balls, durability, hoped, assortment, sets, damaged, lol, pack, packaging, correctly, enjoys, grandchildren, hazard, five, disappointment, fingers, basically, film, lil, greatest, students, himself, course, outstanding, electronics, assemble, car, using, girlfriend, onto, otherwise, yes, ice, appears, shark, impressive, sit, haven, buttons, holding, weight, understand, spend, receiver, take, ever, compared, wonderful, photo, laugh, happier, held, flex, surprised, purchasing, plush, xbox, looked, totally, babies, went, sharp, colors, similar, pink, expecting, wait, etc, dont, save, half, neat, glue, longer, 00, adjustment, wants, edges, help, colorful, spare, timely, age, included, soon, aren, accessories, markers, putting, 20, collection, frustrated, mechanism, add, ripped, ton, dull, sons, open, ability, pic, 13, less, bucks, prank, valentines, allie, articulation, maze, pinata, freddy, plump, choking, ago, walmart, mode, cooking, door, once, return, although, huge, learning, guys, stable, reliable, both, quick, break, stand, must, own, us, cardboard, original, making, someone, devices, sucks, disappointing, porcelain, fort, grandbaby, coolest, nieces, nesting, wristbands, forever, words, felt, incredibly, learn, harder, times, cannot, close, suppose, those, business, stock, sounds, least, due, yourself, basic, showed, hardware, stayed, minutes, hot\n",
            "taste, smell, skin, flavor, smells, scent, using, taking, ve, face, been, bad, strong, any, don, tastes, dry, bottle, chocolate, energy, try, pills, didn, again, take, day, tried, difference, sure, tea, water, smelled, some, powder, feel, before, make, cream, better, sensitive, also, sugar, still, first, flavors, which, eat, doesn, am, away, odor, mix, products, recommend, stuff, go, chemical, candy, since, way, fragrance, noticed, however, though, weeks, terrible, could, drink, tasting, how, over, pretty, see, took, few, started, different, maybe, sweet, fresh, give, many, brand, think, morning, now, far, moisturizer, made, less, something, bit, know, thought, eating, wanted, best, horrible, ingredients, results, stomach, long, diet, eyes, texture, help, body, while, protein, same, put, every, tasted, by, felt, oil, makes, find, week, add, definitely, helps, disappointed, need, bag, its, drinking, swallow, feeling, money, feels, found, last, awful, lot, milk, brands, reviews, their, hoping, bars, re, scents, then, haven, vitamins, purchased, disgusting, never, each, gave, night, pores, old, amount, nothing, acne, ok, juice, gum, anything, thing, isn, coffee, may, days, looking, most, highly, years, couldn, return, always, notice, month, helped, kind, health, vanilla, enough, going, should, several, stars, without, especially, hard, salt, yet, amazing, ll, hot, regular, burning, drops, opened, effects, order, sunscreen, almost, actually, hours, ordered, package, half, liked, came, keep, might, why, expensive, having, dissolve, trying, goes, once, both, daily, quite, box, wash, oily, look, purchase, else, free, he, wish, arrived, light, down, threw, preworkout, aftertaste, soft, received, amazon, waste, went, lotion, formula, review, couple, say, into, supplements, chemicals, new, leave, working, lemon, leaves, absolutely, gets, problem, who, instead, seems, seeds, burn, others, low, months, hands, open, natural, facial, tasty, wasn, want, healthy, decided, gummies, stevia, sweetener, seem, white, gas, rid, recipe, won, liquid, breakouts, continue, cannot, house, another, excited, stale, ones, melted, tell, smoothies, snack, our, added, saw, green, two, side, sick, being, vitamin, through, husband, effective, soap, pain, right, rather, capsules, consistency, eye, red, keto, orange, least, buying, times, around, burned, nose, smelling, reaction, probably, clean, faint, greasy, slight, unfortunately, here, packs, someone, packets, year, positive, throw, getting, carb, fine, those, awesome, quickly, advertised, heart, super, entire, reason, under, purchasing, butter, noticeable, sometimes, artificial, benefits, changes, believe, ordering, stay, version, instructions, own, said, sticks, worth, favorite, changed, hate, improvement, second, remove, pepper, recommended, honestly, expected, magnesium, pimples, crunch, update, soon, tablets, dissolves, food, due, wouldn, giving, caused, ice, type, usually, cheaper, pleasant, read, cold, fan, itchy, gym, shakes, swallowing, perfume, anxiety, gives, gross, weight, idea, ever, change, yogurt, mint, workout, value, happy, big, she, hardly, seemed, star, outside, let, flavored, loss, care, area, extremely, dont, per, turned, snacks, baby, clear, high, able, supplement, bitter, coconut, where, perfect, sea, plain, gel, cup, issue, loved, 10, his, otherwise, stick, anyone, people, stuck, scrub, creamer, either, inside, matter, careful, combination, start, huge, effect, three, weird, unpleasant, break, warm, sleep, non, taken, cheese, doctor, whatsoever, dried, sour, sodium, unscented, company, delicious, batch, ended, rub, us, original, rice, expecting, air, top, syrup, aroma, rancid, cologne, stop, drinks, him, heat, rest, guess, bottom, capsule, cleanser, says, sorry, worked, comes, such, watermelon, vegan, smelly, strawberry, overpowering, smaller, doing, bags, extra, moisturizing, suggest, wife, plus, dark, container, twice, life, pricey, overall, beef, remover, odors, lost, prefer, lose, refreshing, wonders, lavender, ago, pieces, forehead, full, fact, anymore, mixing, sore, itching, during, coverage, odd, wrong, everyone, pill, honey, gone, stopped, shower, difficult, point, peeling, pre, fish, store, form, things, whole, nasty, satisfied, along, disappointing, exactly, workouts, rash, pounds, seen, similar, needed, deal, soup, real, crap, cotton, brush, 24, spots, come, item, benefit, friend, hour, blood, jerky, palatable, sweeten, drank, crackers, orgain, retinol, peanuts, probiotics, hazelnut, melatonin, dessert, blackhead, blackheads, almond, granola, toasted, lines, color, bother, unless, quantity, blend, past, hand, beware, family, myself, aren\n",
            "case, phone, screen, protector, cover, glass, doesn, keyboard, dropped, protection, ipad, iphone, cases, also, looks, fits, hard, cracked, protect, hold, ve, laptop, stand, keys, key, put, which, around, edges, fingerprint, protectors, tablet, plastic, while, touch, bubbles, don, bottom, feels, down, corner, still, new, now, didn, top, side, front, broke, any, without, first, design, its, however, how, bit, edge, pretty, easily, durable, drop, issue, part, mount, money, sturdy, take, feel, holder, by, button, overall, am, protects, before, right, perfectly, otterbox, sure, seems, way, started, times, two, months, black, place, plus, came, protective, already, could, magnet, better, problem, color, rubber, remove, corners, into, stay, thing, hand, week, over, galaxy, recommend, then, stick, since, camera, some, pocket, having, completely, perfect, keep, protected, press, comes, air, install, lock, looking, anything, another, shattered, made, bubble, won, holds, difficult, purchased, something, isn, fell, bulky, far, where, using, sides, come, vent, stylus, makes, ever, going, within, want, cheap, piece, couple, see, been, installation, never, adhesive, many, need, super, enough, few, different, month, left, dust, disappointed, instructions, make, kickstand, durability, day, fine, getting, go, clip, clear, note, days, lot, once, most, second, covers, buttons, holding, open, give, again, issues, tried, thin, samsung, review, crack, tempered, lip, reviews, needed, always, actually, exactly, stars, putting, apple, less, whole, same, know, grip, bumper, weeks, fall, waste, both, being, fact, curved, liked, look, wasn, flimsy, through, type, item, cut, ll, charging, broken, pop, properly, bad, scratch, last, room, away, trying, entire, reason, should, several, otherwise, able, almost, though, find, sensitivity, protecting, loose, close, unfortunately, thought, break, until, dirty, installed, ordered, either, home, cracking, purchase, peel, return, happy, falling, middle, falls, slim, under, wanted, phones, angles, thick, device, say, haven, tv, installing, probably, ok, ring, material, everything, soft, received, inch, such, damage, heavy, touchscreen, typing, tab, try, expected, functional, hit, watch, decent, slightly, apart, itself, things, best, apply, kindle, gave, yet, together, might, face, peeling, job, guess, nothing, power, socket, battery, shell, s8, removed, long, returning, service, buying, car, model, worth, charge, wish, keeps, let, switch, spigen, charger, sticky, disappointing, held, every, replace, took, absolutely, big, kind, maybe, who, expensive, full, strong, amazing, application, inside, replacement, volume, terrible, metal, others, sound, table, fix, xs, surface, cute, longer, think, couldn, screens, gets, 10, someone, found, said, solid, scratched, fire, re, belt, year, customer, silicone, order, those, quite, due, pro, wallet, although, s6, allow, mini, seem, expect, impressed, definitely, computer, lasted, okay, why, annoying, snap, unless, applied, secure, port, done, bump, holster, barely, line, pen, fast, awesome, driving, advertised, gold, each, space, fully, cards, gives, simple, scratches, brand, noticeable, end, satisfied, position, cool, read, breaking, privacy, taking, hands, old, holes, loved, dont, three, turn, ended, save, lifeproof, numbers, attractive, update, cons, especially, box, sitting, leave, poor, safe, simply, soon, quickly, unlock, fingerprints, least, wouldn, onto, pull, add, curve, half, screws, effect, fan, backlit, moto, snapped, may, leather, angle, clean, magnetic, picture, extra, help, display, set, wall, our, cell, adjust, years, noticed, light, today, huge, adds, option, video, scanner, followed, happened, calls, finger, she, id, star, between, seen, built, underneath, description, wireless, floor, replaced, area, company, her, designed, charges, provide, finally, feature, kept, went, supposed, excellent, doesnt, carry, felt, multiple, realize, easier, deal, cannot, correctly, decided, move, function, working, cracks, stated, shield, needs, pay, pros, stays, rather, max, amazon, rough, previous, covered, coverage, access, coming, mounts, responsive, offer, necessary, against, weight, spend, dropping, matte, impossible, portrait, finite, closed, screw, additional, lower, kit, tell, correct, pieces, bumps, looked, must, rfid, totally, outside, instead, arrived, next, flap, keychain, tighten, returned, short, shows, layer, slippery, mine, macbook, causes, texture, 100, center, worked, pops, flat, luck, likely, cradle, 6s, rubbery, s9, refund, he, covering, low, myself, placed, handle, useless, fingers, people, above\n",
            "never, received, item, box, arrived, package, order, delivered, delivery, amazon, shipping, came, receive, shipped, refund, broken, seller, ordered, sent, fast, damaged, opened, return, wrong, packaging, still, been, company, send, bag, yet, email, returned, told, tracking, please, crushed, packaged, again, money, service, two, quickly, said, don, didn, items, waiting, contact, another, missing, exactly, left, by, open, address, contacted, disappointed, ship, why, quick, want, condition, ups, now, haven, day, mail, damage, how, then, late, parts, before, pieces, who, bent, today, days, taped, check, should, bubble, gift, bad, smashed, customer, packing, says, some, ago, packages, here, twice, plastic, instead, envelope, month, door, ve, together, sending, am, took, recieved, new, sealed, nothing, which, way, thank, wrapped, expected, piece, cancel, know, problem, where, put, over, see, asked, give, poor, take, thanks, pay, packed, being, policy, charged, our, already, inside, wasn, week, later, review, part, any, won, front, information, though, account, noticed, could, need, ordering, side, looked, returns, shows, someone, boxes, completely, supposed, described, empty, wrap, thing, explanation, gave, tried, due, cheap, may, picture, refunded, however, big, happy, without, christmas, looks, paid, slow, emails, wood, suppose, label, weeks, purchase, went, replacement, showed, almost, top, care, party, else, home, arrive, better, response, sure, something, issues, anything, hole, chipped, respond, shipment, since, driveway, going, yesterday, their, both, fine, let, correct, worst, original, rain, months, longer, times, right, business, padding, its, terrible, scratched, returning, unacceptable, reordered, porch, broke, piñata, giving, once, couldn, carrier, ripped, destroyed, night, horrible, looking, able, fault, immediately, manufacturer, around, upset, huh, canceled, saying, wanted, number, marked, first, responded, large, hopefully, postage, unhappy, each, paper, answer, must, outside, end, find, live, issue, transaction, through, poorly, mine, purchased, totally, reviews, cancelled, believe, actually, re, say, post, boxed, ridiculous, cardboard, finally, shape, mailing, same, itself, every, early, torn, ever, into, trying, try, directly, 30, canister, truck, cracked, wish, heard, called, buying, corners, provide, stars, properly, perfect, contained, half, corner, think, placed, resolved, made, row, office, comes, also, everything, date, store, look, waste, kept, detroit, last, done, december, update, getting, deal, cannot, house, online, brown, joke, such, ll, few, reason, defective, seal, reorder, vendor, battery, case, arrival, 18th, tiara, cars, loose, either, promptly, easily, impressed, worth, assembled, bucks, shattered, dont, three, rest, waited, pretty, plate, come, quite, several, until, credit, beautiful, mud, receiving, exchange, thought, china, cheaper, show, complain, cost, delivers, lost, merchandise, scuffed, job, set, person, maybe, mistake, enclosed, styrofoam, mailbox, graduation, leaving, problems, stuff, keep, beware, hoping, handed, pulled, description, charge, he, 2nd, call, phone, us, whole, obviously, spent, clearly, down, disappointing, center, ok, allow, pack, defects, friday, 50, advertised, slip, doesn, ants, regarding, needs, threw, total, pouring, calling, simply, plan, covered, mirror, people, exterior, complained, filter, hours, news, wasting, march, closed, drop, within, son, requested, unfortunately, protect, super, asap, boat, pictured, seems, tracks, full, option, thankfully, dropped, go, anyways, copper, customers, lot, table, fix, wouldn, wait, saw, opening, given, sellers, annoying, help, seeds, timely, min, flat, 10, claim, event, sister, ahead, rather, tv, lid, ruined, folded, free, promised, dishes, required, website, tape, away, make, enough, apparently, unusable, accidental, fram, washington, resident, spain, 27th, hammered, vehicle, recommend, fragile, beyond, idea, tell, message, info, soft, seemed, driver, showing, worry, point, products, decency, earings, earing, billed, smushed, perimeter, scammers, revive, husband, beat, forever, replace, absolutely, worried, felt, rose, fell, fixed, nor, leaking, investigated, crinkled, taxes, signed, confirmation, signature, nov, credited, doorstep, unit, despite, bother, definitely, 11, process, tear, anyway, dust, rip, sorry, fedex, responsible, pkg, carton, might, hassle, room, star, ran, nearly, suggest, dec, drills, mailer, crumpled, third, dirty, container, match, stated, added, heavy, removed, photos, next, pick, responsibility, misshapen, jan, 8th, apart, daughter, probably, sturdy, trash, bottom, notified, accepted, insurance, doorbell, feb, dusty, informed, fee, 500, place, based, regards, unsatisfied, crate\n",
            "working, worked, stopped, app, card, drive, months, wifi, computer, money, router, fine, then, now, doesn, didn, return, download, unit, tv, internet, never, amazon, job, waste, advertised, software, better, tried, windows, its, problem, two, ssd, don, system, new, first, weeks, signal, modem, video, machine, speed, 10, any, few, days, am, another, day, problems, purchase, want, sd, disappointed, returned, free, installed, warranty, by, network, anything, slow, defective, won, connection, try, which, couple, recommend, needed, times, failed, same, support, says, seems, service, using, week, hard, far, could, different, expected, cable, turn, know, laptop, many, thing, second, disk, box, right, sent, again, memory, data, connect, hdmi, purchased, before, described, drives, sure, pc, ve, completely, month, phone, brand, usb, since, instructions, some, quit, install, year, supposed, customer, seller, replacement, still, bad, fast, made, send, ok, noise, reason, way, load, issues, though, couldn, camera, play, game, isp, something, files, update, into, put, power, thought, their, needs, able, item, refund, netflix, spend, should, see, issue, cheap, nothing, looking, need, been, run, error, how, received, reset, device, over, tech, went, through, until, ll, review, both, decided, go, those, exactly, half, compatible, connected, came, lot, long, transfer, longer, our, help, tablet, available, everything, started, maybe, said, 2017, plugs, sony, arris, plugged, say, start, paid, tell, sound, dvd, browser, external, enough, ordered, store, next, version, fire, wd, old, fix, save, 100, pay, luck, returning, find, ran, google, useless, also, twice, fail, bit, less, read, trying, storage, videos, mode, freezing, youtube, last, instead, must, speeds, watch, ended, 2018, helpful, kept, gave, worth, strips, done, else, yet, user, may, happy, cannot, contact, replaced, wont, give, news, games, take, helps, setup, reviews, xfinity, pci, followed, later, order, cheaper, set, anyone, fans, firmware, looks, died, write, scale, perfectly, stops, model, daughter, policy, online, episode, anymore, search, having, based, reading, cd, screen, found, faster, mine, who, elsewhere, message, going, due, downloaded, away, best, stop, factory, look, operating, shows, dont, window, hour, recognized, multiple, hours, broken, took, being, why, wanted, makes, three, updates, uses, manual, company, weather, minute, space, immediately, wireless, complained, almost, intended, each, high, perfect, without, wouldn, sometimes, feel, christmas, difference, gift, end, pretty, input, seemed, however, refurbished, own, figured, let, directions, okay, years, kindle, passed, original, extremely, making, hopefully, course, comcast, desktops, forums, sata, hhd, behind, garbage, actually, bar, experience, getting, home, wasn, running, awesome, keep, slot, once, didnt, he, player, file, where, often, people, haven, restart, netgear, amd, optical, converter, bb, linux, arc, make, worthless, ever, might, main, son, always, etc, star, samsung, 1st, delete, desktop, wi, os, please, figure, application, access, smart, soon, offer, driver, advertises, deleted, systems, difficult, provides, iphone, 30, short, things, wife, touch, tested, devices, show, probably, cost, fi, ram, burn, plug, complaints, crap, simple, properly, directly, change, stuff, sadly, rate, adapter, call, highly, spent, monitor, seconds, sorry, down, husband, replace, hassle, additionally, map, damaged, expensive, press, newer, recently, range, older, junk, june, adaptor, services, removed, android, previous, sending, upon, loved, recording, extra, wish, otherwise, dropping, digital, impossible, bluetooth, information, closed, follow, come, thanks, either, matter, backup, connecting, gets, unfortunately, think, controls, internal, feed, searching, units, results, 4k, full, satisfied, except, solve, happened, loud, supported, chrome, location, re, quite, several, built, buying, charged, pleased, expecting, quickly, needing, case, packaged, current, around, given, annoying, past, stay, switch, move, comes, joke, cheaply, while, included, switched, giving, 20, address, create, flash, copy, click, inside, amount, horrible, overall, lack, thank, program, hope, lost, valid, terabyte, permissions, reformatted, dunkin, 32gb, wart, thia, turbotax, offline, win10, alongside, speedtest, 4ghz, gigabyte, processor, wall, watching, vehicle, outdoor, most, takes, refunded, idea, receive, although, motor, guys, bunch, reliable, every, during, initially, project, hoping, lasted, following, description, changing, pre, dollars, buyer, here, professional, stories, installing, excellent, products, sandisk, vi, bandwidth, powerline, copying, entered\n",
            "shoes, comfortable, feet, shoe, socks, wear, foot, pair, boots, pants, ordered, toes, comfy, toe, big, heel, wide, shorts, don, re, 10, uncomfortable, tight, walking, ankle, slippers, sock, around, boot, worn, feel, sole, wearing, material, waist, am, soft, perfect, arch, cute, also, narrow, bit, way, day, right, legs, high, didn, warm, look, put, underwear, compression, large, down, long, which, slip, need, ve, been, heels, cushion, usually, stay, walk, wore, still, super, soles, made, sneakers, some, seem, support, keep, years, top, slide, true, pairs, however, comfort, any, looking, now, length, expected, felt, most, sandals, fabric, laces, their, again, bottom, see, return, different, since, snug, side, definitely, leg, husband, give, before, pain, thick, into, smaller, over, find, order, apart, returned, try, loose, always, through, stretch, larger, thin, first, make, wears, once, while, recommend, want, 12, two, fits, better, thought, purchased, he, few, elastic, sizing, running, lot, hard, cut, reviews, inside, short, show, going, purchase, calf, months, needed, tried, ll, could, how, worth, sure, disappointed, pretty, knee, bigger, stars, same, leggings, enough, left, colors, days, insert, overall, loved, hours, feels, end, area, every, able, being, fall, type, normally, should, medium, go, buying, ankles, then, best, sent, run, half, take, color, think, help, cotton, black, against, velcro, box, butt, barely, sweat, weird, least, hurt, ones, sneaker, wouldn, by, hold, chart, calves, jeans, both, panties, flip, might, son, falling, maybe, kept, though, old, hiking, especially, say, aren, fine, happy, perfectly, hole, less, come, never, came, 14, coming, reason, brand, took, width, longer, weight, his, cheap, lasted, crotch, already, getting, doesn, feeling, him, rubber, regular, diabetic, plantar, daughter, ripped, others, wanted, issue, booties, padding, today, flops, tummy, thigh, tighter, expect, winter, she, seemed, actually, kind, money, looked, extremely, heavy, know, water, next, hour, almost, fast, relief, its, real, arrived, supportive, brace, somewhat, place, terrible, pads, returning, putting, rough, front, plus, easily, cold, wish, started, summer, something, based, washed, without, slipper, insole, couple, ever, flexible, month, room, seller, belly, week, full, between, must, blisters, traction, okay, ok, slipping, quite, floors, where, last, dress, things, stitching, seam, exactly, expensive, home, rest, house, swell, xl, awesome, due, control, slightly, low, looks, bad, otherwise, above, stiff, added, waisted, seems, either, wet, pockets, why, another, unfortunately, thing, yes, gel, washing, leather, below, using, completely, received, holes, makes, hoping, washes, many, straps, having, far, mine, women, times, fell, found, nothing, who, said, sleeves, tie, stayed, recommended, casual, refund, sketchers, insoles, suspenders, beach, happen, second, pocket, extra, flat, hand, away, people, light, hips, provide, stretched, instep, swollen, booty, inseam, fasciitis, couldn, men, style, changed, knees, amazon, won, lace, problem, strap, basically, cushioning, higher, instead, new, several, difference, gotten, stays, fat, poor, sending, plan, returns, comfortably, behind, each, sizes, outside, gave, decent, near, description, yet, strange, bummer, us, afraid, 13, else, replace, waistband, absolutely, dry, guess, cannot, reviewers, anything, believe, ordering, read, amazing, band, lightweight, such, tennis, hot, lining, step, wasn, under, shape, favorite, thighs, dont, appear, part, weeks, across, rubbed, memory, sleeve, easier, four, cell, trying, three, wasted, realized, pull, wife, 40, red, shorter, 11, pictures, until, thank, review, immediately, fitting, smell, beautiful, hope, sometimes, grip, thrilled, cozy, start, places, receive, probably, sturdy, her, may, fantastic, value, ran, break, doctor, own, suggest, thicker, let, clothes, ended, remove, broke, highly, simply, sized, someone, interior, typically, flats, nikes, edema, done, according, foam, update, rating, our, throw, softer, deal, hit, fairly, wonderful, sew, tile, shrink, 15, pay, lower, send, correct, slacks, surprised, adjust, non, sleep, tend, runs, helpful, resistant, stick, glad, item, similar, blister, crocs, womens, undone, normal, year, finally, stylish, constructed, drying, body, wow, wider, helps, badly, flop, cushioned, unless, decided, went, odd, wrong, replacement, lbs, myself, quickly, unwearable, lump, rather, cheaper, causing, line, twice, anywhere, piece, button\n",
            "charge, charger, charging, cable, battery, cables, phone, batteries, usb, cord, plug, cords, charged, charges, months, port, worked, working, power, long, stopped, fast, adapter, chargers, last, two, doesn, wire, won, longer, plugged, into, different, using, first, unit, dead, while, now, month, still, don, by, then, broke, few, way, same, seems, which, ports, however, again, before, weeks, fine, return, light, turn, couple, ve, original, tried, within, iphone, outlets, take, lasted, didn, apple, car, replacement, hours, how, another, fully, times, money, go, been, connector, purchased, worth, its, wireless, plugs, day, hold, end, received, 10, should, both, watch, sure, connection, may, days, came, device, right, already, three, new, stay, though, never, better, quickly, see, over, short, since, put, probably, made, week, recommend, also, am, computer, come, company, warranty, wires, went, second, thing, less, far, once, enough, through, data, jack, wall, definitely, several, say, purchase, disappointed, multiple, down, old, camera, any, ll, amazon, some, replace, problem, where, samsung, started, ordered, box, pixel, minutes, takes, reason, contact, needed, most, life, connect, always, later, need, traveling, pack, re, lightning, easily, until, defective, review, make, seller, solar, find, service, ago, part, able, know, issue, try, recharge, loose, phones, going, item, supposed, cheap, update, cannot, guess, package, customer, anymore, type, says, bad, high, could, anker, length, being, plugging, extra, outlet, seem, laptop, comes, quick, value, break, year, stop, waste, failed, star, actually, around, hour, 50, expected, pd, breakers, connected, switch, quite, wrong, deal, wouldn, plastic, every, devices, took, micro, bit, piece, returning, under, space, certain, issues, job, slow, nothing, ac, extension, start, pretty, either, happy, night, beware, feel, case, away, ft, left, window, buying, their, home, four, things, died, want, half, adapters, uses, having, lot, set, 30, low, black, keep, maybe, years, inverter, quit, rechargeable, amp, taking, unplug, stand, broken, contacted, ones, else, overnight, apart, wanted, especially, rate, large, lengths, recommended, big, advertised, 100, needs, leave, found, he, something, stars, voltage, side, people, complete, super, convenient, thought, immediately, might, transfer, instead, completely, heavy, perfectly, makes, reach, adaptor, description, travel, buyer, here, returned, electronics, kept, gave, described, real, hard, give, speed, 24, save, pay, audio, accessory, input, refund, photoelectric, bank, position, connectors, durable, wasn, 12, supported, die, capacity, individual, ever, 20, order, per, red, why, ok, our, amount, macbook, look, looks, holds, strong, sometimes, randomly, each, must, appears, keeps, panel, flimsy, fail, okay, yet, thinking, currently, making, performance, excellent, disappointing, husband, neither, meter, nightstand, think, mine, strip, fell, attached, crimp, loses, socks, missed, 2019, hot, worry, others, 2018, sent, best, feet, providing, together, tested, self, turned, weight, upgraded, nicely, included, cell, soon, regular, suddenly, hook, fire, useless, full, android, realized, plus, show, flexibility, locations, wish, waterproof, 2nd, poor, excited, files, without, goes, output, idea, liked, exactly, although, brand, fact, standard, internal, problems, run, fault, recently, five, during, april, help, own, disappointment, let, third, his, ended, point, arrived, tracker, dock, us, said, gotten, tablet, simply, someone, stripped, popping, anything, products, done, trailer, rating, getting, account, support, overall, magnet, sit, female, breaker, larger, sound, falls, based, due, cameras, via, cover, daily, held, terrible, metal, setting, tester, proper, worst, purchasing, option, google, otherwise, arrival, click, similar, many, discharge, replaced, fix, finally, loved, compatible, unfortunately, etc, heat, friend, owned, offered, drained, horizontally, past, fair, almost, aa, longest, ios, disconnects, solid, rather, giving, china, pull, isn, installing, purse, fan, button, decker, conveniently, indicates, snapped, place, anyone, stuck, insert, chance, shipped, wont, determined, everything, person, happens, who, delivery, construction, crazy, drains, international, leaving, seemed, between, im, separate, inside, minute, owning, september, intended, tip, designed, highly, reconnect, monitor, seconds, doesnt, likely, therefore, male, 2014, weaker, circuit, slower, allow, correctly, shuts, contain, unable, manufacturer, spot, ipad, higher, stiff, perfect, stated, trouble, junk, hrs, send, sitting, smoke, universal, provided, secure, behind\n",
            "light, lights, bright, bulbs, bulb, led, clock, lamp, night, turn, switch, lighting, then, working, white, two, which, now, set, months, don, brighter, room, look, alarm, batteries, first, our, installed, dim, also, some, lamps, dark, brightness, long, worked, didn, install, remote, how, flashlight, battery, last, see, purchased, power, color, need, motion, colors, its, new, few, way, being, by, sensor, doesn, around, looks, again, day, days, high, made, wish, ve, wire, order, flicker, still, stars, money, low, red, dimmer, could, several, stopped, another, am, lit, different, went, smart, replacement, enough, ones, won, better, come, already, less, however, make, beam, daylight, where, return, right, pretty, looking, installation, running, three, year, over, far, recommend, been, unit, tried, super, think, plug, base, ceiling, sure, want, started, during, shade, reviews, wanted, setting, any, through, since, into, put, should, pack, needed, star, weeks, using, find, give, box, wall, able, maybe, came, wires, turned, change, fog, until, poor, perfect, month, each, later, before, disappointed, 30, happy, times, ll, something, comes, customer, problem, keep, options, definitely, replaced, usb, green, purchase, car, go, half, flash, beams, nightlight, oittm, once, bad, amazon, issue, 10, home, try, house, going, down, cool, timer, seller, changing, cheap, issues, same, fine, liked, candles, ok, hours, broken, their, instructions, turning, flickering, feature, plants, glass, without, short, expected, christmas, sets, ground, failed, otherwise, garage, help, fixture, lasted, design, though, top, glow, second, warranty, actually, company, left, leds, blew, sent, week, review, socket, awesome, plugged, beautiful, never, advertised, minutes, service, exactly, simple, know, thought, both, option, place, makes, stay, loud, arrived, run, many, within, loved, area, strip, whole, yellow, husband, unless, app, replace, lumens, seems, touch, every, installing, bit, buttons, others, headlights, reason, feet, morning, screw, ordered, adjust, either, truck, couple, stand, between, received, seen, alexa, while, away, full, etc, seconds, most, update, sun, wouldn, sensors, close, probably, old, none, doing, picture, having, seem, send, cord, longer, fun, globe, under, job, turns, toddler, switches, button, years, kids, solar, life, properly, string, take, dimmable, headlight, side, say, living, wake, output, noticed, tree, hard, kitchen, best, sound, problems, safety, burn, value, defective, blue, plastic, believe, stock, ended, broke, next, setup, fast, charged, strand, difficult, reading, else, isn, deal, expensive, guess, clips, illuminate, hour, least, amazing, big, due, she, addition, leave, standard, aren, giving, above, screws, junk, inside, push, rated, charge, simply, safe, dead, unfortunately, double, mode, re, near, difference, bedroom, lot, completely, wifi, perfectly, outside, useful, point, described, easily, sunlight, functions, quiet, cannot, 3rd, display, those, needs, hold, waste, metal, given, shine, patio, laser, clocks, halogen, flashlights, strobe, dst, local, annoying, front, control, getting, four, possible, itself, haven, candle, desk, projection, headlamp, fuse, halo, barely, putting, center, loose, part, always, add, cost, amount, levels, took, spot, hope, dimmed, strong, trouble, person, convenient, tail, randomly, quite, today, wrong, ft, buying, quickly, projects, things, grow, brand, nuts, description, piece, item, flashing, watt, store, flaw, original, moisture, settings, her, everything, correct, burned, nothing, black, pin, various, satisfied, attached, recharging, numbers, temperature, built, overall, landscape, returning, package, main, contact, road, factory, finally, blown, blinking, features, heat, bent, window, cute, 300, lite, specs, multiple, perhaps, angle, please, figure, connect, past, decided, cheaply, slightly, gets, tiny, seeing, included, regular, rv, lasts, stayed, hardware, looked, steady, 20, worth, adjustable, position, eventually, plenty, immediately, almost, length, provide, goes, feel, daughter, door, gave, shut, starting, supplied, start, hassle, delivery, huge, taking, arm, units, wiring, january, quick, correctly, warm, water, recently, direct, touching, hoping, camera, source, connectors, connected, photos, adjusted, us, surface, said, highly, replacements, shed, disappointing, upon, lumen, 40watt, watts, torches, fixtures, incandescent, lightbulbs, dimming, backlight, bobber, lasfit, mirror, absolutely, rating, bar, onto, weak, hung, mine, packaging, hit, compared, pole, photo, 15, held, pay, reset, closet, terrible, head, gives, flickers, flange\n",
            "sound, ear, headphones, volume, ears, bluetooth, music, hear, speaker, speakers, mic, noise, headset, phone, earbuds, loud, battery, audio, pair, bass, tv, radio, calls, buds, using, sounds, left, charge, could, better, listen, life, microphone, connect, working, also, which, ve, device, months, way, right, earbud, static, comfortable, don, worked, now, first, listening, set, recommend, play, still, low, while, headphone, bud, didn, then, bad, wireless, earpiece, hours, want, tried, connected, best, been, clear, connection, problem, broke, into, voice, stopped, pretty, cord, level, turn, go, any, am, same, comes, however, thing, both, re, few, some, cheap, earring, until, said, two, anything, louder, channels, before, isn, long, head, doesn, people, lot, disappointed, hard, fine, definitely, make, wire, wish, weeks, far, times, how, bose, case, around, its, less, may, having, ago, ll, old, find, money, look, since, signal, by, end, died, happy, bit, different, amp, today, over, poor, overall, cancellation, lasted, return, okay, need, system, needed, ever, once, feel, through, again, review, antenna, days, month, sure, away, hearing, week, came, received, decent, worse, wear, karaoke, made, constantly, longer, plugged, see, issue, 30, perfect, update, think, expensive, purchased, easily, computer, give, take, most, day, hoping, big, control, couldn, try, going, gaming, couple, though, item, last, amazing, plug, something, returning, without, cool, person, come, car, built, max, never, able, being, range, box, instructions, another, plugs, started, years, should, figure, full, enough, weak, inside, went, looking, cannot, barely, power, replacement, expected, playing, high, connects, part, minutes, gave, know, put, every, issues, sometimes, google, where, stay, our, amazon, second, actually, disconnect, paired, say, headsets, charging, disappointing, stars, app, wasn, completely, side, customer, sounding, each, thought, warranty, ok, devices, probably, others, canal, unit, makes, coming, gym, lower, everything, found, year, automatically, design, uncomfortable, lasts, usb, airpods, during, between, getting, open, he, sounded, down, perfectly, tight, cable, buying, hour, especially, stations, ones, annoying, purchase, unless, won, real, returned, short, says, least, brand, ordered, piece, gift, themselves, previous, provided, lots, itself, new, anymore, sony, receiver, earplug, either, might, son, always, unfortunately, wearing, input, lg, kind, adjust, xbox, aux, often, reception, wrong, enjoy, similar, pixel, charged, radios, excellent, light, replace, wanted, increase, many, earphones, channel, keep, due, loved, pocket, such, terrible, muffled, player, included, reason, maybe, waste, background, iphone, otherwise, audible, seems, within, plastic, simple, lose, clarity, reconnect, three, bar, start, near, broken, fact, taking, change, fairly, instead, echo, heavy, blue, almost, picture, actual, products, pairs, fall, mine, deal, help, impressed, awesome, happens, driving, nothing, shows, directly, reviews, talking, refund, service, treble, feet, average, seller, sent, call, uses, earphone, cancelling, interference, usually, sets, trying, feedback, fantastic, press, took, recently, unable, looked, workout, advice, supply, canceling, looks, school, saying, name, galaxy, via, jack, junk, cut, literally, receive, several, huge, sitting, note, tell, quickly, problems, conference, comfortably, upon, difficult, expect, value, run, worth, distance, half, point, beats, running, spend, remove, seem, highly, personal, game, drop, hold, else, distorted, buzzing, voices, transmitter, usage, home, video, close, missing, batteries, connector, those, band, arrived, seen, send, connectivity, expecting, phones, party, conversation, quit, extra, together, sucks, turned, noises, please, comfort, rattle, later, room, myself, cell, star, pieces, setup, turning, rather, blast, beach, 20, noticeable, silicone, avoid, delay, sync, heard, eventually, pro, hurt, backs, song, excited, lost, feature, material, reduce, wouldn, desk, test, things, durability, shut, christmas, tooth, failed, place, manufacturer, function, seemed, 4k, doctor, let, 10, hooked, original, extremely, making, hopefully, whole, kinda, someone, constant, spotify, riders, havit, jbl, corsairs, subwoofer, model, port, done, talk, confusing, absolutely, experience, apple, support, him, sit, package, larger, trash, understand, impossible, follow, adjustment, 15, matter, gives, earplugs, bt, hiss, skype, defective, sleep, risk, forward, opened, option, late, except, forget, picked, plays, residue, protection, kids, extended, contacted, feels, forms, concert, pitched, muddy, neck, loose, main, stop, gets\n",
            "dress, shirt, bra, ordered, wear, large, jacket, medium, cute, material, fits, sleeves, xl, am, skirt, tight, sleeve, order, way, big, top, flattering, still, comfortable, color, larger, dresses, bras, look, made, sizing, short, fabric, bust, sweater, bit, looked, long, wearing, straps, return, front, waist, perfect, super, perfectly, coat, looks, chest, picture, support, expected, suit, length, lace, however, definitely, boobs, beautiful, usually, 3x, loose, body, sizes, true, think, hood, through, cup, sent, thin, part, cheap, zipper, black, came, cut, warm, disappointed, pretty, didn, right, don, received, sweatshirt, soft, which, wore, also, another, shirts, bottom, stars, area, feel, enough, keep, print, colors, hips, overall, pink, doesn, blue, pounds, recommend, inch, white, bigger, breast, wish, two, around, probably, huge, neck, wanted, might, how, comfy, should, though, pockets, better, see, fine, looking, hole, wrong, high, returned, could, worn, daughter, swimsuit, pictured, being, since, down, over, going, xxl, go, its, again, same, different, wash, arms, need, clingy, then, purchase, returning, online, want, otherwise, costume, maybe, smaller, loved, runs, ordering, she, actually, underneath, expecting, cups, thought, quite, absolutely, ok, re, 2x, gave, exactly, amazing, clothes, sheer, 12, first, ve, under, red, woman, lbs, pants, lining, nude, sure, side, know, pattern, between, backless, some, ll, thick, completely, arrived, sports, extremely, been, normal, shoulders, shorter, wide, liked, given, shrink, floral, normally, before, design, something, above, style, fitted, seems, purchased, kinda, day, put, pop, washing, summer, now, adhesive, buying, any, uncomfortable, robe, cotton, gray, give, without, bad, 10, dryer, band, reviews, low, getting, extra, lovely, compliments, tried, tank, 38d, old, weigh, lot, unfortunately, arm, kind, stuck, snug, breasts, slip, person, into, while, sized, dressed, 130, tunic, covered, run, covers, happy, okay, find, place, velcro, come, stay, tho, everything, by, weird, felt, who, chart, tee, hem, least, money, 2xl, washes, refund, party, shape, torso, amazon, rest, itself, weight, women, took, son, always, slightly, makes, few, included, regular, aren, tie, 14, hard, item, seam, replacement, make, stretch, poor, needed, classy, excited, times, wouldn, isn, inches, although, her, belly, 150, seem, longer, hits, bag, gotten, lose, tshirt, lrg, bodysuit, gown, say, wedding, sewn, wrinkles, inside, away, seller, based, liking, constantly, needs, once, send, others, 36c, busty, spanx, strapless, cleavage, outfit, tag, late, where, taller, glad, try, lightweight, dressy, dancing, hoodie, flowy, shows, shipping, seams, friend, pieces, threads, falling, grey, xlarge, revealing, never, middle, company, slim, take, knee, sticking, girls, odd, until, next, myself, boob, shrinks, closures, unflattering, wears, rather, loves, read, thing, gift, button, burgundy, eyelets, may, thank, coming, adorable, fleece, hanging, nothing, started, said, delivery, basic, med, purple, expect, seemed, stitching, holes, waisted, awkwardly, plenty, he, ended, fitting, 36, pregnant, oversized, kept, someone, disappointing, described, update, wrist, nipple, dry, every, real, able, supportive, problem, school, petite, added, pair, pads, light, many, nursing, confident, def, chin, days, plan, easily, sexy, double, collar, stick, appears, throw, mind, accurate, feels, washed, silky, cozy, 120, why, measured, complaint, totally, plastic, dye, instead, went, heavy, tad, typically, stretchy, stretched, fast, pleased, gorgeous, fix, favorite, sewing, hung, xs, green, graphics, yet, end, please, adjusting, sew, marked, worked, vibrant, tiny, found, logo, waste, butt, barely, 30, giving, halloween, plus, dark, type, wonder, folded, lots, package, alot, wasn, week, hope, less, stylish, properly, modest, icy, 36b, 34ddd, bralette, strappy, 220lbs, 36d, cover, together, cool, pin, plain, idea, receive, offered, zip, fact, misleading, bottoms, both, cloth, colored, coverage, heavier, keeps, meant, 16, hoping, following, shoulder, us, making, china, supposed, skirts, clings, 34d, mapping, ruffles, frumpy, 34c, sash, rib, nightgown, tshirts, grunt, husband, worth, else, across, fall, baby, cannot, oh, house, seeing, awesome, pay, such, terrible, hot, fun, 165, chilly, drape, ppl, neckline, prince, princess, ruffle, 36dd, petit, followed, beware, minute, people, provide, designed, bye, wearable, jackets, 3xl, winner, denim, mediums, horns, 5x, ironed\n",
            "color, colors, pink, white, picture, blue, gold, black, brown, ordered, green, rose, red, looks, dark, silver, look, yellow, pictured, orange, light, pretty, purple, different, disappointed, received, same, bright, faded, sent, gray, darker, expected, wrong, pictures, shown, photo, grey, beige, shade, see, photos, how, beautiful, sure, instead, item, order, return, going, saddle, close, came, vibrant, image, two, make, navy, shiny, looked, didn, also, tan, doesn, colored, box, clear, definitely, dice, returned, right, wanted, amazon, case, over, shows, dull, which, isn, some, don, put, opened, take, images, hard, should, though, exactly, looking, aqua, better, true, feel, again, show, actually, package, wasn, could, been, online, now, cheap, big, mat, wear, care, mostly, design, tint, returning, flowers, by, month, recommend, lighter, arrived, aren, however, selection, set, still, where, upset, hair, person, almost, liked, copy, bit, drum, something, give, pic, described, nothing, mine, am, anything, frame, go, overall, then, fading, loose, slightly, few, ve, loved, enough, quickly, ones, perfect, bad, long, half, never, think, delivered, seems, using, thought, purchased, money, match, any, supposed, disappointing, skein, lot, seller, around, ugly, advertised, fun, before, way, won, actual, fits, maroon, normal, days, base, why, worth, trying, wish, coat, happy, annoying, sparkly, stars, numbers, material, edges, come, side, nicely, sterling, through, know, rather, daughter, another, effect, pearl, lots, asked, comes, metallic, everything, fine, cute, huge, cream, reviews, paper, say, already, open, away, description, point, phone, week, texture, together, hassle, lol, baby, able, took, made, missing, makes, dirty, first, metal, hot, pick, need, easily, kids, accurate, couldn, eligible, lasting, super, attached, totally, plastic, applying, thing, paint, bottle, tone, bag, poor, nowhere, top, difficult, brand, graphics, place, keep, asking, help, pics, colorful, started, said, butter, chose, background, cup, couple, horrible, its, shipped, wagon, bouquet, champagne, dreamcatcher, peyton, taupe, broaches, once, most, takes, backing, plain, ok, paid, detail, warm, project, chocolate, variety, ended, wash, ask, kept, someone, iron, juicing, photographed, copic, greenish, sunflowers, done, absolutely, needed, packaging, areas, larger, those, costume, nor, due, mistake, refund, bus, beanie, finger, hardly, avoid, separate, stitching, heard, read, corners, wrapped, apply, re, primer, cherry, coral, chosen, drums, hideous, prettier, backdrop, might, either, room, star, unable, full, bold, completely, into, snap, quite, replacement, gotten, buying, catcher, avid, discoloration, precision, provided, double, down, near, probably, piece, trash, gift, peach, veggies, burgundy, turquoise, remains, glowing, leather, seem, clean, compared, cap, day, fades, neon, shipper, royal, advertise, job, didnt, weird, smaller, years, print, spray, waste, except, wood, drains, fasten, suspension, opaque, diy, happened, ordering, second, getting, blonde, teal, noisy, affected, dream, lake, smooth, bottles, thin, imagined, opening, turned, rubbed, depicted, multiple, pocket, presentation, leave, large, many, wrinkled, calling, omg, wife, line, ripped, cost, stained, space, anyone, individually, find, deliver, matte, items, patterns, comfortable, today, units, blood, stuff, row, outside, hoping, decent, sprayed, purchase, evening, broke, here, original, want, tissue, copper, interior, last, gorgeous, delicate, especially, dry, our, slippery, bummed, speak, selling, hung, pack, home, real, guess, direction, question, choose, customer, designs, says, least, candy, consistent, such, pair, new, others, service, stones, allowed, reason, unhappy, mark, issues, changes, couch, chipped, halloween, people, durable, feels, states, staying, bummer, plates, chip, within, always, gets, unfortunately, turn, install, wider, kind, pass, drain, gonna, mini, misleading, seriously, application, further, cut, heavy, listed, furniture, began, fast, shop, peeling, exchange, each, factory, caused, become, complain, anywhere, tree, bottom, having, rust, display, issue, starts, bathroom, powder, stock, label, maybe, hook, checked, everyday, leaving, realized, wasted, roll, inside, process, tear, eventually, underneath, called, best, intended, less, sort, obviously, test, clearly, sold, nose, per, luck, weeks, therefore, sticks, ends, bike, both, every, fault, ran, being, problem, fingers, higher, ipad, saying, hat, number, container, write, directions, surface, hopefully, rough, safe, secure, covered, sheets, turns, garbage, rating, appears, far, worse, times, summer, falls, leak, thinking\n",
            "ink, cards, pen, pens, printer, wallet, cartridge, card, paper, cartridges, markers, stickers, print, pencil, fine, write, color, don, rolls, board, colors, black, box, labels, printing, which, credit, letters, pocket, toner, pencils, erase, tried, cheap, again, envelopes, also, first, am, thought, writing, been, ve, recommend, some, however, money, hp, slots, by, new, same, holder, made, inside, brand, shipping, way, beautiful, marker, came, different, make, didn, through, worked, try, bleed, look, enough, sticker, better, hold, many, roll, last, amazon, gift, inks, disappointed, pretty, ordered, purchase, any, over, two, pack, needed, dried, buying, difficult, then, plastic, stick, pages, depot, white, barrel, times, office, could, replace, thin, dry, expensive, missing, now, purchased, go, still, see, set, wall, easily, return, wish, printed, using, case, come, few, sure, tip, smoothly, almost, quickly, thing, able, perfect, refills, lot, long, looking, need, put, letter, colored, design, keep, thank, far, happy, while, something, second, right, think, hard, run, seems, tips, label, doesn, ok, perfectly, working, replacement, smooth, being, ones, stencils, order, how, isn, clear, half, coloring, larger, chalk, designs, id, 100, bills, looks, nothing, regular, give, kids, show, writes, know, wasn, best, less, streaks, trying, three, arrived, re, though, won, went, cash, cute, around, picture, each, remove, extremely, excellent, disappointing, done, piece, may, packaging, issue, flow, without, stock, side, anything, whiteboard, tokens, lines, front, error, getting, light, art, should, feels, want, sharpener, erasers, top, ever, most, inches, why, our, amount, horrible, tape, both, every, problem, simple, tp, company, slot, poor, paid, problems, canon, filament, wouldn, gave, bill, find, place, its, leather, clean, holders, supposed, absolutely, super, found, mine, definitely, never, another, awesome, straight, couple, pay, overall, terrible, brush, issues, wide, itself, part, papers, fountain, weight, their, sharpening, into, wanted, unstable, aren, basic, giving, cheaper, instead, left, worth, deck, several, tight, genuine, stuck, apply, stars, high, prints, drawing, goes, per, person, christmas, recognize, combination, idea, start, exactly, fact, change, longer, received, read, 10, store, pockets, carts, tarot, currency, husband, say, damaged, open, magnet, away, package, seller, those, expected, least, she, once, slide, such, head, others, nib, clog, remanufactured, logo, before, opened, took, satisfied, clip, where, down, ordering, learned, gifts, similar, expecting, jumbo, pottery, stamps, requires, couldn, year, unfortunately, pieces, beautifully, full, marine, eraser, message, bunch, take, feel, envelope, heavy, cheaply, until, wrong, cardboard, 30, things, short, since, add, probably, going, removing, cost, free, installed, lots, space, magnetic, holds, comes, notes, job, items, his, windows, smaller, years, waste, barn, expect, value, sense, shorter, image, ended, lighter, months, point, sent, call, phone, us, original, here, making, teacher, stunning, cover, boxes, bigger, center, products, else, ll, inserted, recognized, bit, fall, standard, deal, page, everywhere, cannot, fell, close, thicker, makes, name, options, lesson, twin, transparent, photos, send, days, loved, double, durable, constantly, compared, wonderful, loose, book, 15, dries, gets, her, star, correct, kind, complaint, produce, rolling, sale, random, common, edge, completely, paint, beginner, quite, stopped, old, normal, replaced, draw, favorite, daughter, etc, save, liked, packaged, yet, carry, multiple, easier, decided, vibrant, fat, who, faded, mounted, putting, chipped, dark, plus, line, actually, fan, already, relatively, toilet, including, pictures, alot, personal, unlike, week, hope, shipped, darker, handwritten, ld, ids, smoothest, sketching, misprinted, sayings, sleeved, calligraphy, cartoons, mtg, oracle, multiplication, dax, styluses, debit, together, videos, weeks, usage, backing, noticed, receive, delivery, although, huge, badly, broken, tell, hands, delivered, plate, during, own, holes, replacing, hoping, flimsy, protective, description, okay, highly, game, flexible, described, bulletin, epson, jet, leaky, 3mm, extrusion, crayola, words, present, certain, perhaps, home, guess, insert, six, areas, adorable, amazing, tray, mail, smeared, 97, japan, smudged, zebra, tacks, reinstalled, glossy, tube, extra, hand, tear, leaked, people, charges, frustrating, sorry, desk, stamp, branded, suffered, score, addition, might, empty, son, always, shown, realize, install, ran, snug, disappointment, stencil, duplicates, fulfilled, delta\n",
            "smaller, expected, bigger, thought, big, large, cute, way, larger, tiny, picture, perfect, bit, looks, inches, then, anticipated, top, though, disappointed, dimensions, 12, should, old, year, measurements, sent, still, its, fault, made, described, short, gift, super, long, return, pretty, cut, looking, description, he, right, could, feet, away, re, better, didn, wrong, huge, returned, daughter, loves, item, definitely, listed, child, expecting, lot, before, came, don, enough, tall, christmas, need, job, read, somewhat, sized, cheap, actually, same, again, inside, ordered, she, advertised, ok, took, wanted, worth, wish, also, figure, mini, seems, over, style, add, thing, ear, arrived, order, adorable, attention, shorter, 11, wasn, sure, play, shown, him, make, bear, dissapointed, fits, light, cuz, kinda, inch, yes, needed, pictured, ball, bank, tries, how, wide, surprisingly, gave, half, sturdy, bottom, width, rather, barely, 20, length, spreader, medium, wider, person, paid, stuff, however, received, money, extremely, trek, update, far, happy, stars, give, material, says, 14, equal, flair, despite, otherwise, going, purchase, aquarium, hoped, our, lol, realize, which, looked, school, some, while, next, quickly, fingernail, sizes, sit, exactly, gag, cork, see, day, hoops, correct, keeping, his, surprised, maybe, said, never, purpose, tin, using, lightweight, jam, normal, less, look, shape, save, friend, ll, vertical, deceptive, soft, control, where, nicely, makes, regular, hole, cost, now, thank, two, grown, bad, side, come, degree, skinny, hold, think, know, hoping, okay, growing, tried, adequate, selection, plant, baby, deal, animals, female, those, least, sew, pay, pics, recieved, send, fun, minutes, unhappy, tag, issues, hard, sign, smoothly, taller, kids, durable, gun, typical, portable, realistic, weight, powerful, alot, son, surprise, color, gets, 18, wow, dislike, recommend, 1st, backing, company, instead, project, tight, 16, post, almost, fast, ones, difficult, ridiculous, isn, compact, yet, worried, clean, odor, quiet, pattern, gym, 24, grandson, keys, crack, anything, beach, duty, sadly, say, beware, arrive, wheels, thin, sort, cats, knew, together, opinion, key, once, hassle, standard, able, office, saying, name, stated, doesn, first, days, easily, rating, mind, without, check, sticky, photo, held, useful, her, worn, told, shower, through, purchasing, travel, purchased, condition, since, sides, dogs, seen, smooth, want, pleased, insertable, sprinkles, rippers, sphere, miniscule, frenchie, kiddies, ijs, kan, gppd, shamrock, scalding, scrawny, smallness, hercules, sailboats, gameroom, popsicle, outter, surviving, altoids, nano, pint, whew, bandannas, whelmed, pices, exac, blotted, comically, clitoral, personnel, puppet, chocks, pefect, payne, nutcracker, dab, cheapily, patrick, receiced, sufficiently, totem, fertilizer, 14mm, 1944, trinket, 1994, polly, 2in, moter, polaroid, quater, 3yrs, carol, fencing, 8yr, set, different, saw, amazon, fine, packaged, around, falling, holder, toy, unless, into, flat, true, 30, touch, dark, installed, space, lost, ring, properly, chintzy, uncovered, hasnt, civic, cheerful, mantle, tony, criticize, refilling, catchy, vivarium, moderately, 2x4, fries, polka, 5x7, 71, playtime, sooooooo, aircraft, exspected, piggy, bandage, wheeled, emit, grandbabies, teddy, warrants, burrs, waaay, md, blueish, by, cool, idea, although, wearing, paper, between, box, keeps, holes, flimsy, device, wash, original, here, highly, supposed, reading, camo, ace, dane, variable, opal, casters, grandbaby, doodle, burger, invisible, fingerling, ranging, packable, convention, minis, faults, kitties, stimulation, playset, gecko, shoveling, glows, done, absolutely, fall, expensive, real, guess, close, taste, awesome, hot, metal, refund, beforehand, excepted, hamster, tabletop, magnetically, concerts, planting, sheen, latter, figurine, crumbles, leaning, pretend, diffusers, chilly, flimsier, champion, font, hug, draining, 10x, ve, under, opened, hand, stick, feels, am, teenage, puffy, leopard, restrictive, quarters, customize, goodwill, glides, might, star, trying, turn, shipping, kind, full, companion, roku, ruler, st, root, straightened, subscribe, laughs, officers, faux, crop, horn, damages, dimension, modifications, realy, prevented, eve, colors, perfectly, quite, buying, beautiful, approx, absorbed, born, unglued, unflattering, circles, squeak, deformed, stripes, condensation, pinched, lifts, staple, dog, each, apart, wouldn, liked, probably, indicates, secret, legos, lovers, enjoyment, lunches, fairy, bomb, therapy, ware, soccer, versus, turquoise, needles, cruise, pee, end, may, longer, comes, grows, ins, vivid, novelty, staff, substantial\n",
            "bag, bags, backpack, belt, zipper, strap, carry, purse, pockets, straps, pocket, shoulder, hold, buckle, travel, laptop, broke, perfect, items, inside, made, zippers, pouch, also, material, holster, now, clothes, been, take, durable, fits, pack, how, first, large, things, holds, still, stuff, look, way, ve, day, front, since, carrying, need, however, ripped, side, which, cute, enough, big, long, while, new, few, already, extra, top, trash, leather, room, space, months, another, trip, heavy, down, could, compartment, apart, needed, doesn, looking, two, around, feels, water, thought, closed, style, want, over, wish, its, wear, recommend, return, ll, sturdy, zip, main, able, purchased, outside, some, everything, put, tote, lot, am, open, wasn, using, roomy, any, tear, longer, purchase, looks, smaller, maybe, cheap, color, easily, same, came, keep, without, instead, come, thin, bottle, larger, close, seems, don, plastic, being, thing, end, waist, handbag, fine, bin, disappointed, something, stars, received, right, bigger, several, weeks, again, belts, pistol, makes, ordered, issue, loved, handle, money, overall, trying, 17, through, week, backpacks, cell, though, compost, try, fall, stitching, picture, opening, luggage, given, clothing, far, anything, otherwise, school, pull, comfortable, couple, think, weight, definitely, make, undone, immediately, going, outer, broken, case, perfectly, didn, difficult, whole, daughter, year, worked, into, having, sure, bottles, times, hard, bit, design, needs, super, padded, glock, see, second, loop, month, family, light, best, wallet, pretty, handles, interior, within, might, most, last, son, walking, riding, shopping, took, problem, wrong, review, before, sized, fact, change, break, must, own, brand, probably, find, may, velcro, comes, release, worn, by, poorly, clip, sides, re, tore, go, lining, order, old, reason, then, amazon, once, snapped, multiple, sleeve, won, every, carried, flat, nicely, he, star, loops, many, days, worth, adjustable, student, tearing, lots, until, pro, vest, stuck, almost, quickly, rip, phone, high, returned, ago, loves, idea, noticed, liked, bottom, delivered, stand, freezer, flimsy, older, convenient, should, kept, pulls, reviews, disappointing, secure, purses, trolley, kydex, compartments, absolutely, update, cannot, college, locking, macbook, seller, holding, sent, running, expected, less, yarn, 15, daily, held, practical, such, returning, morning, mags, criteria, low, complaint, under, ive, opened, purpose, late, accessories, wanted, better, legs, concealed, ever, shape, stylish, seams, happy, full, chair, vacation, unzip, mens, bladder, never, easier, strong, unless, bad, completely, quite, replacement, seat, guy, aren, uses, exchange, know, useless, plus, compact, exactly, organization, zipped, place, seem, awkward, coming, excited, taken, choice, vacuum, spacious, job, goes, padding, keys, started, years, embarrassing, leaving, value, quick, during, say, keeps, waterproof, lasted, plenty, compliments, highly, cant, addition, starting, else, lightly, handy, their, both, fell, where, missing, those, least, due, dirty, stiff, flight, lined, grocery, bulky, storage, weak, kids, near, tools, hours, supplies, separating, feel, loose, gets, useful, unfortunately, jeans, surprised, august, along, company, pump, went, defect, locks, met, closing, lightweight, tight, stretched, pleased, organized, securely, laundry, wouldn, short, favorite, our, etc, sewn, measurements, security, squeeze, gear, falling, tighter, she, equipment, past, stay, ideal, black, regular, diaper, tend, class, food, cord, mechanism, actually, amount, details, mesh, pictures, package, personal, makeup, teared, fidelo, snipped, iceland, oxygen, canapy, minuses, pluses, downside, person, suit, ride, receive, tell, taking, wearing, soft, expect, paper, filled, pulling, shoes, hoping, flip, okay, wash, 2018, chest, store, extremely, causing, excellent, products, shove, favourite, sig, drawstrings, necessities, essentials, girl, thinner, replace, done, teeth, worried, mom, baby, mine, packaging, real, guess, chance, torn, gym, give, hanging, hook, pay, her, construction, refund, absorbency, handgun, retaining, overhead, portfolio, gels, 9mm, solution, wasted, 40, shorter, issues, 11, hand, read, section, itself, stretch, arrive, clips, designed, tried, knew, restrictive, magazines, nyc, groceries, status, flights, durability, either, inches, set, three, night, different, fantastic, kind, ran, range, manufacturer, looked, travels, sheath, theirs, somewhat, cut, gotten, buying, pick, wet, beautiful, burst, clicked, stitches, inch, double, appears, gave, isn, half, piece, against, gift, massive\n",
            "fits, cover, perfectly, perfect, grill, didn, expected, side, material, right, covers, fitting, snug, advertised, fittings, made, oem, tight, put, fitment, foam, look, looks, bit, bbq, cut, jeep, cherokee, doesn, housing, need, 2015, return, ok, bolt, sensor, down, says, by, plastic, chevy, don, ll, new, short, way, seem, intake, should, overall, metal, top, front, factory, car, some, fine, mounting, won, while, came, year, needed, happy, properly, feel, seems, know, however, camera, job, grand, said, original, supposed, patriot, last, replace, again, fabric, seller, worked, part, 2005, radiator, ve, where, frame, two, item, feels, dodge, loose, easily, body, f150, avocado, blades, comfortable, quite, hold, money, almost, 2018, apart, wouldn, additional, place, everything, looking, waste, hardware, tell, 2013, value, roll, keep, big, holes, seam, sloppy, flimsy, now, area, better, air, excellent, once, toyota, 2014, felt, its, which, make, thicker, never, inch, wish, damage, durable, rips, stars, over, tubes, star, weird, shipping, looked, cart, completely, ordered, straps, wrong, replacement, review, old, how, returned, exactly, opening, bottom, around, seats, longer, am, years, hard, actually, inside, sent, dandy, weber, actuators, le, descibed, yi, popsicles, disappointed, problem, received, lasted, inner, okay, ended, string, 2500, latitude, 2012, runners, downpipe, radio, thinner, loved, update, materials, far, exact, wear, close, something, bad, come, mistake, 14, pay, send, could, minutes, returning, mustang, hatch, crv, turbo, lines, winter, under, tear, another, stretch, corners, arrived, compliments, tried, la, ninja, cheek, 2002, lot, places, ground, our, placed, install, sun, camry, instead, left, quickly, sure, secure, covered, mount, birthday, loves, probably, summer, against, ram, alignment, lanyard, steering, homework, enough, 15, careful, thermal, 2006, scuffed, maybe, reviews, armpit, shaft, escape, honda, pretty, second, couple, box, getting, built, open, ford, 250, vents, 2016, then, thin, less, buckles, burner, stretching, sturdiness, beam, broken, middle, please, edges, able, took, defects, binding, loosely, cheaply, slightly, rubber, true, ass, brass, 30, universal, hole, type, style, worth, touches, coming, roof, windshield, crotch, genuine, trucks, without, bed, wall, door, guitar, delivery, still, think, wiring, boat, through, thought, purchased, flush, flying, wrench, own, between, since, keeps, outside, decent, heater, incorrect, going, thing, purchase, re, remove, go, though, itchy, anyways, developed, bigger, order, described, reading, same, ac, layer, measurements, aluminum, different, mine, amazon, cannot, thread, lint, larger, those, brackets, latch, amazing, due, she, trim, yarn, vent, others, umbrella, ft, few, low, appeared, handle, pet, ahead, alternative, otherwise, panel, protected, weight, sons, might, afraid, day, gets, cooler, assembled, vehicle, wider, kind, shiny, refunded, lift, miss, bracket, repair, strong, temperature, round, initially, until, rear, tore, 2019, 2017, washes, shop, aware, ones, smell, any, gave, isn, wheel, bars, liked, wind, yet, piece, gift, end, allows, incredibly, mom, awkward, odor, stay, torn, issue, cotton, hanging, design, tie, been, elastic, functional, stitching, sizing, section, package, wasn, knew, key, most, likely, inches, corner, manufacturer, upset, battery, match, complete, hair, threw, awful, kinda, previous, lose, garbage, magnet, accurate, trash, holding, filter, give, washed, velcro, impossible, hang, sticky, wire, held, her, didnt, worn, protect, correct, gone, pictured, adjust, poorly, seal, uncomfortable, often, sides, bag, working, pleased, char, niw, necessitating, saggy, bondo, gaping, galore, nonsticky, broil, charbroil, thrift, nuwave, camrea, caravan, carburator, carson, teh, bungie, impala, tankless, gibson, davidson, cvo, serpentine, pooling, expedition, culturing, shockwave, corolla, fabricate, fabricating, phasing, perfeclty, controler, tailight, peal, seadoo, smidgen, spats, srs, schecter, stiched, di, r12, din, cheri, surpise, bobby, malibu, hei, worng, wraith, maw, narcissistic, reshaped, 09, manifold, interstate, autozone, 86, ltd, k1500, urinals, rx330, 14inch, veges, arnt, jackass, inferred, airbox, resewed, les, gtx, mt, immaterial, recirculation, laredo, abarth, tropic, xterra, redrilled, renegade, 1l, belongings, 590, 525i, wiil, rockports, grueling, hauler, neck, floor, wide, shape, dont, friend, given, annoying, decided, move, into, cat, nicely, seat, before, months, putting, plus, line, button, installed, horrible, length, ring, searing, rotting, tripped, motorcraft, trike, matrix\n",
            "coffee, lid, cup, pan, lids, mug, pans, dishwasher, cups, pot, hot, clean, handle, mugs, bottom, keep, pots, don, egg, made, ve, doesn, blender, top, water, glass, cook, two, cold, pods, been, hand, carafe, food, over, rice, still, also, cooker, first, make, stove, didn, machine, now, making, using, keurig, maker, perfect, how, disappointed, some, pitcher, plastic, months, having, am, eggs, heat, reviews, silicone, cooking, bread, leaks, cleaning, set, then, hold, toaster, recommend, into, again, sure, flavor, hard, decaf, its, steel, every, by, design, years, seal, purchased, taste, which, grounds, times, mixer, enough, fine, problem, where, need, makes, few, down, way, open, looks, metal, ceramic, take, pretty, before, money, everything, wash, counter, stainless, though, already, our, amazon, dish, stars, while, however, non, piece, being, since, thermos, right, stick, 10, expect, tried, easily, seals, same, return, around, inside, skillet, big, box, quickly, nespresso, ice, both, purchase, oven, simple, last, appliance, kitchen, nothing, worth, said, looking, cubes, could, anything, put, find, received, without, month, company, better, ounce, oz, through, heavy, most, sticks, deal, larger, re, ordered, gift, place, lot, long, flask, unit, issue, twice, excited, any, new, pour, brewed, gets, kind, definitely, item, blend, griddle, ll, see, won, hydro, beverages, roast, never, things, drinks, brand, large, real, boiling, latch, heating, seem, stay, far, pod, happy, jar, black, maybe, instant, drink, manufacturer, breakfast, side, 20, container, mess, super, getting, toast, seems, know, shipment, wasn, either, element, beans, another, going, thing, part, spend, washed, closed, temperature, cooked, quite, next, wanted, difficult, high, remove, wouldn, look, isn, jars, end, customer, says, bit, came, minutes, nonstick, brews, day, past, say, overall, away, rubber, oil, best, arrived, should, clad, toasting, old, order, shut, different, took, stuck, properly, strong, try, coating, completely, noticed, today, safe, almost, year, hands, brew, each, wish, liked, exactly, filter, espresso, may, performance, boss, think, imagine, lip, waste, close, poured, those, least, such, want, pleased, shop, melted, basket, cheap, week, burner, cute, broken, nor, regular, tray, picture, many, looked, full, giving, america, putting, touch, instead, cost, cracked, microwave, lots, perfectly, called, hope, something, handles, ring, returned, burnt, half, problems, break, higher, number, job, found, who, fridge, bag, broke, copper, level, disappointing, products, generac, model, second, especially, dry, clear, leak, thin, due, drinking, keeping, setting, mangled, starbucks, titanium, ok, reason, their, except, happened, dropped, mechanism, people, version, bacon, freshly, instructions, holders, loose, might, within, contact, always, shape, minimal, 90, unfortunately, etc, burned, packaged, frequently, induction, kitchenaid, holder, easier, material, bad, feel, went, remember, 16, leave, buying, uses, brewing, granite, countries, pain, thought, rather, hole, wife, ease, sturdy, popcorn, warping, boil, go, rack, shipped, holds, comes, yummy, medium, screw, takes, crack, fresh, 14, difference, paid, quick, duty, prevent, during, actually, between, own, negative, 11, keeps, possible, rings, lasted, considering, liquid, ended, anyway, us, original, here, highly, tumbler, kept, cover, tank, supposed, bigger, mix, center, described, husband, else, done, update, places, ground, mine, starter, color, name, components, baking, fits, needs, surface, snap, light, fun, service, grinding, under, upon, cause, issues, loved, aid, toss, damage, experience, otherwise, throw, weak, kids, durable, rich, haven, life, meat, bucket, cap, compared, drop, matter, attachments, containers, lower, correct, unacceptable, shipping, told, results, pieces, travel, evenly, spoon, helpful, purpose, often, shake, chemicals, read, glad, colors, removable, knob, closing, until, several, tight, poor, care, securely, stop, fix, favorite, spill, saw, green, gave, opening, probably, falling, uneven, multiple, unless, help, worked, flat, tiny, sink, started, 12, bags, specific, regret, cheaper, usually, button, market, dishes, space, anyone, chip, sent, sits, neither, canning, breville, anova, stirrers, cacao, cleanup, yolks, generators, coffees, dirts, steams, foils, bagel, cuisinart, items, sometimes, faster, idea, zip, learning, gonna, fact, tell, message, stuff, value, plate, began, access, holes, 2019, replacing, device, thick, peeling, dollars, bowl, store, china\n",
            "dog, collar, he, dogs, cat, she, cats, her, him, toy, leash, puppy, our, his, barking, food, loves, eat, old, harness, toys, treats, chew, treat, fur, bark, likes, pups, vet, put, training, away, pup, over, don, could, eats, teeth, down, chewer, day, days, still, chewed, floor, doesn, minutes, didn, any, been, around, ve, puppies, now, two, better, their, while, go, tried, say, getting, catnip, walk, stars, mix, shepherd, seem, made, help, sure, first, play, loved, make, see, week, keep, chewing, smell, chicken, lab, noise, interest, won, medium, since, may, german, thing, neck, gets, which, month, also, shock, less, rubber, tablets, collars, weeks, then, apart, right, giving, usually, gave, ripped, kitten, again, try, enough, by, ball, who, waste, unfortunately, actually, how, however, three, something, give, money, new, before, chews, pet, quickly, reflective, probably, eating, maybe, far, bones, walks, barked, barks, walked, super, through, seems, lasted, broke, crazy, paws, way, stop, mine, rope, longer, sick, everything, nothing, take, second, within, always, kitty, boxer, recommend, though, never, run, lot, set, playing, next, tore, lbs, makes, high, year, into, times, normal, weighs, without, found, head, shih, hooves, smells, prevent, long, durable, re, disappointed, pretty, ever, once, might, last, night, took, terrier, big, few, stopped, diarrhea, fleas, destroy, easily, each, break, wish, hard, hoping, ended, bad, update, absolutely, think, 10, started, definitely, purchased, going, pulling, already, some, favorite, calm, cute, part, life, haven, beep, allergies, able, why, trying, picky, large, grass, button, its, several, immediately, lost, find, am, wouldn, goes, things, half, liked, sticks, taking, tell, stuff, need, number, years, us, working, reviews, sniffed, tzu, spaniel, leashes, retriever, same, appears, destroyed, mind, continues, velcro, least, tail, metal, crinkly, lick, uti, labrador, hyper, months, front, problem, happened, itself, wanted, bit, many, poodle, remote, either, 60, needed, recommended, yorkie, squeaker, mouths, strong, unless, leave, almost, regular, golden, tunnel, kong, chunks, thought, mouth, touch, yet, end, snapped, pounds, excited, strap, bully, sometimes, came, effective, 25, looking, smelled, fact, anything, change, peanut, escape, couple, rings, behavior, device, best, making, pit, concept, ate, item, expensive, home, being, nearly, battery, says, older, directions, neighbors, return, stays, covered, mm, yes, near, hours, anymore, look, instructions, 15, fence, lucky, hold, turn, gives, sleep, cleaning, attached, babies, jump, went, cut, sharp, bottle, animal, bag, should, quite, seen, poor, want, trick, continued, vibration, fine, helps, hour, flavor, clean, intact, warning, 100, four, worked, tiny, design, smaller, butter, solid, plays, useless, 30, healthy, dark, learned, horrible, respond, mixed, wasn, properly, woof, barky, uncontrollable, interactive, hairball, flea, rottweiler, ferrets, schnauzers, cosequin, kibble, sprenger, springer, herm, mode, improvement, door, plain, ll, idea, noticed, light, difference, problems, buckle, tough, seemed, where, blue, outside, decent, guy, hair, chest, inexpensive, store, string, extremely, kept, someone, looks, supposed, bigger, minis, correction, emitting, choke, dehydrate, splinter, poops, harnesses, collie, worth, else, especially, pack, fabric, cannot, torn, larger, house, taste, suppose, those, come, fake, became, terrible, returning, biting, shin, ticks, pigs, probiotic, schnauzer, dislikes, rawhide, licking, liver, gather, temper, bull, certainly, know, water, tube, issues, negative, extra, plastic, orange, minute, stick, hurt, plenty, another, purchase, 2nd, attach, overtime, relaxed, pig, sensitive, ends, normally, shown, different, kind, pieces, five, full, tug, pointer, property, vibrating, dosage, rat, figured, yellow, none, completely, heavy, until, threw, review, safe, fast, breath, squeaky, movements, afternoon, cause, difficult, model, sturdy, hit, bottom, rigid, thinks, latex, visibility, appetite, having, impossible, constantly, live, compared, stay, issue, shelter, shredded, didnt, weird, actual, clip, feather, chihuahua, hunting, 48, miracle, creatures, often, glad, using, loud, straps, received, enjoy, overall, bone, flavored, chewy, finicky, joints, similar, package, brush, fix, finally, stuffing, backyard, indoors, elderly, dont, green, together, hates, war, noises, given, annoying, glue, please, soft, every, past, decided, scratching, supplement, enjoys, itching, whose, oil, myself, hated, peace, stairs, uses, barely, nope, 20\n",
            "sheets, soft, material, thin, fabric, sheet, cheap, blanket, duvet, bed, washed, wash, comforter, mattress, washing, looks, color, cover, poor, cotton, super, first, fitted, expected, comfortable, washes, picture, baby, apart, pillow, thicker, don, see, extremely, set, two, am, something, ripped, definitely, ve, recommend, fits, thick, over, which, brand, thinner, again, feel, through, away, kids, disappointed, king, softer, look, looked, almost, ones, softest, daughter, latex, its, put, how, fuzz, didn, thought, pretty, going, say, made, then, best, doesn, same, looking, haven, feels, new, before, winter, elastic, worth, far, better, by, yet, warm, money, also, scratchy, purchase, design, waste, last, fall, different, covers, sent, yarn, could, hot, he, months, previously, reversible, ply, enough, wish, needed, stars, come, colors, purchased, exactly, re, shams, blankets, fleece, washings, pillows, found, our, ordered, around, purple, deep, inside, underneath, few, corners, rip, beds, balls, disappointing, felt, ok, polyester, makes, some, perfect, return, light, year, need, crib, however, received, happy, summer, buttons, wear, any, bad, unfortunately, think, sleep, ties, thing, completely, lightweight, though, beautiful, now, probably, clean, keep, sew, control, comes, flat, still, bags, hole, hard, cheaper, style, already, dull, open, washer, seller, kors, together, walmart, person, ll, paid, info, clasp, using, try, easily, michael, materials, pack, times, says, came, her, weekly, sewed, been, under, seems, issues, stitching, intended, broke, want, soothing, drapes, jersey, hoped, shown, night, cute, full, disappointment, pilling, flattened, mattresses, clothes, strong, perfectly, sad, review, buying, awful, pockets, sizes, right, short, birthday, throw, loves, bit, wakes, unfinished, falls, seem, make, crawling, nothing, maybe, uncomfortable, never, totally, quilt, touched, child, expecting, week, less, zipper, frequent, wrinkle, shows, hunt, knit, allergies, recommended, their, past, 100, being, wanted, nicely, decoration, 12, barely, cuz, wrinkled, red, parts, queen, free, case, lost, without, silky, hold, snaps, stuff, seemed, plush, since, outside, let, boys, lasted, description, point, wasnt, here, go, top, excellent, else, overnight, dry, sewing, mine, real, guess, choose, lint, thrown, house, printed, separately, amazing, candy, send, such, pair, others, event, covering, low, reason, extra, pet, otherwise, sweat, pricey, weight, mesh, website, white, alot, ever, either, day, gets, room, drying, cooler, trying, star, seams, besides, long, affordable, threads, split, stores, badly, round, below, cut, quite, replacement, tore, post, 2017, inner, melted, high, wouldn, china, become, iron, half, positive, piece, bottom, longer, choice, stay, insert, spots, costume, label, 10, dryer, black, started, years, who, soap, said, tie, mail, crazy, certainly, followed, way, bother, actually, month, overall, tear, seam, weather, lovely, lighter, wasn, eyes, feature, clearly, once, most, empty, luck, corner, sets, both, won, press, problem, where, nearly, mess, stated, large, threw, hopefully, total, sized, pick, wet, covered, behind, turns, loved, bar, pad, yes, give, take, constantly, live, side, 15, notice, held, lower, everyone, correct, morning, surprised, know, print, forward, condition, purpose, socks, another, loud, bag, should, pleased, goosey, greats, biweekly, barney, gauze, bawling, bedset, bernat, bernard, tucking, bloat, gambled, brielle, brite, circus, handkerchief, totes, crutches, cuffed, dangerously, exfoliated, tencel, downgrade, drafty, hacked, aussie, pressured, 1star, joes, liquorice, prive, retuck, magenta, matress, melamine, nites, pia, hurtful, peices, oxymoron, loosey, jerry, satiny, 6m, sacks, 8yrs, 9m, old, lot, impressed, green, amazon, opening, middle, edges, four, worked, into, cheaply, tiny, oil, true, aren, sure, down, putting, wife, type, cost, item, button, horrible, immediately, hope, holds, eveything, crossbody, quilting, cuddly, supermarket, egyptian, pressuring, trader, chihuahuas, sown, pinholes, wrinkling, bedspread, dryers, bulges, shrug, piling, carter, carve, plum, charmin, flashy, ck, kno, slices, goes, cool, although, difference, huge, fact, change, wearing, quick, paper, break, during, between, decent, hoping, okay, original, play, someone, products, described, bland, oct, slimming, examined, insecure, licorice, australian, rlly, contour, glimpse, runners, females, arranged, done, absolutely, update, clear, him, packaging, fell, larger, those, awesome, advertised, needs, pay, returning, metal, bright, unreal, junky, cal, fortune, chilly, champion, buttery, mitt\n",
            "water, hose, filter, pump, tank, filters, shower, faucet, leak, pressure, flow, leaks, sink, tub, drain, amazon, months, head, gallon, hoses, first, nozzle, replacement, tried, doesn, where, new, working, air, pool, could, installed, our, brand, which, fish, over, also, fountain, purchased, plastic, now, item, top, still, month, worked, into, two, don, thing, piece, metal, make, days, wall, return, couple, side, drip, part, stopped, suction, came, last, cheap, clean, pipe, how, years, fittings, any, then, something, valve, screw, hold, full, attached, broke, by, leaking, though, carbon, ve, replace, need, customer, many, bottom, tubing, kink, brita, end, better, keep, needs, started, unit, again, tanks, down, some, enough, connection, properly, motor, never, company, change, both, won, run, plate, holes, makes, seal, needed, without, who, been, through, getting, going, seller, less, want, within, money, garden, made, length, perfectly, several, must, point, way, find, longer, come, 10, recommend, black, design, defective, bracket, strainer, using, should, service, floor, exchange, 2018, thin, reservoir, pumps, itself, once, weeks, every, control, sept, while, few, turn, doing, right, barely, hole, hard, prime, put, bit, worth, cost, didn, quite, section, leaked, next, review, plug, almost, happy, times, shut, stream, liked, huge, seem, know, comes, another, found, sprayer, gotten, tire, looks, order, inlet, filtration, lemons, pipes, available, inch, second, warranty, same, housing, different, mine, expensive, installation, tile, cover, send, kit, system, car, took, hand, stick, hours, its, see, contact, year, stop, day, easily, fix, unfortunately, star, install, long, frequently, beautifully, bad, however, buying, think, flowing, counter, apart, useless, yet, arrived, place, may, immediately, period, bathroom, job, set, ago, nothing, said, looking, around, drains, psi, big, tube, tighten, during, position, unscrew, pumping, sealing, lasted, before, fitting, sent, us, remove, sure, making, feature, products, damaged, able, spot, stiff, connected, brass, such, minutes, refund, low, disappointed, under, behind, seals, extra, garbage, weak, far, connections, nut, compared, either, refill, gets, trying, kitchen, opposite, shipping, leaves, thought, cleaning, spray, spout, often, reel, connectors, instead, purchase, went, manufacturing, go, poor, upper, spending, lemon, difficult, replaced, main, high, blew, clamp, attachment, current, having, annoying, expected, am, past, cheaply, everything, tiny, included, maybe, somewhere, waste, reviews, 20, create, possibly, wonder, cracked, parts, button, free, open, away, limited, stuck, heads, tubs, plumber, sealant, coupler, faucets, schrader, clockwise, perfect, split, stores, conditioner, ok, fact, paying, connector, their, problems, expect, round, being, paper, problem, chocolate, try, necessary, tastes, piping, expands, balcony, watering, trickle, plumbers, rebate, dribbles, contributed, forever, spring, else, update, choice, house, batteries, missing, email, became, turning, others, drips, crimped, algae, employees, gal, 40, seems, prevent, fill, since, handle, plenty, wrapped, continue, cups, dust, response, test, stopper, porous, poly, old, doesnt, might, couldn, room, three, allow, correctly, function, showers, gravel, siphon, higher, she, junk, completely, heavy, cut, convenient, wet, quickly, repairing, fuel, each, wouldn, short, pop, gave, worse, probably, summer, shutting, bib, feb, live, help, stay, matter, lower, novelty, fully, weird, light, satisfied, hem, crimp, believe, glad, straight, loud, contacted, say, box, bottles, neck, wasn, best, party, save, bent, helps, most, ll, vertical, leakage, lightly, specs, holder, middle, easier, connect, wanted, pitcher, operated, refrigerator, pouring, canister, wand, putting, wife, cheaper, type, line, add, style, joint, gauge, clogged, calf, ultimately, wish, lots, tape, aspect, indicator, disconnect, hope, simple, holds, stars, give, dozen, louder, tightened, filling, screwed, take, goes, challenge, tubes, degree, noticed, idea, super, definitely, flush, emails, between, blue, let, flimsy, heater, july, source, ended, store, area, hooked, fridge, false, re, extremely, highly, whole, timer, compartment, developed, excellent, disappointing, willing, supplier, according, hiking, lot, aluminum, selling, tightening, plant, home, real, direction, power, movement, awesome, due, trim, shrink, wants, pay, pops, connects, begin, terrible, returning, glass, upgrade, outlet, otherwise, frustrated, minor, haven, wipe, respond, relatively, requires, powerful, washer, cleaner, ways, loose, sits, always, blow, thus, slowly, settings, slides\n",
            "watch, band, bands, fitbit, wrist, original, apple, battery, compass, watches, doesn, phone, fitness, tracker, clasp, don, looks, links, first, broke, hr, look, color, am, also, screen, face, cheap, charge, strap, which, new, how, black, wear, months, way, hard, give, rubber, then, isn, magnet, fits, gold, many, days, screw, own, find, over, seems, colors, replacement, still, purchase, didn, wrists, having, looking, around, however, wearing, week, bit, wristband, day, came, disappointed, now, fell, end, received, year, keep, she, monitor, stay, far, metal, stars, material, useless, again, 20, durable, some, think, warranty, put, accurate, two, every, lot, steps, makes, beautiful, difficult, easily, worth, bracelet, wish, functions, without, everything, take, tool, comfortable, could, silver, minutes, enough, resistance, alta, leviton, seiko, see, app, return, itself, never, want, tried, son, fine, kind, able, lost, versa, while, until, review, things, blue, holes, flaw, place, remove, leather, longer, make, supposed, case, super, adjust, know, long, sleep, light, uncomfortable, pretty, read, another, thing, actually, re, should, getting, similar, seller, under, same, once, removing, ll, edges, loose, within, ordered, sure, been, ve, rate, tight, almost, better, something, each, perfect, yet, gift, excess, must, stiff, link, 10, found, any, started, who, stays, though, reviews, notifications, last, set, fall, open, hit, sent, falls, loosen, less, pay, into, weeks, gone, smartwatch, he, few, unit, their, extra, pins, wanted, life, item, hours, pleased, remind, release, unfortunately, by, install, recommend, looked, falling, strong, need, rod, heavy, driver, wouldn, returned, since, track, cracked, go, magnetic, issue, holds, different, maybe, amazon, heart, tell, quick, value, second, say, outside, attaches, lasted, average, okay, device, mile, cant, attach, durability, update, ends, support, clear, soft, deal, both, won, cannot, being, dial, made, power, upset, date, large, fun, returning, loved, handle, sync, money, times, online, walks, shock, impossible, bad, come, couldn, either, lock, removal, walked, her, setting, text, thought, purchased, pushing, tracks, actual, attached, often, cut, wore, perfectly, working, buying, child, protecting, replaced, miles, dont, loves, exactly, probably, adds, sturdy, hour, given, losing, connect, worked, comes, matches, slightly, job, tiny, nothing, smaller, doing, aren, years, appeared, risk, anything, right, distance, couple, alarm, already, button, inside, tracking, away, weekend, shot, properly, km, bip, vector, sometimes, videos, part, pin, start, grey, ok, fact, paid, change, hands, message, repair, took, using, stand, problem, where, smart, keeps, meant, decent, step, wears, making, protector, charger, scratch, features, flexible, flattens, husband, else, replace, felt, rose, pack, mine, him, happy, guess, customer, gym, close, missing, says, amazing, cell, skin, send, scratched, mph, heartbeat, texts, metric, doa, syncing, reason, through, definitely, tighten, issues, adjustable, waterproof, sizing, brands, going, 2nd, feels, compliments, walk, seconds, integrated, molded, s3, monitoring, chore, instructions, old, might, likely, gets, why, wrap, our, night, arm, correctly, cases, xlarge, replaces, smartphone, company, big, match, instead, completely, removed, gotten, likes, simply, sending, dead, fast, ray, gps, measures, provided, high, apart, short, gave, liked, half, piece, buttons, against, vibrates, may, its, constantly, golf, worn, gives, morning, design, ball, finish, purchasing, defective, said, option, runs, fasten, schedule, protection, box, month, overall, handed, useable, contact, messages, indoors, etc, most, weaker, multiple, sport, manually, raw, starter, register, later, try, soon, loops, blank, june, knowledge, 12, picture, iphone, rather, multi, group, touch, line, rash, fade, spinning, web, stuck, exercise, feel, ago, cool, person, door, side, rechargeable, idea, hold, receive, although, huge, research, nylon, problems, delivered, water, refurbished, between, cracking, ended, thick, arrived, costs, breathable, here, timer, charging, top, excellent, bigger, reading, opens, securely, cute, record, current, female, breaker, workout, catch, significantly, expected, due, causes, building, reset, such, refund, glass, service, sister, forget, instruction, down, thru, collection, wanting, kids, haven, sweat, ruined, details, reached, apparently, promptly, thus, stylish, cooler, shattered, slides, wider, youtube, friendly, slim, buckle, went, stronger, several, wrong, replacing, whatever, poor, offer, necessary, ones\n",
            "hair, wig, shampoo, conditioner, dry, curls, scalp, beard, curly, color, soft, thick, curling, long, smell, iron, didn, using, its, smells, curl, looking, straightener, help, doesn, down, blonde, pretty, head, look, better, nothing, brush, feel, oil, any, dye, makes, again, many, leaves, some, ve, don, thin, super, am, products, leave, moisture, recommend, while, over, dandruff, frizz, know, made, wavy, frizzy, shampoos, make, first, straight, extremely, want, been, how, fine, lace, however, straightening, combs, keep, looks, still, which, hold, actually, perfect, two, took, same, wash, store, sure, longer, bad, years, bleached, wigs, orange, lice, lot, gets, free, amazon, full, oily, flake, sew, picture, cut, noticed, wet, stuff, bit, wear, put, cap, see, scent, now, job, felt, found, results, shiny, water, never, wasn, helps, part, naturally, fabrics, rust, result, coconut, tangled, flat, before, sheds, looked, way, day, isn, difference, think, clean, let, going, remove, working, though, shed, tried, frontal, ponytail, cruelty, eureka, getting, worse, week, skin, came, once, ll, minutes, flammable, thinning, few, front, problem, pump, halloween, try, haven, feels, mesh, smooth, ash, bangs, worth, heat, kind, far, braided, salon, straightened, disappointed, stars, need, rusty, difficult, then, definitely, purchased, professional, daughter, gave, style, another, parts, horrible, certain, last, medium, natural, different, takes, said, could, anything, hairs, wearing, quick, prime, second, she, worked, overall, treatment, package, best, tip, hard, weeks, normally, allergic, amazing, also, due, days, heats, bar, rating, otherwise, money, give, daily, unfortunately, trying, turn, seems, purchasing, greasy, left, thing, bottle, tone, false, volume, itchy, pulls, bottles, beautiful, old, order, dog, softer, green, probably, loving, control, black, regular, maybe, 30, dark, line, away, immediately, darker, drying, smelt, brunette, wefts, burts, barber, nits, blowout, epilator, concealer, return, start, delivery, tell, both, every, able, being, own, wanted, washes, prior, ingredients, necessary, here, disappointing, wearer, untangle, seniors, drys, hairline, subjected, brazilian, removing, absolutely, across, especially, perhaps, happy, expensive, times, dried, house, without, label, take, fake, fresh, braid, tangles, colour, softens, leaving, purple, low, important, cutting, arrived, re, compliments, sort, obviously, texture, mask, manageable, highlights, breakage, blended, might, couldn, luck, lol, helped, fantastic, suggest, nearly, drones, african, moisturize, desperate, dip, saying, match, directions, literally, review, fast, coarse, treatments, tangle, high, wouldn, right, yes, bees, place, washed, enough, stay, issue, ladies, styles, achieve, didnt, worn, by, gone, his, shower, light, neutral, moisturizing, runny, stubborn, synthetic, often, couple, wore, box, fix, impressed, etc, dont, cover, saw, together, save, harsh, watery, middle, figure, cooked, supplement, itching, shedding, contain, myself, ordered, aren, nasty, wand, conditions, wife, pull, cheaper, type, blowing, barrel, cleans, wish, massage, moisturizer, shooting, mad, method, hope, something, yeah, contained, con, eggs, cool, side, silky, today, her, taking, dissatisfied, regularly, delivered, break, during, american, tracks, blend, must, since, keeps, blue, advertising, okay, purchase, ended, should, go, whole, someone, boyfriend, win, set, wrapping, baby, real, disgusting, those, shave, heating, bonus, expected, least, big, particular, vs, needs, pics, new, hot, refund, service, tend, forget, oils, itself, gentle, daughters, people, caps, realistic, mention, hours, ever, either, pic, why, night, downside, faster, walmart, dislike, burned, pros, usage, plain, miss, brought, drain, cons, tough, heavy, odd, began, stronger, pulling, girls, heavier, sell, quite, tight, next, meant, special, post, buying, shop, following, things, packs, quit, half, brand, effect, wind, may, seem, present, odor, chance, early, asked, starts, gray, costume, dryer, became, lasts, 14, bother, prevent, hardly, shorter, say, rate, avoid, already, month, ship, average, pulled, called, clips, lighter, continue, seller, means, apply, adapter, hoped, places, therefore, ends, sticks, hassle, kid, ok, where, dirty, options, large, feeling, threw, dead, sending, pick, plan, inch, writing, turns, loved, birthday, needed, washing, falls, brown, find, constantly, closed, live, check, compared, come, careful, matter, weird, morning, gives, setting, entire, pictured, through, ball, finish, condition, actual, plastic, believe, dogs, lightweight, broke, similar, pleased, saturate, mannequin, natrual\n",
            "install, together, instructions, assemble, put, assembly, installation, difficult, directions, took, pieces, looks, parts, base, set, installed, minutes, box, sturdy, came, wasn, come, hard, make, some, line, how, simple, needed, take, instruction, 30, don, assembled, need, follow, went, however, which, worked, made, paint, down, bit, hardware, figure, overall, build, two, screws, where, screw, first, tools, fairly, way, missing, furniture, step, cheap, our, once, assembling, into, leave, manual, wrong, far, apart, give, takes, quick, figured, purchase, thing, arrived, play, someone, done, bar, again, significant, packaging, keep, part, head, didn, blazer, months, front, wood, now, better, built, required, perfect, shipping, bent, return, happy, 2000, stars, find, pretty, cheaply, money, super, hex, road, exactly, probably, piece, space, rack, job, process, open, sure, right, placed, baby, house, lawn, day, recommend, long, many, people, times, haven, then, impossible, without, over, look, thanks, 15, unlock, seems, forward, plastic, another, frame, going, straight, cut, knob, perfectly, could, initial, ones, old, confusing, adequate, finally, move, while, everything, rubber, few, before, started, doors, solid, minor, create, also, plug, see, week, bolting, goes, door, weeks, finished, ll, bracket, broken, disappointed, able, holes, decent, try, ended, year, self, excellent, stake, update, absolutely, wish, materials, clear, mounting, drill, material, bad, stock, side, atv, packed, know, tube, since, extra, eventually, read, section, called, wheels, re, hours, am, vague, buildings, mallet, reinstall, top, key, couldn, last, son, ends, ground, fine, function, 50, bout, deter, welded, lights, new, several, fast, squeak, provided, each, yes, item, unfinished, pom, its, closed, enough, wire, lower, slide, system, kitchen, written, nothing, design, poorly, waste, patient, disassemble, actually, getting, received, align, infant, package, any, sent, fix, driveway, operating, drilled, measuring, annoying, easier, both, brake, myself, lined, consuming, fits, pain, jeep, type, red, worth, cost, cracked, hammer, pictures, bench, web, holds, properly, managed, bed, cool, christmas, sooner, supplied, huge, still, tell, wiring, rods, auto, value, definitely, wrench, tracks, cart, orders, ours, doesn, store, working, original, making, go, whole, helmet, packets, supposed, described, lot, damaged, same, plant, housing, garden, mine, amazon, looking, guess, cute, hide, security, charm, expected, awesome, due, wants, advertised, contents, such, terrible, refund, under, awhile, otherwise, smoothly, plates, either, room, slides, saved, looked, reasonable, never, company, known, rod, steps, toddler, heavy, heavier, project, initially, until, next, post, bolt, driver, showing, shop, quickly, dollars, provides, changing, high, wouldn, things, include, track, wheel, half, removing, forever, place, having, controller, tips, help, comes, business, height, 10, found, who, said, wires, ready, setup, eye, local, been, scratches, despite, duty, couple, waiting, adjustable, already, inside, away, breaking, seller, intended, anyway, designed, provide, sort, cover, attach, hassle, every, drink, being, unable, problem, fingers, large, snap, note, sitting, mount, model, storage, collar, pop, led, mind, magnet, single, understand, feel, careful, hold, kit, think, results, surprised, worst, cables, except, pump, ordering, dogs, loud, legs, seen, similar, want, though, bottles, trashing, looove, ripjaws, threadripper, repels, inventions, compacted, relativly, dumper, announcing, sump, committing, transitional, leat, ths, tubular, consisting, keter, dowel, argh, clunk, knack, trendy, cigar, togo, sids, ziptie, unintelligible, adapting, fattier, situate, mod, f250, similarity, pate, greaseable, botom, protecter, accelerator, excellant, buttload, 230, boveda, straightfoward, 180lb, stucked, structures, normal, party, main, table, wait, dont, shows, tool, rest, helps, turned, around, falling, middle, she, connect, he, included, true, soon, movie, useless, giving, rather, hole, putting, wife, touch, amount, shipped, verifying, jr, geometry, suburban, 49, freakin, blazers, wrangle, sketchy, unseen, leaned, oregon, calmly, estimated, tryed, searches, stout, pursue, auger, uninstall, reboxing, valentine, experts, explanatory, taut, steer, stash, amends, refurbish, items, by, wall, person, although, difference, paper, stand, during, own, let, flimsy, lasted, area, remove, us, highly, kept, tacoma, swings, tampered, procedures, scrap, eyesore, bathtub, 68, dowels, multipack, logical, buildup, aligning, drawings, mechanically, hiding, tutorial, weighting, al, elite, wobbling, mattered, portability, guidance, butcher, unmarked, sci, crackling\n",
            "stick, adhesive, glue, tape, wall, sticky, hang, hooks, hangers, hook, didn, stay, paint, down, string, hold, strips, don, stickiness, walls, came, some, doesn, strong, fell, before, make, top, claw, put, place, sticks, peel, paper, better, wouldn, still, which, into, fall, sure, metal, ve, plastic, should, tried, stuck, idea, right, remove, come, cleaned, using, go, made, then, 3m, slime, pieces, its, now, enough, times, without, door, disappointed, holes, money, over, anything, mount, sided, lot, hit, falls, worked, could, way, residue, caps, item, picture, white, either, wish, find, nail, cat, stickers, included, through, nails, pull, piece, guards, want, rack, though, comes, everything, our, couple, how, minute, few, hard, part, weeks, object, bit, also, adhesion, first, recommend, easily, worth, clogged, however, pad, weak, needed, peeled, within, room, slide, defective, definitely, strings, wood, laptop, porch, thing, alcohol, re, strength, ones, old, each, looking, cute, around, end, may, annoying, holder, big, figure, am, fallen, move, painted, while, soon, maybe, doors, useless, putting, add, screws, gun, wipe, week, less, ring, applicators, together, backing, although, hands, need, both, every, sticking, received, flimsy, ended, thick, area, applied, days, looks, sticker, disappointing, again, mounting, expensive, cannot, stars, hanging, think, super, masking, eyelid, kt, roll, car, since, handle, tear, pulled, another, going, eyes, attach, drapes, epoxy, couldn, concept, cheap, wrap, realize, install, shipping, expected, 24hrs, keep, container, instead, directions, left, completely, removed, surface, he, months, poor, command, stereo, reapply, dragon, renting, secure, covered, behind, double, onto, damage, things, gave, half, probably, against, seem, see, day, job, gone, started, smaller, long, non, finish, hanger, actually, decorations, wasn, any, floor, replaced, dots, most, laid, ok, middle, their, won, control, recommendation, cheaply, rubber, pressing, silly, doing, net, decal, coming, happy, something, take, items, sometimes, feel, thumbs, dents, dries, dash, thought, during, evenly, applying, purchase, chrome, closing, knob, broke, crooked, isnt, excellent, done, update, set, mine, larger, house, those, brackets, skin, slot, others, tops, unit, front, glued, couch, hand, force, create, pins, messy, ton, hours, staying, plates, instructions, marks, ever, might, usable, color, gets, cd, chemical, slowly, owned, fragile, luckily, return, never, company, attractive, lights, rod, went, cut, heavy, portion, began, until, buying, necessary, reach, peeling, high, look, packing, caused, isn, trust, ease, installing, exactly, brand, sturdy, lay, spring, removing, bottom, safety, taken, major, drill, found, nothing, black, design, ordered, tray, tie, smelled, waste, stayed, followed, been, second, noticeable, getting, inside, image, open, future, called, package, sent, mouse, spent, obviously, once, empty, broken, sun, able, correctly, took, unable, problem, wanted, makes, film, try, connected, complete, junk, literally, awful, safe, level, prefer, provided, garbage, far, near, magnet, impossible, closed, constantly, pressure, knife, photo, didnt, screen, correct, slow, leaves, worst, shower, cables, cleaning, purpose, attached, often, dropped, frame, volume, retape, elmers, toughness, difficulties, wouod, 60lb, splintery, retracting, hookah, mot, rift, repositionable, hobbit, borders, accelerates, adhesiveness, fragance, pumice, celebrate, suppot, 14month, 10pcs, tapering, flamingos, swirled, readjusted, positioning, teeny, tensile, pokey, furnitures, plyers, neatness, pern, tang, vietnam, tactics, disformed, amusement, presumed, pergola, jaguar, pricking, filings, last, fix, same, different, fine, opening, edges, past, slightly, tiny, oil, leave, aren, pain, 30, barely, 20, touch, lid, amount, installed, pictures, crawled, hay, thay, gooey, handicap, claws, posters, client, puck, readjusting, competitive, stringer, extensively, combing, rungs, robes, siding, indentation, drywall, yank, wks, violent, unhook, impractical, shouldnt, devil, serrated, seeps, dispensers, cool, christmas, light, quick, warm, between, box, outside, let, hoping, lasted, air, supposed, bigger, affixed, dorm, thereby, taping, ans, involving, fused, doorway, thinness, snout, wrestle, punches, focusing, swiffer, wreaths, messaged, scotch, radius, curing, excellently, retract, smack, qa, replace, absolutely, especially, felt, dry, support, clear, deal, home, fabric, guess, missing, least, advertised, needs, hot, returning, freight, painter, tines, stools, parked, suffer, released, dispensing, bronze, blob, creepy, jumping, sliders, handgun, thinnest, walnut, glide, ut, under, issues, extra, itself\n"
          ]
        }
      ],
      "source": [
        "for i in range(0, 25):\n",
        "  print(bert_LR_coef[0][i])   "
      ]
    },
    {
      "cell_type": "code",
      "execution_count": 36,
      "metadata": {},
      "outputs": [
        {
          "name": "stdout",
          "output_type": "stream",
          "text": [
            "knife, tool, blade, sharp, knives, tools, bits, cutting, cut, drill, blades, edge, cuts, apart, first, sharpened, better, sharpen, need, dremel, sharpening, set, bent, some, money, should, came, ve, sure, through, make, around, using, something, again, stone, fell, metal, also, know, plastic, screw, then, which, while, job, bit, saw, could, wrench, hand, broke, don, cheap, made, keep, worked, into, snap, new, rotary, board, own, times, been, dull, its, come, cutters, pretty, pay, any, speed, solid, line, screws, cost, heavy, wish, anyone, far, adapter, stars, find, grip, side, anti, tooth, hold, thing, go, tried, coarser, dulled, second, foam, lot, open, fine, expensive, guess, pressure, once, head, kit, kitchen, slicing, file, how, handle, wood, accessories, case, assisted, wrenches, enough, by, carry, needed, material, pocket, ones, factory, 20, isn, wheel, rust, stuck, same, black, years, amazon, 25, today, fact, duty, holes, steel, let, decent, flew, few, before, thin, household, cover, down, most, part, still, deal, every, positions, belts, day, mower, issues, drone, impact, hammer, however, itself, casing, boards, impossible, compared, loose, trying, kind, poorly, water, thought, full, along, went, straight, tight, top, things, opening, place, am, wooden, tile, edges, help, flat, 10, started, soon, maybe, butter, couple, twice, nuts, sent, less, holds, eafengrow, locktite, hori, bosch, caliper, matco, seized, chisels, honing, sometimes, recommend, long, saved, ll, disappointed, took, rod, tough, where, box, replacing, shop, bolt, stainless, remove, extremely, days, looks, self, jigsaw, chains, treads, pork, removing, done, snapped, teeth, angle, harder, close, take, awesome, yourself, send, sum, local, bands, car, opened, now, section, going, purchase, two, tip, designed, handles, want, edger, chop, jagged, backed, chipper, dewalt, stanley, crafting, grit, center, either, might, couldn, ground, different, standard, drills, bullet, dependable, chuck, engraving, sanding, number, slip, doesn, quite, several, until, wrong, replacement, stays, beautiful, pinched, throw, sturdy, single, repairs, having, seem, see, belt, comes, lower, slide, vegetables, workmanship, produces, correct, complaint, smaller, finish, said, light, clip, anything, reviews, loosening, bamboo, getting, seen, drilling, cutter, stopping, bearings, away, wasn, fix, shape, bikes, skip, save, fluke, plane, recommended, broken, holder, figure, toy, unless, won, able, being, lawn, move, series, tiny, assuming, adaptor, tweezers, jobs, doing, useless, many, pouring, way, plus, easily, parts, grind, elegant, joint, screwdriver, soil, simple, shipped, dies, slips, ceramic, nut, contained, without, bad, ago, cool, pleasantly, attachments, versatile, boat, seems, break, definitely, dig, cheese, flying, since, hoping, allowing, mainly, thick, arrived, closing, magic, making, whole, replace, opens, 45, tightening, home, house, loosen, uneven, says, due, fallen, depth, 00, minutes, didn, stones, tension, under, alternative, grab, right, hard, force, collection, gun, item, feels, weight, rated, till, requires, washer, ever, gets, chain, 18, release, install, wow, ride, usage, waited, electric, themselves, reasonable, left, odd, began, buying, almost, guy, variety, difficult, inexpensive, changing, over, quit, caused, vinyl, priced, iron, probably, brand, block, spring, bottom, sleeve, safety, exact, bend, 24, found, tray, mail, everyday, deep, attention, finger, prevent, error, put, actually, negative, already, overall, rings, possible, considering, fitting, corners, rip, seconds, together, opinion, sets, handy, helped, their, press, manufacturer, range, problem, 50, battery, figured, wanted, makes, try, directions, none, large, literally, hopefully, gotten, safe, connection, worth, loved, pop, sit, happy, holding, wear, give, information, feel, live, thanks, 15, matter, careful, useful, fully, think, super, system, surprised, purchased, actual, purpose, except, often, happened, sides, re, working, built, smooth, imperial, torqueing, forearm, wen, neuro, prolly, forged, alternator, stab, kershaw, klein, prohibit, edc, plotter, protrudes, x1, wrenching, karcher, gravely, lke, irwin, hacksaw, specialty, granddad, stocked, replacment, 15mm, milwaukee, troybuilt, damned, steward, deafeningly, dyi, chopping, razer, napa, k2, unbroken, dillon, spiraled, inclement, incentive, tekton, mailers, firewood, usages, collet, aftermarkets, blubs, uesful, resharpening, homeowner, tenderloin, excavator, m10, tensioning, sharping, craftmanship, plantain, craps, bleeder, hardier, comparatively, 100ft, 460, ding, loner, 260, unbecoming, alan, assessories, heaving, sharpest, remedied, lubricated, dam\n",
            "ring, necklace, beads, rings, bracelet, chain, clasp, jewelry, beautiful, bracelets, pendant, wearing, looks, wear, color, gold, look, broke, disappointed, pretty, put, two, necklaces, wore, piece, could, cute, don, made, silver, way, compliments, within, while, many, stones, half, stars, am, however, received, seller, cheap, turned, ll, holder, came, looked, finger, colors, apart, gave, wrist, never, super, yellow, purchase, gotcha, open, big, metal, broken, picture, its, tarnished, bead, loose, day, easily, loved, turn, which, pokemon, first, girls, box, ones, know, style, chunky, lost, ordered, turning, she, wasn, sent, week, less, together, changed, ok, still, some, pay, large, days, tongue, pop, fairly, impossible, didn, pictured, late, happened, quite, go, though, crooked, neck, gorgeous, how, returned, green, loves, liked, now, glue, expected, into, smaller, also, bit, already, month, thin, waterford, locket, recommend, person, weeks, return, light, won, able, flimsy, making, dainty, haft, wish, snapped, felt, fall, rose, mine, guess, larger, close, adult, find, costume, feel, tray, hold, pool, spindle, reason, functional, plastic, another, going, lovely, should, weight, charms, last, why, same, different, amazon, looking, pieces, around, fingers, keep, instead, went, new, hopefully, few, months, sure, diamond, strand, sterling, knot, each, right, isn, probably, brand, item, may, having, wonderful, comes, butterflies, worn, kit, by, said, waste, couple, money, overall, inspect, best, contact, once, most, part, rails, craftsmanship, again, middle, tangled, move, where, aren, solid, omg, add, worth, mm, earring, elegant, anyone, immediately, happy, without, bad, goes, skinny, think, closure, snaps, value, since, hoping, doesn, cross, re, original, someone, supposed, bigger, wedding, packaging, anticipated, discovered, shaped, serious, fell, charm, fallen, band, responded, returning, chose, itself, dull, make, yard, holders, shot, unfortunately, perfect, three, trying, shiny, earrings, attractive, strong, nail, cloth, round, completely, alone, colored, perfectly, next, almost, inner, biggest, then, exchange, tree, gift, place, materials, longer, magnetic, stay, gray, suppose, email, mostly, black, started, design, became, tie, everyday, certainly, realized, been, happen, waiting, hardly, possible, considering, arrive, better, sorry, starting, hate, sets, realize, their, five, thicker, wanted, above, container, try, fits, snap, prefer, lose, behind, birthday, far, needed, holding, something, understand, brown, falls, material, come, daily, notice, careful, comfortable, held, shower, surprised, poorly, seems, purchasing, definitely, purchased, satisfied, except, machine, attached, arrived, straps, seen, pleased, mar, jewelers, tarnishing, 10k, ankh, tassel, jewellery, scrolls, medallion, engagement, fussiness, deviation, 14k, qalo, dovetail, 31st, pyramid, 6mm, abalone, interestingly, horrified, crosses, eing, severed, promptness, mantra, qulity, suspending, fiancée, brassy, gaudy, weakling, brome, gemstones, pendent, c__k, strangulation, lobby, krazy, chakras, pandora, repurposed, beadwork, birthstone, referenced, chlorinated, faja, kiddie, aspiring, gumball, tumbled, pratical, unclasp, order, party, lot, set, our, hour, easier, figure, cheaply, tiny, leave, before, included, uses, 30, giving, down, hard, dark, red, parts, cost, lots, tape, coming, thank, see, holds, properly, coloration, rectified, lackluster, engraved, inform, fished, meditation, hassel, haphazard, bunched, tensioner, boho, sceptical, keyring, courage, lends, shinier, tragus, long, noticed, taking, quick, must, blue, lasted, description, device, ended, any, area, us, kept, disappointing, funds, forgetting, qualities, stringing, evident, horses, affixed, disappears, devastated, pinkish, satisfactorily, opal, stacked, embroidery, weighting, reflects, cohesive, progressively, math, husband, absolutely, clear, expensive, real, missing, awesome, send, such, terrible, fun, moist, feminine, pearls, flange, sizable, precisely, banging, rhinestones, glittery, complements, addictive, cousins, crystals, floss, opened, otherwise, people, kids, durable, feels, hours, soldered, suspended, stationary, jagged, customize, supervision, amber, bandaid, pkg, ninja, paperwork, convert, prettier, son, always, kind, os, positioned, mens, faux, enhance, pierced, diamonds, atleast, bling, intent, revealed, cut, until, wrong, replacement, buying, fast, reminded, among, unwearable, stripe, sparkle, explaining, dressed, piercing, scheme, overheating, chronic, misshapen, gems, difficult, high, wouldn, short, things, exactly, sturdy, bottom, determine, lanyard, therapy, generator, aligned, default, occurred, superior, accents, cousin, boo, seem, issue, rectangular, rusting, altogether, clunky, invested, pregnancy, workmanship, jammed, partly, spills, ins, bills, tests, job, maybe, years, anything, ha, temporarily, cheep\n",
            "glasses, lens, lenses, sunglasses, goggles, nose, pair, look, vision, eye, face, focus, glass, binoculars, clear, polarized, see, eyes, which, don, comfortable, field, head, plastic, cheap, driving, bifocal, case, however, frames, also, down, wear, ve, seem, definitely, frame, still, box, view, around, came, day, perfect, anti, wearing, first, re, reading, optics, binocular, behind, again, away, cute, adjustment, while, lense, broken, way, both, how, problem, otherwise, vr, stylish, night, made, looked, some, super, headaches, any, pairs, arrived, safety, cloudy, cool, same, black, looking, scratched, focused, keep, put, say, outside, flimsy, am, most, concept, light, disappointed, pretty, wish, hand, money, blurry, against, fairly, without, side, careful, adjust, thought, totally, orders, going, costs, broke, quite, buying, could, beautiful, returned, wide, favorite, computer, edges, issue, screens, tiny, before, solid, right, dark, screws, cracked, color, thin, holds, shattered, properly, william, monocular, optic, by, long, receive, took, cloth, wanted, blue, makes, camera, driver, looks, worth, especially, felt, fall, home, find, give, bad, terrible, macro, viewer, painter, low, seems, image, now, another, people, two, better, weight, clearly, stare, arm, distortion, theater, big, yellow, completely, photos, literally, snap, poor, ones, prescription, loves, liked, bit, sturdy, make, enough, matter, swap, ghost, retainer, everything, didn, keeping, found, design, maybe, edge, anything, straight, magnifying, glare, leds, cheeks, package, contact, bridge, photography, mile, packaged, bent, part, annoying, middle, soft, won, able, slightly, nicely, included, try, fits, large, been, student, lots, screwdriver, annoyed, complained, shooting, stars, material, come, hold, difference, screen, fog, know, during, seemed, purchased, august, swim, since, purchase, thing, point, bag, us, should, kept, though, old, absolutely, set, drinks, amazon, deal, packaging, cannot, real, attachment, fly, house, close, expected, such, new, returning, others, gap, bits, opened, width, vendor, mechanism, distance, kids, carefully, personally, relief, shame, loose, son, always, yr, moisture, three, shipping, recommend, strip, return, pass, themselves, need, left, using, specifically, shade, until, received, protective, flip, then, each, over, include, scratch, half, probably, bottom, end, user, snapped, angle, stay, asked, chance, mentioned, bend, 10, his, ordered, smaller, who, 25, pool, construction, solution, couple, error, actually, already, getting, inside, hurt, wasn, best, sent, adapter, intended, week, cant, feature, leaks, frustrating, luck, ll, failed, sun, fantastic, every, being, range, fingers, arms, dirty, above, slip, picture, simply, year, warranty, far, times, summer, single, trash, leak, washed, feel, cap, wonderful, slide, kit, think, gone, surprised, complaint, actual, clip, happened, sides, lightweight, go, pink, want, tried, contra, plusses, designation, monoculars, aperture, t4, ugliest, sweetened, myopia, sunnies, tour, antena, leeway, magnifiers, temple, intrudes, ipd, conspicuous, panorama, dslr, magnetize, juncture, peep, aluminium, obscured, peripheral, nosepiece, croakies, bendy, allowance, alloy, pinterest, dope, customs, detract, guinness, forbes, spectacles, graduate, bridges, googles, sexes, flaring, forces, bluelight, gambling, wraparound, spectacularly, bifocals, ultrasoft, bokeh, bicycling, top, lot, impressed, etc, different, green, tool, carry, holder, toy, 100, past, rubber, myself, aren, usually, cheaper, style, red, cost, ear, pictures, strap, obstructed, prism, incidentally, indestructible, germany, strained, festivals, blur, fearing, gin, photochromic, fpv, shockingly, leaned, res, wands, styled, bipod, microscopic, goggle, huge, fact, delivered, run, paper, okay, device, extremely, here, bigger, products, paris, telephoto, elevate, wildlife, unnecessarily, glares, staring, joystick, vastly, blocker, reflections, fisheye, borrow, restore, literature, tether, controlled, smears, mislabeled, pasted, evidently, rx, negates, repack, eyesight, darling, magnetized, reflects, replace, update, damaged, him, missing, says, awesome, amazing, advertised, pay, send, hot, minutes, bright, shoddy, purely, lease, suffer, sue, interchangeable, otg, landing, concerts, extent, configuration, af, magnification, shadow, competition, mason, reason, under, front, white, cheek, scope, humid, ropes, chosen, suffice, maroon, dewalt, pale, patience, mirrored, deeply, forcing, narrower, tolerable, reduces, 3d, brainer, 800, naked, cocktail, thursday, pkg, either, might, why, unfortunately, kind, full, migraines, wi, mowing, honor, substantially, dividers, poked, softness, hobby, ikea, wanna, gimbal, doesn, colors, perfectly, almost, indication, hurry, marketed, booster, potter, canon, stripe, rattling, comparing, coworkers, 8th\n",
            "camera, video, cameras, cam, pictures, projector, picture, monitor, image, app, am, clear, recording, motion, 4k, display, set, could, subscription, thing, connect, sound, backup, while, phone, view, manual, know, home, into, screen, our, need, record, recorded, minutes, also, cable, find, power, without, its, action, card, by, away, seconds, gopro, once, always, any, able, battery, ring, some, takes, expect, needed, doorbell, gadget, see, don, better, who, satisfied, dvr, zoom, pretty, using, however, wifi, which, viewing, phones, remote, then, most, memory, their, being, night, setup, right, hd, been, ve, now, resolution, happy, something, give, take, come, light, controls, having, issue, money, another, doesn, tried, excellent, benq, network, security, functionality, movement, came, way, flash, evo, son, settings, far, carry, pi, detection, pocket, access, her, super, think, doing, high, definitely, useless, look, features, show, brand, user, working, go, simple, chat, audio, communicate, worked, outside, let, he, sure, extremely, clearly, baby, expensive, figured, trunk, updates, first, convenient, android, year, connection, box, kids, mind, installation, purposes, information, tripod, didn, system, dash, attempted, full, clip, read, re, fast, pleased, lot, how, same, etc, computer, save, longer, she, 100, focus, hdmi, job, 10, leave, maybe, accessories, tv, hard, cheaper, actually, alarm, extended, say, getting, button, anyone, day, ttl, iso, fuji, alerts, wall, videos, recommend, start, idea, every, took, problem, device, area, someone, 1080p, fisheye, projecting, crying, integration, messenger, husband, again, real, cannot, those, sounds, seeing, driving, cell, terrible, mail, distinguish, projected, through, unit, front, seems, purchased, issues, im, plastic, going, people, purchase, two, pixels, uploaded, shots, raspberry, trying, turn, fine, install, around, detector, nest, drones, playback, higher, school, older, photos, new, review, before, pick, beautiful, shutter, flashes, mount, mirror, drive, behind, available, garbage, speaker, daughter, isn, liked, fusion, updating, capabilities, records, floppy, understand, place, enough, photo, wire, matter, hear, slide, perfect, capture, cards, surprised, nothing, black, long, helpful, dumb, modes, lightweight, already, overall, ford, beginners, stop, less, impressed, diffuser, photography, accuracy, freezes, green, friend, anker, inserted, ok, figure, echo, wanted, speeds, trail, cord, iphone, many, anytime, nursing, share, wife, plus, red, put, worth, drone, sync, emergency, 200, bell, drivers, reverse, lots, case, plug, manner, web, dies, sd, checking, sometimes, edit, connecting, stream, huge, includes, auto, quick, run, during, terms, absolute, own, porch, labeled, point, should, pixel, vision, crooked, top, old, draw, dim, operate, absolutely, especially, support, deal, customer, batteries, amazing, via, tons, advertised, pay, reset, pics, download, fun, bright, internet, low, file, instruction, tech, hand, otherwise, gaming, life, haven, possibly, fail, including, currently, shot, worthless, might, couldn, sliding, room, bucks, static, downside, slides, watching, affordable, transfer, return, max, vacation, disappointed, reliable, friendly, carrying, went, wrong, several, rear, poor, almost, slight, pre, each, over, short, things, include, bring, looks, compact, additional, tested, effect, anywhere, yet, functions, may, angle, taken, result, everything, speed, games, found, started, directly, wires, basic, waste, ready, showed, reviews, solution, 40, despite, second, couple, possible, open, pulled, provide, response, cover, per, sensitive, ll, ground, bulb, fantastic, both, made, range, unable, suggest, makes, name, try, friends, complete, likes, sitting, total, previous, model, loved, wish, birthday, against, buttons, online, spend, thinking, bad, feel, side, playing, useful, fully, gives, setting, results, adjust, cables, purchasing, non, print, actual, since, along, often, laptop, dropped, frame, trip, bag, though, laborious, webcam, zosi, criminals, hombres, arduino, videography, halts, cli, geofencing, blurred, coping, iq, filming, esp8266, bu, hauling, disappointments, glaring, comple, byte, commercially, debugging, unwelcome, glacier, fb, caribbean, alerted, cctv, censored, crosstour, vankyo, vox, undetectable, intercoms, inlove, oblivious, nvidia, nokia, natively, nanny, mi, pats, hss, m6, interpolated, interrupting, intervention, lacrosse, outputting, mailman, poe, slave, prototyping, ultrawide, supremely, strut, staunch, spi, splurged, sketch, shooter, reunion, retry, recorders, cheap, fix, wide, hour, expected, decided, move, family, months, true, down, hole, 20, touch, pull, twice, bit, cost, fan, item, stuck, strap\n",
            "game, games, fun, playing, play, played, kids, level, levels, challenge, dice, player, adults, enjoy, puzzles, family, don, been, trees, friends, old, addicting, win, enjoying, gameplay, pass, physics, some, 100, over, ads, world, repetitive, its, which, enough, terrible, year, however, itself, then, take, interesting, challenging, video, re, version, difficult, way, different, graphics, before, still, doing, gaming, click, getting, uno, hackers, tic, warfare, earn, huge, every, girls, bring, classics, words, adult, awesome, amazing, rules, dictionary, challenges, addictive, action, know, definitely, energy, since, going, people, life, hours, want, tac, either, same, three, pieces, instead, first, extras, bet, lose, things, down, loves, single, make, didn, cards, recommend, worst, long, ages, disney, clue, brain, tiles, engaging, rounds, together, ll, players, annoying, again, figure, easier, enjoyed, past, complex, series, try, could, blast, title, free, younger, times, better, takes, laugh, casual, through, keeps, also, another, thing, spin, points, ac, deal, college, puzzle, adds, missing, into, while, new, boring, low, reason, code, hard, frustrated, toe, moves, ways, gets, star, never, company, disappointed, completely, until, almost, variety, pre, short, gave, isn, half, liked, truly, story, having, taken, 10, nothing, maybe, came, basic, setup, ready, fire, anything, ve, roll, actually, rate, away, cant, most, ok, realize, won, took, where, school, doesn, date, sad, kinda, days, prefer, worth, hit, without, bad, follow, come, think, slow, seems, frame, straight, should, go, though, hyland, comers, activision, freshman, skyrim, hasbro, prizes, hugger, playable, formats, nostalgic, nudity, rigged, simpsons, glossier, incredibles, infinite, alphabetical, alphabet, playability, simon, crates, grammer, offshoot, insistence, aggression, remaster, skewed, chests, puns, kelp, ballgame, badlands, bop, jurassic, superhero, undead, lags, pairings, dlc, progression, audiences, dialed, parish, mahjong, bountiful, wheaton, unplayable, melanie, arcade, lot, our, save, given, she, card, connect, cheaply, few, included, aren, rather, 20, add, fan, item, space, pictures, anyone, see, simple, lost, et, hardcore, limp, loot, souls, overboard, hosted, plethora, referred, excuses, vader, interpret, remastered, raider, germany, winning, darth, campaign, gig, lackluster, dims, gory, tomb, cool, need, let, device, us, here, extremely, original, making, whole, excellent, described, keen, meeting, sarcastic, logical, replay, possibilities, jk, redundant, uninstalled, aggravation, annual, quest, gore, flooding, proceed, clues, crossword, therefor, abstract, wil, witches, bingo, credits, geared, fall, clear, real, close, those, needs, send, crashed, jumping, magnification, veterans, jewels, syndrome, potatoes, explore, expansion, warrant, nephews, shuffle, mood, join, simpler, amusing, france, unpacking, reinstalled, rewards, how, handle, case, two, haven, am, ironed, vr, 2011, 5x, discovering, mechanics, swiping, coins, dc, albeit, engage, wars, instrument, increases, phase, racing, counted, defiantly, navigate, ever, son, trying, night, made, looked, mush, entertained, england, duplicates, delete, gem, rush, activities, rotation, brutal, addressed, throws, ruining, glitches, several, next, poor, fast, quickly, teens, thousand, deleted, sources, lego, blame, boob, seasons, swipe, nightmare, welcome, each, high, daughter, frankly, updating, help, stay, chat, wild, paced, started, who, advantage, execution, wonky, mailed, skills, memories, million, couple, already, exceeded, dream, lame, alexa, sudden, select, preference, versions, sorts, finishing, beans, immediate, mailing, refreshing, jumped, once, killed, death, ps4, bored, naturally, their, park, opportunity, erase, makes, updates, contains, 80, stink, explain, large, many, brings, outstanding, rocks, hd, group, multi, def, loved, student, presented, deck, exciting, letter, wish, far, resolution, knocked, mad, example, happy, something, stars, give, closely, dozen, trips, ad, thumbs, busted, her, knowing, blood, solved, controls, tab, thought, extend, modern, quantity, common, flying, allowing, difficulty, boys, busy, jump, link, read, purchase, arrived, tries, kindle, passed, kick, growing, content, purchases, balance, snow, spending, tired, timer, nowhere, vision, constant, pixel, tried, order, headache, gorgeous, bump, ten, wipes, becomes, disc, fine, fans, direction, continues, generally, around, improved, bonus, keep, big, 00, consistent, data, emailed, tons, recieved, randomly, begin, download, general, screens, he, upgrade, interest, faded, sister, glued, adding, letters, collection, copy, arrival, interested, details, tracking, towards, shame, alot, mixed, young, 13, apparently, season, yr, 18, by, vehicle, finished, return, learning, pretty, paying, numbers, bunch, misleading\n",
            "chair, chairs, seat, comfortable, furniture, sitting, wheels, bolts, office, support, sit, put, toilet, scooter, rest, sturdy, pain, now, lumbar, together, height, legs, table, seats, am, arms, also, screws, go, happy, customer, comfort, fold, service, seems, how, purchase, amazon, wobbly, cushion, months, short, down, could, help, stool, two, re, broke, child, made, old, look, doesn, part, again, pounds, ups, weight, took, he, transport, sofa, pull, type, leg, enough, day, perfect, disappointed, issue, over, assemble, set, different, looking, came, riser, ve, front, under, except, problem, contacted, either, sits, cracks, unfortunately, wait, recline, sidewalk, need, take, first, however, any, foot, high, piece, bottom, seating, excited, tried, strap, walker, ordered, maybe, around, needless, been, say, position, understood, seller, us, update, still, where, due, none, return, minutes, refund, year, pretty, feet, handle, 200, foam, money, cushions, something, side, lock, room, fully, patio, complaint, full, company, upright, heavy, lightweight, several, replacement, smooth, quickly, riding, having, 100, few, before, smaller, which, couch, useless, don, gaming, second, bit, already, amount, overall, ghd, recommend, ok, broken, their, lbs, rear, try, bolt, step, bowl, beginning, days, looks, 200lbs, meantime, reclined, husband, fall, baby, him, home, cannot, find, missing, without, ready, hydraulic, forwards, tighten, plastic, considering, future, another, itself, going, people, arrived, should, better, provide, though, rocking, rocker, 110, order, last, cheap, trying, arm, bike, upset, bodies, saying, some, while, quite, new, buying, rough, level, sure, futon, secure, onto, half, yet, item, summer, rep, ergonomic, dining, stay, lower, somebody, essentially, tendency, setting, adjust, years, finish, said, light, forward, satisfied, reviews, minimum, posture, trip, getting, received, month, away, then, replaced, weld, swivel, weeks, lever, easier, both, relax, four, move, wanted, soon, unstable, many, add, parts, fabulous, anyone, far, immediately, hope, goes, screw, christmas, swing, idea, noticed, paid, expect, through, since, holes, outdoors, sat, contacting, ties, area, balance, someone, tired, bigger, improve, expensive, meaning, those, uneven, keep, via, pay, standing, send, metal, didn, others, allowed, low, comfortably, extra, hard, regret, taller, haven, hours, relatively, reached, lack, instructions, yard, ever, see, son, sliding, pic, slowly, minimal, motion, outdoor, lift, carrying, left, portion, box, review, fast, biggest, difficult, each, things, gave, wheel, probably, lay, spring, twist, may, place, longer, adult, spots, his, grandson, padding, black, design, yourself, sweet, everyday, construction, hardware, anything, beach, calls, duty, adjustable, inside, weather, ship, assembly, arrive, lighter, sent, less, response, spent, cant, frustrating, attach, tall, desk, grip, center, most, helped, placed, able, correctly, range, manufacturer, makes, junk, directions, comfy, large, mount, loved, warranty, weak, times, fairly, bad, closed, feel, live, follow, held, everyone, hear, worn, super, gives, told, surprised, purchasing, travel, definitely, option, attached, machine, happened, thing, straight, straps, working, built, enjoy, wiith, topple, sectionals, arcs, conscience, lox, canoe, ferry, pleasently, 280, touted, lounging, levers, reclines, cries, unsecured, castors, sidewalks, annuals, softly, convoluted, ps3, rolly, armrests, sinking, absorbers, midair, goldie, noone, respawn, unbox, sciatic, ottoman, spoilt, blemish, streets, houseful, actuate, 250lbs, 137, meager, paved, floor, stop, fix, our, music, fine, bent, friend, carry, falling, worked, into, later, rubber, myself, giving, wife, line, simple, shipped, properly, limiting, rollator, pu, aggravated, enormous, stow, approaching, piston, emailing, compactly, await, rave, weakest, hop, truthfully, fraud, tweaking, bullshit, noble, scooters, gathering, disassembly, sometimes, by, ago, fact, tell, problems, quick, break, keeps, outside, decent, let, okay, point, highly, whole, kept, air, disappointing, reclining, tractors, lengthy, contemporary, elmo, armrest, antics, solidly, 175, tilting, condensed, festival, casters, pebbles, adjuster, gamer, slipcover, 9yr, packable, attending, else, replace, face, especially, mine, guess, fell, close, says, amazing, needs, returning, inventory, trashy, terrain, cramped, rubberized, bears, balances, lowering, automotive, downstairs, wii, enable, sinks, twigs, stools, scuff, fl, attracted, quilted, reason, way, unit, car, opened, kids, white, collapsed, unsafe, scraping, purchasers, investigation, attract, scrapes, cave, optimistic, deeply, redo, luxury, wicked, danger, performing, branches, membership, pottery, compensate\n",
            "tent, umbrella, rain, wind, stakes, weather, sun, beach, windy, snow, canopy, weekend, shelter, could, going, screw, outside, keep, sturdy, patio, however, lot, set, ground, our, over, year, its, live, pretty, built, winds, handle, put, cold, deck, light, blows, air, breeze, cover, together, frame, am, see, bent, falling, also, stable, some, any, water, plastic, thing, crank, though, didn, break, flimsy, camp, down, kid, mattress, make, enough, poles, hot, assemble, crib, needed, roof, weight, fairly, instructions, weights, protect, know, since, outdoors, sides, completely, shed, top, things, fly, yet, around, few, sure, camping, sand, overall, lots, yard, day, alaska, tents, umbrellas, outdoor, huge, both, during, shade, ended, store, looks, wheel, princesses, worth, come, crazy, super, think, fires, winter, how, now, kids, haven, should, broke, ends, esp, third, strong, left, while, pick, raining, cones, secure, apart, bit, storm, end, place, help, color, perfect, spacious, design, return, concrete, using, say, away, thin, gotta, bbq, won, lawn, cheaply, where, wanted, came, privacy, slightest, way, easily, grass, trees, electrical, wish, installed, space, excited, material, take, sometimes, cool, person, door, side, dents, florida, hold, difference, still, expect, made, stand, random, street, must, keeps, camera, another, first, area, go, whole, want, stands, old, win, hiking, blew, saving, gear, site, customer, fell, house, larger, amazing, awesome, worked, metal, service, he, months, under, issues, specific, dirt, sign, distance, mesh, within, might, son, always, plants, trying, star, by, pieces, threads, proof, heavy, until, tore, buying, difficult, then, ridiculous, each, don, bring, daughter, additional, tree, anywhere, worried, longer, comes, job, cell, windows, started, maybe, directly, purple, couple, position, inside, eventually, open, hurt, assembly, lighter, lovely, seller, wasn, best, ll, walking, corner, shown, ok, lol, their, correctly, took, problem, friends, doesn, sitting, total, upon, available, drive, storage, birthday, far, sit, times, trash, something, without, closed, follow, 15, useful, weird, through, complaint, seems, definitely, purpose, often, ordering, purchase, sharp, wore, legs, seen, grt, kiddish, scrapping, pavers, ky, gust, gusts, promote, itll, rink, lumber, inverted, hyke, lulled, hurricane, loveeeee, sank, zoomed, unprepared, teardrop, cot, sprinklers, firepit, zion, storms, stuffy, wyoming, balling, coachella, collapsing, campy, connectable, staking, augers, vestibule, 100lb, byke, critters, contrary, dallor, utah, floor, base, cheap, finally, saw, amazon, heat, opening, easier, pocket, decided, move, new, nicely, family, 12, aren, food, right, putting, type, line, add, screws, tape, properly, tropical, dwarfs, canyon, motorhome, inform, cod, swearing, toasty, korea, sandbags, wether, oklahoma, slats, garments, terrains, neglect, coolers, brightened, criticize, crawls, sneeze, sunshade, suckers, lieu, sail, unroll, chasing, catchy, unzipped, mo, coupling, sone, educated, sporting, spines, yosemite, although, never, paper, warm, box, holes, money, here, making, look, charging, excellent, central, balcony, pays, shore, valley, translucent, awsome, marginal, lush, gadgets, netting, 4x4, thereby, discolor, shortened, northern, squeaking, withstood, doorway, meticulously, stake, done, support, deal, fabric, guess, close, pay, such, minutes, stark, mph, steep, parks, shady, publish, overhang, cal, utility, buckets, grilling, algae, raincoat, kt, landing, columbia, awfully, cried, restroom, pretend, tines, rake, hand, itself, two, better, factors, similarly, ar, shining, rains, collapsed, campus, slope, nap, ranger, hawaii, hefty, anchor, polished, twins, couldn, room, unfortunately, night, shipping, install, kind, which, looked, throws, neighborhood, ish, north, reattach, hammock, slack, stabilize, cement, cape, sagging, ny, griddle, went, wrong, almost, fast, beautiful, smoking, rattling, uv, afternoon, collect, bet, dog, wouldn, gave, exactly, brand, flooring, seating, shall, visibility, hopeful, obsessed, steering, theory, boo, warping, fool, may, seem, stay, foundation, neon, shredded, rusting, novelty, stood, requesting, rained, trusted, bare, listened, ur, california, 10, found, who, waste, staples, posts, downfall, military, cage, serving, suspension, spikes, treated, hubby, second, actually, already, disney, knobs, haha, openings, forgot, community, flew, package, week, costco, elements, soaked, bikes, mile, blown, visit, cumbersome, lifetime, roomy, havent, south, harsh, adjustments, goods, frustration, every, able, being, stress, idk, park, makes, try, twin, shield, meets, served\n",
            "pack, received, ordered, packs, bags, two, four, amazon, 12, giraffe, supposed, order, box, listing, package, came, both, said, leopard, qty, 10, says, getting, same, instead, sets, stated, description, store, seller, missing, contacted, 100, listed, rolls, bag, 25, boxes, 50, single, pound, assumed, three, buying, count, oil, second, first, item, promised, day, receive, filters, paid, delivered, chocolate, clarify, find, bad, 24, others, floss, zebra, local, thought, now, should, am, soaps, per, drink, bottle, next, elephant, each, right, make, comes, deceiving, rectangular, disappointed, need, bottles, saw, deceptive, braces, please, their, duct, hundred, indicate, trunk, aren, picture, show, how, sponge, happy, strap, items, paper, quantity, reordered, advertising, arrived, re, disappointing, bonus, yarn, milk, stick, states, see, refunded, company, salt, 16, sticker, blanket, removing, yet, again, choice, pan, padding, mistake, been, inside, ship, open, called, wrist, realize, which, suggest, try, many, needed, give, take, gold, ball, know, purchased, another, protection, want, though, 970, 96, pruduct, camel, flapping, interdental, strikers, grouping, resubmit, preexisting, electrodes, hangable, penalized, upc, inconsistency, set, fine, rest, chair, expected, before, included, putting, 20, twice, ripped, cracked, tape, pur, hangars, 54, monkey, resend, distributor, resolving, toothpick, inspectors, by, person, delivery, never, wash, then, reading, described, weapon, ne, aligning, attest, him, deal, packaging, guess, customer, advertised, pair, could, service, attentive, carmel, jig, credited, presents, discription, reason, way, put, opened, hand, people, haven, reluctant, purchasers, darts, vanity, kudos, boxing, splash, drug, counted, heading, shakers, either, star, trying, shipping, confirm, twisting, mistakenly, guns, 27, bodies, headbands, counting, also, colors, review, quickly, clicked, cone, knockoff, collapse, agreed, cupcake, vibrate, log, isn, gave, sturdy, mileage, indicates, reviewed, inspected, corrected, end, issue, headband, didn, black, reviews, skills, patches, actually, fixing, 250, impression, away, sent, less, fyi, sponges, eight, donate, sturdiness, buckles, measuring, researching, 35, watches, indicated, debris, 22, soft, won, opportunity, carried, explained, relax, warehouse, belts, presentation, 80, shades, contains, june, drives, rainbow, 000, packet, sling, share, faces, theres, kickstand, picks, title, don, tongue, presented, decal, buyers, hence, bench, stuffed, pepper, screwdriver, method, knocked, contained, without, feel, come, containers, images, scissors, 150, feed, opposite, planned, asap, seems, common, guard, emails, dig, since, link, thing, false, removable, animal, individual, top, supplier, king, our, wipes, 45, selling, account, different, serious, exposed, improved, guessing, causes, shrink, marked, recieved, closet, responded, event, assume, unhappy, specific, down, pans, protectors, till, website, required, tracking, packages, cleaner, shipment, pic, 13, practice, yr, slides, vehicle, long, threads, lift, motor, pretty, attractive, buckle, heavier, project, lids, fair, worry, variety, shoulder, protective, over, packing, include, looks, ease, caught, truly, mom, ups, pounds, present, certain, six, torn, dried, asked, insert, yourself, tray, 14, sleeves, showed, packed, truck, ve, sense, roll, 40, important, granddaughter, 11, toys, beware, heard, considering, arrive, call, rip, better, handles, sold, likely, ends, wrap, shown, placed, tea, fault, made, recently, manufacturer, thicker, dirty, number, some, mess, doesn, photos, pads, hopefully, total, plan, lose, available, bar, rating, throw, installation, holding, bulbs, filter, online, check, 15, photo, weird, correct, complaint, purchasing, helpful, totally, ordering, pink, expecting, contact, brush, impressed, shows, packaged, opening, carry, toy, figure, enjoyed, control, edges, move, cat, useless, giving, dark, type, plus, cost, amount, horrible, coming, thank, excited, shipped, properly, wall, bed, christmas, huge, difference, change, problems, value, quick, break, seemed, between, own, keeps, blue, holes, okay, us, here, original, whole, someone, bigger, done, replace, fall, baby, clear, home, expensive, fell, awesome, due, needs, pay, send, glass, low, unit, under, car, extra, otherwise, itself, kids, durable, weight, might, son, why, unfortunately, pieces, left, lights, replacement, ones, watch, high, returned, short, things, liked, half, probably, piece, clean, job, everything, started, design, who, couple, wasn, cover, part, ok, every, able, problem, where, makes, fits, easily, worth, far, times, stars, think, super, screen, through, plastic, going, purchase, broke, old, last, cheap, lot, cute, around, keep, big, worked\n",
            "broke, apart, fell, within, first, month, months, immediately, cheap, weeks, started, second, couple, throwing, week, day, lasted, fall, several, money, away, less, broken, days, times, super, break, kept, disappointing, didn, unit, hours, three, walmart, pieces, using, quickly, 3rd, pulled, playing, water, plastic, ramps, p38, 2months, pare, last, falling, few, before, down, twice, cracked, horrible, lost, superglue, minths, 2mins, ended, forgiving, seaweed, launch, mine, came, epic, now, disintegrated, wast, ratchet, made, fast, ones, unraveled, highway, eyelets, having, crate, waste, stubborn, military, snagged, embarrassing, getting, owning, entry, trashed, manufactured, survive, abuse, freezing, brake, where, brittle, failure, year, easily, worth, annoyed, happy, trucks, busted, hold, meh, xbox, instantly, ours, dent, 4th, gross, painful, housing, dish, locking, levels, rope, awhile, mechanism, protected, gentle, voice, fragile, 1st, suit, breaks, seriously, pulling, began, inner, over, quit, snapped, again, 24, driving, fake, truck, children, tear, minute, two, breaking, cutting, phone, tip, seconds, knew, grip, starting, ground, still, upset, fingers, school, sad, literally, threw, total, safe, wet, lose, weak, trash, falls, anymore, impossible, hang, follow, 15, careful, daily, everyone, weird, entire, poorly, defective, happened, dropped, sides, protection, base, shape, hour, toy, four, cat, later, soon, 12, uses, giving, barely, hope, wall, today, taking, coffee, seemed, let, area, extremely, making, replace, update, felt, batteries, needs, terrible, opened, otherwise, weight, ever, loose, might, night, turn, went, completely, bottle, almost, stopped, beautiful, wouldn, returned, probably, sturdy, piece, seem, help, job, found, maybe, years, actually, already, open, once, most, ll, being, try, loved, far, wear, something, material, bad, feel, come, side, through, another, going, working, though, tried, top, old, different, around, while, right, hard, make, see, perfect, by, never, pretty, looks, could, ve, put, how, better, also, some, doesn, don, \n",
            "expected, described, better, thought, exactly, expecting, everything, expectation, thank, meh, expect, season, special, nothing, wasn, seen, bab, waaaaaaaay, entree, hart, receipes, expexted, mre, hash, exspected, perfect, hoping, okay, exceed, flatter, else, excepted, simplistic, impeller, ve, evo, headline, strong, first, liked, shit, satisfying, hype, performed, looser, best, imagined, ok, outstanding, web, choices, weights, laugh, met, lot, site, meet, unhappy, interest, dislike, disappointed, remember, money, expectations, harder, certainly, hoped, basically, mess, convenient, kinda, worse, brown, wonderful, everyone, useful, main, impressed, saw, rest, past, value, description, us, original, says, amazing, others, haven, pieces, went, quite, poor, beautiful, high, piece, said, waste, every, wanted, many, worth, far, happy, hold, think, through, going, arrived, same, our, different, fine, cute, keep, enough, however, any, then, look, looks, could, been, way, how, case, didn, \n",
            "pillow, pillows, sleep, neck, firm, foam, memory, sleeping, night, flat, comfortable, down, side, keep, support, two, pain, ve, purchased, feather, still, order, soft, hard, find, thought, nights, says, head, legs, picture, body, by, wife, re, didn, looking, cute, could, fluff, fill, leg, stuffing, mask, doesn, sized, covers, any, fluffy, feel, everyone, super, totally, completely, put, returned, case, now, middle, am, help, into, uses, made, alternative, right, plumping, kiosk, fluffed, bed, cool, every, seemed, however, description, thick, over, pillowcase, face, material, dryer, refund, been, definitely, since, arrived, should, feels, same, standard, mattress, cases, full, preschool, some, first, colors, before, futon, detachable, high, probably, may, enough, stay, day, lower, washable, 10, return, actual, disappointed, groove, bamboo, pretty, need, couple, say, getting, then, pregnant, helps, once, laid, their, took, slightly, regular, soon, ordered, came, transport, authentic, laying, sofa, advertisement, ripped, how, stuffed, exterior, strap, better, without, medium, take, difference, searching, decide, between, also, surgery, thing, helping, go, upper, lot, knees, fine, fabric, awesome, big, returning, minutes, hours, might, couldn, usable, trying, looked, instead, knee, using, went, filled, box, next, buying, look, don, daughter, looks, half, lay, gift, oh, cotton, sealed, started, years, mail, 40, roll, funny, inside, month, wrapped, cover, texture, center, most, part, hoped, weeks, ll, ok, which, basically, office, honestly, wanted, makes, yellow, stiff, try, stated, removed, wish, experience, needed, happy, velcro, based, washed, pressure, daily, matter, her, keeping, worst, seems, travel, uncomfortable, forward, machine, ordering, another, going, purchase, trip, pleased, tried, herniated, concave, cervical, soundly, remembers, naptime, 25lb, plushy, talalay, inversion, industrial, ruffled, 16th, thoght, regime, boppy, marshall, mypillow, uncomfort, fulling, gathered, cheekbone, finally, shape, our, different, amazon, around, falling, expected, decided, while, new, he, myself, months, sure, plus, type, cost, its, make, stuck, see, tilted, bulging, ordeal, stringy, upwards, crocheted, cushiony, daycare, deflates, marginally, header, await, hight, properties, perfect, goes, ago, recommend, christmas, long, noticed, never, tell, change, received, decent, flimsy, wash, remove, air, disappointing, described, suspected, closest, hindsight, crevices, moldable, blotchy, beck, promising, skimp, yellowish, flattens, sharing, firmness, disintegrate, everybody, separation, dosent, update, felt, baby, amazing, advertised, needs, such, firmer, ache, 28th, fuss, browsing, portrayed, punctures, confirmation, inventory, adopted, fluffing, way, opened, itself, waffle, sequins, uploaded, inflatable, puff, breathe, represented, cpap, hers, dreams, nap, customize, ever, room, kind, twisting, softness, recover, feelings, relieve, flattened, settle, compress, sagging, rotation, burlap, rests, waking, left, perfectly, quite, several, almost, excitement, loosened, hotel, discomfort, destroy, bedtime, feathers, deflated, sleeper, dog, short, isn, loves, brand, cure, fusion, alignment, accepted, commercial, zipped, steal, having, clean, flatten, requiring, stood, shams, motorcycle, lowest, shredded, woke, regard, found, maybe, said, anything, reviews, partner, lays, dense, cooling, circle, posture, considered, second, actually, already, open, bringing, treatment, forced, fixing, boxed, 250, decision, package, seller, best, week, thin, less, newborn, complaining, embarrassed, brick, slept, adjustments, basis, locally, stating, broken, won, ignored, hurting, trial, invest, horribly, supportive, sore, discs, stink, unstable, 19, reviewer, many, favor, placing, nature, necessarily, wrinkled, days, exercises, backwards, far, impressive, upside, wear, something, reduce, checking, human, filling, closely, ad, asleep, rolled, returnable, come, sturdier, requested, dimensions, traditional, think, prepared, existing, through, april, rolling, inflate, bank, weren, incorrect, scratchy, allowing, hips, wasnt, balance, accommodate, parents, want, though, typically, helmet, lead, top, cheap, adequate, weigh, securely, pressed, king, needing, pushed, account, sewing, sewn, becomes, folds, selling, painful, thread, security, guessing, planning, reasons, advice, she, intact, count, shrink, adjusting, tightly, worked, suggested, pics, ideal, covering, allowed, few, mark, tag, returns, projects, plays, couch, resistant, ahead, awhile, daughters, ankle, grow, listen, distance, regret, usual, folded, alarm, bit, item, lack, strange, shame, mesh, crushed, weekend, undone, 60, promptly, blow, bath, 18, walmart, yesterday, dislike, seams, puppy, slides, affordable, elsewhere, beautifully, chart, hopes, throughout, cuts, bunch, seriously, known, remember, missed, project, 2019, fair, replacing, 16, stain\n",
            "heavy, weight, lightweight, light, bulky, dumbbells, strong, carry, weights, golds, its, thick, lighter, lite, bit, enough, pistol, due, pretty, weighs, compared, lock, lb, ones, set, expected, camping, doesn, racquets, backing, heavier, looks, mah, fold, gym, feels, xl, though, consume, grip, which, around, swaddle, convenient, weighted, mirror, item, needles, job, however, charge, thin, operation, rv, 000, holds, stars, grips, still, hands, expect, know, made, thought, especially, our, workout, practical, adults, car, handle, projects, mechanism, durable, knock, perfect, carrying, shade, quite, tight, bolt, don, sturdy, functions, exact, comes, height, keys, manual, how, better, handles, once, being, some, feeling, sized, easily, storage, yes, far, tools, take, cap, comfortable, hold, keeping, complaint, seems, definitely, straight, urn, purrrfect, railroad, hulk, 4lb, correlle, commissioned, counteracted, lugging, swaddling, raises, buddies, glamping, d8, marbling, deflect, dumbbell, disengaging, 40lbs, d12, smartphones, earlobes, bbs, aight, cheap, tool, looking, keep, big, move, while, seat, regular, aren, solid, right, down, hole, hard, type, add, amount, space, stuck, compactly, swaddles, sep, maneuvering, presume, magnified, 1lb, baring, midsized, tamper, sometimes, person, long, value, point, any, store, look, whole, described, ipod, taurus, repackaging, discreet, racquet, baby, real, batteries, advertised, bright, rubberized, improves, handgun, bull, distribution, dispensing, seamlessly, conjunction, teaspoon, iphonex, newly, translated, exquisite, softener, put, otherwise, stick, two, haven, quarters, bb, diagonal, wrenches, ie, studying, companion, almost, fm, exactly, brand, yet, hinge, muscles, arthritic, turquoise, alittle, comparable, loosens, exception, longer, flatten, allen, limit, everything, didn, popular, mailbox, neatly, inside, nobody, scented, bringing, handed, looser, patch, leds, bearings, less, engaging, pregnant, weeks, stored, havent, highest, soft, able, roughly, wanted, sufficient, threaded, steady, mist, manage, wobble, necessarily, curl, deck, gauge, shouldn, complicated, flexibility, sexy, wish, serves, classy, massage, bench, stuffed, upside, happy, wear, give, prints, perform, beauty, ad, purposes, matte, trips, slips, feel, come, patterns, super, study, water, purchased, litter, strings, since, slick, advertising, allowing, train, thing, purchase, locks, tad, bag, should, working, strength, top, old, operate, organized, weigh, hiking, same, vibration, walls, folds, speak, spill, cute, sleek, locking, female, clothing, functionality, charm, pouch, uneven, printed, significantly, marked, yarn, shrink, wants, closet, unhappy, sand, outlet, code, protected, distance, grow, folded, portable, search, rated, toilet, powerful, cars, undone, chip, yard, moves, young, color, day, constructed, tho, chain, practice, settings, slides, coat, improvement, walmart, cooking, chart, max, vacation, zip, pass, brought, slim, attractive, repair, plate, further, honest, pulling, project, 2019, variety, washes, slight, chest, cardboard, ask, mouth, bring, ease, living, compact, additional, anywhere, pairs, radio, lay, mom, awkward, mounting, complaints, fixed, speed, cell, moving, effective, lasts, could, packed, way, bother, tighten, energy, elastic, adjustable, granddaughter, waterproof, brands, corners, call, anyway, phone, charges, attach, texture, per, opinion, key, likely, walking, ends, wrap, shown, failed, page, bike, sun, fault, suggest, fingers, eat, suction, figured, school, complete, trouble, friends, added, course, tablet, kinda, sheets, model, birthday, near, accurate, against, understand, velcro, closed, hang, photo, gloves, thanks, daily, matter, hear, setting, correct, poorly, adjust, travel, forward, cleaning, actual, option, purpose, attached, believe, floor, base, zipper, finally, shows, saw, friend, annoying, multiple, holder, enjoyed, unless, pocket, four, pillow, cheaply, slightly, later, family, bags, putting, pull, lots, tape, excited, simple, shipped, ring, medium, items, cool, screw, door, fact, paid, taking, warm, paper, decent, description, play, charging, bigger, reading, husband, done, face, else, update, absolutely, felt, pack, expensive, fabric, says, least, band, metal, glass, others, under, itself, kids, loose, either, within, son, why, gets, room, night, looked, full, bottle, perfectly, wrong, next, review, buying, poor, beautiful, difficult, high, apart, wouldn, returned, things, gave, half, piece, gift, place, stay, issue, 10, his, black, smaller, maybe, said, anything, reviews, away, wasn, best, week, together, most, ll, broken, both, won, took, try, large, many, year, worth, times, something, find, bad, side, plastic, read, another, re, broke, go, want, tried, order, last, different, fine, into, new, he\n",
            "brush, brushes, bristles, toothbrush, heads, better, clean, soft, ones, broom, hair, cleaning, tooth, using, replacement, brushing, worked, powder, bristle, toothbrushes, sonicare, second, head, cleaner, cleaned, makeup, three, recommend, went, regular, basket, teeth, working, found, two, nipple, made, doesn, water, travel, should, stopped, been, same, big, years, don, first, its, less, molars, denman, perfect, besides, mini, problem, battery, thick, tips, times, super, deep, since, silicone, wetting, last, sets, still, fine, around, full, comb, bottle, new, months, wouldn, hard, day, results, long, never, glad, paint, received, exceeded, smooth, then, finally, dont, body, most, strands, applications, ok, try, students, picture, easily, now, thank, give, separated, noticed, planned, which, value, purchased, blue, also, bag, though, compartment, reading, face, lot, experienced, least, handle, shame, loose, might, son, outdoor, pieces, electric, beads, instead, colors, 2019, any, each, expectations, form, professional, gave, loves, looks, iron, positive, yet, bottom, having, again, mean, issue, drill, mistake, could, way, finger, couple, hardly, shorter, say, liquid, wasn, apply, cover, kid, handy, lol, won, where, died, wanted, stiff, some, friends, many, wet, loved, foam, needed, happy, something, falls, wonderful, wire, daily, kit, complaint, know, purchasing, purpose, another, purchase, bottles, grooved, younique, hella, quaility, sputtering, nerd, giver, grime, reformed, stubs, kp, 99cent, moore, 4b, kabuki, tuft, fairywill, distributes, dipped, boar, economic, cavities, warranted, drugstores, density, old, normal, set, wide, different, amazon, helps, glue, annoying, into, tiny, he, uses, down, putting, touch, anyone, enough, stuck, length, dryed, oval, toiletry, wee, desirable, gunked, cellulite, dedicated, serviced, demands, clogging, punched, wetter, crud, by, pretty, need, expect, seemed, however, shoes, keeps, holes, money, flimsy, ended, wash, look, kept, supposed, products, dentist, blending, smears, doodle, distribute, grooves, blush, embedded, contour, cookware, acrylics, radius, dry, batteries, such, returning, explore, techniques, rougher, fuss, extent, crumbles, harmful, proved, abrasive, artists, tooo, shred, alpha, ve, how, hand, itself, haven, sharpness, reinstall, knocking, deeply, rims, phillips, filthy, fingernails, firstly, statue, gets, unfortunately, star, kind, angled, scraper, chunk, chuck, arent, efficiently, practicing, drained, colours, wit, completely, perfectly, poor, fast, quickly, retain, replaceable, judge, paste, potter, harry, short, exactly, probably, gift, climate, decorate, pushes, fray, sonic, organization, seem, help, cheapest, debating, coil, ratings, wild, unwanted, clients, handful, dying, job, his, design, maybe, waste, reviews, runny, secondly, reaching, toward, pointy, stubborn, hairs, cheep, already, getting, inside, month, overall, amounts, pissed, detached, minus, sudden, wound, parties, shaving, best, week, preference, poking, indoors, chewing, toddlers, paddle, repeatedly, pit, weeks, rendering, report, 2014, hates, assortment, laid, cumbersome, their, official, roughly, irritation, sheds, spaces, edition, greatest, jobs, february, himself, title, worth, joy, reverse, rash, straws, toss, touches, far, fittings, sponge, spinning, rubs, pour, scrub, take, come, lasting, folding, requested, refill, hold, think, meh, serve, tends, seems, inserts, nicer, plastic, recharge, october, thoroughly, chemicals, notch, july, cycle, recent, beginner, spin, magic, rub, wasnt, art, broke, go, want, nowhere, tried, top, cheap, needing, nozzle, mac, our, aluminum, softer, aside, destroyed, ac, looking, cute, dish, discovered, bust, sellers, fortunately, expected, she, joke, cast, warped, grade, few, before, unhappy, reorder, ive, sister, ahead, concerned, gentle, messy, whether, knock, doubt, item, details, dishes, wipe, make, limited, effort, static, tho, 18, unusable, wow, frequently, various, beautifully, light, boy, zip, nail, application, cloth, stronger, began, missed, heavier, whatever, stain, aware, reach, protective, changing, beginning, packing, packs, mother, removing, snapped, certain, awkward, perhaps, major, dried, fixed, vacuum, early, bathroom, natural, ordered, lasts, mail, action, children, waiting, avoid, adjustable, build, future, leaked, considering, average, brands, corners, means, wheels, anyway, handles, leaks, am, attach, mix, normally, standard, realize, everywhere, recently, range, disappointment, fingers, snug, suggest, figured, none, bulky, push, threw, total, sized, rough, dead, plan, covered, cause, lose, provided, available, mirror, behind, warranty, weak, birthday, yes, appears, led, tools, against, trash, leak, based, compared, thanks, lock, matter, useful, everyone, protect, didn, keeping, morning\n",
            "gloves, hands, glove, warm, fingers, hand, tight, large, thumb, wrist, oven, don, cold, mitts, wear, proof, pair, medium, water, keep, ordered, ve, resistant, bit, long, made, same, winter, finger, rip, palm, dry, which, allergic, side, hold, purchasing, warmer, ordering, order, while, still, 30, enough, forklift, 30f, palms, by, year, gripper, tips, feel, could, minutes, sizing, tear, fingertips, looking, ran, snug, accurate, seem, keeping, nickel, hunting, piano, pretty, using, say, child, then, look, heat, part, ll, knit, every, decided, doing, fits, putting, way, put, exercises, needed, shapes, material, meat, christmas, alright, lotion, run, some, snow, copper, tried, last, continued, lot, riding, big, hot, didn, burning, otherwise, pans, concerned, fitted, always, gets, unfortunately, yesterday, kind, return, grill, cuts, garage, cut, odd, next, lbs, ones, any, short, professional, loves, trust, become, rain, safety, burn, mom, longer, taken, adult, costume, found, padding, driving, smaller, came, reviews, local, negative, getting, inside, away, now, stretch, phone, better, am, handy, soft, won, able, took, stated, first, total, sized, wet, inch, worth, sizes, wish, against, online, spend, velcro, take, knife, comfortable, everyone, think, morning, worst, complaint, uncomfortable, option, wore, should, though, insides, donned, knuckles, chloride, wintertime, detergents, petroleum, shortness, pallets, kipping, heavyweight, hf, agter, luke, communion, motorcycling, crossings, biker, inhibit, orde, phalanges, anywho, 1960s, frostbite, ripe, sever, briefest, ribbing, snowy, old, saw, amazon, fine, recommended, given, unless, past, into, new, family, right, cheaper, add, cost, amount, make, see, toll, pakistan, graders, hottest, repeating, trunks, treasure, hassles, knuckle, unstitched, fleshy, goes, items, although, disappointed, value, break, between, box, keeps, received, money, store, play, highly, whole, kept, bigger, supposed, iv, shoveling, mans, convention, submerge, meds, chicago, wrestle, technique, guess, real, larger, awesome, advertised, digs, 43, voila, sporty, barbell, been, under, car, extra, durable, life, haven, tongs, sensation, mil, jersey, stitch, numb, searched, suits, practicing, gears, inward, facebook, also, doesn, colors, retain, aggressive, painfully, warn, funky, bedtime, beating, grandmother, jan, rotary, dude, incredible, liked, warmth, lengths, latex, gripping, steering, aids, experiencing, imo, may, help, stay, ladies, husbands, index, mechanic, merchandise, measurement, golf, 140, job, nothing, years, anything, 21, quilt, downfall, cutters, second, couple, actually, already, overall, haha, owning, prevents, week, thin, manufactured, insulation, cuff, interfere, soaked, stretching, lightly, roomy, olds, located, cumbersome, freezing, ok, broken, their, sore, flame, hurting, cash, irritated, performs, stocking, arthritis, grandchildren, warehouse, foods, frozen, where, makes, whoever, tears, wrists, picture, loved, marker, joint, handling, struggle, fittings, physical, happy, times, something, choices, march, letting, without, florida, skinny, patterns, silky, thumbs, removal, smelling, thermometer, degree, cozy, super, resistance, curls, surfaces, know, seems, purchased, loop, freezer, common, outdoors, agree, thing, arrived, sports, thickness, lifting, magic, working, go, protecting, stretchy, 4th, cheap, king, december, headache, selection, set, hung, layer, sewing, speak, unique, 45, different, exposed, lace, female, around, workout, functionality, degrees, loosen, she, vs, equipment, shrink, begin, joke, compression, he, traveling, cast, before, sister, switched, comfortably, appreciate, cabinet, protected, wanting, daughters, fail, pricey, extended, square, doubt, including, relief, its, undone, shot, unlike, razor, surprise, bucks, chemical, 90, moisture, burned, liner, guide, frequently, electric, split, ride, chart, need, temperature, application, toddler, woman, stronger, 2019, tore, fair, worry, offer, showing, aware, protective, lighting, 2018, form, over, wheel, flexible, sucks, iron, beat, positive, pairs, effect, wind, girl, tree, anywhere, across, again, awkward, sleeve, perhaps, mean, magnetic, gym, comfort, wont, period, bend, yourself, hook, ready, duty, prevent, functional, im, stitching, avoid, weather, possible, seam, minute, waterproof, case, brands, underneath, average, section, two, fitting, apply, xl, provide, cant, boxes, sorry, texture, durability, grip, per, addition, starting, ends, sets, kid, wrap, lol, manufacturer, spot, 50, honestly, above, stiff, older, slip, somewhat, comfy, pads, stays, safe, sending, rough, covered, prefer, garbage, bar, birthday, yes, near, sit, tools, anymore, fairly, running, pressure, hang, live, photo, careful, playing, notice, held, didnt, kit, protect, worn, weird, correct\n",
            "hat, head, hats, helmet, cap, big, brim, look, son, made, large, ordered, shape, fits, hair, tight, color, also, stretched, cute, bill, year, unfortunately, want, old, down, wanted, return, ears, wear, looks, swim, could, way, different, now, shaped, he, right, doesn, caps, strap, gonex, wider, bigger, skull, dallas, face, came, others, cowboy, definitely, stitching, should, better, top, sun, kind, alien, liked, bit, crown, pom, crease, weird, his, recommend, pictured, disappointed, box, overall, adjusts, creases, 23, stocking, nicely, try, pull, ear, swimming, am, rolled, side, super, shirt, wearing, decent, another, purchase, set, damaged, whenever, amazon, guess, saving, around, sew, depth, general, while, returning, before, under, issues, its, ever, enough, either, heads, yr, looked, company, however, woman, perfectly, received, whatever, tore, post, credit, review, inner, exchange, wears, include, mother, piece, teeth, women, adult, costume, pool, reviews, deep, beach, winter, how, adjustable, silicone, sizing, average, wasn, sent, texture, center, sold, ll, which, snug, stiff, match, none, picture, snap, days, double, wish, pants, velcro, compared, come, worn, shower, poorly, since, trip, child, rollable, doin, floatie, sombrero, bonnet, fundraiser, indecisive, helmets, broadheads, pinned, depicting, unhelpful, abraham, muff, afro, tryin, mexican, appropriated, assembles, lincoln, yourselves, comfortale, noggin, aprt, reshape, order, same, looking, bent, sure, hole, don, hard, space, see, length, peter, licensed, muffs, veteran, flamingo, cm, erect, unsnapped, unrolled, ole, flocking, rubberband, oval, offering, antennae, ohio, dismayed, christmas, although, huge, warm, must, keeps, then, us, original, unevenly, bald, childrens, hmm, unethical, snail, garish, accepting, elf, festival, credits, melon, buys, adjuster, again, mine, him, close, band, needs, pay, send, metal, snagging, ruffle, dome, columbia, otg, baseball, sooooo, bled, velvety, recieve, officially, army, sewed, etsy, tooo, been, put, extra, people, kids, feels, wobbles, ps, ashamed, cow, jaw, maintained, photograph, dressy, sensory, hawaii, cautious, holy, unfolded, rude, porous, might, room, star, trying, still, weirdly, faux, intent, exposing, limits, pegs, wit, reminds, some, quite, pony, squished, staining, creased, teenager, temperatures, pricing, circumference, discoloration, high, wouldn, returned, daughter, loves, half, warmth, remotely, pushes, imo, canal, turquoise, bleeding, floppy, divider, horizontal, having, seem, help, gladly, profile, stitched, europe, grows, spoiled, unwanted, listened, didn, maybe, said, neutral, 21, loses, rides, fluff, second, say, already, affected, lacks, completed, lame, newborn, themed, poking, soaked, manufactured, rusted, most, weeks, overseas, fading, cloths, hell, grace, puts, emblem, oddly, suitcase, ok, broken, soft, their, took, shedding, horribly, enjoys, shallow, inaccurate, alive, makes, beard, picky, premium, drawstring, goggles, faces, chin, title, letter, decal, flexibility, windy, soak, admit, flawed, rim, stuffed, rich, fear, posted, give, material, request, classroom, separating, without, bad, law, thrilled, comfortable, lg, internal, measured, regularly, reference, ridiculously, know, water, random, mainly, sprayed, scratchy, going, thing, parents, situation, re, bag, broke, upper, budget, snow, crooked, stands, father, headache, our, knees, fine, generally, choose, blew, meaning, gear, separately, tighter, expected, losing, vs, tons, adjusting, fur, painted, tail, recieved, logo, warped, fat, outfit, few, months, reorder, tag, unhappy, adults, changes, glued, pet, halloween, minor, sweat, folded, item, strange, wipe, compare, make, boot, ways, state, shot, weekend, afraid, 90, stylish, word, downside, long, elsewhere, mold, chart, never, pretty, clasp, need, cloth, round, buckle, heavier, odd, remember, coverage, project, meant, lining, shop, inexpensive, provides, string, china, caused, packs, tested, iron, towel, girl, removing, positive, popped, snapped, across, rust, safety, taken, torn, pan, man, nor, narrow, bend, 14, checked, directly, stayed, construction, mail, everyday, ve, tighten, funny, shorter, elastic, avoid, negative, jacket, build, rings, pro, future, breaking, continue, 2nd, stretch, eyes, compliments, sort, clearly, tall, doesnt, opinion, nose, normally, lol, everywhere, ran, arms, higher, above, name, somewhat, comfy, pads, course, likes, sized, previous, plan, cause, damage, onto, appears, covers, near, understand, washed, 15, lower, everyone, fully, didnt, protect, gives, keeping, worst, leaves, surprised, travel, option, runs, late, totally, attached, protection, paint, contacted, wore, shoe, pleased, neck, party, impressed, wide, shows, green, packaged, falling\n",
            "star, stars, give, reason, seller, gave, rating, received, broken, giving, zero, rate, item, screen, could, took, dehydrator, gets, four, money, now, sent, rusted, changed, pencils, never, then, three, responded, anything, bcs, return, protector, iron, wish, such, think, assurance, otherwise, two, arrived, working, mask, soldered, horn, deserve, junk, clutch, board, piece, waste, scam, package, rounds, reflect, again, able, came, sling, trays, days, mm, am, receive, know, water, made, let, okay, going, amazon, fine, coloring, big, due, data, worked, he, gun, till, required, rated, its, ever, couldn, son, perfect, luckily, company, alone, replacement, poor, biggest, bolt, any, returned, look, yet, may, man, everything, stock, smaller, years, reviews, functional, put, negative, inside, case, phone, week, thin, less, together, most, five, complete, doesn, first, picture, many, easily, needed, hit, gold, slide, didn, morning, told, seems, wood, purpose, except, late, happened, purchase, thing, lightweight, anise, blip, twirl, rogue, overrated, bearly, untidy, marriage, peas, falsly, oer, preserves, jeez, canbus, 2pcs, petfect, kite, cleats, chucker, casino, around, given, past, seat, cord, down, enough, ring, leathers, ranking, polo, hazel, ga, prepackaged, flicks, promotion, initiated, reputation, bcuz, zippo, deducted, bundled, apologetic, warrants, traveled, customizable, crumble, items, by, ago, christmas, today, delivery, need, delivered, handheld, teething, dehydrate, carrots, procedures, captain, docking, launch, retractable, bathmat, fondant, river, deal, home, cannot, fell, says, needs, minutes, glass, cocoa, submit, feminine, bogus, fibers, lesser, bake, poker, crinkly, pity, been, how, opened, itself, better, flights, jams, actions, precious, ashamed, within, why, unfortunately, still, shipping, which, full, prevented, replaces, substantially, prongs, compliment, spreading, de, dimension, instead, wrong, until, stopped, indeed, resemble, yeti, vintage, stripes, satisfactory, mitts, retailer, wouldn, isn, liked, probably, gift, fee, fed, tactical, remotely, soldering, stay, issue, outs, withstand, instructed, selected, bullets, design, started, said, flops, co, descriptions, organize, caring, actually, say, already, overall, anybody, cutter, aesthetically, disconnected, clue, performed, charge, fight, once, weeks, plane, carries, assembling, measuring, occasions, both, every, being, stress, custom, hundred, presentation, enjoys, wanted, trunk, everytime, sections, shield, skeptical, noted, large, advertisement, america, electronic, omg, necessarily, hence, barrel, supposedly, maneuver, sync, far, peeled, convenience, solar, manner, material, wrote, returnable, without, bad, feel, side, member, containers, supplied, reply, refused, pure, casual, mats, fruit, quantity, refurbished, rolling, bumps, xbox, since, plastic, batch, raised, cart, orders, capacity, purchases, oven, cross, bag, should, broke, want, sole, trick, crooked, flap, lot, vibration, selling, painful, bummed, layer, site, fly, saving, shopping, socket, reasons, overpriced, expected, keep, adjustment, marked, intact, painted, screens, timely, practical, assume, few, before, sure, reorder, glued, answer, adding, resistant, daughters, thru, panel, ruined, promised, performance, personal, 60, promptly, season, 18, cooler, transfer, shiny, drain, pass, cook, vacation, youtube, bracket, stores, disappointed, misleading, message, envelope, proof, sticking, using, however, sell, pulling, initially, box, post, credit, flip, plugs, ridiculous, changing, melted, cardboard, over, applied, looks, anywhere, snapped, mat, ups, early, oh, chance, asked, crap, adorable, period, games, seeing, sounds, label, dryer, ordered, 25, fake, yourself, lasts, wires, hardware, mail, way, roll, waiting, error, 11, minute, toys, pulled, means, walk, spent, bubble, frustrating, test, seconds, opinion, likely, failed, hate, wrap, lol, fault, snug, eat, school, died, some, mess, connected, photos, convenient, removed, hopefully, awful, assemble, upon, behind, inch, double, storage, online, running, impossible, closed, check, thanks, wire, adhesive, lock, fully, seal, runs, dropped, glad, wore, seen, built, charged, shoe, remote, normal, base, contact, party, stop, table, etc, wait, body, green, save, opening, rest, carry, flavor, glue, annoying, multiple, please, move, cheaply, family, leave, myself, soon, true, food, solid, bags, useless, 30, cup, dark, red, parts, cold, cracked, free, installed, lost, simple, holds, shipped, goes, door, takes, although, difference, shirt, tell, coffee, stuff, problems, quick, value, during, stand, shoes, must, hoping, description, point, store, area, original, extremely, here, whole, someone, charging, bigger, supposed, excellent, replace, update, especially, fall, support, mine, fabric, expensive, packaging\n",
            "bugs, traps, mice, trap, ants, caught, insects, wasps, plugged, flies, mouse, bug, roaches, pest, repellent, beetles, moth, apartment, around, catch, bait, snap, crawling, spikes, seen, still, dead, spiders, gopher, exterminator, moths, ant, mosquitoes, away, house, don, mosquito, mosquitos, spray, now, saw, which, mole, any, bees, set, effective, few, area, backyard, weeks, light, using, pets, kill, several, ve, garden, two, four, nothing, sure, some, month, yard, see, day, dusted, rodent, rodents, bengal, poison, garage, where, money, us, resort, rats, those, wicks, put, since, within, night, bites, rat, japanese, none, before, damage, yet, attracts, sonic, pellets, running, live, sticky, enough, morning, kitchen, recommend, anything, overall, past, placing, been, days, trees, coming, far, happy, come, birds, fruit, keeps, outside, sprayed, doesn, going, device, first, whole, blocks, animals, fly, least, while, didn, ft, issues, outlet, pet, down, haven, its, instructions, room, outdoor, bedroom, went, cut, however, quite, received, fast, each, spring, across, place, may, having, again, seem, certain, clean, found, tray, directly, construction, solution, children, despite, couple, avoid, getting, case, week, better, less, am, once, empty, hate, their, every, correctly, also, clothes, many, safe, inch, led, times, check, keeping, results, know, definitely, late, believe, thing, trip, re, tried, invading, cornered, maggots, kindest, exterminated, inundated, insecticides, evaded, humane, honeybees, heartless, entering, nat, hangout, gophers, gnawed, hast, dissect, catchers, sq, whiteness, arr, astronomical, ultrasonic, trapping, toads, baiting, becareful, blackie, whiff, blockage, scorpions, scavenger, roach, repelling, repellers, repelled, procduct, playground, contact, stop, lot, finally, wide, etc, save, window, please, keep, control, worked, into, cat, tiny, soon, food, bags, plus, line, horrible, lots, plug, stuck, dispatch, rounding, siding, snakes, rotting, boiler, lizards, realised, bushes, prolonging, plentiful, photographs, pesky, deterring, citronella, nc, kicking, cruel, crawled, bitten, sneaky, beetle, suckers, gigantic, attracting, activates, ecosystem, by, bed, door, long, start, pretty, hands, problems, must, holes, hoping, store, over, highly, jacked, baths, feeders, 900, wildlife, refuse, protruding, glows, bee, buggers, flooding, lures, court, eastern, fulfills, fluorescent, horrific, spike, percent, absolutely, home, says, ordered, minutes, bright, destroying, chances, monsters, colder, waves, gimmick, co2, entrance, tabletop, tooo, under, how, hours, lice, accidents, potentially, nyc, jackets, advised, predator, unfortunately, trying, satisfaction, beside, efficiently, prevented, savvy, mowing, fir, laughed, planted, delta, valuable, enhance, strong, instead, lights, until, next, almost, ones, quickly, barley, overcome, catcher, effectiveness, sucking, things, isn, goo, catching, approach, hopeful, continuously, ineffective, beeping, help, vegetables, woke, rely, reduction, yards, fixture, kills, particles, ins, signs, job, said, waste, reviews, creatures, escape, granted, spider, killer, bay, barn, inside, open, bringing, fewer, increased, treatment, openings, entry, dream, blinking, burner, streaks, household, fight, shorted, chewing, cereal, ll, killed, grew, assortment, discover, premise, frustration, located, both, won, being, alive, ignored, rooms, mixing, hurting, chewed, resolve, lawn, prices, problem, bird, floating, honey, neighbors, contains, large, suspect, activity, nasty, loved, supposedly, struggle, indoor, electrical, organic, upside, method, web, fishing, find, give, con, boards, success, human, managed, meat, closely, bucket, take, side, florida, kinds, common, flying, plastic, chemicals, porch, town, july, another, kick, wasnt, passed, situation, helping, bag, working, though, shed, lemon, boyfriend, initial, top, old, last, glow, bump, same, slippery, increase, gross, walls, different, bin, discovered, clothing, bonus, guessing, big, equipment, slot, building, joke, months, camping, tech, alternative, concerned, types, ton, policy, carefully, knock, toilet, lack, including, states, make, worthless, state, season, dollar, somehow, unlike, young, thus, release, chemical, liner, burned, downside, waited, return, disappointed, reliable, tough, alone, special, following, necessary, features, beginning, tested, living, effect, positive, worried, wax, moved, six, bathroom, seeing, moving, mostly, mistake, wires, 14, smelled, manual, way, sense, bother, blade, im, process, possible, waterproof, toys, called, liquid, dust, frustrating, boxes, attach, test, per, luck, inches, changed, ground, placed, allow, everywhere, range, spot, recently, suction, died, third, yellow, hopefully, course, previous, pick, covered, available, double, throw, yes, worse, mind, covers, single, trash, summer, thinking, based, hang, photo, daily, notice, lock\n",
            "bottle, bottles, cap, leaked, leak, lid, box, liquid, oil, over, jug, leaking, open, half, plastic, package, arrived, leaks, top, seal, spill, closed, oz, shipment, shipping, dropper, want, design, came, now, won, some, glass, spilled, shake, happened, how, yet, bottom, first, item, properly, threads, never, counter, gradual, unsealed, powder, wasted, water, two, bag, frustrating, epoxy, whipped, don, loose, empty, still, amazon, everywhere, full, serum, keep, container, buying, down, exploded, dispense, boil, bombs, shipper, entire, inside, extreme, death, nipple, broken, problem, been, transit, horrible, hope, ring, screwed, pour, fitness, stuff, which, upright, another, dispenser, products, essential, damaged, expensive, packaging, says, intact, contents, while, warped, before, appeared, opened, cabinet, oils, itself, force, people, caps, hours, packages, shot, within, bath, unusable, received, poor, inner, stainless, isn, removing, having, sealed, ordered, yourself, cream, packed, way, prime, roll, tighten, fill, actually, 11, steel, breaking, seller, obviously, drink, where, stays, year, lose, sit, give, side, careful, know, re, should, exploding, mastic, maintains, immense, lubricity, fund, evenness, 10oz, jugs, blogger, edt, dishwashing, divine, urls, dribble, bastard, proves, pondered, pisses, 4oz, old, last, heat, looking, opening, multiple, four, new, sure, wife, style, cold, cracked, tape, pictures, thank, immediately, enough, day, distortions, dispensers, splashes, diesel, funnel, unsettling, mobil, consecutive, soggy, unequal, unreasonable, wetness, arrows, injuries, sprayers, evaporates, doh, explode, refrain, sometimes, screw, takes, long, noticed, receive, delivery, paid, change, disappointed, need, using, keeps, outside, hoping, let, then, dripping, guardian, submitted, earned, hipster, forgetting, canisters, unscrewed, mouthpiece, ml, generated, update, again, deal, returning, refund, operates, wasteful, released, nutrition, flammable, steep, under, put, am, stopper, nipples, article, autism, ratio, porous, malfunctioning, emptied, grateful, naked, filthy, might, trying, three, smoothie, accordingly, pours, cycles, fairness, siphon, tipped, rethink, also, left, doesn, quite, replacement, teflon, bday, loosened, warn, excitement, aroma, lingers, olive, difficult, probably, frankly, lube, indicates, goo, cork, coated, end, place, clean, withstand, overpowering, limit, resin, 10, years, who, poured, equivalent, friction, unknown, synthetic, second, finicky, manufacturers, amounts, week, soaked, ya, once, leakage, convinced, advise, gently, able, being, mr, investment, newer, toxic, presentation, mixing, terrific, disposable, functioning, 80, sufficient, noted, consuming, situations, pry, drives, reviewer, many, favor, canister, manage, nope, gasket, foil, handling, 99, flawed, bench, upside, secured, something, wasting, roller, valve, dies, bad, busted, sooner, edit, refill, eligible, her, think, sees, resolved, protein, happening, thought, definitely, spout, since, notch, porch, batch, dent, gum, thoroughly, mop, link, purchase, hits, defect, ceiling, closing, recent, broke, go, though, earlier, individual, tried, order, attempt, polish, improve, our, same, experienced, wrapping, whenever, speak, drinks, different, continues, college, oily, losing, tightly, expired, into, drinking, standing, assume, traveling, tops, few, somewhere, returns, switched, milk, answer, cans, alternative, hard, entirely, throwing, previously, possibly, carefully, fail, cartridges, search, bummer, gas, cleaner, holders, dollar, effort, by, walmart, refunded, gel, zip, reviewers, paying, bottoms, plate, envelope, filled, missed, woman, meant, whatever, 16, replacing, tore, money, following, flip, protective, receiving, cardboard, look, packing, caused, features, looks, become, causing, sucks, priced, appear, bubbles, effect, twist, across, tips, mean, gym, torn, period, starts, happens, lasts, showed, mail, crazy, truck, certainly, ve, winter, happen, noticeable, im, separate, case, assembly, plenty, future, 2nd, wrapped, arrive, anyway, better, response, tip, cant, bubble, spent, sort, tank, sold, concept, therefore, ends, kid, changed, wrap, hate, tea, manufacturer, suggest, honestly, nearly, 50, basically, school, third, mess, older, directions, convenient, date, push, total, threw, safe, wet, upon, covered, secure, onto, pop, worse, accurate, trash, against, brown, thinking, pressure, constantly, 15, drop, matter, notice, fully, didn, gone, results, complaint, poorly, finish, defective, forward, option, except, along, pump, dropped, wore, version, child, neck, normal, floor, fix, shows, packaged, rest, turned, annoying, please, smells, unless, past, decided, flat, later, myself, regular, doing, uses, bags, pain, barely, twice, amount, anyone, coming, stuck, holds, shipped, items, ago, cool, although, fact, taking, coffee, delivered, break, stand, seemed, must, description, okay\n",
            "shelf, drawers, shelves, drawer, cabinet, organizer, screws, put, tiers, open, books, bottom, came, shelving, cookbooks, quite, box, piece, top, together, cabinets, don, look, looks, hold, heavy, could, difficult, each, expected, anything, enough, sliding, plants, assembled, close, unit, cupboard, scrapes, silverware, corner, our, different, fine, pieces, storage, item, keeping, found, recommend, smaller, return, straight, received, away, then, over, bent, part, broken, flat, been, way, washers, space, two, excited, happy, better, something, am, without, items, come, think, decide, row, plastic, also, making, opens, apartment, jewelry, expensive, latch, closet, front, doors, file, dirt, knock, make, ways, washer, perfect, install, strong, any, liked, sturdy, seem, mounting, stay, bathroom, design, ordered, tray, despite, functional, already, getting, now, considering, handles, which, being, five, honestly, wanted, some, try, doesn, large, note, find, material, closed, careful, super, didn, system, kitchen, water, thought, wood, another, arrived, go, though, playroom, clang, platters, bookends, rebuilt, anothers, probes, 3pk, unsturdy, squirrely, attatch, downsized, unfortunetly, unclutter, dare, nutmeg, nsf, replant, eyeliners, thre, arrieved, cheap, lot, set, computer, save, unless, worked, months, aren, putting, holds, lop, stackable, furnish, grail, tended, fins, caddies, instruments, thrive, template, screw, door, disappointed, pretty, need, holes, flimsy, description, store, planter, tackle, meticulously, restriction, husband, again, home, customer, house, send, metal, returning, service, shortest, walnut, oak, alternate, riser, divided, tier, disturbing, colour, donut, kids, weight, van, mallet, skinnier, holy, journals, distances, diagram, paperwork, charms, gets, room, three, night, kind, promise, swear, pours, believed, advent, welded, left, first, wrong, smell, upsetting, glance, reviewing, spices, lingers, high, things, daughter, probably, yet, goal, documents, liners, remotes, physically, acrylic, lean, may, longer, help, eliminate, dying, said, laptops, drains, dresser, prop, cube, stud, organize, posts, bamboo, inside, wound, drilling, decorations, pissed, begun, knobs, package, sent, best, shifting, weeks, hidden, plane, rendering, located, suitcase, storing, puts, assembling, won, able, loosely, makes, jobs, poles, floating, attempting, many, wrinkled, tags, electronic, tacky, easily, scared, handling, wish, needed, individually, fishing, bench, disconnect, bang, times, semi, flaws, mascara, returnable, supplies, side, tubes, folding, dimensions, terribly, measured, opposite, rods, gate, dig, thats, flush, inserts, difficulty, porch, connectors, agree, purchase, closing, removable, passed, calendar, fridge, broke, should, working, want, stripped, strength, tried, order, sided, compartments, operate, draw, hung, disc, pushed, college, cubes, question, sleek, discovered, clamp, hide, around, catch, wobbly, ugly, meet, brackets, dented, equipment, tile, tightly, depth, into, min, begin, colorful, traveling, before, width, glued, plays, right, mechanism, ton, messy, square, carefully, bit, search, sons, moves, limited, see, usable, thus, makeup, improvement, long, imagine, backing, elsewhere, light, cook, reasonable, lip, stores, pass, mini, garage, below, tough, using, furniture, listed, finding, tore, money, driver, phones, following, showing, counter, dollars, include, nails, living, ease, self, thinner, appear, radio, lay, moved, fixed, insert, crap, hanging, spots, boots, ready, scratched, turning, crazy, setup, hardware, leaving, ve, attention, duty, scratches, hardly, sadly, shorter, how, negative, adjustable, separate, toys, ship, build, called, plenty, assembly, lovely, corners, means, intended, obviously, test, per, hassle, handy, still, fault, press, made, recently, basically, 50, higher, dirty, match, third, clothes, stated, none, directions, push, date, surface, assemble, sending, sized, provided, secure, garbage, damage, rating, onto, weak, worse, covers, tools, against, trash, holding, brown, hang, wonderful, check, thanks, adhesive, slide, lower, noise, ball, defective, forward, condition, except, helpful, purpose, totally, along, believe, ordering, protection, loud, paint, lightweight, built, smooth, pleased, main, care, table, finally, shape, body, etc, opening, given, falling, multiple, annoying, holder, middle, easier, connect, pocket, four, tiny, family, rubber, regular, soon, useless, giving, barely, hole, touch, dark, plus, line, show, ripped, parts, installed, amount, pictures, stuck, hope, simple, properly, goes, bed, ago, wall, idea, today, huge, taking, tell, problems, value, paper, break, stand, own, outside, ended, original, extremely, disappointing, products, replace, done, face, update, dry, support, fabric, missing, those, amazing, due, advertised, needs, pay\n",
            "recipes, book, cookbook, diet, delicious, cook, pot, keto, meal, instant, food, ingredients, meals, health, weight, simple, cooking, eating, those, recipe, formulas, lose, healthy, dishes, who, guide, helpful, lover, foods, photos, plan, most, diabetes, enjoying, author, make, learning, some, steps, veggie, vegan, lifestyle, best, many, cooker, provided, haven, understand, find, follow, interesting, informative, how, recommended, help, new, family, loss, few, changes, lots, caregivers, prepping, crock, mediterranean, stuff, vide, plans, jewish, sous, tips, af, habits, read, kids, people, cookbooks, utilize, carbs, deliveries, suggest, eat, avocado, approach, straightforward, ideas, its, information, thanks, useful, found, editing, already, carb, dinner, science, providing, their, routine, cooked, benefits, tasty, pictures, exercise, person, her, think, know, parents, us, extremely, looking, advice, loving, require, history, into, contents, low, appreciate, list, collection, create, instructions, day, trying, by, wow, portion, fast, step, difficult, then, provides, things, living, ease, yet, choice, way, important, two, lovely, starting, ok, which, being, friends, easily, loved, wish, give, without, take, pressure, lower, through, purchased, along, enjoy, similar, want, tried, flavorless, uninformed, cheesecake, specialist, assists, pastries, poisoning, ketogenic, breakfasts, aptitude, thompson, fundamental, accountable, abstain, phoned, devotees, glancing, behaviors, teaches, alphabetized, delectable, incorporates, assumes, kristin, methodology, antibiotics, gooseberry, stepford, estrogen, weeknight, disclosing, fats, heavenly, overview, heaps, composing, cosori, supermarkets, companions, wfpb, instructive, faqs, nyu, rural, hashimotos, vocabulary, fasting, propose, ingestion, table, our, wait, helps, friend, enjoyed, she, included, myself, doing, hard, style, offend, renew, managing, restrictions, quitting, stew, qualms, segment, browse, boosting, colourful, essays, magnificent, debate, vegans, fortunate, freestyle, immune, implement, greek, maximize, implementing, recommend, huge, pretty, need, any, making, someone, excellent, supposed, reading, concerning, magazine, cheat, charming, creator, comprehensive, burger, momma, arrangement, advantages, soups, sustainable, manly, exceedingly, ebook, farm, lists, plainly, regimen, oriented, diagnosed, seafood, sibling, home, such, nutrition, prescribed, consumption, liver, oats, inspiring, spicy, precisely, reminders, calories, been, ve, am, intermittent, simplicity, taught, scope, rapid, modifying, resource, proven, clever, three, made, looked, full, valuable, bunches, extraordinary, changer, healthier, inspiration, gain, hungry, quite, latest, laws, flavorful, confidence, definately, resemble, prepare, phenomenal, grandmother, amazingly, ingredient, incredible, spices, gift, copies, surely, apron, topic, portions, goal, grandma, decrease, having, stay, overwhelming, yummy, index, instructed, essentially, nothing, staples, smoker, spice, groove, exceptionally, skipped, fascinating, public, relaxing, ads, grounds, familiar, patch, facts, lame, format, clue, community, sealing, anybody, wasn, sent, week, curious, utensils, prep, premise, naturally, muscle, subscription, fountain, assortment, discover, begins, south, readers, answers, struggling, every, mr, supportive, yrs, illustrations, alive, explanation, wanted, makes, try, authentic, attempting, knowledge, regarding, picks, permanent, manage, brilliant, outstanding, creative, don, presented, tongue, soup, method, ill, claimed, truth, success, preferred, recognize, thrilled, includes, comments, planned, alright, auto, input, thought, common, direct, attempted, sale, doctor, since, link, busy, cake, purchase, hits, beginner, offers, helping, content, re, working, though, appreciated, obvious, particularly, top, confusing, organized, essential, improve, selection, same, aside, wedding, different, dish, shopping, separately, reasons, designs, keep, data, download, begin, practical, while, boring, covering, fat, before, enjoyable, adults, adding, regret, wanting, halloween, copy, relatively, interested, lack, including, personal, surprise, afraid, slowly, perfect, miss, themselves, disappointed, reliable, info, detail, throughout, known, seriously, alone, filled, 2019, chocolate, post, necessary, guy, aware, variety, following, 2018, include, ask, mother, self, wind, truly, again, safety, pounds, mom, exact, magnetic, crap, fixed, sounds, mostly, ordered, effective, basic, could, ready, everyday, crazy, certainly, packed, sense, energy, avoid, heard, possible, process, now, average, section, lighter, intended, call, better, frustrating, sort, standard, recently, feeling, prefer, cause, behind, sheets, model, birthday, anymore, thinking, based, wonderful, photo, keeping, entire, kitchen, slow, correct, leaves, finish, forward, option, straight, pages, seen, shape, body, rest, turned, flavor, card, decided, leave, oil, 20, wife, type, lid, cost, free, hope, ago, cool, start, although, receive, problems, value, must, blue, decent, store, whole, game, absolutely, clear, deal, real, missing, least, amazing, awesome, due, fun, issues, extra, hand, stick, life, ever, might, why, kind, completely, heavy, replacement, poor, ones, watch\n",
            "fan, fans, quiet, air, cool, noise, room, heater, thing, turn, loud, thermostat, shut, blows, airflow, fine, power, remote, cooler, heat, installed, broke, spider, cooling, response, enough, light, refund, globe, led, didn, told, steam, ceiling, keep, switch, few, still, down, cold, powerful, chain, vornado, return, money, makes, zapper, customer, bathroom, speed, moving, service, should, seconds, locate, trying, night, which, nest, company, also, strong, he, rotates, bulbs, job, sleep, said, laptop, trip, however, already, annoying, dial, don, days, blowing, coming, camper, times, feel, amp, think, wiring, run, definitely, xbox, contacting, point, re, go, tried, lot, vibration, amazon, thread, batteries, she, worked, burning, right, itself, panel, flash, loose, day, gets, by, install, shipping, electric, motor, friendly, bedroom, need, left, heavy, stronger, received, 2017, stopped, then, wind, user, wont, design, started, hook, wires, turning, scratched, solution, finger, minute, away, now, sound, cant, cover, desk, ll, hate, won, battery, wanted, some, mount, throw, mind, something, stars, without, side, come, her, setting, defective, helpful, contacted, want, inverters, grrrrrr, imperceptible, simulated, setpoint, popup, cms, banal, 1700, crt, circulate, cools, counterintuitive, airbnb, top, old, contact, replaced, main, finally, our, turned, holder, 100, move, new, tiny, later, before, months, doing, 30, screws, button, amount, space, thank, make, stuck, disturb, nah, brushless, hottest, circulates, hum, instill, waving, thay, downgrading, exhaust, coolers, perfect, goes, bed, wall, recommend, start, change, pretty, expect, warm, during, decent, any, area, extremely, making, looks, ro, variable, magazine, grilled, distribute, producing, workers, cares, bartender, flames, wobbling, done, update, support, him, real, guess, pay, such, could, hot, bright, installer, squares, inclined, likeable, jerk, duration, motors, configuration, toggle, contractor, zapped, fastening, unit, car, put, hand, two, life, better, compressor, ignition, conditioning, converter, trapped, mornings, consumer, activated, ever, why, full, commented, considerable, displeased, mute, lights, doesn, next, buying, quickly, smell, confidence, conference, latest, hollow, deleted, pitch, thousand, fireplace, high, half, brand, shared, btw, comparable, default, conveniently, seem, help, stay, issue, comes, aaa, lowest, yours, fixture, wtf, banged, europe, skid, essentially, creates, suggestion, blind, maybe, who, waste, intake, wonky, co, psi, laptops, toward, bite, second, getting, inside, month, open, fixing, torque, noisy, partially, hint, jam, vents, sounded, placement, most, weeks, sucked, circuit, wouldnt, located, report, highest, tangled, powered, attempts, mediocre, problem, sufficient, stairs, peace, speeds, bug, depot, threaded, damn, incorrectly, spaces, sheds, tap, electrical, reverse, needed, modify, aspect, manner, happy, find, digital, letting, louder, managed, locked, take, trigger, edit, burnt, fence, hold, super, blood, controls, comments, units, seems, know, purchased, flush, thats, direct, dig, models, tomorrow, overly, july, porch, par, read, another, met, helping, balance, working, anyways, last, lit, customers, operate, draw, ac, riding, hung, looking, direction, breeze, discovered, breaker, choose, around, movement, supply, heating, separately, expected, warning, emailed, equipment, into, min, timely, while, ideal, grade, god, load, mounted, thumb, cabinet, forget, picked, pet, hard, listen, types, gentle, pricey, bit, sons, staying, its, alot, requires, washer, ways, slowly, outdoor, fragile, beautifully, strip, stupid, conditioner, drain, attractive, detail, seriously, rod, box, sleeping, fair, provides, over, quit, compact, additional, positive, snapped, pounds, mat, angle, result, happens, ordered, effective, checked, construction, ready, leaving, local, certainly, way, sense, bother, hardly, waiting, how, negative, blade, separate, im, build, case, pro, called, anyway, means, call, provide, spent, sort, test, opinion, per, inches, likely, corner, therefore, places, hassle, handy, placed, bulb, bike, function, connected, trouble, removed, surface, feeling, total, note, simply, dead, previous, level, ears, covered, prefer, behind, model, bar, onto, near, holding, hit, summer, fairly, understand, thinking, based, closed, pressure, plugged, careful, hear, didnt, fully, weird, results, surprised, print, non, satisfied, except, often, enjoy, similar, neck, care, favorite, saw, save, window, hour, given, multiple, middle, control, tv, pull, touch, usually, dark, plus, show, cost, lots, pictures, plug, lost, medium, screw, ago, takes, christmas, noticed, usb, paid, blue, lasted, whole, game, someone, excellent, bigger\n",
            "wife, worked, don, ok, flushable, seal, 22, still, send, others, cast, bit, using, ones, then, email, smaller, open, name, pockets, loved, without, didn, edge, woodshop, tournament, nets, longtime, hysterectomy, urgh, spec, haiti, reconstruct, aren, diffuse, reinforced, corrosion, kayak, wks, although, us, original, air, blasting, tractors, strike, buggers, replace, felt, says, metal, susceptible, aggravating, been, knocking, concerns, mil, gets, made, brakes, whats, married, stopped, fitment, unglued, brand, may, brushing, years, said, tin, couple, say, creases, football, factor, lately, shield, speeds, blast, far, needed, times, ripping, request, sooner, reply, padded, water, purchased, bank, sat, thing, closer, should, working, flap, last, cheap, customers, lot, same, bummed, hung, fine, overpriced, expected, flag, matches, grab, realistic, worthless, effort, compatible, tho, burned, return, friendly, paying, stronger, money, reach, flexible, anywhere, across, teeth, user, certain, exact, height, label, sealed, came, local, solution, zero, how, silicone, future, am, sorry, opinion, luck, likely, spot, school, stiff, slip, first, convenient, likes, damage, washing, anymore, understand, thanks, pictured, surprised, uncomfortable, purpose, built, expecting, charged, normal, remote, main, table, friend, given, middle, 100, switch, slightly, family, uses, useless, ripped, cost, parts, tape, strap, hope, difference, fact, break, must, charging, husband, face, expensive, guess, least, amazing, fun, bright, front, issues, handle, otherwise, stick, itself, people, kids, why, turn, shipping, pieces, full, left, until, fast, probably, sturdy, piece, having, seem, clean, longer, help, job, found, his, started, anything, actually, month, package, wasn, sent, week, thin, once, part, weeks, ll, both, every, won, able, being, easily, worth, wish, stars, find, give, material, side, comfortable, think, through, seems, thought, definitely, another, purchase, arrived, old, set, our, different, big, he, few, before, sure, hard, item, see, day, long, light, disappointed, however, box, received, look, again, could, way, ve, now, better, some, doesn, \n",
            "accurate, scale, temperature, thermometer, readings, bp, thermometers, batteries, accuracy, inaccurate, ph, oneida, temp, don, display, reading, kitchen, doctor, going, cheap, calculation, sphygmomanometer, rage, cooking, tested, ballpark, simpler, low, read, weight, seconds, beeps, aquarium, carbs, stabilize, difficult, compared, measurement, aaa, results, never, cuff, temps, most, ll, measuring, forehead, could, how, measure, blood, testing, seems, ours, doesn, set, different, degrees, keep, worked, didn, unit, itself, instructions, then, over, returned, appear, pounds, found, became, said, way, couple, weeks, their, also, prefer, worth, far, times, spend, find, give, impossible, check, know, water, glasses, should, similar, want, inaccuracies, mathematical, bacteria, inevifit, bmr, sierra, wildly, compound, drugstore, kg, lung, multimeter, hydrometers, hygrometer, celsius, old, same, body, tool, switch, family, uses, food, 30, 20, wife, show, ear, button, see, designers, squeezes, unclean, sender, readout, increments, mfg, verifying, fahrenheit, helper, entertain, thermostats, losses, calibrate, challenged, swaps, light, tell, change, using, outside, money, device, extremely, buffering, reliability, possibility, grams, conventional, diagnosed, acidic, doctors, deducting, 900, scales, power, least, awesome, bright, baseline, assurance, symbol, tester, latter, sanitary, ocd, achieved, ve, stick, now, durable, life, painless, alkaline, instrument, loading, broad, 44, nursery, phase, couldn, room, still, turn, companion, worrying, recover, nurse, corroded, gain, theirs, cut, wrong, several, until, temperatures, bet, log, high, wouldn, probably, piece, yet, recorded, remained, meals, inspected, gauges, occurred, having, seem, comes, profile, meter, rare, husbands, advertise, blends, swap, thermal, his, waste, intuitive, psi, bounce, freeze, inside, carb, marking, technically, deciding, sent, wonders, immediate, part, prep, reads, dr, vary, lab, took, raw, sensors, investment, baking, honey, trail, gripe, delay, tongue, microwave, gauge, wear, pour, meat, request, digital, letting, gallon, success, without, bad, side, degree, 120, traditional, attachments, hold, dash, terribly, through, purchased, meal, modern, decide, regardless, knows, instantly, busy, another, thing, met, bread, tries, nowhere, constant, timer, initial, last, dim, essential, updated, spread, significant, experienced, levels, serious, record, discovered, charm, catch, sick, data, consistent, responded, spare, while, tabs, fat, few, instant, drops, risk, projects, alarm, portable, respond, tracking, relatively, its, cars, performance, shot, program, enough, usable, effort, bucks, heads, perfect, outdoor, improvement, long, owned, various, waited, pass, cook, disappointed, pretty, attractive, need, known, lbs, meant, following, shop, offer, ingredients, exchange, dollars, expectations, signal, additional, track, spring, popped, mounting, early, gym, suppose, powder, mostly, soap, hook, wires, silver, world, local, certainly, been, bother, attention, waiting, lighter, continue, better, response, designed, frustrating, sort, feature, am, monitor, attach, doesnt, key, per, sensitive, hoped, hassle, sets, fantastic, page, manufacturer, function, office, suction, figured, number, above, some, complete, friends, first, convenient, push, stays, sending, rough, ears, turns, double, experience, appears, near, single, velcro, pen, pressure, wonderful, drop, everyone, useful, kit, gives, correct, written, adjust, poorly, finish, defective, print, purchasing, condition, actual, pump, believe, often, lightweight, version, built, contact, main, wait, dont, save, turned, recommended, multiple, easier, app, decided, tiny, leave, nicely, included, soon, true, doing, foot, cord, useless, rather, hole, touch, cup, twice, stuck, lost, simple, medium, sometimes, items, goes, takes, difference, taking, coffee, quick, value, run, between, own, blue, hoping, decent, flimsy, description, point, store, making, highly, whole, supposed, products, replace, done, absolutely, cable, especially, felt, damaged, guess, real, customer, larger, close, those, says, advertised, needs, such, minutes, refund, others, service, reason, under, extra, otherwise, kids, hours, ever, might, within, always, gets, unfortunately, star, trying, shipping, install, instead, quite, tight, replacement, next, buying, poor, fast, watch, short, isn, loves, half, liked, brand, end, place, longer, job, 10, design, smaller, maybe, years, anything, actually, say, package, wasn, thin, cover, once, ok, able, being, where, battery, try, large, wish, needed, happy, think, super, since, broke, though, order, lot, our, fine, looking, around, she, new, sure, right, hard, bit, item, color, day, by, any, ordered, came, put, phone, which, made, \n",
            "remote, controller, controllers, control, buttons, opener, voice, garage, however, button, batteries, working, car, tv, battery, remotes, cumbersome, quickly, old, same, new, charge, program, less, tlc, rumble, door, original, joystick, panasonic, functions, exact, period, without, since, stick, instructions, roku, trouble, first, worked, replacement, stopped, responding, wouldn, item, programming, day, originals, cheep, second, couple, seller, any, normal, replaced, ps4, springs, app, ordered, interface, nintendo, way, bad, come, controls, seems, micro, incorrect, charging, our, fine, customer, screens, recieved, returning, didn, service, few, bit, sons, turn, repair, using, completely, ones, over, memory, incredibly, longer, games, maybe, came, truck, already, pro, 2nd, better, charges, sold, failed, still, every, press, died, also, third, some, doesn, push, year, rating, far, times, tools, thinking, feel, condition, another, arrived, re, want, tried, joycon, choosers, zeroed, automation, f4, joycons, x10, keyfobs, weels, syphon, synchronize, corrupt, kneeled, telemetry, lesabre, fobs, centering, buick, axial, frsky, gamecube, beggars, controll, useing, vue, prudent, 19yr, xb1, screem, recalibrated, reccommend, investments, set, amazon, annoying, multiple, easier, switch, move, included, months, right, down, hard, its, 1999, technician, latency, harmony, descent, logitech, motorcraft, trailblazer, marginally, genie, compensated, ergonomics, incapable, goes, sometimes, recommend, long, usb, problems, box, money, highly, disappointing, yearly, keypad, foremost, openers, responds, procedure, paddles, courtesy, 3ft, seldom, replace, mine, close, advertised, send, could, gyro, forwards, translated, consists, directional, doa, downsides, elbow, seamlessly, analog, equipped, fob, waves, put, extra, hand, now, kids, phone, feels, am, incompatible, diagonal, technical, glitch, navigate, ps, vizio, texas, son, kind, scrolling, primarily, discontinued, panic, slimmer, ie, superb, damages, optimal, triggered, intention, went, heavy, repairing, indication, ios, imperfections, prepare, difficult, bottom, buzz, commands, fee, theory, informed, wired, issue, comes, jammed, snag, tests, 10, nothing, design, loses, satisfying, hubby, grain, dealer, intuitive, zoom, pairing, freeze, overall, enter, loads, exceeded, handed, magnifying, sent, best, placement, extreme, incomplete, specially, cover, most, weeks, figuring, fluke, stating, carries, map, weaker, broken, their, console, recommendation, chewed, explained, binding, warehouse, successfully, where, flight, picky, warned, tacky, brings, irritating, permanent, backwards, prone, handled, responsive, paired, comparison, wear, separated, claimed, outlets, yeah, hitting, receiver, take, side, connecting, requested, 120, kill, trigger, recognize, screen, unlock, unplug, unacceptable, lg, know, definitely, xbox, touching, models, going, thing, dock, balance, broke, go, 4th, appreciated, top, last, cheap, operate, whenever, vibration, different, looking, locking, serious, attachment, direction, slots, advice, channel, functionality, shell, asking, particular, adjusting, standing, min, spare, while, protects, stops, before, mark, tend, risk, thumb, gaming, smoothly, flaw, relatively, relief, market, till, cars, enough, 13, somehow, usable, sliding, promptly, compatible, slowly, yr, neither, by, videos, vehicle, watching, return, light, brought, drain, never, pretty, reliable, need, salt, sticking, heavier, listed, filled, received, finding, 16, following, driver, then, pre, peeling, form, look, bring, packs, signal, compact, anywhere, effect, snapped, harder, 3rd, complaints, crap, checked, mistake, certainly, action, finger, prime, scratches, roll, important, zero, hardly, im, position, 11, orange, eventually, lens, section, brands, corners, wireless, means, walk, feature, texture, boxes, grip, per, inches, therefore, sticks, changed, handy, which, correctly, made, recently, five, manufacturer, function, upset, options, older, friends, directions, comfy, note, likes, simply, awful, cause, turns, inch, port, warranty, garbage, damage, experience, collar, pad, near, hit, filter, anymore, spend, information, follow, check, compared, 15, wire, photo, daily, playing, lock, careful, slide, kit, worn, weird, correct, setting, system, worst, cables, defective, forward, actual, satisfied, helpful, believe, sharp, volume, seen, charged, party, base, stop, shape, computer, opening, turned, recommended, given, middle, unless, past, later, rubber, soon, pain, cord, useless, barely, giving, don, touch, plus, cheaper, screws, twice, installed, space, coming, anyone, plug, lost, holds, properly, ago, takes, christmas, idea, start, although, paid, taking, change, hands, delivered, quick, break, seemed, between, own, keeps, characters, outside, decent, lasted, description, ended, device, point, area, us, play, making, game, kept, excellent, supposed, products, husband, done, else, face, cable, absolutely, update, pack\n",
            "balls, ball, pump, stress, also, net, throw, rim, practice, glove, money, air, volleyball, least, baseball, way, grasp, blah, last, same, bat, review, ones, bounces, hard, hit, enough, bounce, tennis, football, flat, students, inflated, give, exercise, dozen, come, break, pup, flimsy, bag, though, nozzle, amazon, packaging, into, service, extra, hours, within, blow, unfortunately, plain, refunded, next, driver, quickly, brand, gym, said, waste, could, beach, been, ve, away, average, together, grip, shown, ok, broken, still, able, where, basically, first, removed, dead, easily, needed, anymore, constantly, fully, pictured, purchased, another, paint, want, yellowed, onyx, triplet, detent, basketballs, awarded, sharpe, learnt, golfer, blowup, offerings, ofr, passer, old, replaced, fine, carry, keep, new, few, included, soon, 12, right, barely, hole, free, make, day, newbies, inflating, wicker, signatures, anticipate, instructor, return, holes, hoping, point, any, over, play, unraveling, bush, wastes, looses, seldom, untangle, fall, fell, send, hamster, rotten, outline, scuff, tremendously, terrain, bind, slam, flopping, put, two, durable, better, white, stopper, flour, trainer, 31, inconvenience, full, bling, league, deflate, guarantee, weirdly, searched, clubs, doesn, perfectly, replacement, poor, responding, unraveled, marketed, aggressive, critical, difficult, high, isn, half, soccer, 500, closes, therapy, place, avail, instructed, spins, hoop, fourth, smaller, bay, psi, say, already, getting, inside, month, open, precise, displayed, detached, package, tedious, pit, weeks, players, begins, 300, soft, every, being, chewed, stem, loosely, enjoys, unfortunate, try, layers, drawstring, picture, many, year, worth, backwards, exercises, indoor, bending, mounts, spinning, physical, stars, feel, wraps, swing, busted, eligible, swallow, hold, country, field, accessory, prepared, blood, seems, instantly, overly, inflate, club, strings, emails, plastic, weren, outdoors, thing, animal, sports, evening, should, broke, developed, tried, cheap, delicate, opens, niece, feedback, gross, different, chips, thrown, coloring, expected, big, general, begin, pops, while, player, warped, before, sure, vendor, oils, chipped, types, mechanism, health, chip, marks, performance, weekend, somehow, surprise, season, color, cooler, constructed, chain, seams, puppy, faster, affordable, various, electric, brought, themselves, pretty, carrying, hopes, listed, pulling, girls, filled, began, specifically, received, special, fair, meant, variety, inexpensive, string, bring, looks, sucks, played, popped, again, rust, certain, pattern, major, moved, insert, torn, complaints, six, starts, seeing, stock, bend, spots, costume, height, driving, came, crazy, deep, fill, funny, granddaughter, pulled, arrive, wrapped, stretch, rip, compliments, test, sorry, attach, sold, doesnt, durability, places, ends, hate, sun, correctly, drink, fault, made, range, spot, manufacturer, 50, yellow, dirty, some, write, literally, stays, likes, pick, lose, secure, foam, board, rating, appears, tools, pen, sticky, 15, drop, everyone, didnt, didn, weird, morning, told, poorly, print, cleaning, option, satisfied, late, often, dropped, straight, contacted, built, normal, base, finally, green, rest, bent, hour, given, multiple, holder, please, toy, 100, card, four, cheaply, later, rubber, leave, uses, solid, 30, putting, don, touch, type, red, screws, ripped, cracked, amount, coming, immediately, excited, simple, ring, goes, noticed, delivery, huge, paid, tell, wearing, delivered, during, between, keeps, blue, description, okay, remove, here, game, someone, kept, disappointing, bigger, reading, absolutely, update, baby, clear, expensive, real, says, advertised, needs, head, returning, minutes, others, hand, stick, itself, kids, people, feels, weight, loose, couldn, either, why, gets, three, night, kind, pieces, strong, lights, left, went, completely, cut, buying, smell, dog, apart, things, short, gave, sturdy, piece, bottom, may, seem, longer, issue, comes, 10, found, started, years, best, less, once, most, ll, won, took, problem, wanted, fits, loved, wish, far, happy, something, material, without, bad, her, super, know, water, thought, since, going, purchase, arrived, re, go, order, lot, set, looking, around, he, recommend, long, need, using, however, box, then, ordered, case, now, phone, am, which, \n"
          ]
        }
      ],
      "source": [
        "for i in range(25, 50):\n",
        "  print(bert_LR_coef[0][i])   "
      ]
    },
    {
      "cell_type": "code",
      "execution_count": 37,
      "metadata": {
        "id": "0R0ZKUQBN4vf"
      },
      "outputs": [
        {
          "data": {
            "text/html": [
              "<div>\n",
              "<style scoped>\n",
              "    .dataframe tbody tr th:only-of-type {\n",
              "        vertical-align: middle;\n",
              "    }\n",
              "\n",
              "    .dataframe tbody tr th {\n",
              "        vertical-align: top;\n",
              "    }\n",
              "\n",
              "    .dataframe thead th {\n",
              "        text-align: right;\n",
              "    }\n",
              "</style>\n",
              "<table border=\"1\" class=\"dataframe\">\n",
              "  <thead>\n",
              "    <tr style=\"text-align: right;\">\n",
              "      <th></th>\n",
              "      <th>0</th>\n",
              "      <th>1</th>\n",
              "    </tr>\n",
              "  </thead>\n",
              "  <tbody>\n",
              "    <tr>\n",
              "      <th>0</th>\n",
              "      <td>don, didn, made, doesn, first, also, some, bet...</td>\n",
              "      <td>31.144919</td>\n",
              "    </tr>\n",
              "    <tr>\n",
              "      <th>1</th>\n",
              "      <td>book, story, read, characters, books, movie, h...</td>\n",
              "      <td>94.502689</td>\n",
              "    </tr>\n",
              "    <tr>\n",
              "      <th>2</th>\n",
              "      <td>loves, gift, loved, she, old, toy, made, daugh...</td>\n",
              "      <td>511.639537</td>\n",
              "    </tr>\n",
              "    <tr>\n",
              "      <th>3</th>\n",
              "      <td>taste, smell, skin, flavor, smells, scent, usi...</td>\n",
              "      <td>-11.164196</td>\n",
              "    </tr>\n",
              "    <tr>\n",
              "      <th>4</th>\n",
              "      <td>case, phone, screen, protector, cover, glass, ...</td>\n",
              "      <td>-1.512491</td>\n",
              "    </tr>\n",
              "    <tr>\n",
              "      <th>5</th>\n",
              "      <td>never, received, item, box, arrived, package, ...</td>\n",
              "      <td>-157.560315</td>\n",
              "    </tr>\n",
              "    <tr>\n",
              "      <th>6</th>\n",
              "      <td>working, worked, stopped, app, card, drive, mo...</td>\n",
              "      <td>-458.899428</td>\n",
              "    </tr>\n",
              "    <tr>\n",
              "      <th>7</th>\n",
              "      <td>shoes, comfortable, feet, shoe, socks, wear, f...</td>\n",
              "      <td>169.232445</td>\n",
              "    </tr>\n",
              "    <tr>\n",
              "      <th>8</th>\n",
              "      <td>charge, charger, charging, cable, battery, cab...</td>\n",
              "      <td>-73.074622</td>\n",
              "    </tr>\n",
              "    <tr>\n",
              "      <th>9</th>\n",
              "      <td>light, lights, bright, bulbs, bulb, led, clock...</td>\n",
              "      <td>20.819308</td>\n",
              "    </tr>\n",
              "    <tr>\n",
              "      <th>10</th>\n",
              "      <td>sound, ear, headphones, volume, ears, bluetoot...</td>\n",
              "      <td>-107.126414</td>\n",
              "    </tr>\n",
              "    <tr>\n",
              "      <th>11</th>\n",
              "      <td>dress, shirt, bra, ordered, wear, large, jacke...</td>\n",
              "      <td>4.718631</td>\n",
              "    </tr>\n",
              "    <tr>\n",
              "      <th>12</th>\n",
              "      <td>color, colors, pink, white, picture, blue, gol...</td>\n",
              "      <td>-44.474559</td>\n",
              "    </tr>\n",
              "    <tr>\n",
              "      <th>13</th>\n",
              "      <td>ink, cards, pen, pens, printer, wallet, cartri...</td>\n",
              "      <td>54.043330</td>\n",
              "    </tr>\n",
              "    <tr>\n",
              "      <th>14</th>\n",
              "      <td>smaller, expected, bigger, thought, big, large...</td>\n",
              "      <td>-109.203174</td>\n",
              "    </tr>\n",
              "    <tr>\n",
              "      <th>15</th>\n",
              "      <td>bag, bags, backpack, belt, zipper, strap, carr...</td>\n",
              "      <td>126.413902</td>\n",
              "    </tr>\n",
              "    <tr>\n",
              "      <th>16</th>\n",
              "      <td>fits, cover, perfectly, perfect, grill, didn, ...</td>\n",
              "      <td>236.961390</td>\n",
              "    </tr>\n",
              "    <tr>\n",
              "      <th>17</th>\n",
              "      <td>coffee, lid, cup, pan, lids, mug, pans, dishwa...</td>\n",
              "      <td>50.281228</td>\n",
              "    </tr>\n",
              "    <tr>\n",
              "      <th>18</th>\n",
              "      <td>dog, collar, he, dogs, cat, she, cats, her, hi...</td>\n",
              "      <td>-57.258090</td>\n",
              "    </tr>\n",
              "    <tr>\n",
              "      <th>19</th>\n",
              "      <td>sheets, soft, material, thin, fabric, sheet, c...</td>\n",
              "      <td>-157.151013</td>\n",
              "    </tr>\n",
              "    <tr>\n",
              "      <th>20</th>\n",
              "      <td>water, hose, filter, pump, tank, filters, show...</td>\n",
              "      <td>-172.816973</td>\n",
              "    </tr>\n",
              "    <tr>\n",
              "      <th>21</th>\n",
              "      <td>watch, band, bands, fitbit, wrist, original, a...</td>\n",
              "      <td>26.770770</td>\n",
              "    </tr>\n",
              "    <tr>\n",
              "      <th>22</th>\n",
              "      <td>hair, wig, shampoo, conditioner, dry, curls, s...</td>\n",
              "      <td>21.922634</td>\n",
              "    </tr>\n",
              "    <tr>\n",
              "      <th>23</th>\n",
              "      <td>install, together, instructions, assemble, put...</td>\n",
              "      <td>213.415656</td>\n",
              "    </tr>\n",
              "    <tr>\n",
              "      <th>24</th>\n",
              "      <td>stick, adhesive, glue, tape, wall, sticky, han...</td>\n",
              "      <td>-413.774159</td>\n",
              "    </tr>\n",
              "    <tr>\n",
              "      <th>25</th>\n",
              "      <td>knife, tool, blade, sharp, knives, tools, bits...</td>\n",
              "      <td>-62.602771</td>\n",
              "    </tr>\n",
              "    <tr>\n",
              "      <th>26</th>\n",
              "      <td>ring, necklace, beads, rings, bracelet, chain,...</td>\n",
              "      <td>-79.282342</td>\n",
              "    </tr>\n",
              "    <tr>\n",
              "      <th>27</th>\n",
              "      <td>glasses, lens, lenses, sunglasses, goggles, no...</td>\n",
              "      <td>-12.922576</td>\n",
              "    </tr>\n",
              "    <tr>\n",
              "      <th>28</th>\n",
              "      <td>camera, video, cameras, cam, pictures, project...</td>\n",
              "      <td>181.981108</td>\n",
              "    </tr>\n",
              "    <tr>\n",
              "      <th>29</th>\n",
              "      <td>game, games, fun, playing, play, played, kids,...</td>\n",
              "      <td>13.145282</td>\n",
              "    </tr>\n",
              "    <tr>\n",
              "      <th>30</th>\n",
              "      <td>chair, chairs, seat, comfortable, furniture, s...</td>\n",
              "      <td>12.736375</td>\n",
              "    </tr>\n",
              "    <tr>\n",
              "      <th>31</th>\n",
              "      <td>tent, umbrella, rain, wind, stakes, weather, s...</td>\n",
              "      <td>219.143164</td>\n",
              "    </tr>\n",
              "    <tr>\n",
              "      <th>32</th>\n",
              "      <td>pack, received, ordered, packs, bags, two, fou...</td>\n",
              "      <td>-11.822203</td>\n",
              "    </tr>\n",
              "    <tr>\n",
              "      <th>33</th>\n",
              "      <td>broke, apart, fell, within, first, month, mont...</td>\n",
              "      <td>-68.405603</td>\n",
              "    </tr>\n",
              "    <tr>\n",
              "      <th>34</th>\n",
              "      <td>expected, described, better, thought, exactly,...</td>\n",
              "      <td>42.614432</td>\n",
              "    </tr>\n",
              "    <tr>\n",
              "      <th>35</th>\n",
              "      <td>pillow, pillows, sleep, neck, firm, foam, memo...</td>\n",
              "      <td>26.366770</td>\n",
              "    </tr>\n",
              "    <tr>\n",
              "      <th>36</th>\n",
              "      <td>heavy, weight, lightweight, light, bulky, dumb...</td>\n",
              "      <td>164.622517</td>\n",
              "    </tr>\n",
              "    <tr>\n",
              "      <th>37</th>\n",
              "      <td>brush, brushes, bristles, toothbrush, heads, b...</td>\n",
              "      <td>167.728357</td>\n",
              "    </tr>\n",
              "    <tr>\n",
              "      <th>38</th>\n",
              "      <td>gloves, hands, glove, warm, fingers, hand, tig...</td>\n",
              "      <td>-10.525682</td>\n",
              "    </tr>\n",
              "    <tr>\n",
              "      <th>39</th>\n",
              "      <td>hat, head, hats, helmet, cap, big, brim, look,...</td>\n",
              "      <td>-108.501507</td>\n",
              "    </tr>\n",
              "    <tr>\n",
              "      <th>40</th>\n",
              "      <td>star, stars, give, reason, seller, gave, ratin...</td>\n",
              "      <td>-138.274336</td>\n",
              "    </tr>\n",
              "    <tr>\n",
              "      <th>41</th>\n",
              "      <td>bugs, traps, mice, trap, ants, caught, insects...</td>\n",
              "      <td>-36.428187</td>\n",
              "    </tr>\n",
              "    <tr>\n",
              "      <th>42</th>\n",
              "      <td>bottle, bottles, cap, leaked, leak, lid, box, ...</td>\n",
              "      <td>-162.272362</td>\n",
              "    </tr>\n",
              "    <tr>\n",
              "      <th>43</th>\n",
              "      <td>shelf, drawers, shelves, drawer, cabinet, orga...</td>\n",
              "      <td>-40.620566</td>\n",
              "    </tr>\n",
              "    <tr>\n",
              "      <th>44</th>\n",
              "      <td>recipes, book, cookbook, diet, delicious, cook...</td>\n",
              "      <td>63.527861</td>\n",
              "    </tr>\n",
              "    <tr>\n",
              "      <th>45</th>\n",
              "      <td>fan, fans, quiet, air, cool, noise, room, heat...</td>\n",
              "      <td>10.548172</td>\n",
              "    </tr>\n",
              "    <tr>\n",
              "      <th>46</th>\n",
              "      <td>wife, worked, don, ok, flushable, seal, 22, st...</td>\n",
              "      <td>101.112265</td>\n",
              "    </tr>\n",
              "    <tr>\n",
              "      <th>47</th>\n",
              "      <td>accurate, scale, temperature, thermometer, rea...</td>\n",
              "      <td>-50.552698</td>\n",
              "    </tr>\n",
              "    <tr>\n",
              "      <th>48</th>\n",
              "      <td>remote, controller, controllers, control, butt...</td>\n",
              "      <td>18.089979</td>\n",
              "    </tr>\n",
              "    <tr>\n",
              "      <th>49</th>\n",
              "      <td>balls, ball, pump, stress, also, net, throw, r...</td>\n",
              "      <td>-290.869111</td>\n",
              "    </tr>\n",
              "  </tbody>\n",
              "</table>\n",
              "</div>"
            ],
            "text/plain": [
              "                                                    0           1\n",
              "0   don, didn, made, doesn, first, also, some, bet...   31.144919\n",
              "1   book, story, read, characters, books, movie, h...   94.502689\n",
              "2   loves, gift, loved, she, old, toy, made, daugh...  511.639537\n",
              "3   taste, smell, skin, flavor, smells, scent, usi...  -11.164196\n",
              "4   case, phone, screen, protector, cover, glass, ...   -1.512491\n",
              "5   never, received, item, box, arrived, package, ... -157.560315\n",
              "6   working, worked, stopped, app, card, drive, mo... -458.899428\n",
              "7   shoes, comfortable, feet, shoe, socks, wear, f...  169.232445\n",
              "8   charge, charger, charging, cable, battery, cab...  -73.074622\n",
              "9   light, lights, bright, bulbs, bulb, led, clock...   20.819308\n",
              "10  sound, ear, headphones, volume, ears, bluetoot... -107.126414\n",
              "11  dress, shirt, bra, ordered, wear, large, jacke...    4.718631\n",
              "12  color, colors, pink, white, picture, blue, gol...  -44.474559\n",
              "13  ink, cards, pen, pens, printer, wallet, cartri...   54.043330\n",
              "14  smaller, expected, bigger, thought, big, large... -109.203174\n",
              "15  bag, bags, backpack, belt, zipper, strap, carr...  126.413902\n",
              "16  fits, cover, perfectly, perfect, grill, didn, ...  236.961390\n",
              "17  coffee, lid, cup, pan, lids, mug, pans, dishwa...   50.281228\n",
              "18  dog, collar, he, dogs, cat, she, cats, her, hi...  -57.258090\n",
              "19  sheets, soft, material, thin, fabric, sheet, c... -157.151013\n",
              "20  water, hose, filter, pump, tank, filters, show... -172.816973\n",
              "21  watch, band, bands, fitbit, wrist, original, a...   26.770770\n",
              "22  hair, wig, shampoo, conditioner, dry, curls, s...   21.922634\n",
              "23  install, together, instructions, assemble, put...  213.415656\n",
              "24  stick, adhesive, glue, tape, wall, sticky, han... -413.774159\n",
              "25  knife, tool, blade, sharp, knives, tools, bits...  -62.602771\n",
              "26  ring, necklace, beads, rings, bracelet, chain,...  -79.282342\n",
              "27  glasses, lens, lenses, sunglasses, goggles, no...  -12.922576\n",
              "28  camera, video, cameras, cam, pictures, project...  181.981108\n",
              "29  game, games, fun, playing, play, played, kids,...   13.145282\n",
              "30  chair, chairs, seat, comfortable, furniture, s...   12.736375\n",
              "31  tent, umbrella, rain, wind, stakes, weather, s...  219.143164\n",
              "32  pack, received, ordered, packs, bags, two, fou...  -11.822203\n",
              "33  broke, apart, fell, within, first, month, mont...  -68.405603\n",
              "34  expected, described, better, thought, exactly,...   42.614432\n",
              "35  pillow, pillows, sleep, neck, firm, foam, memo...   26.366770\n",
              "36  heavy, weight, lightweight, light, bulky, dumb...  164.622517\n",
              "37  brush, brushes, bristles, toothbrush, heads, b...  167.728357\n",
              "38  gloves, hands, glove, warm, fingers, hand, tig...  -10.525682\n",
              "39  hat, head, hats, helmet, cap, big, brim, look,... -108.501507\n",
              "40  star, stars, give, reason, seller, gave, ratin... -138.274336\n",
              "41  bugs, traps, mice, trap, ants, caught, insects...  -36.428187\n",
              "42  bottle, bottles, cap, leaked, leak, lid, box, ... -162.272362\n",
              "43  shelf, drawers, shelves, drawer, cabinet, orga...  -40.620566\n",
              "44  recipes, book, cookbook, diet, delicious, cook...   63.527861\n",
              "45  fan, fans, quiet, air, cool, noise, room, heat...   10.548172\n",
              "46  wife, worked, don, ok, flushable, seal, 22, st...  101.112265\n",
              "47  accurate, scale, temperature, thermometer, rea...  -50.552698\n",
              "48  remote, controller, controllers, control, butt...   18.089979\n",
              "49  balls, ball, pump, stress, also, net, throw, r... -290.869111"
            ]
          },
          "execution_count": 37,
          "metadata": {},
          "output_type": "execute_result"
        }
      ],
      "source": [
        "bert_LR_coef"
      ]
    }
  ],
  "metadata": {
    "accelerator": "GPU",
    "colab": {
      "collapsed_sections": [
        "GPJW1I8d0RLC",
        "jdrTu5G70cH0",
        "P6XQTwmDMyBY"
      ],
      "provenance": []
    },
    "kernelspec": {
      "display_name": "Python 3",
      "name": "python3"
    },
    "language_info": {
      "codemirror_mode": {
        "name": "ipython",
        "version": 3
      },
      "file_extension": ".py",
      "mimetype": "text/x-python",
      "name": "python",
      "nbconvert_exporter": "python",
      "pygments_lexer": "ipython3",
      "version": "3.11.0"
    },
    "widgets": {
      "application/vnd.jupyter.widget-state+json": {
        "09a11feda42f4d6ba5e008e767db9697": {
          "model_module": "@jupyter-widgets/controls",
          "model_module_version": "1.5.0",
          "model_name": "HTMLModel",
          "state": {
            "_dom_classes": [],
            "_model_module": "@jupyter-widgets/controls",
            "_model_module_version": "1.5.0",
            "_model_name": "HTMLModel",
            "_view_count": null,
            "_view_module": "@jupyter-widgets/controls",
            "_view_module_version": "1.5.0",
            "_view_name": "HTMLView",
            "description": "",
            "description_tooltip": null,
            "layout": "IPY_MODEL_f16a84666a9642c882d8482ef9a63c20",
            "placeholder": "​",
            "style": "IPY_MODEL_db532f2eafbf4aaeb4596a938d606543",
            "value": " 3/0 [00:00&lt;00:00, 76.32 examples/s]"
          }
        },
        "1ea1810429f741709e31785ad5ff4722": {
          "model_module": "@jupyter-widgets/controls",
          "model_module_version": "1.5.0",
          "model_name": "DescriptionStyleModel",
          "state": {
            "_model_module": "@jupyter-widgets/controls",
            "_model_module_version": "1.5.0",
            "_model_name": "DescriptionStyleModel",
            "_view_count": null,
            "_view_module": "@jupyter-widgets/base",
            "_view_module_version": "1.2.0",
            "_view_name": "StyleView",
            "description_width": ""
          }
        },
        "30807e5b126248d2a445f0a0ee7e591b": {
          "model_module": "@jupyter-widgets/base",
          "model_module_version": "1.2.0",
          "model_name": "LayoutModel",
          "state": {
            "_model_module": "@jupyter-widgets/base",
            "_model_module_version": "1.2.0",
            "_model_name": "LayoutModel",
            "_view_count": null,
            "_view_module": "@jupyter-widgets/base",
            "_view_module_version": "1.2.0",
            "_view_name": "LayoutView",
            "align_content": null,
            "align_items": null,
            "align_self": null,
            "border": null,
            "bottom": null,
            "display": null,
            "flex": null,
            "flex_flow": null,
            "grid_area": null,
            "grid_auto_columns": null,
            "grid_auto_flow": null,
            "grid_auto_rows": null,
            "grid_column": null,
            "grid_gap": null,
            "grid_row": null,
            "grid_template_areas": null,
            "grid_template_columns": null,
            "grid_template_rows": null,
            "height": null,
            "justify_content": null,
            "justify_items": null,
            "left": null,
            "margin": null,
            "max_height": null,
            "max_width": null,
            "min_height": null,
            "min_width": null,
            "object_fit": null,
            "object_position": null,
            "order": null,
            "overflow": null,
            "overflow_x": null,
            "overflow_y": null,
            "padding": null,
            "right": null,
            "top": null,
            "visibility": null,
            "width": "20px"
          }
        },
        "8c5467e7f7994fdaa72fe05debdacf78": {
          "model_module": "@jupyter-widgets/controls",
          "model_module_version": "1.5.0",
          "model_name": "FloatProgressModel",
          "state": {
            "_dom_classes": [],
            "_model_module": "@jupyter-widgets/controls",
            "_model_module_version": "1.5.0",
            "_model_name": "FloatProgressModel",
            "_view_count": null,
            "_view_module": "@jupyter-widgets/controls",
            "_view_module_version": "1.5.0",
            "_view_name": "ProgressView",
            "bar_style": "success",
            "description": "",
            "description_tooltip": null,
            "layout": "IPY_MODEL_30807e5b126248d2a445f0a0ee7e591b",
            "max": 1,
            "min": 0,
            "orientation": "horizontal",
            "style": "IPY_MODEL_c37c202c50564d5a8feefa849bba962e",
            "value": 1
          }
        },
        "a3f38945aa624fd992e9f6e81b56ea2d": {
          "model_module": "@jupyter-widgets/base",
          "model_module_version": "1.2.0",
          "model_name": "LayoutModel",
          "state": {
            "_model_module": "@jupyter-widgets/base",
            "_model_module_version": "1.2.0",
            "_model_name": "LayoutModel",
            "_view_count": null,
            "_view_module": "@jupyter-widgets/base",
            "_view_module_version": "1.2.0",
            "_view_name": "LayoutView",
            "align_content": null,
            "align_items": null,
            "align_self": null,
            "border": null,
            "bottom": null,
            "display": null,
            "flex": null,
            "flex_flow": null,
            "grid_area": null,
            "grid_auto_columns": null,
            "grid_auto_flow": null,
            "grid_auto_rows": null,
            "grid_column": null,
            "grid_gap": null,
            "grid_row": null,
            "grid_template_areas": null,
            "grid_template_columns": null,
            "grid_template_rows": null,
            "height": null,
            "justify_content": null,
            "justify_items": null,
            "left": null,
            "margin": null,
            "max_height": null,
            "max_width": null,
            "min_height": null,
            "min_width": null,
            "object_fit": null,
            "object_position": null,
            "order": null,
            "overflow": null,
            "overflow_x": null,
            "overflow_y": null,
            "padding": null,
            "right": null,
            "top": null,
            "visibility": null,
            "width": null
          }
        },
        "a7893bbd0a80417186a1728ff855ac1f": {
          "model_module": "@jupyter-widgets/controls",
          "model_module_version": "1.5.0",
          "model_name": "HTMLModel",
          "state": {
            "_dom_classes": [],
            "_model_module": "@jupyter-widgets/controls",
            "_model_module_version": "1.5.0",
            "_model_name": "HTMLModel",
            "_view_count": null,
            "_view_module": "@jupyter-widgets/controls",
            "_view_module_version": "1.5.0",
            "_view_name": "HTMLView",
            "description": "",
            "description_tooltip": null,
            "layout": "IPY_MODEL_fd1a362062b94243946dd4d10a450c0f",
            "placeholder": "​",
            "style": "IPY_MODEL_1ea1810429f741709e31785ad5ff4722",
            "value": "Generating train split: "
          }
        },
        "c37c202c50564d5a8feefa849bba962e": {
          "model_module": "@jupyter-widgets/controls",
          "model_module_version": "1.5.0",
          "model_name": "ProgressStyleModel",
          "state": {
            "_model_module": "@jupyter-widgets/controls",
            "_model_module_version": "1.5.0",
            "_model_name": "ProgressStyleModel",
            "_view_count": null,
            "_view_module": "@jupyter-widgets/base",
            "_view_module_version": "1.2.0",
            "_view_name": "StyleView",
            "bar_color": null,
            "description_width": ""
          }
        },
        "c70668e3494c42bcbdc58563ec598c71": {
          "model_module": "@jupyter-widgets/controls",
          "model_module_version": "1.5.0",
          "model_name": "HBoxModel",
          "state": {
            "_dom_classes": [],
            "_model_module": "@jupyter-widgets/controls",
            "_model_module_version": "1.5.0",
            "_model_name": "HBoxModel",
            "_view_count": null,
            "_view_module": "@jupyter-widgets/controls",
            "_view_module_version": "1.5.0",
            "_view_name": "HBoxView",
            "box_style": "",
            "children": [
              "IPY_MODEL_a7893bbd0a80417186a1728ff855ac1f",
              "IPY_MODEL_8c5467e7f7994fdaa72fe05debdacf78",
              "IPY_MODEL_09a11feda42f4d6ba5e008e767db9697"
            ],
            "layout": "IPY_MODEL_a3f38945aa624fd992e9f6e81b56ea2d"
          }
        },
        "db532f2eafbf4aaeb4596a938d606543": {
          "model_module": "@jupyter-widgets/controls",
          "model_module_version": "1.5.0",
          "model_name": "DescriptionStyleModel",
          "state": {
            "_model_module": "@jupyter-widgets/controls",
            "_model_module_version": "1.5.0",
            "_model_name": "DescriptionStyleModel",
            "_view_count": null,
            "_view_module": "@jupyter-widgets/base",
            "_view_module_version": "1.2.0",
            "_view_name": "StyleView",
            "description_width": ""
          }
        },
        "f16a84666a9642c882d8482ef9a63c20": {
          "model_module": "@jupyter-widgets/base",
          "model_module_version": "1.2.0",
          "model_name": "LayoutModel",
          "state": {
            "_model_module": "@jupyter-widgets/base",
            "_model_module_version": "1.2.0",
            "_model_name": "LayoutModel",
            "_view_count": null,
            "_view_module": "@jupyter-widgets/base",
            "_view_module_version": "1.2.0",
            "_view_name": "LayoutView",
            "align_content": null,
            "align_items": null,
            "align_self": null,
            "border": null,
            "bottom": null,
            "display": null,
            "flex": null,
            "flex_flow": null,
            "grid_area": null,
            "grid_auto_columns": null,
            "grid_auto_flow": null,
            "grid_auto_rows": null,
            "grid_column": null,
            "grid_gap": null,
            "grid_row": null,
            "grid_template_areas": null,
            "grid_template_columns": null,
            "grid_template_rows": null,
            "height": null,
            "justify_content": null,
            "justify_items": null,
            "left": null,
            "margin": null,
            "max_height": null,
            "max_width": null,
            "min_height": null,
            "min_width": null,
            "object_fit": null,
            "object_position": null,
            "order": null,
            "overflow": null,
            "overflow_x": null,
            "overflow_y": null,
            "padding": null,
            "right": null,
            "top": null,
            "visibility": null,
            "width": null
          }
        },
        "fd1a362062b94243946dd4d10a450c0f": {
          "model_module": "@jupyter-widgets/base",
          "model_module_version": "1.2.0",
          "model_name": "LayoutModel",
          "state": {
            "_model_module": "@jupyter-widgets/base",
            "_model_module_version": "1.2.0",
            "_model_name": "LayoutModel",
            "_view_count": null,
            "_view_module": "@jupyter-widgets/base",
            "_view_module_version": "1.2.0",
            "_view_name": "LayoutView",
            "align_content": null,
            "align_items": null,
            "align_self": null,
            "border": null,
            "bottom": null,
            "display": null,
            "flex": null,
            "flex_flow": null,
            "grid_area": null,
            "grid_auto_columns": null,
            "grid_auto_flow": null,
            "grid_auto_rows": null,
            "grid_column": null,
            "grid_gap": null,
            "grid_row": null,
            "grid_template_areas": null,
            "grid_template_columns": null,
            "grid_template_rows": null,
            "height": null,
            "justify_content": null,
            "justify_items": null,
            "left": null,
            "margin": null,
            "max_height": null,
            "max_width": null,
            "min_height": null,
            "min_width": null,
            "object_fit": null,
            "object_position": null,
            "order": null,
            "overflow": null,
            "overflow_x": null,
            "overflow_y": null,
            "padding": null,
            "right": null,
            "top": null,
            "visibility": null,
            "width": null
          }
        }
      }
    }
  },
  "nbformat": 4,
  "nbformat_minor": 0
}
