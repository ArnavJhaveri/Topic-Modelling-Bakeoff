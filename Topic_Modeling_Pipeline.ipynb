{
  "cells": [
    {
      "cell_type": "markdown",
      "metadata": {
        "id": "PeMV7zTU1n9r"
      },
      "source": [
        "# Notes"
      ]
    },
    {
      "cell_type": "markdown",
      "metadata": {
        "id": "ex8TGwk0mTvd"
      },
      "source": [
        "1. Figure out what command BERTopic uses for (weight, word) pair in the topic and do the same thing as mentioned for LDA and CTM\n",
        "\n",
        "2. Why are the topics so monolingual -- this really needs to be answered --> maybe the embedding model could be changed --> take the vector embeddings for each language and subtract off the mean for all the sentence embeddings for that language\n",
        "\n",
        "\n",
        "Steps for the step 2 above:\n",
        "1. Embed each of my sentences (so we have an embedding for each of the sentences)\n",
        "2. Partition by language\n",
        "3. Take the average embedding for each language (centroid)\n",
        "4. When we retrieve the embedding for a given sentence, subtract off the average for that language\n",
        "5. Use this embedding for the clustering instead"
      ]
    },
    {
      "cell_type": "markdown",
      "metadata": {
        "id": "mZc9P1Knz4xN"
      },
      "source": [
        "# Installations"
      ]
    },
    {
      "cell_type": "code",
      "execution_count": 23,
      "metadata": {
        "colab": {
          "base_uri": "https://localhost:8080/",
          "height": 1000
        },
        "id": "BUw5EQi8v9r1",
        "outputId": "4adb927e-4343-4795-96fe-f410b213e7ca"
      },
      "outputs": [],
      "source": [
        "# !pip install contextualized-topic-models==2.3.0\n",
        "# !pip install datasets\n",
        "# !pip install pyldavis\n",
        "# !pip install bertopic"
      ]
    },
    {
      "cell_type": "code",
      "execution_count": null,
      "metadata": {
        "id": "2OHuu51Y3opK"
      },
      "outputs": [],
      "source": [
        "import nltk\n",
        "import pandas as pd\n",
        "from nltk.corpus import stopwords as stop_words\n",
        "from datasets import load_dataset\n",
        "import numpy as np\n",
        "import sklearn\n",
        "from sklearn.feature_extraction.text import CountVectorizer\n",
        "import string\n",
        "from gensim.utils import deaccent\n",
        "import warnings\n",
        "from sentence_transformers import SentenceTransformer\n",
        "import scipy.sparse\n",
        "from contextualized_topic_models.datasets.dataset import CTMDataset\n",
        "from sklearn.preprocessing import OneHotEncoder\n",
        "from contextualized_topic_models.models.ctm import CombinedTM\n",
        "from contextualized_topic_models.models.ctm import ZeroShotTM\n",
        "from gensim.corpora.dictionary import Dictionary\n",
        "from gensim.test.utils import common_texts\n",
        "from gensim.models import LdaModel\n",
        "from gensim.models.coherencemodel import CoherenceModel\n",
        "from sklearn.linear_model import LinearRegression\n",
        "from sklearn.linear_model import LogisticRegression\n",
        "from sklearn.linear_model import Ridge\n",
        "from sklearn.metrics import mean_squared_error, r2_score, mean_absolute_error\n",
        "from contextualized_topic_models.evaluation.measures import CoherenceNPMI, InvertedRBO\n",
        "from bertopic import BERTopic"
      ]
    },
    {
      "cell_type": "markdown",
      "metadata": {
        "id": "lesAgL0U27xz"
      },
      "source": [
        "# Variables Changing"
      ]
    },
    {
      "cell_type": "code",
      "execution_count": 136,
      "metadata": {
        "colab": {
          "base_uri": "https://localhost:8080/"
        },
        "id": "tAo2LdVN29bK",
        "outputId": "3e91d32d-2f70-4d0f-aa6c-981a93d9a245"
      },
      "outputs": [
        {
          "name": "stderr",
          "output_type": "stream",
          "text": [
            "[nltk_data] Downloading package stopwords to /home/arnav/nltk_data...\n",
            "[nltk_data]   Package stopwords is already up-to-date!\n"
          ]
        }
      ],
      "source": [
        "is_combined = True\n",
        "perc = 0.10 # 10% of dataset\n",
        "\n",
        "nltk.download('stopwords')\n",
        "\n",
        "language = 'en' if is_combined else 'all_languages'\n",
        "stopwords = list(stop_words.words('english')) if is_combined else list(stop_words.words(stop_words.fileids())) # from every language\n",
        "embedding_model = 'paraphrase-distilroberta-base-v2' if is_combined else 'paraphrase-multilingual-mpnet-base-v2'\n",
        "\n",
        "num_epochs_ctm = 20\n",
        "num_topics = 50\n",
        "num_topics_word = 700"
      ]
    },
    {
      "cell_type": "markdown",
      "metadata": {
        "id": "-1gfpXtmz67m"
      },
      "source": [
        "# Dataset"
      ]
    },
    {
      "cell_type": "code",
      "execution_count": 3,
      "metadata": {
        "id": "PpVi-9I1TQ6U"
      },
      "outputs": [
        {
          "name": "stderr",
          "output_type": "stream",
          "text": [
            "Found cached dataset amazon_reviews_multi (/home/arnav/.cache/huggingface/datasets/amazon_reviews_multi/en/1.0.0/724e94f4b0c6c405ce7e476a6c5ef4f87db30799ad49f765094cf9770e0f7609)\n"
          ]
        },
        {
          "data": {
            "application/vnd.jupyter.widget-view+json": {
              "model_id": "e6ba5dc98e13454c86a7c23aa7fa093d",
              "version_major": 2,
              "version_minor": 0
            },
            "text/plain": [
              "  0%|          | 0/3 [00:00<?, ?it/s]"
            ]
          },
          "metadata": {},
          "output_type": "display_data"
        }
      ],
      "source": [
        "dataset = load_dataset('amazon_reviews_multi', language)"
      ]
    },
    {
      "cell_type": "code",
      "execution_count": 4,
      "metadata": {
        "id": "J8_SXkfKQYVq"
      },
      "outputs": [],
      "source": [
        "def data(part):\n",
        "  data = dataset[part].to_pandas()\n",
        "  review_body = list(data['review_body'])\n",
        "  return data, review_body"
      ]
    },
    {
      "cell_type": "code",
      "execution_count": 5,
      "metadata": {
        "colab": {
          "base_uri": "https://localhost:8080/",
          "height": 304
        },
        "id": "37O0Ez7WQ3Ac",
        "outputId": "47374d0a-28e0-48e9-b9d8-bfcfd1467ec9"
      },
      "outputs": [],
      "source": [
        "train, review_body = data('train')\n",
        "test, review_body_test = data('test')\n",
        "validation, review_body_validation = data('validation')"
      ]
    },
    {
      "cell_type": "code",
      "execution_count": 6,
      "metadata": {
        "id": "mBeI4ohCUt10"
      },
      "outputs": [],
      "source": [
        "def make_review_body(data, perc):\n",
        "  arr = sklearn.utils.shuffle(np.arange(len(data)), random_state=42)[0:int(len(data) * perc)]\n",
        "  temp = data.iloc[arr].reset_index(drop=True)\n",
        "  review_body = list(temp['review_body'])\n",
        "  temp = temp.reset_index()\n",
        "  temp = temp.rename(columns = {'index': 'message_id', 'review_body': 'message'})\n",
        "  return temp, review_body"
      ]
    },
    {
      "cell_type": "code",
      "execution_count": 7,
      "metadata": {
        "id": "kxKTimTHU-9H"
      },
      "outputs": [],
      "source": [
        "temp_train, review_body = make_review_body(train, perc)\n",
        "temp_test, test_review_body = make_review_body(test, 1)\n",
        "temp_validation, validation_review_body = make_review_body(validation, 1)"
      ]
    },
    {
      "cell_type": "markdown",
      "metadata": {},
      "source": [
        "## SQL to run DLATK Mallet LDA"
      ]
    },
    {
      "cell_type": "code",
      "execution_count": 79,
      "metadata": {},
      "outputs": [],
      "source": [
        "# temp_train = pd.concat([temp_train, temp_test])\n",
        "# review_body = pd.concat([pd.Series(review_body), pd.Series(test_review_body)])\n",
        "\n",
        "# temp_train_to_save = pd.concat([temp_train, temp_test])[['message_id', 'message']]\n",
        "# temp_test_to_save = temp_test[['message_id', 'message']]\n",
        "# temp_validation_to_save = temp_validation[['message_id', 'message']]"
      ]
    },
    {
      "cell_type": "code",
      "execution_count": 80,
      "metadata": {},
      "outputs": [],
      "source": [
        "# temp_train_to_save.to_csv('amazon_multi_train_ten.csv')\n",
        "# temp_test_to_save.to_csv('amazon_multi_test_ten.csv')\n",
        "# temp_validation_to_save.to_csv('amazon_multi_validation_ten.csv')\n",
        "\n",
        "# temp_train_to_save.to_csv('amazon_eng_train_ten.csv')\n",
        "# temp_test_to_save.to_csv('amazon_eng_test_ten.csv')\n",
        "# temp_validation_to_save.to_csv('amazon_eng_validation_ten.csv')"
      ]
    },
    {
      "cell_type": "code",
      "execution_count": 3,
      "metadata": {},
      "outputs": [],
      "source": [
        "# import pandas as pd\n",
        "# import sqlalchemy\n",
        "\n",
        "# temp_train_from_save = pd.read_csv('amazon_eng_train_ten.csv')\n",
        "# temp_train_from_save = temp_train_from_save[['message_id', 'message']]\n",
        "\n",
        "# # temp_test_from_save = pd.read_csv('amazon_eng_test_ten.csv')\n",
        "# # temp_test_from_save = temp_test_from_save[['message_id', 'message']]\n",
        "\n",
        "# # temp_validation_from_save = pd.read_csv('amazon_eng_validation_ten.csv')\n",
        "# # temp_validation_from_save = temp_validation_from_save[['message_id', 'message']]\n",
        "\n",
        "# db = sqlalchemy.engine.url.URL(drivername='mysql', host='127.0.0.1', database='arnav', query={'read_default_file': '~/.my.cnf', 'charset':'utf8mb4'})\n",
        "# engine = sqlalchemy.create_engine(db)\n",
        "\n",
        "# temp_train_from_save.to_sql('amazon_eng_train_ten', engine, if_exists='replace', index=False) \n",
        "# # temp_test_from_save.to_sql('amazon_eng_test_ten', engine, if_exists='replace', index=False) \n",
        "# # temp_validation_from_save.to_sql('amazon_eng_validation_ten', engine, if_exists='replace', index=False) "
      ]
    },
    {
      "cell_type": "markdown",
      "metadata": {
        "id": "GPJW1I8d0RLC"
      },
      "source": [
        "# Preprocessing\n"
      ]
    },
    {
      "cell_type": "code",
      "execution_count": 8,
      "metadata": {
        "id": "sh3oNwBqXh_G"
      },
      "outputs": [],
      "source": [
        "class WhiteSpacePreprocessingStopwords():\n",
        "    \"\"\"\n",
        "    Provides a very simple preprocessing script that filters infrequent tokens from text\n",
        "    \"\"\"\n",
        "\n",
        "    def __init__(self, documents, stopwords_list=None, vocabulary_size=2000, max_df=1.0, min_words=1,\n",
        "                 remove_numbers=True):\n",
        "        \"\"\"\n",
        "\n",
        "        :param documents: list of strings\n",
        "        :param stopwords_list: list of the stopwords to remove\n",
        "        :param vocabulary_size: the number of most frequent words to include in the documents. Infrequent words will be discarded from the list of preprocessed documents\n",
        "        :param max_df : float or int, default=1.0\n",
        "        When building the vocabulary ignore terms that have a document\n",
        "        frequency strictly higher than the given threshold (corpus-specific\n",
        "        stop words).\n",
        "        If float in range [0.0, 1.0], the parameter represents a proportion of\n",
        "        documents, integer absolute counts.\n",
        "        This parameter is ignored if vocabulary is not None.\n",
        "        :param min_words: int, default=1. Documents with less words than the parameter\n",
        "        will be removed\n",
        "        :param remove_numbers: bool, default=True. If true, numbers are removed from docs\n",
        "        \"\"\"\n",
        "        self.documents = documents\n",
        "        if stopwords_list is not None:\n",
        "            self.stopwords = set(stopwords_list)\n",
        "        else:\n",
        "            self.stopwords = []\n",
        "\n",
        "        self.vocabulary_size = vocabulary_size\n",
        "        self.max_df = max_df\n",
        "        self.min_words = min_words\n",
        "        self.remove_numbers = remove_numbers\n",
        "\n",
        "    def preprocess(self):\n",
        "        \"\"\"\n",
        "        Note that if after filtering some documents do not contain words we remove them. That is why we return also the\n",
        "        list of unpreprocessed documents.\n",
        "\n",
        "        :return: preprocessed documents, unpreprocessed documents and the vocabulary list\n",
        "        \"\"\"\n",
        "        preprocessed_docs_tmp = self.documents\n",
        "        preprocessed_docs_tmp = [deaccent(doc.lower()) for doc in preprocessed_docs_tmp]\n",
        "        preprocessed_docs_tmp = [doc.translate(\n",
        "            str.maketrans(string.punctuation, ' ' * len(string.punctuation))) for doc in preprocessed_docs_tmp]\n",
        "        if self.remove_numbers:\n",
        "            preprocessed_docs_tmp = [doc.translate(str.maketrans(\"0123456789\", ' ' * len(\"0123456789\")))\n",
        "                                     for doc in preprocessed_docs_tmp]\n",
        "        preprocessed_docs_tmp = [' '.join([w for w in doc.split() if len(w) > 0 and w not in self.stopwords])\n",
        "                                 for doc in preprocessed_docs_tmp]\n",
        "\n",
        "        vectorizer = CountVectorizer(max_features=self.vocabulary_size, max_df=self.max_df)\n",
        "        vectorizer.fit_transform(preprocessed_docs_tmp)\n",
        "        temp_vocabulary = set(vectorizer.get_feature_names_out())\n",
        "\n",
        "        preprocessed_docs_tmp = [' '.join([w for w in doc.split() if w in temp_vocabulary])\n",
        "                                 for doc in preprocessed_docs_tmp]\n",
        "\n",
        "        preprocessed_docs, unpreprocessed_docs, retained_indices = [], [], []\n",
        "        for i, doc in enumerate(preprocessed_docs_tmp):\n",
        "            if len(doc) > 0 and len(doc) >= self.min_words:\n",
        "                preprocessed_docs.append(doc)\n",
        "                unpreprocessed_docs.append(self.documents[i])\n",
        "                retained_indices.append(i)\n",
        "\n",
        "        vocabulary = list(set([item for doc in preprocessed_docs for item in doc.split()]))\n",
        "\n",
        "        return preprocessed_docs, unpreprocessed_docs, vocabulary, retained_indices\n"
      ]
    },
    {
      "cell_type": "markdown",
      "metadata": {
        "id": "jdrTu5G70cH0"
      },
      "source": [
        "# TopicModelDataPreparation"
      ]
    },
    {
      "cell_type": "code",
      "execution_count": 9,
      "metadata": {
        "id": "dcpoTEeEZDs-"
      },
      "outputs": [],
      "source": [
        "def get_bag_of_words(data, min_length):\n",
        "    \"\"\"\n",
        "    Creates the bag of words\n",
        "    \"\"\"\n",
        "    vect = [np.bincount(x[x != np.array(None)].astype('int'), minlength=min_length)\n",
        "            for x in data if np.sum(x[x != np.array(None)]) != 0]\n",
        "\n",
        "    vect = scipy.sparse.csr_matrix(vect)\n",
        "    return vect\n",
        "\n",
        "\n",
        "def bert_embeddings_from_file(text_file, sbert_model_to_load, batch_size=200, max_seq_length=None):\n",
        "    \"\"\"\n",
        "    Creates SBERT Embeddings from an input file, assumes one document per line\n",
        "    \"\"\"\n",
        "\n",
        "    model = SentenceTransformer(sbert_model_to_load)\n",
        "\n",
        "    if max_seq_length is not None:\n",
        "        model.max_seq_length = max_seq_length\n",
        "\n",
        "    with open(text_file, encoding=\"utf-8\") as filino:\n",
        "        texts = list(map(lambda x: x, filino.readlines()))\n",
        "\n",
        "    check_max_local_length(max_seq_length, texts)\n",
        "\n",
        "    return np.array(model.encode(texts, show_progress_bar=True, batch_size=batch_size))\n",
        "\n",
        "\n",
        "def bert_embeddings_from_list(texts, sbert_model_to_load, batch_size=200, max_seq_length=None):\n",
        "    \"\"\"\n",
        "    Creates SBERT Embeddings from a list\n",
        "    \"\"\"\n",
        "    model = SentenceTransformer(sbert_model_to_load)\n",
        "\n",
        "    if max_seq_length is not None:\n",
        "        model.max_seq_length = max_seq_length\n",
        "\n",
        "    check_max_local_length(max_seq_length, texts)\n",
        "\n",
        "    return np.array(model.encode(texts, show_progress_bar=True, batch_size=batch_size))\n",
        "\n",
        "\n",
        "def check_max_local_length(max_seq_length, texts):\n",
        "    max_local_length = np.max([len(t.split()) for t in texts])\n",
        "    if max_local_length > max_seq_length:\n",
        "        warnings.simplefilter('always', DeprecationWarning)\n",
        "        warnings.warn(f\"the longest document in your collection has {max_local_length} words, the model instead \"\n",
        "                      f\"truncates to {max_seq_length} tokens.\")\n",
        "\n",
        "\n",
        "class TopicModelDataPreparation:\n",
        "\n",
        "    def __init__(self, contextualized_model=None, show_warning=True, max_seq_length=128):\n",
        "        self.contextualized_model = contextualized_model\n",
        "        self.vocab = []\n",
        "        self.id2token = {}\n",
        "        self.vectorizer = None\n",
        "        self.label_encoder = None\n",
        "        self.show_warning = show_warning\n",
        "        self.max_seq_length = max_seq_length\n",
        "\n",
        "    def load(self, contextualized_embeddings, bow_embeddings, id2token, labels=None):\n",
        "        return CTMDataset(\n",
        "            X_contextual=contextualized_embeddings, X_bow=bow_embeddings, idx2token=id2token, labels=labels)\n",
        "\n",
        "    def fit(self, text_for_contextual, text_for_bow, labels=None, custom_embeddings=None):\n",
        "        \"\"\"\n",
        "        This method fits the vectorizer and gets the embeddings from the contextual model\n",
        "\n",
        "        :param text_for_contextual: list of unpreprocessed documents to generate the contextualized embeddings\n",
        "        :param text_for_bow: list of preprocessed documents for creating the bag-of-words\n",
        "        :param custom_embeddings: np.ndarray type object to use custom embeddings (optional).\n",
        "        :param labels: list of labels associated with each document (optional).\n",
        "        \"\"\"\n",
        "\n",
        "        if custom_embeddings is not None:\n",
        "            assert len(text_for_contextual) == len(custom_embeddings)\n",
        "\n",
        "            if text_for_bow is not None:\n",
        "                assert len(custom_embeddings) == len(text_for_bow)\n",
        "\n",
        "            if type(custom_embeddings).__module__ != 'numpy':\n",
        "                raise TypeError(\"contextualized_embeddings must be a numpy.ndarray type object\")\n",
        "\n",
        "        if text_for_bow is not None:\n",
        "            assert len(text_for_contextual) == len(text_for_bow)\n",
        "\n",
        "        if self.contextualized_model is None and custom_embeddings is None:\n",
        "            raise Exception(\"A contextualized model or contextualized embeddings must be defined\")\n",
        "\n",
        "        # TODO: this count vectorizer removes tokens that have len = 1, might be unexpected for the users\n",
        "        self.vectorizer = CountVectorizer()\n",
        "\n",
        "        train_bow_embeddings = self.vectorizer.fit_transform(text_for_bow)\n",
        "\n",
        "        # if the user is passing custom embeddings we don't need to create the embeddings using the model\n",
        "\n",
        "        if custom_embeddings is None:\n",
        "            train_contextualized_embeddings = bert_embeddings_from_list(\n",
        "                text_for_contextual, sbert_model_to_load=self.contextualized_model, max_seq_length=self.max_seq_length)\n",
        "        else:\n",
        "            train_contextualized_embeddings = custom_embeddings\n",
        "        self.vocab = self.vectorizer.get_feature_names_out()\n",
        "        self.id2token = {k: v for k, v in zip(range(0, len(self.vocab)), self.vocab)}\n",
        "\n",
        "        if labels:\n",
        "            self.label_encoder = OneHotEncoder()\n",
        "            encoded_labels = self.label_encoder.fit_transform(np.array([labels]).reshape(-1, 1))\n",
        "        else:\n",
        "            encoded_labels = None\n",
        "        return CTMDataset(\n",
        "            X_contextual=train_contextualized_embeddings, X_bow=train_bow_embeddings,\n",
        "            idx2token=self.id2token, labels=encoded_labels)\n",
        "\n",
        "    def transform(self, text_for_contextual, text_for_bow=None, custom_embeddings=None, labels=None):\n",
        "        \"\"\"\n",
        "        This method create the input for the prediction. Essentially, it creates the embeddings with the contextualized\n",
        "        model of choice and with trained vectorizer.\n",
        "\n",
        "        If text_for_bow is missing, it should be because we are using ZeroShotTM\n",
        "\n",
        "        :param text_for_contextual: list of unpreprocessed documents to generate the contextualized embeddings\n",
        "        :param text_for_bow: list of preprocessed documents for creating the bag-of-words\n",
        "        :param custom_embeddings: np.ndarray type object to use custom embeddings (optional).\n",
        "        :param labels: list of labels associated with each document (optional).\n",
        "        \"\"\"\n",
        "\n",
        "        if custom_embeddings is not None:\n",
        "            assert len(text_for_contextual) == len(custom_embeddings)\n",
        "\n",
        "            if text_for_bow is not None:\n",
        "                assert len(custom_embeddings) == len(text_for_bow)\n",
        "\n",
        "        if text_for_bow is not None:\n",
        "            assert len(text_for_contextual) == len(text_for_bow)\n",
        "\n",
        "        if self.contextualized_model is None:\n",
        "            raise Exception(\"You should define a contextualized model if you want to create the embeddings\")\n",
        "\n",
        "        if text_for_bow is not None:\n",
        "            test_bow_embeddings = self.vectorizer.transform(text_for_bow)\n",
        "        else:\n",
        "            # dummy matrix\n",
        "            if self.show_warning:\n",
        "                warnings.simplefilter('always', DeprecationWarning)\n",
        "                warnings.warn(\n",
        "                    \"The method did not have in input the text_for_bow parameter. This IS EXPECTED if you \"\n",
        "                    \"are using ZeroShotTM in a cross-lingual setting\")\n",
        "\n",
        "            # we just need an object that is matrix-like so that pytorch does not complain\n",
        "            test_bow_embeddings = scipy.sparse.csr_matrix(np.zeros((len(text_for_contextual), 1)))\n",
        "\n",
        "        if custom_embeddings is None:\n",
        "            test_contextualized_embeddings = bert_embeddings_from_list(\n",
        "                text_for_contextual, sbert_model_to_load=self.contextualized_model, max_seq_length=self.max_seq_length)\n",
        "        else:\n",
        "            test_contextualized_embeddings = custom_embeddings\n",
        "\n",
        "        if labels:\n",
        "            encoded_labels = self.label_encoder.transform(np.array([labels]).reshape(-1, 1))\n",
        "        else:\n",
        "            encoded_labels = None\n",
        "\n",
        "        return CTMDataset(X_contextual=test_contextualized_embeddings, X_bow=test_bow_embeddings,\n",
        "                          idx2token=self.id2token, labels=encoded_labels)\n"
      ]
    },
    {
      "cell_type": "markdown",
      "metadata": {
        "id": "W02I4GhA0ihe"
      },
      "source": [
        "# Modeling"
      ]
    },
    {
      "cell_type": "code",
      "execution_count": 10,
      "metadata": {
        "id": "lYOlwvGDn8DB"
      },
      "outputs": [],
      "source": [
        "documents = [line.strip() for line in review_body]\n",
        "test_documents = [line.strip() for line in test_review_body]\n",
        "\n",
        "sp = WhiteSpacePreprocessingStopwords(documents, stopwords_list=stopwords)\n",
        "preprocessed_documents, unpreprocessed_corpus, vocab, retained_indices = sp.preprocess()\n",
        "labels = temp_train['stars'][retained_indices]"
      ]
    },
    {
      "cell_type": "code",
      "execution_count": null,
      "metadata": {},
      "outputs": [],
      "source": [
        "# PARAMS\n",
        "# data: testing dataset\n",
        "\n",
        "# RETURN\n",
        "# preprocessed_documents: documents after passed through preprocessing steps\n",
        "# labels: corresponding labels to ^\n",
        "\n",
        "def test_ready(data):\n",
        "  documents = [line.strip() for line in data['review_body']]\n",
        "  sp = WhiteSpacePreprocessingStopwords(documents, stopwords_list=stopwords)\n",
        "  preprocessed_documents, _, _, retained_indices = sp.preprocess()\n",
        "  labels = temp_test['stars'][retained_indices]\n",
        "  return preprocessed_documents, labels\n",
        "\n",
        "test_preprocessed_documents, test_labels = test_ready(test)"
      ]
    },
    {
      "cell_type": "markdown",
      "metadata": {
        "id": "1W0A5eHDsDHE"
      },
      "source": [
        "## BERTopic"
      ]
    },
    {
      "cell_type": "code",
      "execution_count": 137,
      "metadata": {
        "id": "ts8S70BRceXW"
      },
      "outputs": [],
      "source": [
        "bert_topic_model = BERTopic(top_n_words = num_topics_word, nr_topics=num_topics).fit(documents + test_documents) if language!='en' else BERTopic(language = 'English', top_n_words = num_topics_word, nr_topics=num_topics).fit(documents + test_documents)"
      ]
    },
    {
      "cell_type": "code",
      "execution_count": 138,
      "metadata": {},
      "outputs": [],
      "source": [
        "bert_topic_loglik = [{i: j for (i, j) in bert_topic_model.get_topic(k-1)} for k in range(num_topics)]\n",
        "bert_topic_topics = [list(i.keys()) for i in bert_topic_loglik]"
      ]
    },
    {
      "cell_type": "code",
      "execution_count": 139,
      "metadata": {},
      "outputs": [
        {
          "data": {
            "text/plain": [
              "700"
            ]
          },
          "execution_count": 139,
          "metadata": {},
          "output_type": "execute_result"
        }
      ],
      "source": [
        "len(bert_topic_topics[0])"
      ]
    },
    {
      "cell_type": "markdown",
      "metadata": {
        "id": "9kfGZ5Kc70sV"
      },
      "source": [
        "## CTM"
      ]
    },
    {
      "cell_type": "code",
      "execution_count": null,
      "metadata": {
        "id": "BhWE-DOeXhd3"
      },
      "outputs": [],
      "source": [
        "tp = TopicModelDataPreparation(embedding_model)\n",
        "training_dataset = tp.fit(text_for_contextual=unpreprocessed_corpus, text_for_bow=preprocessed_documents)"
      ]
    },
    {
      "cell_type": "code",
      "execution_count": null,
      "metadata": {
        "id": "X-Ii3ivKQa-6"
      },
      "outputs": [
        {
          "name": "stderr",
          "output_type": "stream",
          "text": [
            "Epoch: [21/50]\t Seen Samples: [1667967/3971350]\tTrain Loss: 126.76303104005511\tTime: 0:02:18.294483: : 21it [45:21, 129.36s/it]"
          ]
        }
      ],
      "source": [
        "warnings.filterwarnings('ignore')\n",
        "\n",
        "# ctm = CombinedTM(bow_size=len(tp.vocab), contextual_size=768, n_components=num_topics, num_epochs=num_epochs_ctm) if is_combined else ZeroShotTM(bow_size=len(tp.vocab), contextual_size=768, n_components=num_topics, num_epochs=num_epochs_ctm)\n",
        "ctm = CombinedTM(bow_size=len(tp.vocab), contextual_size=768, n_components=num_topics, num_epochs=num_epochs_ctm) # testing something out\n",
        "ctm.fit(training_dataset)"
      ]
    },
    {
      "cell_type": "code",
      "execution_count": null,
      "metadata": {
        "id": "lxcKgjbx3V2o"
      },
      "outputs": [],
      "source": [
        "ctm_topics = ctm.get_topic_lists(num_topics_word)\n",
        "documents = preprocessed_documents\n",
        "labels = temp_train['stars'][retained_indices]"
      ]
    },
    {
      "cell_type": "code",
      "execution_count": null,
      "metadata": {
        "id": "hqblvyh5E99L"
      },
      "outputs": [],
      "source": [
        "ctm_topics"
      ]
    },
    {
      "cell_type": "markdown",
      "metadata": {
        "id": "438cbcf6"
      },
      "source": [
        "## LDA (GS)"
      ]
    },
    {
      "cell_type": "code",
      "execution_count": null,
      "metadata": {
        "id": "48fbb3d1"
      },
      "outputs": [],
      "source": [
        "split_preprocessed_documents = [d.split() for d in preprocessed_documents]\n",
        "dictionary = Dictionary(split_preprocessed_documents)\n",
        "corpus = [dictionary.doc2bow(text) for text in split_preprocessed_documents]\n",
        "\n",
        "lda = LdaModel(corpus, num_topics=num_topics, iterations=500, random_state=42, minimum_probability = 0)"
      ]
    },
    {
      "cell_type": "code",
      "execution_count": null,
      "metadata": {
        "id": "6a676a15"
      },
      "outputs": [],
      "source": [
        "def get_topics_lda(topk=10):\n",
        "  topic_terms = []\n",
        "  for i in range(num_topics):\n",
        "      topic_words_list = []\n",
        "      for word_tuple in lda.get_topic_terms(i, topk):\n",
        "          topic_words_list.append(dictionary[word_tuple[0]])\n",
        "      topic_terms.append(topic_words_list)\n",
        "  return topic_terms\n",
        "\n",
        "lda_topics = get_topics_lda(num_topics_word)"
      ]
    },
    {
      "cell_type": "code",
      "execution_count": null,
      "metadata": {
        "id": "AIp-b3ifE6Dz"
      },
      "outputs": [],
      "source": [
        "lda_topics"
      ]
    },
    {
      "cell_type": "markdown",
      "metadata": {},
      "source": [
        "## Mallet LDA"
      ]
    },
    {
      "cell_type": "code",
      "execution_count": 39,
      "metadata": {},
      "outputs": [],
      "source": [
        "# the actual code for Mallet LDA is run in the terminal using the following 2 commands:\n",
        "\n",
        "# ./dlatkInterface.py -d arnav -t amazon_eng_train_ten -c message_id --add_ngrams -n 1\n",
        "# ./dlatkInterface.py -d arnav -t amazon_eng_train_ten -c message_id -f 'feat$1gram$amazon_eng_train_ten$message_id' --estimate_lda_topics --lda_lexicon_name mtm_50 --mallet_path /home/sharath/mallet-2.0.8/bin/mallet --num_stopwords 100 --num_topics 50 --language en --save_lda_files amazon_eng\n",
        "\n",
        "lda_loglik = []\n",
        "with open(\"dlatk/amazon_eng/lda.topicGivenWord.csv\") as f:\n",
        "  for line in f:\n",
        "    temp = line.strip().split('\"')\n",
        "    if len(temp) > 1:\n",
        "      for i in range(len(temp)):\n",
        "        if i % 2 != 0:\n",
        "          temp[i] = (\"\".join(temp[i].split(\",\")))\n",
        "      temp = [\"\".join(temp)]\n",
        "    lda_loglik.append(temp[0].split(\",\")[1:])\n",
        "\n",
        "lda_loglik = lda_loglik[1:]\n",
        "\n",
        "mallet_lda_topics = [[x for i, x in enumerate(j) if i % 2 == 0] for j in lda_loglik]\n",
        "\n",
        "mallet_lda_loglik = []\n",
        "for k in lda_loglik:\n",
        "    mallet_lda_loglik.append({k[j]: float(k[j+1]) for j in range(0, len(k) - 1, 2)})"
      ]
    },
    {
      "cell_type": "markdown",
      "metadata": {
        "id": "cECKEgHx1EUy"
      },
      "source": [
        "# Evaluating"
      ]
    },
    {
      "cell_type": "code",
      "execution_count": 140,
      "metadata": {},
      "outputs": [],
      "source": [
        "# PARAMS\n",
        "# documents: list of documents (each element in the list is a string) that the topics were extracted from\n",
        "# topics: list of list of topics from the model of choice\n",
        "# weights: list of dictionary mappings (word: weight)\n",
        "\n",
        "# RETURN\n",
        "# topic distribution\n",
        "\n",
        "def preprocess(documents, topics, weights):\n",
        "    # Initialize distribution matrix\n",
        "    distribution = np.zeros((len(documents), len(topics)))\n",
        "\n",
        "    for i, document in enumerate(documents):\n",
        "        # Preprocess document\n",
        "        document = document.translate(str.maketrans('', '', string.punctuation)) # removing periods, commas, etc\n",
        "        document = document.split(' ') # split on spaces\n",
        "        document = [word.lower() for word in document if len(word.lower()) > 0] # lower case everything since all topics are lower case\n",
        "\n",
        "        for j, loglik_dict in enumerate(weights):\n",
        "            distribution[i][j] = np.sum([0 if word not in loglik_dict else loglik_dict[word] for word in document]) # if word exists then its weight else 0\n",
        "\n",
        "        # Normalize\n",
        "        distribution[i] /= (len(document) + 2) # +2 for some weird reason ?\n",
        "        \n",
        "    return distribution\n",
        "\n",
        "\n",
        "# PARAMS\n",
        "# X: distribution from preprocess() above\n",
        "# y: stars ('labels')\n",
        "\n",
        "# RETURN\n",
        "# LR model\n",
        "\n",
        "def train_regression_model(X, y):\n",
        "    model = LinearRegression()\n",
        "    # model = LogisticRegression()\n",
        "    model.fit(X, y)\n",
        "    return model\n",
        "\n",
        "\n",
        "# PARAMS\n",
        "# model: model trained from train_regression_model()\n",
        "# X_test: distribution you want to make predictions on\n",
        "# y_test: the true labels for the X_test passed in\n",
        "\n",
        "# RETURN\n",
        "# MSE: MSE of the (X_test, y_test) data inputted\n",
        "# RMSE: RMSE of the (X_test, y_test) data inputted\n",
        "# R2: R2 of the (X_test, y_test) data inputted\n",
        "# MAE: MAE of the (X_test, y_test) data inputted\n",
        "\n",
        "def evaluate_model(model, X_test, y_test):\n",
        "    y_pred = model.predict(X_test)\n",
        "\n",
        "    # from sklearn.metrics import accuracy_score\n",
        "    # return accuracy_score(y_test, y_pred)\n",
        "\n",
        "    mse = mean_squared_error(y_true=y_test, y_pred=y_pred, squared=True)\n",
        "    rmse = mean_squared_error(y_true=y_test, y_pred=y_pred, squared=False)\n",
        "    r2 = r2_score(y_true=y_test, y_pred=y_pred)\n",
        "    mae = mean_absolute_error(y_true=y_test, y_pred=y_pred)\n",
        "\n",
        "    return mse, rmse, r2, mae\n",
        "\n",
        "\n",
        "# PARAMS\n",
        "# topics: list of list of topics\n",
        "# weights: list of dictionary mappings (word: weight)\n",
        "# flag: True if baseline (default is False\n",
        "\n",
        "# RETURN\n",
        "# r2_train: R2 on train set\n",
        "# mae_train: MAE on train set\n",
        "# mse_train: MSE on train set\n",
        "# rmse_train: RMSE on train set\n",
        "# r2_test: R2 on test set\n",
        "# mae_test: MAE on test set\n",
        "# mse_test: MSE on test set\n",
        "# rmse_test: RMSE on test set\n",
        "\n",
        "def results(topics, weights, flag=False):\n",
        "  if flag:\n",
        "    X = np.array([labels.mean()] * len(labels)).reshape(-1, 1)\n",
        "    X_test = np.array([test_labels.mean()] * len(test_labels)).reshape(-1, 1)\n",
        "\n",
        "  else:\n",
        "    X = preprocess([line.strip() for line in review_body], topics, weights)\n",
        "    X_test = preprocess([line.strip() for line in test_review_body], topics, weights)\n",
        "\n",
        "  y = temp_train['stars']\n",
        "  y_test = temp_test['stars']\n",
        "  model = train_regression_model(X, y)\n",
        "\n",
        "  mse_test, rmse_test, r2_test, mae_test = evaluate_model(model, X_test, y_test)\n",
        "  mse_train, rmse_train, r2_train, mae_train = evaluate_model(model, X, y)\n",
        "\n",
        "  # train_acc = evaluate_model(model, X, y)\n",
        "  # test_acc = evaluate_model(model, X_test, y_test)\n",
        "\n",
        "  # print(\"Train Accuracy: \", train_acc)\n",
        "  # print(\"Test Accuracy: \", test_acc)\n",
        "\n",
        "  # return train_acc, test_acc\n",
        "\n",
        "  print(\"Train\")\n",
        "  print(\"R2:\", r2_train)\n",
        "  print(\"MAE:\", mae_train)\n",
        "  print(\"MSE:\", mse_train)\n",
        "  print(\"RMSE:\", rmse_train)\n",
        "\n",
        "  print()\n",
        "\n",
        "  print(\"Test\")\n",
        "  print(\"R2:\", r2_test)\n",
        "  print(\"MAE:\", mae_test)\n",
        "  print(\"MSE:\", mse_test)\n",
        "  print(\"RMSE:\", rmse_test)\n",
        "\n",
        "  return r2_train, mae_train, mse_train, rmse_train, r2_test, mae_test, mse_test, rmse_test"
      ]
    },
    {
      "cell_type": "markdown",
      "metadata": {},
      "source": [
        "## Mallet LDA"
      ]
    },
    {
      "cell_type": "code",
      "execution_count": 128,
      "metadata": {},
      "outputs": [
        {
          "name": "stdout",
          "output_type": "stream",
          "text": [
            "Train\n",
            "R2: 0.28878903518138765\n",
            "MAE: 0.9945251291336966\n",
            "MSE: 1.4338984404898703\n",
            "RMSE: 1.1974549847446752\n",
            "\n",
            "Test\n",
            "R2: 0.2709251968971472\n",
            "MAE: 1.0147344275351098\n",
            "MSE: 1.4581496062057056\n",
            "RMSE: 1.2075386561951984\n"
          ]
        }
      ],
      "source": [
        "mallet_r2_train, mallet_mae_train, mallet_mse_train, mallet_rmse_train, mallet_r2_test, mallet_mae_test, mallet_mse_test, mallet_rmse_test = results(mallet_lda_topics, mallet_lda_loglik)"
      ]
    },
    {
      "cell_type": "code",
      "execution_count": 69,
      "metadata": {},
      "outputs": [
        {
          "data": {
            "text/html": [
              "<div>\n",
              "<style scoped>\n",
              "    .dataframe tbody tr th:only-of-type {\n",
              "        vertical-align: middle;\n",
              "    }\n",
              "\n",
              "    .dataframe tbody tr th {\n",
              "        vertical-align: top;\n",
              "    }\n",
              "\n",
              "    .dataframe thead th {\n",
              "        text-align: right;\n",
              "    }\n",
              "</style>\n",
              "<table border=\"1\" class=\"dataframe\">\n",
              "  <thead>\n",
              "    <tr style=\"text-align: right;\">\n",
              "      <th></th>\n",
              "      <th>0</th>\n",
              "      <th>1</th>\n",
              "      <th>2</th>\n",
              "      <th>3</th>\n",
              "      <th>4</th>\n",
              "      <th>5</th>\n",
              "      <th>6</th>\n",
              "      <th>7</th>\n",
              "    </tr>\n",
              "  </thead>\n",
              "  <tbody>\n",
              "    <tr>\n",
              "      <th>0</th>\n",
              "      <td>0.288789</td>\n",
              "      <td>0.994525</td>\n",
              "      <td>1.433898</td>\n",
              "      <td>1.197455</td>\n",
              "      <td>0.270925</td>\n",
              "      <td>1.014734</td>\n",
              "      <td>1.45815</td>\n",
              "      <td>1.207539</td>\n",
              "    </tr>\n",
              "  </tbody>\n",
              "</table>\n",
              "</div>"
            ],
            "text/plain": [
              "          0         1         2         3         4         5        6  \\\n",
              "0  0.288789  0.994525  1.433898  1.197455  0.270925  1.014734  1.45815   \n",
              "\n",
              "          7  \n",
              "0  1.207539  "
            ]
          },
          "execution_count": 69,
          "metadata": {},
          "output_type": "execute_result"
        }
      ],
      "source": [
        "pd.concat([pd.Series([mallet_r2_train, mallet_mae_train, mallet_mse_train, mallet_rmse_train, mallet_r2_test, mallet_mae_test, mallet_mse_test, mallet_rmse_test])], axis = 1).T"
      ]
    },
    {
      "cell_type": "markdown",
      "metadata": {
        "id": "BCroeZXlgcMv"
      },
      "source": [
        "## Baseline"
      ]
    },
    {
      "cell_type": "code",
      "execution_count": null,
      "metadata": {
        "id": "8Toou_cqtlWv"
      },
      "outputs": [],
      "source": [
        "b_r2_train, b_mae_train, b_mse_train, b_rmse_train, b_r2_test, b_mae_test, b_mse_test, b_rmse_test = results(lda_topics, True)"
      ]
    },
    {
      "cell_type": "markdown",
      "metadata": {
        "id": "seKgX_3d17z9"
      },
      "source": [
        "## LDA (GS)"
      ]
    },
    {
      "cell_type": "code",
      "execution_count": null,
      "metadata": {
        "id": "-vHvXo6MsGpJ"
      },
      "outputs": [],
      "source": [
        "lda_r2_train, lda_mae_train, lda_mse_train, lda_rmse_train, lda_r2_test, lda_mae_test, lda_mse_test, lda_rmse_test = results(lda_topics)"
      ]
    },
    {
      "cell_type": "code",
      "execution_count": null,
      "metadata": {
        "id": "PBcId2fqd9qh"
      },
      "outputs": [],
      "source": [
        "pd.concat([pd.Series([lda_r2_train, lda_mae_train, lda_mse_train, lda_rmse_train, lda_r2_test, lda_mae_test, lda_mse_test, lda_rmse_test])], axis = 1).T"
      ]
    },
    {
      "cell_type": "markdown",
      "metadata": {
        "id": "PwdN-c_U14mH"
      },
      "source": [
        "## CTM"
      ]
    },
    {
      "cell_type": "code",
      "execution_count": null,
      "metadata": {
        "id": "PYX04Sx3sa7a"
      },
      "outputs": [],
      "source": [
        "ctm_r2_train, ctm_mae_train, ctm_mse_train, ctm_rmse_train, ctm_r2_test, ctm_mae_test, ctm_mse_test, ctm_rmse_test = results(ctm_topics)"
      ]
    },
    {
      "cell_type": "code",
      "execution_count": null,
      "metadata": {
        "id": "B43HKbgWexe0"
      },
      "outputs": [],
      "source": [
        "pd.concat([pd.Series([ctm_r2_train, ctm_mae_train, ctm_mse_train, ctm_rmse_train, ctm_r2_test, ctm_mae_test, ctm_mse_test, ctm_rmse_test])], axis = 1).T"
      ]
    },
    {
      "cell_type": "markdown",
      "metadata": {
        "id": "Nya0LM5OkBHs"
      },
      "source": [
        "Using paraphrase-multilingual-mpnet-base-v2, 200 topics, 50 epochs (best one so far):\n",
        "\n",
        "* MSE: 1.0463393882784946\n",
        "* RMSE: 1.0229073214512128"
      ]
    },
    {
      "cell_type": "markdown",
      "metadata": {
        "id": "zt60-STspjK3"
      },
      "source": [
        "## BERTopic"
      ]
    },
    {
      "cell_type": "code",
      "execution_count": 141,
      "metadata": {},
      "outputs": [
        {
          "name": "stdout",
          "output_type": "stream",
          "text": [
            "Train\n",
            "R2: 0.2930184852329968\n",
            "MAE: 0.9970628795033796\n",
            "MSE: 1.4253712915381116\n",
            "RMSE: 1.1938891454143101\n",
            "\n",
            "Test\n",
            "R2: 0.2929389647548669\n",
            "MAE: 0.9925682984577142\n",
            "MSE: 1.4141220704902662\n",
            "RMSE: 1.1891686467823923\n"
          ]
        }
      ],
      "source": [
        "bert_r2_train, bert_mae_train, bert_mse_train, bert_rmse_train, bert_r2_test, bert_mae_test, bert_mse_test, bert_rmse_test = results(bert_topic_topics, bert_topic_loglik)"
      ]
    },
    {
      "cell_type": "code",
      "execution_count": 142,
      "metadata": {
        "id": "-onlxv-7e2kk"
      },
      "outputs": [
        {
          "data": {
            "text/html": [
              "<div>\n",
              "<style scoped>\n",
              "    .dataframe tbody tr th:only-of-type {\n",
              "        vertical-align: middle;\n",
              "    }\n",
              "\n",
              "    .dataframe tbody tr th {\n",
              "        vertical-align: top;\n",
              "    }\n",
              "\n",
              "    .dataframe thead th {\n",
              "        text-align: right;\n",
              "    }\n",
              "</style>\n",
              "<table border=\"1\" class=\"dataframe\">\n",
              "  <thead>\n",
              "    <tr style=\"text-align: right;\">\n",
              "      <th></th>\n",
              "      <th>0</th>\n",
              "      <th>1</th>\n",
              "      <th>2</th>\n",
              "      <th>3</th>\n",
              "      <th>4</th>\n",
              "      <th>5</th>\n",
              "      <th>6</th>\n",
              "      <th>7</th>\n",
              "    </tr>\n",
              "  </thead>\n",
              "  <tbody>\n",
              "    <tr>\n",
              "      <th>0</th>\n",
              "      <td>0.293018</td>\n",
              "      <td>0.997063</td>\n",
              "      <td>1.425371</td>\n",
              "      <td>1.193889</td>\n",
              "      <td>0.292939</td>\n",
              "      <td>0.992568</td>\n",
              "      <td>1.414122</td>\n",
              "      <td>1.189169</td>\n",
              "    </tr>\n",
              "  </tbody>\n",
              "</table>\n",
              "</div>"
            ],
            "text/plain": [
              "          0         1         2         3         4         5         6  \\\n",
              "0  0.293018  0.997063  1.425371  1.193889  0.292939  0.992568  1.414122   \n",
              "\n",
              "          7  \n",
              "0  1.189169  "
            ]
          },
          "execution_count": 142,
          "metadata": {},
          "output_type": "execute_result"
        }
      ],
      "source": [
        "pd.concat([pd.Series([bert_r2_train, bert_mae_train, bert_mse_train, bert_rmse_train, bert_r2_test, bert_mae_test, bert_mse_test, bert_rmse_test])], axis = 1).T"
      ]
    },
    {
      "cell_type": "markdown",
      "metadata": {
        "id": "F9jWv1XuJnMv"
      },
      "source": [
        "# Printing out topics and LR coefficients"
      ]
    },
    {
      "cell_type": "code",
      "execution_count": 43,
      "metadata": {
        "id": "zjQ-NsWxNzSf"
      },
      "outputs": [],
      "source": [
        "def topic_LR_coef(model, topics):\n",
        "  x1 = []\n",
        "  x2 = pd.Series(model.coef_)\n",
        "\n",
        "  for i, topic in enumerate(topics):\n",
        "    x1.append(\", \".join(topic))\n",
        "\n",
        "  x1 = pd.Series(x1)\n",
        "  return (pd.concat([x1, x2], axis=1))"
      ]
    },
    {
      "cell_type": "code",
      "execution_count": 143,
      "metadata": {
        "id": "DCu4BygLCR7e"
      },
      "outputs": [],
      "source": [
        "# lda_model = train_regression_model(preprocess(documents, lda_topics), labels)\n",
        "# ctm_model = train_regression_model(preprocess(documents, ctm_topics), labels)\n",
        "# mallet_lda_model = train_regression_model(preprocess(documents, mallet_lda_topics, mallet_lda_loglik), temp_train['stars'])\n",
        "bert_model = train_regression_model(preprocess(documents, bert_topic_topics, bert_topic_loglik), temp_train['stars'])"
      ]
    },
    {
      "cell_type": "code",
      "execution_count": 144,
      "metadata": {
        "id": "qrYRf_95GGHE"
      },
      "outputs": [],
      "source": [
        "# lda_LR_coef = topic_LR_coef(lda_model, lda_topics)\n",
        "# ctm_LR_coef = topic_LR_coef(ctm_model, ctm_topics)\n",
        "# mallet_LR_coef = topic_LR_coef(mallet_lda_model, mallet_lda_topics)\n",
        "bert_LR_coef = topic_LR_coef(bert_model, bert_topic_topics)"
      ]
    },
    {
      "cell_type": "code",
      "execution_count": null,
      "metadata": {},
      "outputs": [],
      "source": [
        "for i in range(0, 25):\n",
        "  print(mallet_LR_coef[0][i])    "
      ]
    },
    {
      "cell_type": "code",
      "execution_count": null,
      "metadata": {},
      "outputs": [],
      "source": [
        "for i in range(25, 50):\n",
        "  print(mallet_LR_coef[0][i])   "
      ]
    },
    {
      "cell_type": "code",
      "execution_count": null,
      "metadata": {
        "id": "5EbxEc3hDSM-"
      },
      "outputs": [],
      "source": [
        "# lda_LR_coef"
      ]
    },
    {
      "cell_type": "code",
      "execution_count": null,
      "metadata": {
        "id": "Jzb5_OnwN3_f"
      },
      "outputs": [],
      "source": [
        "# ctm_LR_coef"
      ]
    },
    {
      "cell_type": "code",
      "execution_count": 145,
      "metadata": {},
      "outputs": [
        {
          "name": "stdout",
          "output_type": "stream",
          "text": [
            "the, it, to, and, for, is, not, this, of, in, but, my, was, on, that, with, have, they, so, you, very, as, product, one, are, be, use, great, them, like, had, when, would, just, all, good, out, if, can, these, up, at, will, well, or, get, after, no, work, too, only, off, from, me, what, time, do, don, than, bought, were, because, quality, fit, easy, used, we, works, more, really, case, little, does, phone, did, small, love, didn, has, back, there, your, got, an, other, size, nice, even, doesn, made, about, came, box, much, buy, also, first, put, now, which, still, looks, two, some, better, price, using, way, am, item, how, need, could, ordered, received, over, return, bag, ve, enough, water, perfect, been, look, worked, disappointed, charge, however, broke, money, then, arrived, day, pretty, again, bit, long, by, screen, make, sure, into, cute, any, months, right, big, its, while, new, battery, last, see, order, fine, keep, thing, recommend, before, plastic, set, side, few, never, should, around, hold, lot, re, going, color, broken, down, go, hard, purchased, amazon, old, our, working, super, same, another, though, tried, easily, material, come, know, different, take, cheap, happy, something, top, times, think, seems, since, won, want, looking, open, needed, purchase, able, he, comfortable, large, definitely, worth, already, cover, wear, where, far, without, bad, charger, sound, days, part, fits, find, give, light, through, package, year, picture, expected, problem, weeks, both, most, inside, makes, wish, getting, seller, thought, try, week, wanted, feel, stars, design, being, ok, hair, waste, job, longer, took, less, many, say, together, charging, soft, month, once, she, stay, company, said, their, issue, clean, ll, heavy, tight, wasn, second, sent, everything, away, black, apart, batteries, started, bottle, piece, review, couple, anything, may, cable, daughter, best, maybe, returned, usb, pieces, reviews, place, every, bottom, thin, yet, overall, sturdy, quickly, difficult, until, several, replacement, actually, loose, things, either, within, smaller, strap, having, loved, seem, exactly, comes, turn, quite, gift, her, handle, wouldn, stopped, device, fast, nothing, unit, end, half, power, smell, years, couldn, short, door, poor, almost, probably, perfectly, wrong, brand, isn, opened, 10, found, looked, gave, packaging, car, completely, shipping, gets, full, son, plug, instead, damaged, hours, might, cut, cord, itself, help, trying, left, liked, buying, hand, install, front, watch, pay, why, three, weight, says, room, original, issues, cannot, metal, service, haven, today, otherwise, beautiful, under, dog, terrible, ever, went, fell, ones, tv, unfortunately, cracked, glass, customer, high, his, strong, send, instructions, fabric, guess, items, extra, each, wash, durable, returning, colors, kind, making, next, minutes, loves, replace, holes, always, white, whole, kids, laptop, break, mine, hot, thick, keeps, larger, update, cool, run, iphone, space, house, play, star, night, pack, feels, home, paid, absolutely, wall, screw, support, least, advertised, stick, delivered, clear, store, area, camera, outside, goes, missing, described, carry, stand, read, hole, protector, wood, christmas, reason, close, nicely, head, baby, low, disappointing, frame, fall, dry, oil, pull, refund, description, deal, paper, connect, packaged, needs, done, delivery, parts, shipped, such, amount, pair, air, takes, twice, button, party, let, someone, idea, highly, awesome, flimsy, due, lasted, excellent, supposed, products, else, although, port, horrible, who, band, value, straps, volume, remove, charged, decent, properly, problems, ago, immediately, plus, own, especially, ripped, others, fact, wearing, useless, expensive, bed, ended, point, seat, add, holds, during, noticed, board, must, extremely, free, okay, coming, putting, those, fun, here, screws, hope, people, machine, base, huge, simple, kept, plugged, switch, sometimes, husband, pictures, us, life, control, stuff, warm, stuck, touch, type, multiple, 12, real, attached, later, dropped, rubber, lid, uses, dont, legs, felt, bent, turned, lock, receive, feet, leave, slide, contact, length, included, trip, medium, quick, installed, tape, skin, between, slightly, tiny, cheaper, show, protection, edges, seemed, excited, speaker, falling, glue, cold, holder, figure, easier, solid, heat, seal, rather, wife, hoping, usually, tell, face, amazing, protect, tablet, unless, pocket, shower, wore, thank, start, runs, lots, fully, computer, anyone, barely, cables, difference, lost, change, replaced, impressed, shape, body, decided, washing, opening, taking, child, style, check, sticky, ear, cost, wire, him, middle, fix, food, built, print, ipad, myself, soon, clothes, doing, clip, apple, bags, bigger, didnt, etc, 20, cat, flat, cheaply, shirt, helps, line, expect, person, care, bar, smells, foot, held, sides, summer, hang, late, dirty, ice, hands\n",
            "book, story, read, of, the, this, and, was, characters, to, in, books, is, movie, that, her, it, series, game, but, author, more, you, enjoyed, good, for, reading, with, about, not, she, pages, as, an, have, me, written, there, his, interesting, like, he, are, just, all, very, love, be, really, some, one, what, so, were, on, how, character, from, fun, plot, great, loved, if, who, well, much, at, would, my, life, ending, out, time, up, by, has, can, writing, could, get, had, end, too, next, their, stories, didn, into, people, other, film, we, because, first, through, or, will, page, they, enjoy, many, been, see, no, novel, want, don, even, things, lot, dvd, world, did, liked, every, family, recommend, know, main, little, action, funny, each, do, over, romance, going, than, down, way, better, felt, am, hard, think, storyline, when, wait, bit, different, thought, best, words, two, wasn, still, couldn, your, enough, forward, also, only, which, most, put, watch, real, being, found, follow, him, any, short, amazing, mystery, times, boring, sex, bad, information, enjoyable, then, however, disappointed, why, again, new, definitely, entertaining, nothing, make, worth, playing, acting, cd, chapter, between, played, never, together, play, understand, movies, ve, before, everything, though, reader, sweet, both, feel, easy, finish, got, them, point, help, highly, kept, these, find, learn, our, games, makes, us, person, few, twist, re, wonderful, need, old, slow, heart, back, last, stars, friends, looking, years, interest, such, done, always, line, given, long, come, must, kind, twists, wanted, whole, after, favorite, without, another, keep, anyone, those, hope, part, here, someone, say, go, where, its, something, take, sure, thing, should, overall, myself, others, copy, star, everyone, seemed, album, awesome, until, doesn, while, informative, nice, fiction, ok, instead, fan, relationship, getting, interested, ever, predictable, disc, made, lost, development, excellent, anything, stupid, ll, version, half, man, lives, second, throughout, left, happy, god, almost, sense, give, buy, look, now, beginning, helpful, pretty, probably, wish, start, word, hero, watching, review, history, subject, lots, thank, work, reviews, same, took, actual, condition, chapters, along, bible, quick, maybe, own, once, young, seems, trying, used, does, truth, woman, attention, far, three, let, needed, mind, okay, may, having, english, kids, quite, came, takes, exciting, questions, difficult, learning, missing, true, won, style, full, set, authors, tom, language, year, rest, bought, especially, repetitive, quickly, illustrations, isn, business, school, least, place, course, right, rather, started, several, itself, said, else, beautiful, sequel, past, tell, needs, women, engaging, since, comes, write, ended, humor, sad, show, wrong, watched, fast, finished, pictures, turns, children, important, wouldn, info, loves, son, single, drawn, quality, although, depth, knew, gives, player, top, human, truly, scenes, actors, detective, thriller, heroine, drama, believe, poor, happened, collection, couple, actually, off, parts, husband, details, dialogue, journal, child, gave, yet, gift, sometimes, disk, idea, war, fact, figure, horror, complex, police, keeps, sorry, coloring, use, perspective, doing, description, extremely, giving, day, title, daughter, totally, perfect, mother, become, glad, less, errors, honestly, free, enjoying, might, either, case, gets, class, house, care, grady, murder, historical, sexual, published, paced, likable, writer, money, able, fine, songs, detailed, friend, personal, around, fascinating, christian, collins, recommended, low, reason, middle, telling, issues, thinking, scene, typos, town, thoroughly, away, matter, pass, hours, making, developed, points, leaves, received, special, finding, premise, unique, fantastic, job, guess, cute, mr, complete, edition, somewhat, terrible, shows, music, already, oh, change, level, adult, during, happens, usual, rented, spelling, angst, ways, laugh, disappointing, heard, expected, problem, setting, study, surprised, deal, try, modern, waste, opinion, examples, faith, episodes, detail, concept, changed, magic, seen, buying, facts, hot, basically, today, third, paid, science, vinyl, animals, tells, girl, reads, death, meet, hoping, seem, please, explained, mentioned, building, age, cast, unfortunately, moving, described, online, unexpected, knowledge, adults, mark, based, basic, showed, background, list, check, group, brilliant, thanks, lines, deep, clear, wanting, close, tried, learned, realistic, told, towards, due, future, works, amazon, films, gay, novels, suspense, emotional, context, high, big, expecting, installment, lord, concepts, topic, textbook, expect, seriously, haven, five, finally, american, filled, honest, saw, journey, brothers, showing, added, content, night, obvious, four, win, included, soon, damaged, moved, meaning, 20, dark, involved, cover, useful, coming, grace, readers, bored, weird, entire, happen, purchased, video, alive, ago, code, otherwise, christmas, continue, lovely, huge, situations, sections, doubt, test, brings, wondering, america, order, starting, surprise, sexy, guide\n",
            "never, quality, received, product, price, item, was, good, not, it, seller, great, this, for, and, the, only, to, shipping, very, delivered, one, refund, amazon, as, of, star, order, buy, but, is, my, stars, delivery, that, receive, fast, money, pack, package, they, ordered, because, would, with, get, got, did, from, have, you, on, me, no, cheap, in, arrived, sent, purchase, be, so, again, what, return, made, said, even, had, at, time, do, prime, didn, when, will, came, shipped, yet, poor, happy, are, nice, like, don, been, all, last, months, if, expected, than, just, them, out, now, two, well, give, disappointed, wrong, these, worth, still, after, thank, took, back, or, deal, better, box, day, there, says, much, expired, cheaper, service, long, excellent, supposed, please, tracking, work, four, were, am, bought, can, here, returned, an, could, told, quick, reason, use, how, gave, days, then, value, pay, about, want, find, waste, really, love, exactly, too, contact, over, weeks, paid, instead, cheaply, more, lasted, its, expiration, bags, month, works, products, has, broken, bad, email, company, rating, we, zero, refunded, description, wasn, used, need, described, customer, way, missing, know, purchased, quickly, should, week, gift, other, store, ok, rate, why, giving, three, before, sure, contacted, ago, wish, any, off, date, haven, perfect, recommend, up, 10, which, another, reviews, thanks, twice, though, looks, next, same, your, let, does, packs, 12, needed, advertised, cost, recieved, thought, piece, opened, address, who, decent, couple, small, doesn, best, first, listed, replacement, home, buying, wouldn, look, every, send, little, information, crap, many, nothing, looking, late, anything, ve, put, easy, something, getting, worked, ship, listing, dont, someone, right, hard, sets, going, thing, high, 100, make, see, brand, due, some, by, low, year, reliable, without, take, christmas, think, slow, cancel, seems, quantity, since, ordering, stock, working, almost, pleased, local, where, waiting, damaged, different, isn, may, longer, easily, needs, responded, such, terrible, few, material, 30, 20, people, also, actually, overall, away, definitely, son, items, broke, waited, stores, tried, their, stuff, able, check, went, however, fine, picture, us, original, big, times, cannot, impressed, finally, come, years, 25, member, mail, super, cannister, color, second, dice, shelf, arrive, call, pretty, boxes, expire, leopard, together, either, carrier, gets, unfortunately, our, both, won, being, manufacturer, around, full, wanted, name, stated, left, event, satisfactory, okay, packages, promised, highly, enough, side, issue, comes, else, especially, screen, walmart, worst, design, reasonable, awesome, sell, already, go, charged, returning, others, rolls, front, thin, lot, less, saw, otherwise, save, itself, recommended, asked, ever, explanation, hundred, problem, suppose, later, business, 24, he, soon, size, canister, show, penny, bottle, horrible, review, each, things, person, idea, liked, changed, fault, using, 50, container, contacting, everything, mess, found, disappointing, expires, detroit, updated, mine, expensive, guess, fell, those, gold, scale, part, correct, option, satisfied, vendor, makes, phone, required, website, pink, expecting, dehydrator, responsible, couldn, within, dollar, bucks, shows, wow, until, several, toothpaste, through, ridiculous, receiving, professional, china, priced, probably, rain, cracked, free, delivers, bag, ups, top, early, chance, lost, transaction, job, label, door, smaller, yourself, fresh, start, although, difference, construction, scam, expectation, expect, say, 11, inside, beware, case, rip, whole, rusted, driveway, sorry, per, once, most, likely, done, hassle, locally, hate, real, prices, unable, died, amazing, junk, services, pencils, hot, minutes, hopefully, pouring, outstanding, sling, kinda, awful, loved, presented, garbage, far, durable, prompt, life, hit, single, weight, news, based, pound, bulk, pure, assumed, trying, didnt, gone, resolved, asap, dissatisfied, kind, poorly, water, tomorrow, emails, looked, helpful, purpose, plastic, believe, strong, link, orders, completely, colors, false, purchases, re, similar, stopped, stop, set, heat, rest, fit, choose, shopping, coloring, end, flavor, given, overpriced, seem, keep, figure, marked, count, past, into, timely, seeds, while, new, included, maybe, returns, solid, answer, barely, down, thru, arrival, ruined, policy, typical, bit, respond, open, charge, excited, season, usable, initiated, 2020, bcs, headstock, washington, spain, beyond, affordable, transfer, ll, today, pass, miss, taking, problems, alone, must, blue, chocolate, credit, shop, biggest, fits, buyer, expectations, iron, shorting, decency, rising, clarify, absolutely, fall, materials, rust, him, house, taste, batteries, feel, happens, mistake, 14, glass, zebra, signature, tuesday, assurance, floss, important, bother, sense, roll, functional, issues, heard, build, stick, called, future, means, hours, provide, designed, sort, mask, ukulele, wicked, membership, soldered, countertop, unaware, soaps, harris, old, empty, always, standard, placed, allow, fantastic, drink, range\n",
            "dress, size, small, shirt, it, the, but, and, was, bra, than, too, is, smaller, fit, hat, large, ordered, expected, for, in, to, this, not, big, cute, like, very, wear, on, my, top, little, as, fits, so, be, medium, me, have, would, way, of, jacket, just, bigger, you, they, with, nice, am, material, that, are, good, great, really, quality, up, tight, larger, if, thought, xl, bit, well, more, head, runs, made, length, still, love, an, had, looks, order, skirt, color, look, perfect, one, got, picture, were, return, because, will, short, long, price, costume, at, what, or, all, flattering, comfortable, bought, sleeves, back, right, chest, no, out, perfectly, off, can, them, sizing, much, super, definitely, looked, even, disappointed, sent, from, pretty, when, sizes, its, get, came, though, dresses, bras, beautiful, bust, suit, zipper, could, other, helmet, which, also, fabric, these, has, down, better, returned, only, daughter, didn, outfit, looking, then, did, cut, straps, wearing, enough, your, time, should, however, there, buy, do, wish, does, product, about, overall, body, hats, colors, don, think, wrong, coat, huge, tiny, around, loose, need, another, wanted, usually, recommend, doesn, purchase, true, 12, wore, front, after, bottoms, lace, again, received, going, soft, actually, bottom, how, pictured, two, cup, ok, use, side, same, support, different, thin, cap, boobs, part, re, want, shirts, old, feel, through, gave, 3x, see, she, over, wide, unfortunately, before, shorter, swimsuit, now, waist, otherwise, wasn, ran, pounds, cheap, shape, black, maybe, fine, inch, keep, year, loved, area, compliments, white, might, being, her, pink, arms, xxl, reviews, since, quite, sized, under, pockets, sure, high, liked, probably, ll, longer, some, son, first, took, purchased, while, hips, buying, away, neck, been, lot, stars, loves, amazon, warm, blue, sleeve, women, extremely, 10, he, design, absolutely, halloween, company, any, breast, underneath, next, print, make, happy, tunic, others, bad, inches, exactly, normal, work, party, know, seems, swim, we, woman, makes, try, ve, comfy, arrived, kind, face, shoulders, our, baby, pants, 2xl, barely, velcro, 14, worn, returning, weird, works, ordering, stretch, item, go, fitted, expecting, tall, said, normally, fault, needed, snug, chart, described, give, without, come, lbs, money, few, once, wouldn, pull, thing, girl, online, gift, refund, stretched, extra, day, used, adorable, job, worth, anticipated, never, sweater, shrink, between, something, say, shipping, okay, thick, wash, cups, tag, torso, completely, 2x, half, tried, above, clothes, regular, advertised, hair, somewhat, place, easy, low, hole, style, red, put, feet, button, odd, people, lining, into, anything, summer, feels, wears, 38d, nude, flowy, adhesive, always, dimensions, hard, run, pattern, backless, late, gray, read, description, sports, able, almost, barbie, boob, 130, brim, chested, problem, where, update, felt, shows, friend, fitting, falling, least, band, send, who, find, issues, taller, add, inside, kinda, strap, tho, wider, appears, person, bag, pieces, pop, covers, although, delivery, went, keeps, holes, decent, sheer, hood, nursing, someone, isn, easily, husband, may, pleased, times, real, close, everything, amazing, found, needs, 120, ruffle, strapless, cleavage, 36c, beach, bank, stitching, getting, flat, lovely, best, tad, less, weight, cover, rather, box, weigh, set, cold, ear, surprisingly, knees, their, shaped, stuck, revealing, breasts, school, tons, slip, cool, worked, christmas, pads, likes, gotten, fact, unflattering, clingy, lose, covered, double, yes, ended, us, based, seem, play, kept, stay, stylish, floral, by, his, shower, surprised, nothing, complaint, mine, him, water, uncomfortable, grey, zip, totally, tee, med, those, sides, second, coverage, listed, girls, heavier, lightweight, pay, child, hot, washes, seller, butterfly, rest, both, slightly, gets, nicely, myself, dryer, petite, aren, chin, purple, days, wife, despite, plus, dark, 11, sexy, lots, average, coming, review, poor, swimming, hope, properly, take, tank, silky, hold, light, measured, 150, sun, expect, seemed, saying, name, stated, hits, sad, stretchy, plan, excellent, disappointing, tshirt, bodysuit, lrg, dd, gown, gorgeous, especially, wrinkles, xs, sewn, guess, accurate, package, buttons, liking, tighter, says, awesome, due, marked, adjusting, sew, vibrant, recieved, lower, fun, minutes, keeping, prince, fat, poorly, opened, butt, stick, entirely, glad, durable, trip, bill, smooth, many, dressy, dancing, ever, room, star, night, green, far, turned, pin, full, given, xlarge, pooch, crop, middle, slim, mini, instead, left, knee, using, colored, until, replacement, post, 16, meant, following, inner, closures, dressed, pony, expectations, 30, giving, type, ripped, sturdy, yet, piece, eyelets, burgundy, across, oh, cotton, comes, seeing, hanging, height, sometimes, goes, started, idea, tie, basic, followed\n",
            "work, works, it, working, to, not, the, worked, this, and, keyboard, for, one, stopped, is, remote, app, of, as, mouse, but, does, did, with, great, just, was, on, my, that, computer, in, months, keys, screen, have, after, use, me, well, you, all, drive, card, key, so, product, only, had, do, no, controller, at, if, or, out, doesn, good, very, be, money, buttons, didn, get, will, bought, when, never, then, are, would, from, than, up, can, back, little, because, don, now, an, got, has, really, what, like, used, time, first, your, there, its, any, return, we, buy, even, better, ve, advertised, button, fine, control, download, new, much, easy, waste, couple, unit, car, case, about, love, problem, other, right, amazon, they, purchase, second, by, hard, disappointed, thing, day, tried, looking, bit, expected, 10, won, want, more, item, seems, some, am, off, issue, controllers, able, anything, returned, year, another, way, few, ssd, usb, job, nothing, two, using, them, slow, could, supposed, brand, week, recommend, before, memory, far, nice, bad, games, different, until, know, also, days, pretty, system, weeks, something, set, price, laptop, which, been, died, completely, problems, however, down, old, still, times, find, sd, ll, game, ok, battery, too, makes, defective, need, failed, came, disk, box, go, start, less, software, make, without, data, warranty, instructions, play, purchased, ordered, useless, how, say, free, month, installed, lot, needed, satisfied, see, again, come, their, longer, sure, these, try, external, device, put, over, install, available, replace, same, support, perfect, windows, cover, were, thought, properly, took, video, extra, read, going, opener, re, comes, looks, should, design, our, turn, original, made, multiple, browser, keep, 100, push, perfectly, replacement, review, tablet, customer, batteries, through, those, since, needs, half, send, refund, functions, having, help, wont, everything, sometimes, started, worth, macbook, paid, change, error, trying, must, let, feel, pro, sent, gaming, map, fast, quickly, annoying, broken, please, switch, things, voice, later, cd, drives, last, long, service, low, show, black, received, immediately, 2017, files, quit, overall, exact, crap, display, company, speed, went, passed, remove, broke, next, almost, being, keychain, wd, difficult, described, products, cheap, stop, fix, wouldn, gave, turned, wireless, close, backlit, around, hour, phone, says, easily, big, pay, returning, internet, maybe, said, load, press, take, solid, function, typing, write, actually, flash, open, wasn, seller, simple, experience, vehicle, videos, arrived, most, though, top, spend, anymore, both, garage, cut, useful, store, many, nintendo, often, wheel, while, done, update, user, may, version, happy, complaints, replaced, who, window, enough, controls, reason, color, unless, refurbished, already, move, stick, called, light, small, intended, kindle, uses, feels, monitor, tv, order, once, within, cheaper, luck, always, cost, space, fans, clicking, removed, wrong, player, buying, dead, tell, ones, watch, model, storage, google, wish, isn, exactly, fail, yet, hit, dongle, scroll, episode, end, program, kept, excellent, found, mode, noise, years, transfer, 1st, except, message, getting, seen, others, quality, look, shows, etc, hand, otherwise, save, people, part, recognized, given, burn, dvd, easier, every, connect, 3rd, might, couldn, son, why, gets, wanted, unfortunately, included, soon, updates, june, setup, full, touch, type, twice, functional, tighten, 11, drivers, plug, 2nd, responsive, stuck, each, stars, probably, gift, internal, expect, spot, camera, directions, slip, okay, convenient, here, highly, hopefully, course, sending, someone, reviews, disappointing, cause, deleting, hhd, keyboards, port, else, mac, garbage, cable, pad, clear, expensive, cannot, online, installation, sound, power, based, bluetooth, least, constantly, together, didnt, chromebook, stops, worst, non, machine, pc, where, itself, durable, loud, policy, fits, hours, weight, built, vpn, ever, loose, normal, either, main, dont, fit, usage, looked, firmware, delete, os, scrolling, numbers, reliable, give, oem, sticking, cheaply, access, super, driver, responding, disconnects, pre, giving, short, sensor, dark, microsoft, mechanical, remotes, programming, amount, pictures, lost, hope, stretches, items, screw, door, cute, checked, truck, followed, stuff, run, own, rate, inside, blue, into, beware, process, format, connectivity, downloaded, flimsy, away, lasted, package, making, feature, air, reading, husband, concept, absolutely, sticks, especially, 35, inserted, additionally, cumbersome, mine, fault, correctly, fingers, due, third, options, blank, minutes, tap, previous, provided, issues, errors, delay, spinning, led, filter, follow, side, thanks, lock, backup, hold, everyone, slide, star, think, kind, adjust, definitely, forward, attempted, totally, helpful, happened, left, heavy, defect, chrome, quite, several, volume, 4th, charged, pleased, win, december, continued, automatically, piece, moment, fortunately, brighter, seem, middle, figure, slot, edges, stay, hdmi\n",
            "pillow, very, soft, it, sheets, and, not, the, but, is, material, thin, they, as, comfortable, to, for, was, like, fabric, of, pillows, are, blanket, that, this, on, so, my, in, them, leather, quality, you, these, after, just, nice, cheap, cover, with, one, warm, durable, all, more, have, at, be, good, from, price, we, great, out, would, much, had, will, too, can, lightweight, sturdy, what, than, love, when, little, only, because, bed, made, looks, flimsy, get, sheet, really, heavy, if, neck, buy, up, easy, weight, bought, plastic, use, first, expected, don, well, me, its, do, were, super, thought, see, hard, product, comforter, am, doesn, covers, cotton, light, bit, pretty, enough, feels, sleep, duvet, two, time, feel, wash, other, size, strong, look, picture, ve, your, through, got, off, set, apart, definitely, cute, does, also, or, no, washed, down, yarn, still, side, thick, back, looking, even, firm, some, fit, disappointed, seems, used, has, put, worth, about, color, wear, didn, how, again, uncomfortable, purchase, any, ripped, by, though, did, purchased, better, looked, recommend, right, beautiful, an, ordered, exactly, easily, there, foam, night, which, far, happy, king, however, our, sleeping, poor, keep, mattress, re, baby, small, come, then, could, almost, perfect, flat, now, came, something, same, different, work, returning, say, going, inside, away, wish, top, washing, ll, over, stitching, seam, seams, design, started, new, before, months, money, ones, seller, way, thicker, lot, bulky, find, once, yet, around, memory, hold, description, wanted, thing, bag, should, completely, last, advertised, day, high, daughter, think, while, haven, stay, comes, shams, black, waste, stars, brand, know, sure, since, job, go, fitted, expect, long, needed, full, big, package, give, need, without, face, fall, tight, together, sized, washes, 12, says, awesome, ok, hole, being, head, thinner, metal, makes, extra, old, kids, person, return, wearing, gets, elastic, actually, already, month, take, overall, case, he, few, corners, best, less, buying, sweat, felt, support, every, took, wouldn, broke, cheaply, due, try, piece, order, needs, such, pain, hot, barely, putting, under, type, using, found, received, dumbbells, couldn, always, open, everyone, week, seemed, between, keeps, totally, make, ties, another, dryer, point, cut, colors, quite, extremely, review, want, tried, described, zipper, never, amazon, heat, half, probably, thread, carry, box, rip, having, seem, longer, hoped, low, said, quilt, yellow, stated, her, cold, getting, button, white, why, holds, been, liner, walmart, kind, yes, although, buttons, summer, lining, keeping, poorly, returned, short, year, into, disappointing, place, expecting, times, real, fold, everything, body, item, maybe, reason, middle, winter, nights, steel, scratchy, wasn, sent, compliments, ever, loose, touch, wife, might, part, room, their, able, nearly, stiff, fits, comfy, christmas, change, plan, softest, camping, prefer, throw, blue, previously, may, bad, clean, washer, compared, issue, done, constructed, fuzz, pack, mine, works, feather, amazing, cloth, couple, heavier, wore, pay, version, pleased, others, issues, shape, handle, shows, otherwise, opening, helps, most, falling, recommended, she, won, 100, comfort, where, nicely, unfortunately, myself, trying, star, regular, aren, uses, tie, deep, days, style, add, twice, red, went, negative, leg, lots, underneath, lighter, crotch, impressive, stuffed, stuck, quickly, means, anyway, intended, valve, mask, goes, gave, isn, liked, wrap, sets, gift, bottom, paid, value, cases, paper, disappointment, honestly, decent, clothes, lasted, 10, added, arrived, feeling, sad, here, rough, pockets, excellent, golds, husband, weigh, storage, sewn, guess, fell, close, missing, matter, worked, fur, lower, worn, suede, ball, car, opened, actual, projects, ton, legs, many, ply, undone, within, finally, loved, drying, affordable, imagine, preschool, avocado, flattened, faux, instead, decided, wrong, next, replacement, true, inner, weighted, wears, each, water, bags, cheaper, loves, priced, show, needles, amount, space, materials, awkward, thank, pattern, help, gym, torn, lost, gray, fleece, blankets, washable, medium, sometimes, cool, years, fine, fact, mail, anything, tell, dense, fluff, purple, stuff, duty, bother, break, fill, during, waterproof, tear, bedding, okay, wrapped, store, pregnant, wrinkle, stuffing, beds, balls, air, durability, nose, else, weeks, absolutely, update, lite, dry, standard, packaging, both, stem, polyester, pistol, problem, above, rv, convenient, large, terrible, minutes, hopefully, stays, threw, wrinkled, advertisement, sending, awful, kinda, front, feet, mirror, crib, elegant, queen, bar, birthday, upside, cushions, holding, fairly, weighs, returnable, fluffy, velcro, constantly, cap, photo, either, son, notice, silky, weights, held, correct, lb, nylon, install, pictured, adjust, print, forward, plush, video, except, machine, believe, cart, surgery, advertising, left, false, wasnt, removable, breathable, perfectly\n",
            "ring, loves, my, for, it, gift, and, she, the, cute, loved, to, them, this, old, was, toy, but, of, is, so, bracelet, in, earrings, very, they, are, bought, year, daughter, that, with, these, love, ear, great, rings, her, necklace, as, he, not, on, kids, were, you, ears, son, pieces, only, granddaughter, beads, had, like, be, one, little, really, made, can, puzzle, because, off, good, have, quality, out, all, when, fun, just, we, got, time, nice, bracelets, up, wear, baby, together, put, birthday, beautiful, grandson, super, set, two, well, what, would, get, pretty, use, clasp, too, or, much, didn, if, after, small, than, looks, broke, price, some, your, disappointed, even, has, stones, at, came, who, christmas, me, gave, bow, piece, did, first, more, earring, play, his, from, size, many, will, perfect, apart, jewelry, back, do, missing, an, other, day, about, product, present, don, also, however, child, buy, could, while, long, am, box, received, work, there, picture, look, mom, doesn, happy, right, stars, been, which, children, yr, purchased, into, toys, now, easily, hard, niece, think, track, wanted, recommend, wearing, fit, still, make, how, around, able, bows, no, better, money, go, open, away, way, sent, stone, give, liked, friend, come, by, big, their, within, easy, new, gold, him, does, month, its, thank, different, ones, returned, few, definitely, tracks, fingers, smaller, likes, days, cheap, enough, absolutely, keep, ordered, used, excited, half, thought, sister, since, where, stay, bit, kid, far, looked, boy, husband, best, fall, works, months, fell, know, things, purchase, others, grand, re, opened, playing, color, lost, comes, amazon, looking, find, package, then, hold, green, music, seems, colors, ok, glue, difficult, another, thing, being, want, though, awesome, makes, probably, light, our, fine, wife, ve, style, worth, using, found, wish, anyone, said, backs, waste, impossible, bad, over, couple, loose, sure, inside, mother, played, three, adorable, plastic, most, part, weeks, ll, going, see, broken, should, soft, almost, grandpa, disappointing, order, party, never, favorite, saw, packaging, guess, turned, place, having, 10, metal, family, reason, years, giving, otherwise, putting, say, cars, seller, week, thin, why, arrived, idea, puzzles, holding, company, lot, went, irritated, same, girls, each, may, wore, seem, needed, larger, job, feel, silver, anything, cylinders, doll, getting, overall, train, aren, bag, less, compliments, need, solid, tried, necklaces, once, add, blocks, lots, took, try, 00, completely, cut, quite, course, before, hands, knot, down, keeps, frustrated, residue, blue, isn, times, item, something, remove, someone, help, young, especially, shower, design, return, cannot, condition, house, reviews, batteries, second, loud, actually, plugs, neck, sound, string, toddlers, girl, durable, hour, haven, given, expected, weight, holder, enjoyed, both, every, won, move, couldn, man, battery, tiny, room, included, operated, uses, stayed, finger, red, painting, coming, immediately, fast, quickly, frustrating, material, wouldn, addition, person, nephew, wrist, sturdy, changed, break, between, own, hoping, yellow, flimsy, boys, ended, black, us, working, here, kept, father, supposed, prefer, boombox, quiver, gotcha, last, else, delicate, onto, already, again, pop, understand, wonderful, advertised, notice, held, pay, colorful, head, kit, pub, low, front, finish, dad, wine, adults, issues, late, plays, problem, happened, pins, daughters, fits, hours, pleased, tarnished, bead, cheer, either, might, surprise, dollar, impressed, etc, turn, shipping, falling, multiple, pokemon, laughs, diamonds, without, instead, toddler, heavy, until, several, wrong, myself, stopped, sterling, any, through, high, screws, brand, bottom, cousin, grandsons, musical, chunky, grandma, horse, canal, end, rose, tips, simple, adult, properly, hoop, studs, sounds, mostly, maybe, takes, became, start, mail, everyday, tell, posts, dolls, beach, hardly, seemed, worked, grandkids, wasn, extremely, making, bubble, bigger, opinion, olds, craftsmanship, felt, sets, damaged, realize, clear, real, rattle, five, disappointment, amazing, name, friends, pliers, tweezers, lil, needs, removed, such, send, large, returning, stays, sized, under, secure, behind, tongue, matched, girlfriend, foam, itself, people, shark, hurts, mind, feels, fairly, falls, classic, take, white, side, always, lock, gets, trying, worn, keeping, nylon, snaps, kind, poorly, complaint, non, sleep, purchasing, bank, dig, challenging, satisfied, strong, ours, busy, left, parents, lightweight, next, review, buying, boyfriend, popping, watch, base, short, shape, exactly, packaged, anticipated, college, shaped, yet, fallen, asking, wants, issue, tail, age, responded, cheaply, everything, oil, nicely, leave, started, true, instant, markers, glued, pull, dark, ripped, ton, pricey, sons, ability, afraid, 18, curving, untied, allie, tumbling, waterford, valentines, choking, lobe, sometimes, goes, cool, besides, affordable, noticed, filters, friendly, value, expect\n",
            "they, these, shoes, are, them, size, shoe, feet, my, gloves, the, and, wear, comfortable, for, fit, but, socks, pair, foot, have, on, to, of, pants, in, too, boots, very, that, is, not, so, ordered, be, were, work, at, like, hands, with, don, as, because, little, just, love, was, well, tight, would, good, do, you, if, than, big, wide, toes, all, small, nice, more, warm, me, up, shorts, sock, quality, toe, great, large, from, glove, 10, out, off, pads, waist, when, or, am, one, bought, feel, heel, will, around, it, sole, can, long, still, right, had, bit, only, slippers, an, perfect, walking, boot, get, after, about, re, which, this, really, much, day, didn, been, time, high, made, look, put, also, underwear, wearing, other, ve, arch, price, narrow, there, slip, need, back, material, what, your, heels, some, cute, got, keep, worn, way, no, seem, usually, down, comfy, now, pairs, sneakers, used, hand, wore, legs, first, even, years, see, soft, uncomfortable, use, through, felt, buy, order, looking, ankle, sandals, did, stay, soles, snug, different, return, laces, walk, pretty, medium, again, needed, their, always, any, then, same, since, ll, smaller, two, ones, length, super, thin, true, into, before, could, reviews, top, husband, side, fits, sizing, fabric, however, definitely, purchased, better, make, while, cushion, tried, every, expected, support, most, how, sure, give, run, leggings, pain, over, bigger, compression, fingers, he, few, disappointed, want, help, comfort, insert, being, water, thought, running, inside, returned, short, stretch, loved, should, slide, bottom, end, box, cheap, lot, has, able, hold, try, left, by, recommend, days, going, getting, using, apart, go, though, came, money, stars, find, longer, elastic, aren, leg, think, fall, type, cold, least, purchase, normally, cut, overall, hard, others, enough, we, half, take, once, thick, loose, his, unfortunately, months, thumb, kind, 14, winter, show, couple, larger, ripped, worth, say, old, wish, relief, colors, last, hurt, best, sent, sneaker, fine, without, never, jeans, knee, seems, stiff, wears, arrived, area, already, color, 12, happy, against, cotton, next, week, worked, terrible, weird, ok, doesn, took, width, seam, ordering, wanted, its, found, between, might, wrist, chart, especially, received, buying, regular, wet, easy, won, send, brand, where, front, coming, hiking, panties, booties, black, easily, feels, said, ever, anything, tighter, son, break, seemed, must, ankles, product, extremely, resistant, butt, know, perfectly, fast, dry, him, thing, both, guess, real, decided, wouldn, does, rubber, awesome, above, returning, putting, calf, extra, otherwise, maybe, yes, lbs, she, crotch, times, hours, something, new, washed, based, velcro, second, insole, slipper, actually, looks, three, belly, full, works, holes, part, straps, quite, kept, snow, floors, diabetic, mitts, problem, makes, dress, amazon, expensive, lace, many, swell, hour, rip, may, place, recommended, provide, shrink, far, slightly, nothing, reason, started, under, bad, come, stick, wife, people, waisted, feeling, away, rough, less, gets, why, room, another, sizes, pad, although, today, looked, difference, summer, leather, instead, expect, proof, went, supportive, heavy, decent, hoping, poor, lasted, correct, ended, edge, someone, exactly, glad, sturdy, anywhere, replace, yet, having, women, home, cannot, padding, who, cozy, tie, such, hot, falling, casual, insoles, suspenders, beach, stitching, 11, month, tear, read, fitting, seller, wasn, hips, oven, slipping, instep, booty, swollen, hole, either, weeks, pictures, ran, immediately, blisters, traction, somewhat, completely, receive, huge, total, sized, year, problems, plantar, returns, comfortably, value, behind, each, foam, things, daughter, outside, near, probably, accurate, washing, online, wash, spend, anymore, fitted, us, remove, highly, making, 13, supposed, issue, waistband, job, absolutely, keeping, worst, phone, baby, mine, house, shrunk, rise, thigh, believe, amazing, below, due, odd, working, open, similar, child, step, refund, low, normal, finally, thighs, creases, dont, rest, 22, rubbed, memory, weight, easier, unless, pocket, control, grandchildren, period, flat, bend, cell, trying, sleeves, 30, wasted, finger, 40, happen, plus, cheaper, shorter, weather, almost, intended, smell, xl, ripping, sorry, sometimes, grip, gave, piece, fantastic, spot, suggest, basically, higher, comes, let, name, warmer, description, okay, added, store, bag, gotten, whole, simply, sending, previous, interior, stretched, pockets, described, products, edema, nikes, else, men, update, our, softer, knees, sit, package, wonderful, sew, band, general, minutes, morning, slacks, gi, pictured, non, purchasing, option, happened, wanting, durable, sweat, item, picture, bummer, expecting, inseam, crocs, blister, fasciitis, undone, favorite, shape, constructed, stylish, night, shipping, wider, wow, gel, given, reviewers, badly, flop, four, until, wrong, several, tore, review\n",
            "taste, smell, flavor, scent, it, like, the, smells, but, and, is, this, not, of, in, to, they, good, as, was, that, strong, so, very, for, tastes, my, these, have, just, product, them, smelled, with, are, bad, chocolate, tea, all, seeds, flavors, be, great, me, too, at, eat, love, has, had, out, or, don, some, you, if, will, again, after, other, really, no, seed, would, candy, sweet, can, terrible, one, about, did, does, mix, use, chemical, when, on, were, from, than, protein, well, odor, get, doesn, fragrance, ok, much, only, time, there, which, didn, powder, tasting, try, sugar, more, ve, using, also, texture, an, many, oil, tasted, bought, before, could, used, sure, been, way, disgusting, scents, even, buy, bag, tried, nice, up, pretty, nothing, however, plant, any, because, dry, milk, though, awful, fresh, price, still, what, recommend, each, isn, brand, need, little, salt, add, take, kind, water, bottle, better, away, tasty, oils, wish, sprouted, day, first, plants, aftertaste, maybe, long, thought, definitely, never, anything, re, go, ingredients, others, bit, got, far, last, vanilla, coffee, make, green, find, expected, by, took, know, why, ordered, purchase, do, hard, grow, we, put, horrible, its, package, something, sweetener, disappointed, stuff, eating, since, hoping, perfume, chemicals, absolutely, actually, different, looking, think, low, energy, every, quality, stomach, healthy, over, arrived, deodorant, off, taking, found, enough, reviews, came, germination, best, your, swallow, smelling, while, several, ll, two, am, stevia, may, seem, opened, strawberry, same, leaves, gross, years, difference, how, stars, drinking, open, stale, wash, back, less, snack, dissolve, smoothies, right, per, products, purchased, health, another, diet, coconut, artificial, made, wanted, makes, regular, added, return, hot, amazon, days, amount, money, happy, give, recipe, noticed, small, morning, unpleasant, sodium, crunch, outside, juice, gum, thing, growing, here, their, candle, lemon, ones, dissolves, cologne, mixes, order, old, else, gave, liked, now, brands, least, amazing, such, shakes, vegan, smelly, few, drink, works, yogurt, rather, hours, carb, supplements, threw, going, once, most, instead, value, won, bitter, packet, beautiful, then, wouldn, consistency, disappointing, half, yet, he, work, expensive, expecting, without, natural, 10, skin, who, waste, orgain, hazelnut, peanuts, jerky, crackers, potent, blend, inside, delicious, doing, food, want, packets, ranch, caramel, chia, creamer, cinnamon, box, essential, weeks, always, lot, fan, fine, being, looked, stunk, unscented, fishy, planted, smoothie, count, sometimes, into, sad, months, almost, change, quickly, aroma, rancid, drops, seemed, crunchy, gummies, bomb, store, us, extremely, highly, notice, matter, issue, through, plain, purchasing, light, house, synthetic, couple, easy, odd, should, received, month, beef, chewy, variety, wasn, melted, sent, impressed, favorite, lavender, bars, heat, packaged, helps, tree, around, haven, soft, gym, couldn, either, might, problem, slightly, new, leave, unfortunately, trying, sea, honey, down, smoke, year, hardly, noticeable, worth, item, keto, quite, liquid, wrapped, see, sorry, goes, feel, cool, come, pure, pound, exactly, gift, helped, seems, warm, flowers, comes, plastic, pleasant, sprayed, none, alcohol, feeling, look, someone, air, reeks, candies, caramels, chai, nag, nibs, whey, asthma, aired, salsa, whisk, kk, yankee, lemonade, husband, update, especially, say, pack, packaging, cannot, guess, cute, candles, anymore, week, those, keep, weird, entire, oatmeal, sweeter, dessert, burps, palatable, drank, spicy, beverage, almond, wise, jar, bc, reason, otherwise, ordering, residue, strange, child, jasmine, potato, pungent, ever, rid, gets, room, rest, pieces, full, stores, sour, creamy, burlap, tossing, sell, stronger, wrong, next, finding, grainy, clumps, stems, high, barely, mouth, packs, cup, cheaper, type, loves, style, spring, complain, roots, capsule, chalky, peach, working, burn, oh, lost, cheap, watermelon, faint, overpowering, yummy, our, person, black, started, idea, said, delivery, cream, bay, spice, leaving, big, second, must, overall, let, flavored, gritty, bedding, hint, apples, okay, lovely, lighter, continue, seller, original, favorites, repurchase, diffuser, liquids, doesnt, nose, empty, normally, grew, ate, snacks, changed, both, able, toxic, mixing, sport, close, unable, where, suggest, died, awesome, due, noted, grocery, date, nasty, prefer, car, loved, toss, tongue, bar, ice, people, pepper, soup, soil, washing, trash, drop, looks, burnt, wraps, hold, lower, three, super, gone, keeping, alright, fruit, formula, tablets, worst, told, shower, non, overly, cheese, purpose, company, believe, orders, straight, kick, content, version, enjoy, review, buying, earlier, pleased, top, difficult, normal, headache, stop, body, unique, saw, opening, probably, chips, place, having, overpriced, workout, clean, unless, buds, help, stay, family, soon, smaller, bags, pain, picked, adding, chose, giving, 20, touch, twice, pricey, nuts\n",
            "hair, skin, my, it, this, and, to, wig, product, for, the, face, is, on, have, not, spray, use, but, shampoo, in, of, was, like, so, using, that, mask, with, dry, you, your, just, out, me, all, really, very, as, conditioner, or, wax, after, love, great, had, used, razor, does, get, because, up, be, if, do, more, would, nails, too, at, didn, long, lashes, only, did, no, time, they, will, don, work, good, been, are, than, again, better, apply, can, sensitive, one, nice, any, what, pretty, sprayer, nail, some, cream, mascara, ve, look, products, first, much, shave, still, these, make, works, moisturizer, off, try, pores, tried, when, little, how, brush, lash, from, bottle, has, easy, nose, over, soft, looking, other, thick, two, them, eyes, polish, doesn, scalp, natural, even, which, am, well, eye, day, sure, now, feel, feels, also, before, got, nothing, makes, few, many, recommend, leave, oil, oily, lips, go, clean, about, masks, curls, cut, started, an, scent, both, trimmer, made, color, bad, want, bought, buy, light, different, down, never, days, remove, price, maybe, money, there, were, without, goes, smells, lot, super, put, week, years, while, smooth, gel, return, fine, curly, once, weeks, every, sunscreen, need, same, however, bit, lotion, its, keep, then, shaver, way, back, left, results, know, seems, since, best, going, re, though, ll, feeling, hard, ordered, difference, head, enough, stuff, eyelashes, away, purchase, gave, itchy, leaves, order, times, acne, help, kind, expensive, hold, see, hands, we, part, looks, took, felt, found, lip, another, blades, working, getting, ingredients, smell, last, brand, wet, think, area, itching, problem, night, quality, especially, received, could, looked, reviews, second, actually, facial, old, amazing, thin, wear, less, pump, give, perfect, wouldn, straight, most, combs, may, longer, haven, water, wanted, instructions, breakouts, greasy, peeling, applied, spraying, strong, remover, by, dark, red, come, daughter, minutes, isn, probably, being, curling, comes, wearing, own, might, gets, makeup, body, saw, amazon, burned, helps, far, extremely, say, kept, stars, instead, else, wasn, take, worked, reaction, buying, guess, close, razors, difficult, thought, definitely, purchased, wife, applying, thing, lipstick, should, under, immediately, magnetic, daily, small, job, people, our, worth, disappointed, hairs, quick, couple, find, legs, month, overall, shaving, side, full, burning, here, dont, changes, gentle, forehead, ok, glue, stopped, real, arrived, decided, irritation, arms, moisture, due, top, came, picture, hot, stay, line, cause, around, who, excited, worse, waste, anything, eyeliner, caused, within, either, takes, iron, careful, noticed, her, trying, seemed, waxing, redness, shampoos, store, fake, fresh, broke, whole, done, noticeable, wrinkles, clear, fragrance, lace, clips, straightening, eyebrows, having, those, seem, figure, she, texture, flat, eyeshadow, new, everything, others, regular, doing, aren, something, uses, pain, otherwise, type, cheaper, twice, realistic, amount, stays, threw, ever, rid, unfortunately, against, expect, application, compared, went, tangled, allergic, completely, must, box, tight, several, let, almost, didnt, morning, worst, wash, highly, mist, curl, someone, into, effect, rash, burn, similar, bottles, house, stop, scrub, fix, spots, favorite, advertised, save, needs, combination, blackhead, retinol, thinning, wigs, blackheads, leaving, lines, low, front, whatsoever, hand, called, cutting, continue, shed, dandruff, bun, lice, always, style, broken, free, turn, length, serum, pimples, wavy, balm, flake, scar, eyebrow, clippers, big, container, sew, directions, start, quite, fact, tell, quickly, beautiful, rusty, sprays, break, during, residue, ended, washing, bottom, pearl, end, place, pressure, sticky, cap, disappointing, issue, minimal, 10, setting, gives, liner, black, through, shiny, deal, purchasing, said, cannot, miss, beads, sharp, lightweight, already, blonde, terrible, slight, cheap, wonders, rounds, professional, extra, tool, together, turned, thinner, caught, harsh, applications, rust, easier, dried, coconut, wont, where, myself, months, star, effective, lasts, everyday, rather, wand, pull, bother, year, zero, loved, ear, avoid, wrong, until, brands, high, mix, half, places, normally, receive, delivery, today, hate, helped, formula, fantastic, bumps, thats, honestly, suction, plastic, match, his, added, point, false, making, awful, polisher, cystic, ponytail, airbrush, hairpin, buffing, acnes, moisturized, hives, frontal, lubes, brazilian, husband, delicate, nozzle, absolutely, set, bar, experience, softer, baby, pop, open, packaging, charge, package, trash, improved, awesome, trim, particular, 15, such, kit, entire, service, softens, waxes, cleansing, eyelash, minimize, sleep, non, file, tend, switched, tag, won, uncomfortable, able, actual, along, totally, oils, often, itself, halloween, glad, item, mesh, cells, hydrated, frizz, bangs, sensation, numb, mineral, shea, gunk, firm, why, impressed, drying, heads, chemical, three, heat, improvement, coat, faster, pieces\n",
            "color, colors, not, as, the, pink, what, picture, it, is, blue, gold, expected, brown, white, was, but, black, like, and, ordered, green, to, very, red, in, of, rose, are, that, looks, they, this, just, for, flag, paint, all, one, on, light, look, silver, pictured, my, than, dark, more, at, same, orange, were, product, good, would, have, disappointed, purple, got, be, so, nice, pretty, exactly, love, different, you, with, off, received, them, gray, yellow, great, really, had, sent, an, bright, beautiful, see, only, vibrant, described, pictures, faded, item, came, wrong, me, better, make, even, can, thought, will, well, or, other, out, tan, quality, did, definitely, after, sure, shown, these, do, how, two, from, because, navy, if, buy, get, grey, too, shade, when, wanted, photos, saddle, time, order, perfect, about, don, has, use, much, price, everything, cheap, we, darker, description, shows, return, package, instead, colored, box, clear, close, paints, case, dice, over, going, little, opened, photo, used, some, could, big, easy, looked, wasn, beige, dull, arrived, returned, doesn, set, been, amazon, up, few, bad, no, didn, hard, again, your, though, back, image, mine, looking, bought, garland, aqua, then, painted, returning, nothing, still, design, which, give, feel, come, also, show, actually, pic, thin, ve, recommend, should, put, long, using, money, almost, ones, liked, effect, expecting, material, there, mostly, tint, anything, enough, flowers, overall, now, seller, true, aren, go, flags, palette, however, sparkly, person, quickly, loved, right, isn, half, online, drum, ornaments, stars, way, take, eyeshadow, metallic, does, coat, said, never, another, frame, say, already, month, fun, metal, made, refund, any, normal, care, lot, ask, first, fine, cute, tree, loose, why, trying, easily, bit, worth, wish, its, lighter, something, by, daughter, seems, purchased, match, okay, reviews, supposed, squeezer, skein, selection, absolutely, work, around, ugly, advertised, small, hot, ok, reason, totally, down, kids, hair, am, large, maroon, rustic, primer, wreath, days, party, far, shiny, happy, numbers, edges, poor, think, super, variety, sterling, know, plastic, pearl, horrible, re, mat, top, grommets, nor, items, our, expectation, paper, stitching, avoid, new, phone, week, imagined, texture, excellent, weeks, hassle, fading, rubbed, lol, baby, home, every, real, took, upset, says, makes, brass, fits, such, pick, need, covered, hand, near, times, accurate, size, wear, find, matte, couldn, might, lasting, images, fence, everyone, unfortunately, weird, meh, through, spray, actual, attached, sprayed, purchase, thing, cut, review, want, nowhere, base, last, wouldn, sewn, hung, window, brand, graphics, fly, candles, end, keep, pole, asking, help, issue, colorful, slightly, before, started, smaller, waste, chose, projects, background, add, line, couple, cost, inside, states, open, lots, coming, anyone, best, shipped, properly, yee, wagon, flagpole, ivy, peyton, hash, taupe, dreamcatcher, door, most, christmas, plain, huge, detail, misleading, cuts, stuff, expect, won, able, where, project, outside, chocolate, ended, point, original, kept, disappointing, acrylics, sunflowers, photographed, copic, juicing, done, else, update, dry, needed, packaging, guess, areas, asked, larger, those, hanging, least, due, side, hold, mistake, cream, beanie, roses, hardly, separate, heard, wrapped, corners, haven, broke, sort, prettier, powders, coral, hideous, drums, headline, spreads, rows, backdrop, cherry, room, turn, unable, full, fingers, bold, lantern, colours, crafts, strong, write, bottle, surface, quite, several, gotten, buying, catcher, discoloration, circumference, difficult, apart, double, garbage, birthday, loves, probably, piece, trash, veggies, delayed, decorate, remains, burgundy, glowing, peach, leak, thinking, seem, longer, cap, careful, notice, day, fades, deer, neon, royal, shipper, job, didnt, 10, correct, shower, years, works, wood, spraying, holidays, co, silk, cutters, suspension, sides, second, getting, seen, teal, affected, looser, lake, dream, blonde, smooth, bottles, contact, less, butterfly, saw, packaged, opening, fit, advise, depicted, annoying, multiple, both, being, flat, later, decoration, neighbors, solid, many, rather, calling, wrinkled, touch, wife, ripped, painting, thank, immediately, web, individually, deliver, without, wall, takes, eligible, patterns, idea, start, today, receive, paid, tell, excess, units, warm, row, since, hoping, decent, flimsy, applying, read, tone, met, extremely, making, tissue, air, replace, delicate, feedback, speak, slippery, selling, aluminum, pack, direction, question, site, customer, house, missing, designs, meet, candy, needs, worked, pics, send, pair, while, minutes, service, allowed, under, front, unhappy, issues, couch, changes, otherwise, stick, halloween, minor, chipped, durable, feels, weight, bummer, respond, staying, plates, chip, either, cleaned, 13, star, three, night, wider, dislike, pieces, pass, mini, went, completely, began, perfectly, replacement, special, fast, shop, peeling, exchange, each, high, factory, expectations, things, applied\n",
            "lights, light, bright, bulbs, the, bulb, and, on, to, these, for, of, led, they, are, lamp, it, is, not, one, in, that, with, them, my, very, but, we, work, as, you, night, have, was, switch, only, at, up, this, so, out, great, when, be, off, can, just, really, or, had, turn, all, would, lighting, other, will, after, do, white, use, has, works, about, if, two, more, no, then, working, from, were, brighter, bought, me, didn, like, installed, than, because, there, don, which, batteries, months, much, time, dim, look, now, lamps, brightness, some, worked, first, well, remote, got, dark, long, what, get, flashlight, nice, our, good, color, did, install, also, doesn, motion, power, used, room, too, last, buy, love, price, product, need, colors, see, money, new, few, an, flicker, its, how, battery, by, sensor, days, purchased, around, come, ve, smart, another, little, installation, being, where, even, easy, wire, looks, still, dimmer, enough, beam, daylight, could, ones, way, plug, again, super, day, low, set, high, better, alexa, am, make, base, recommend, needed, started, lit, using, went, during, shade, different, replacement, setting, already, since, fit, red, less, wish, pack, disappointed, star, tried, house, right, stars, box, maybe, came, looking, wires, any, over, been, made, car, put, into, each, torch, later, sure, pretty, does, far, however, order, your, something, able, customer, think, reviews, replaced, quality, return, green, before, unit, purchase, year, stopped, half, happy, oittm, beams, find, weeks, give, amazon, small, three, 10, fog, wanted, try, ceiling, should, cheap, usb, options, change, bad, candles, turned, flame, through, problem, 30, home, want, several, poor, flickering, fine, plants, burned, once, ll, ground, ok, nightlight, their, won, comes, fixture, go, glow, warranty, actually, back, leds, perfect, blew, until, socket, awesome, never, wouldn, service, liked, thought, both, issues, down, christmas, flash, hours, feature, many, top, either, lasted, sets, failed, same, area, whole, month, butane, yellow, unless, app, seller, garage, lumens, changing, turns, installing, going, glass, headlights, running, place, having, though, stay, issue, screw, cool, ordered, instructions, within, expected, run, between, without, seen, full, sent, week, left, etc, seems, definitely, husband, replace, review, update, beautiful, exactly, makes, advertised, doing, send, minutes, fun, globe, reason, feet, switches, button, design, solar, life, simple, properly, string, second, dimmable, headlight, wall, side, output, difference, tree, best, burn, adjust, defective, stock, broken, every, turning, fast, local, truck, short, picture, probably, clips, size, illuminate, least, amazing, loved, seconds, control, help, four, job, standard, under, years, sun, waste, cord, otherwise, touch, hard, above, couple, screws, junk, inside, know, charge, simply, arrived, noticed, near, company, value, sensors, stand, wifi, received, outside, blue, kitchen, she, isn, believe, living, brand, while, piece, longer, times, close, take, heat, hold, setup, returning, hot, patio, others, halogen, flashlights, front, say, plastic, possible, away, kids, haven, aren, re, broke, candle, desk, fuse, halo, headlamp, old, center, most, always, add, took, hope, keep, big, trouble, none, person, completely, convenient, push, tail, perfectly, start, next, ft, dead, quickly, problems, strand, double, onto, grow, fail, bit, ended, point, watt, store, rated, seem, described, reading, useful, settings, black, mine, pin, deal, expensive, satisfied, attached, recharging, due, landscape, charged, metal, main, lot, factory, road, finally, blown, devices, window, part, hour, functions, specs, 300, lite, perhaps, angle, safety, please, figure, ever, loose, move, slightly, seeing, leave, unfortunately, included, regular, rv, lasts, hardware, looked, giving, 20, type, strong, easily, position, sunlight, amount, quite, buying, almost, length, feel, addition, starting, supplied, today, taking, wiring, january, expect, quick, correctly, warm, hoping, source, connected, description, nothing, photos, adjusted, manufacturing, surface, highly, total, shed, replacements, upon, provided, torches, bobber, lightbulbs, lumen, fixtures, 40watt, incandescent, watts, lasfit, dimming, else, bar, rating, weak, getting, support, overall, packaging, wasn, those, compared, plugged, photo, needs, held, closet, randomly, head, gives, morning, flange, strobe, flickers, electrician, cast, option, projects, cabinet, outlet, nuts, item, built, flaw, expecting, illumination, amber, dawn, shipment, floor, gets, table, moisture, electric, luckily, given, bracket, annoying, multiple, lantern, dimmed, smoked, friendly, bedroom, instead, past, connect, toddler, oem, temperature, decided, cheaply, sell, tiny, wrong, replacing, her, aware, reach, 12, cones, difficult, 2018, useless, returned, barely, things, putting, daughter, plus, iron, anywhere, yet, cost, electricity, flashing, tower, shutting, wired, daytime, immediately, pattern, 3rd, bathroom, hanging, email, door, said, delivery, cute, directly, checked, stayed, 2013, lastly, race, spider, wing\n",
            "box, bottle, the, was, broken, lid, arrived, bottles, in, broke, of, it, and, lids, product, to, not, open, package, that, glass, came, with, opened, one, they, have, this, damaged, plastic, packaging, on, all, so, item, bag, is, but, no, be, them, for, after, can, were, when, my, seal, out, use, been, or, received, are, leaked, top, had, cap, would, shipped, if, very, like, there, leaking, these, you, used, time, cracked, me, over, off, from, just, packaged, spilled, as, inside, return, about, leak, half, shipping, container, sealed, because, first, up, we, ordered, crushed, will, way, bubble, still, even, two, cans, pieces, amazon, what, oil, easily, wrapped, only, pills, everywhere, won, how, some, apart, at, order, could, now, liquid, an, completely, got, get, keep, another, hard, well, shipment, sent, condition, other, wrap, into, new, don, envelope, should, am, again, day, do, fell, without, which, padding, disappointed, bought, also, packed, doesn, ve, properly, itself, better, paper, break, boxes, shut, cracks, little, love, fit, small, has, seller, using, however, before, poor, easy, ll, thought, packing, every, probably, bottom, did, cheap, jug, by, too, poorly, never, loose, delivered, already, month, wasn, full, nice, mixer, leaks, left, empty, than, enough, missing, want, yet, pill, good, around, parts, damage, back, take, items, closed, strips, right, great, know, works, together, make, several, both, though, being, put, returned, work, fine, smashed, dropper, dented, refund, months, looks, design, your, made, side, amount, immediately, purchased, within, shattered, perfect, need, where, replacement, more, difficult, then, while, piece, jars, mine, contained, everything, quality, crack, hold, opening, returning, please, second, water, actually, away, thing, obviously, piñata, instructions, money, ripped, same, spill, placed, much, problem, upset, company, try, intact, mess, receive, although, buying, folders, covered, oz, price, chipped, hoping, happy, size, trash, something, really, seem, kept, else, unusable, think, didn, fall, found, through, since, styrofoam, happened, due, couple, needs, go, send, inner, any, week, lot, cardboard, handle, hand, ease, bent, falling, spilling, defects, might, powder, wanted, few, sure, kind, large, down, capsules, days, year, fill, transit, seals, does, wish, horrible, tear, its, case, thank, excited, see, quickly, beautiful, hope, ring, give, returnable, bad, recommend, door, containers, thermometer, exactly, corner, delivery, gift, place, having, stuff, manufacturer, seemed, nearly, outside, taped, going, store, re, buy, threw, waste, reviews, air, pendaflex, ketone, last, replace, destroyed, pop, dish, brown, thin, less, big, drop, most, protect, hot, entire, weird, tops, gap, somewhere, able, believe, durable, caps, hours, bummer, whipped, care, why, worth, unfortunately, three, trying, times, mailer, middle, stars, pretty, breaks, instead, four, later, medication, melted, food, seems, each, definitely, hole, isn, brand, free, exploded, tape, stay, torn, old, crate, shipper, sometimes, different, noticed, today, huge, cream, scratched, enclosed, wasted, expect, ship, let, 2nd, wash, here, making, mailing, disappointing, once, weeks, therefore, hassle, ends, prep, hate, kid, ok, their, expensive, color, ants, brittle, long, terrible, minutes, safe, sending, wet, otherwise, sit, filter, sticky, come, always, daily, careful, busted, gets, keeping, 150, unacceptable, pictured, travel, cheese, looked, actual, dent, dropped, purchase, dispenser, contacted, wrong, next, almost, packets, fast, floor, compartments, fix, wouldn, our, shows, wrapping, looking, college, end, shrink, issue, contents, joke, jar, started, maybe, who, years, sister, reorder, appeared, oils, cabinet, anything, giving, policy, folded, throwing, carefully, cold, packages, stuck, sliding, apparently, lost, canning, rollerballs, anova, fram, insect, walmart, christmas, fragile, threads, idea, themselves, beads, soft, took, during, began, fair, flimsy, following, protective, okay, description, picture, pre, counter, stainless, pot, original, look, caused, products, escaped, earing, cellophane, smushed, stirred, unsealed, gradual, earings, unscrewed, husband, done, update, dishwasher, felt, ups, pack, needed, cannot, 3rd, material, label, yourself, directly, fun, kombucha, tuna, screwing, reason, sadly, silicone, extra, steel, section, assembly, pulled, corners, haven, dust, handles, spent, tried, ketosis, labeling, spigot, epoxy, center, star, night, drink, suggest, crumpled, medicine, rethink, serum, kitchenaid, shards, directions, went, heavy, push, removed, perfectly, literally, snap, sad, quite, tight, hopefully, total, stays, simply, awful, ones, syrup, secure, upon, prefer, lose, high, sizes, rating, ice, throw, gave, sturdy, remained, unopened, 500, dispense, sauce, dusty, boil, coated, may, impossible, clean, live, 15, matter, lock, comes, everyone, job, worst, nothing, black, smaller, defective, said, forward, late, except, attached, totally, rainy, organizer, escape, graduation, paint, boxed, manufacturers, clay, normal, driveway, saw, heat, part, humidity, discover, nipple, death, fails, vertical, holder, mixing, presentation\n",
            "coffee, the, to, recipes, and, for, it, is, of, cup, this, that, pan, in, you, are, book, mug, great, so, with, have, cups, my, these, pot, but, use, bowls, be, not, on, cookbook, cook, will, very, was, like, if, pans, had, can, one, would, only, food, love, mugs, good, as, all, just, they, more, get, hot, perfect, them, small, at, grinder, from, up, easy, time, make, there, bottom, used, basket, cold, size, really, don, set, we, lid, some, because, out, other, or, when, lunch, buy, than, much, two, your, about, bowl, clean, bought, do, made, pots, too, water, keep, what, were, spoon, got, way, pods, diet, me, nice, am, cooker, work, steel, simple, top, instant, little, its, no, delicious, quality, has, recommend, ve, again, inside, even, enough, well, few, product, carafe, keurig, meal, after, taste, need, who, our, handle, then, stainless, weight, tea, how, doesn, most, those, take, design, heat, cookie, still, flavor, reviews, cupcakes, which, maker, cooking, into, also, grounds, cake, wish, disappointed, spoons, machine, price, counter, over, larger, big, dishwasher, first, large, new, off, grind, best, hand, though, any, decaf, popcorn, been, dishes, find, fine, looking, every, does, did, nothing, years, purchase, using, back, box, rice, wasn, each, stick, now, works, know, pretty, since, baking, could, re, bag, already, lots, looks, times, ceramic, isn, cookies, gift, meals, having, definitely, purchased, comes, fit, ingredients, didn, bigger, worth, loved, second, amazon, by, return, without, hold, things, kitchen, months, received, non, plastic, where, kids, issue, item, stuff, everything, 10, expect, tried, day, easily, keto, stove, cute, making, skillet, induction, an, stars, put, money, before, brew, roast, nespresso, seems, look, down, being, problem, makes, want, same, different, said, dish, helpful, anything, expected, overall, us, super, leaks, oz, through, right, supposed, health, plates, high, drink, cooked, says, wanted, try, ordered, light, many, however, eating, maybe, stuck, while, meat, pour, brewed, gets, useful, think, hard, rust, rack, looked, wash, colors, quite, their, quickly, last, lot, shape, real, espresso, coating, help, stay, far, pod, sticks, found, healthy, mess, haven, getting, thought, shipment, ever, excited, see, cause, holds, read, ounce, another, arrived, kind, guide, ll, full, order, hands, cheap, quick, foods, better, difficult, cleaning, grinding, gave, brand, microwave, sure, clear, mine, needed, deal, customer, give, bad, smaller, tray, recipe, metal, nonstick, brews, steam, past, month, thing, never, bread, formulas, clad, giving, rather, usually, drinks, pictures, took, around, eat, griddle, chamber, strong, medium, she, screw, picture, photos, noticed, enjoying, buying, year, beverages, lunchbox, provided, lose, value, wouldn, regret, happy, probably, description, sturdy, yet, boiling, lunches, thinking, spend, extremely, seem, information, chip, compared, reading, job, seal, learning, poured, strainer, breakfast, should, such, lover, step, shop, glass, thin, burner, dinner, friend, people, ok, broken, holder, both, nicely, regular, shipping, packed, 20, touch, company, bit, cost, heavy, perfectly, until, shelf, liquid, anyone, something, handles, insulated, tall, feel, starting, long, burnt, liked, huge, tell, may, place, recently, keeps, container, going, oven, offers, remove, working, safe, copper, plan, ale, done, experience, measurements, away, understand, least, thanks, worked, part, lower, minutes, fun, titanium, anthony, grinds, diabetes, fat, loss, low, unit, purchasing, along, purpose, changes, otherwise, author, pink, pleased, freshly, waffle, tongs, instructions, holders, loose, days, always, table, minimal, wait, star, helps, frequently, recommended, ginger, cooktop, plate, temperature, steps, side, flat, filled, replacement, 16, leave, family, oil, her, almost, ones, doing, countries, hydro, veggie, flavorful, brewing, coarse, loves, half, exactly, sauce, boil, yummy, vegan, appliance, sometimes, came, takes, start, today, 14, mistake, paid, ready, everyday, serving, problems, duty, warm, error, negative, 11, avoid, outside, possible, lame, monster, lifestyle, flimsy, considering, called, sent, intended, store, immediate, tumbler, costco, utensils, element, providing, cover, clearly, excellent, mix, once, likely, absolutely, south, sets, ground, expensive, home, bitter, starter, missing, suggest, saying, higher, awesome, amazing, needs, send, surface, flask, canister, america, grease, sending, reason, issues, toss, presented, weak, ice, soup, pepper, rich, life, filter, single, material, washed, pressure, follow, either, within, might, containers, refill, unfortunately, three, trying, interesting, correct, ridiculously, unacceptable, blend, fancy, surgery, informative, happened, went, straight, sharp, next, smooth, appreciated, particularly, selection, polish, returned, wide, etc, spill, save, packaged, shaped, turned, piece, heating, latch, annoying, unless, jack, wooden, edges, decided, chicken, drinking, contents, sink, proper, myself, flavors, waste, code, list, appreciate, specific, barely, wife, cheaper, couple, twice\n",
            "phone, case, screen, protector, the, it, is, this, my, and, to, of, not, with, but, on, that, for, off, had, you, was, very, have, if, in, so, glass, as, like, protection, when, doesn, an, good, ipad, protectors, does, only, just, cover, from, dropped, at, up, be, back, your, all, iphone, well, nice, would, cases, hold, has, will, around, one, after, also, looks, ve, fits, can, out, because, holder, hard, or, while, edges, get, did, really, which, new, than, fit, other, do, plastic, vent, no, me, got, great, protect, overall, use, even, about, there, top, any, durable, bottom, time, feel, more, protects, before, otterbox, easy, feels, now, edge, what, don, first, buy, side, down, how, stylus, love, seems, comes, am, plus, cracked, air, problem, still, pocket, they, too, front, bubbles, put, without, works, bought, stick, protected, sides, ever, came, week, stay, issue, much, installation, pretty, dust, product, adhesive, however, grip, its, remove, purchased, easily, recommend, months, used, stylo, money, mount, price, magnet, work, drop, again, apply, broke, didn, touch, once, corner, clip, made, since, quality, perfectly, few, tablet, sure, tempered, stand, far, could, sturdy, holding, falls, are, place, rubber, having, fine, shattered, little, two, samsung, many, completely, days, tried, way, lot, times, sim, liked, take, part, galaxy, won, disappointed, started, going, right, kickstand, putting, then, actually, different, amazon, holds, by, peel, isn, keep, into, press, makes, decent, instructions, another, protective, over, installing, apple, getting, clear, give, thin, never, weeks, piece, issues, thing, look, s8, should, bubble, durability, always, color, same, already, charging, wasn, left, using, bulky, come, less, review, buying, phones, through, scratch, exactly, service, spigen, these, under, curved, sensitivity, day, otherwise, cheap, itself, holster, design, ordered, return, anything, reviews, within, calls, couple, shell, trying, install, kind, corners, better, cut, replacement, middle, difficult, card, probably, third, snap, note, been, slim, hand, black, she, stars, second, say, month, system, break, bit, bumps, unlocked, most, okay, see, purchase, device, went, driving, go, fire, being, supposed, where, face, network, bump, were, functional, especially, layer, need, gave, fell, breaking, small, such, everything, nothing, who, material, touchscreen, button, inside, open, know, loose, though, fact, problems, every, application, battery, looking, almost, entire, gives, expected, apart, things, loved, update, may, fall, some, mounts, close, something, find, matte, bad, said, terrible, think, returning, enough, falling, dash, refund, wasted, definitely, bumper, perfect, avoid, slightly, kindle, feature, protecting, last, ll, we, unfortunately, both, yellow, ring, strong, heavy, noticed, previous, deals, damage, onto, keeps, pop, camera, covers, happy, lasted, thick, item, buttons, seem, make, belt, replace, compatible, her, rubbery, s9, cradle, kit, super, correct, found, mine, deal, thought, cannot, customer, lip, option, waste, want, away, charge, reason, peeling, sent, best, car, finally, mobile, interfere, dont, together, devices, ease, cute, haven, took, display, either, size, angles, apps, full, rather, 30, placing, electronic, pull, finger, noticeable, worth, fan, silicone, installed, horrible, wrong, until, needed, adhere, wouldn, daughter, likely, long, brand, huge, end, taking, tell, allow, arm, received, them, hoping, flimsy, job, cracking, curve, trouble, surface, someone, popping, excellent, order, described, stylos, gsm, impacted, sprint, port, slippery, support, hit, understand, those, impossible, socket, amazing, awesome, big, due, photo, needs, pops, hot, oneplus, tge, uber, defender, ok, worst, soft, video, glitter, wanted, pleased, prolonged, border, pencil, year, impressed, room, release, etc, star, save, yesterday, friend, max, guys, armor, company, friendly, unless, past, decided, coverage, soon, necessary, offer, doing, watch, fingerprints, solid, road, applied, ask, cup, additional, line, style, effect, s6, peels, re, angle, rose, clean, coming, longer, excited, magnetic, set, goes, his, ago, start, receive, scratched, activate, expect, scratches, waiting, outside, let, considering, called, ended, seller, call, disappointing, done, else, absolutely, felt, handy, placed, guess, able, upgraded, suction, film, dirty, try, removed, simply, covered, provided, feet, supports, ultimately, eats, garbage, experience, rating, windshield, life, filter, online, spend, closed, gold, might, son, matter, lock, refused, bulk, three, lg, told, purchasing, actual, condition, helpful, along, thankfully, raised, ordering, instead, read, kick, contacted, tight, seen, similar, quickly, beautiful, old, normal, floor, carrier, headphone, pressed, securely, high, fix, table, shows, bummed, wipes, xs, rest, chinese, fans, yet, temp, jack, help, move, worked, cheaply, flat, 10, he, myself, smaller, maybe, years, tech, fingerprint, giving, barely, smoothly, type, add, show, space, moves, holders, stuck, promptly, lost, minimal, bootloop, chirps, interfered, tpu, cdma\n",
            "install, easy, to, tool, the, and, screws, it, together, handle, assemble, was, you, tools, with, for, put, of, on, but, screw, drill, very, one, in, not, is, this, have, had, my, that, instructions, are, bits, so, assembly, use, up, great, will, holes, no, they, as, bolt, were, price, well, installation, would, good, made, off, product, hardware, parts, be, than, them, quality, looks, only, difficult, handles, if, like, took, works, time, need, some, or, used, after, cheap, get, out, buy, more, fit, just, again, part, set, needed, when, me, what, missing, do, because, should, an, bit, make, first, there, line, wrench, all, thing, broke, hard, nice, sturdy, from, your, back, which, work, screwdriver, find, bolts, too, base, came, don, got, sure, did, bent, directions, really, wish, fine, hole, even, little, pretty, apart, at, didn, way, these, much, nuts, better, pieces, can, take, cut, into, hold, box, money, now, two, right, down, we, where, installed, job, new, any, am, went, several, ll, dremel, plastic, also, return, head, other, easily, how, around, about, hand, simple, bought, nut, without, before, months, baffle, look, mounting, arrived, replacement, built, could, recommend, hex, fix, piece, keep, big, grip, worked, does, still, stars, day, less, assembled, purchase, shipping, once, go, tried, single, impossible, last, both, value, however, wrong, kit, hammer, doesn, fell, house, side, come, pay, minutes, enough, been, ve, open, long, people, included, wasn, pull, cost, then, love, site, door, snap, tapped, file, instruction, own, has, far, exactly, something, fairly, place, remove, give, bad, lock, small, done, perfect, poorly, years, saved, guess, since, another, using, actually, replacing, metal, changing, over, weeks, expected, hours, tips, able, while, few, clamps, 30, joint, perfectly, tight, happy, ones, shipped, attach, tooth, probably, huge, standard, disappointed, seems, know, everything, 10, re, though, top, provided, order, old, couple, update, already, our, yes, inside, overall, amazon, deal, security, week, awesome, follow, thanks, send, haven, item, feels, picture, wrenches, loose, finally, shows, figure, material, feel, move, heavy, cheaply, furniture, next, leave, rubber, driver, step, rotary, anchors, through, road, self, going, removing, yet, snapped, pictures, space, seem, coming, anyone, plug, rack, holds, comes, properly, lot, speed, stock, ago, started, looking, tell, quick, duty, tighten, process, build, decent, bearings, flew, he, arrive, replace, ends, assembling, drilled, broken, baby, its, every, lawn, positions, manufacturer, function, see, figured, due, added, many, previous, never, year, mount, issues, worth, impact, bar, otherwise, pop, times, falls, pressure, 15, couldn, supplied, lower, three, super, think, kitchen, unlock, flex, diameter, rods, complaint, forward, dig, full, wood, along, straight, completely, sharp, paint, working, poor, want, stripped, initial, high, things, same, significant, plant, extension, save, case, brand, thread, bottom, end, may, loosen, losing, help, series, slightly, tabs, uses, said, doors, waste, pain, accessories, smoothly, getting, required, originally, washer, stuck, ak, auger, rev, magnetism, hangar, caliper, matco, bolting, goes, cool, most, stupid, strip, reasonable, size, soft, problems, rod, problem, project, battery, fits, ended, large, here, original, someone, wheel, excellent, described, predrilled, stake, chains, treads, materials, mine, 24, height, bend, ordered, advertised, tray, yourself, needs, documentation, impeller, eye, unit, prime, bands, front, eventually, section, itself, durable, tip, designed, buildings, phillips, reinstall, mallet, fasteners, vague, dewalt, stanley, key, luck, son, hassle, gets, handy, ground, trying, turn, placed, kind, range, looked, 50, fingers, welded, welds, molly, dependable, private, drills, deter, alien, chuck, match, older, complete, left, push, quite, until, gotten, loosened, model, inch, storage, garbage, returned, gave, filter, repaired, stability, repairs, pom, alignment, kennel, having, closed, longer, careful, issue, slide, allen, transition, cheapest, by, found, told, design, ball, smaller, who, finish, reviews, disassemble, shaft, frame, loud, legs, seen, marking, lifted, infant, torque, align, drilling, similar, package, best, sent, care, main, bikes, skip, household, tumbler, dont, friend, window, helps, opening, pointed, annoying, easier, being, later, soon, tweezers, speeds, lined, 000, threaded, jobs, adaptor, consuming, solid, jeep, putting, days, touch, wife, type, loved, delay, horrible, tape, soil, web, upside, lost, hope, managed, wall, sooner, sturdier, guitar, suitable, today, paid, boat, auto, definitely, evenly, models, must, let, hoping, flimsy, busy, dent, ours, lacking, lasted, description, point, area, locks, knob, ceiling, slipping, us, making, play, whole, kept, else, organized, miles, supplier, securely, absolutely, especially, fall, garden, vibration, packaging, breeze, hide, close, power, charm, significantly, she, wants, depth, matches, min, such, terrible, returning, others, reason\n",
            "brush, brushes, clean, the, to, towels, and, it, vacuum, use, for, but, this, soap, is, my, great, not, that, so, cleaning, of, towel, easy, bristles, dust, as, are, have, in, well, you, water, dryer, using, mop, on, very, works, be, after, with, they, out, up, product, was, teeth, would, will, dry, than, better, stains, can, like, does, or, get, all, these, only, good, more, just, wash, really, stain, humidifier, if, much, had, dishwasher, no, doesn, don, soft, off, little, wipes, time, from, used, hair, buy, small, nice, one, now, love, too, when, them, has, were, first, hard, our, drying, even, at, because, air, purchase, ones, bought, we, work, quality, heads, again, long, still, replacement, which, also, its, lint, recommend, job, since, about, working, there, ve, any, did, cleaner, dentures, toothbrush, fine, am, absorb, unit, fit, less, broom, big, been, an, hand, liquid, wipe, do, mist, enough, floor, me, give, your, worked, into, new, expensive, super, other, price, dyson, tried, top, made, didn, design, need, thick, then, back, went, quite, regular, seem, could, same, many, wet, hose, found, two, times, tooth, kitchen, purchased, vac, vacuums, plastic, paint, ok, re, remove, go, won, stopped, old, light, pretty, size, comes, far, head, brushing, months, years, collection, clothes, make, room, model, microfiber, by, bag, most, put, how, cloths, washing, last, completely, problem, bottle, what, battery, makes, wouldn, year, products, sturdy, few, having, smooth, happy, second, actually, say, dispenser, want, though, floors, napkins, humidor, vapor, money, different, looking, pieces, dish, suction, some, stuff, easily, loved, paper, wish, during, down, yes, way, without, take, gas, washer, come, cleaned, season, day, hold, makeup, blow, perfect, wick, besides, return, waste, glad, amazing, cloth, however, stainless, best, lot, expectations, over, sponges, handle, itself, once, haven, recommended, powder, gets, natural, before, uses, kind, got, useless, instead, worth, cost, silicone, cleans, perfectly, several, buying, poor, needed, shark, fast, find, scrub, feel, side, attachments, removal, noticed, probably, handy, never, disappointed, seemed, blue, holes, everything, none, going, maybe, should, look, bigger, ladle, bristle, sonicare, swiffer, dentist, replace, already, getting, inside, mine, cute, fairly, thin, keep, due, cap, while, low, reason, travel, reorder, purpose, try, life, bit, weight, enjoy, dishes, ever, normal, days, either, care, son, color, finally, etc, three, shipping, various, full, comb, easier, unless, until, received, think, basket, know, each, definitely, daughter, loves, compact, another, thing, dispense, gums, broke, tape, anyone, thank, stuck, stay, issue, flow, cheap, clients, scrubber, set, ordered, fact, around, change, voltage, expected, quick, expect, run, keeps, month, steel, description, store, week, sure, kept, together, husband, else, weeks, normally, especially, nipple, humidity, sets, standard, lol, baby, home, every, tea, drink, hinges, shedding, see, least, complete, mower, absorbent, needs, such, returning, picks, wand, covered, opened, stained, extra, foam, kids, organic, soup, led, filter, summer, something, letting, washed, bad, white, looks, daily, star, night, boat, results, seems, non, spray, evenly, cycle, sides, arrived, colors, lightweight, review, suck, quickly, order, laundry, short, body, destroyed, tool, amazon, window, bin, attachment, yet, piece, bottom, multiple, longer, she, help, cat, slightly, tiny, his, he, black, nothing, started, switched, food, dirt, ahead, grab, reviews, right, touch, cheaper, plus, dark, couple, messy, item, free, amount, shame, package, ways, wasn, rid, moisture, serviced, gunked, denman, handwash, molars, embroider, napkin, navigator, punched, takes, electric, ll, idea, although, difference, mini, beads, took, where, stronger, wanted, hoping, lasted, okay, fits, pre, counter, us, here, original, making, mouth, ease, dozens, bissell, solids, bleach, girl, positive, update, awkward, wax, guess, insert, dried, bathroom, power, those, 24, skin, effective, lasts, her, stayed, hot, metal, cleaners, whiter, 220, blower, disassembled, jumps, manual, deep, through, winter, car, hardly, negative, build, brands, leaked, fitting, anyway, apply, leaks, sort, wetting, sandpaper, rag, counters, loose, within, likely, therefore, placed, looked, nearly, kenmore, detailing, bathrooms, died, dirty, junk, bulky, push, next, hopefully, rough, previous, sending, smell, beautiful, crumbs, paste, catches, replaceable, granite, cause, turns, apart, bar, things, weak, isn, gave, mind, exactly, fray, end, falls, place, wonderful, lock, scent, useful, california, kit, morning, noise, seal, purchasing, wood, helpful, anything, pointy, box, version, open, amounts, saver, detached, exceeded, treatment, bottles, charge, wide, streaks, dont, cover, helps, turned, part, hour, applications, cumbersome, guest, strands, rinse, falling, annoying, broken, holder, both, past, being, decided, scratching, ignored, official, sept, xmas, rubber, leave, included, soon\n",
            "dog, collar, he, dogs, cat, she, my, cats, it, to, him, her, the, and, this, for, we, is, toy, of, have, puppy, with, leash, not, our, has, them, food, in, that, his, but, on, barking, when, so, eat, was, they, harness, would, loves, one, like, be, toys, these, had, can, as, chew, if, up, old, off, out, get, treats, just, or, other, after, more, at, no, are, your, from, about, vet, treat, only, really, all, got, been, love, chews, bark, you, work, will, don, likes, than, pups, product, since, fur, great, does, put, did, because, training, pup, floor, over, very, good, chewed, mix, didn, any, little, do, could, still, away, days, while, eats, teeth, even, down, day, well, week, ball, doesn, minutes, use, better, say, were, rubber, give, help, small, two, chewer, sure, much, door, also, puppies, stars, bought, what, lab, an, keep, their, however, which, made, there, ve, go, tried, loved, first, now, make, works, catnip, less, walk, around, shepherd, seem, way, try, play, waste, enough, month, by, giving, chewing, smell, apart, chicken, super, gave, noise, seems, interest, won, medium, may, german, longer, who, again, see, night, far, actually, getting, me, squeaker, shock, time, take, how, money, tablets, collars, fleas, usually, ripped, divider, kitten, broke, though, flap, within, buy, big, gets, three, something, lasted, before, then, back, think, boxer, balls, through, right, weeks, quickly, too, reflective, large, easily, 10, eating, maybe, immediately, bones, new, walks, without, second, barks, barked, might, either, playing, used, unfortunately, hard, purchased, terrier, thing, took, crazy, recommend, neck, destroy, squeaky, long, normal, high, lot, absolutely, favorite, mine, probably, rope, year, sick, into, crate, everything, pet, peanut, durable, its, always, calm, once, part, quality, pretty, last, able, break, set, several, next, tore, lbs, neighbors, stopped, months, needed, weighs, found, nothing, walked, pound, head, rawhide, shih, hooves, smells, definitely, prevent, going, re, working, disappointed, makes, until, few, taking, paws, butter, run, wish, wouldn, liked, half, times, ended, size, us, bad, update, started, home, never, reviews, groove, need, using, easy, already, stop, some, kitty, cute, flavor, allergies, beep, ate, recommended, hours, ever, leave, trying, picky, grass, button, bottle, horrible, excited, each, find, am, goes, things, side, return, sticks, fact, end, tell, stuff, issue, plastic, hoping, number, smaller, years, kept, anything, tzu, retriever, spaniel, leashes, sniffed, same, appears, mind, house, least, metal, lick, uti, labrador, crinkly, front, being, attached, problem, where, itself, wanted, life, haven, bit, item, many, poodle, mixed, remote, nice, 60, why, rest, outer, happy, yorkie, mouths, unless, 100, decided, pulling, almost, regular, guy, chunks, squeak, golden, kong, bowl, water, thought, useless, mouth, touch, sturdy, bottom, snapped, bag, pounds, safety, clean, strap, lost, sometimes, design, effective, became, 25, change, miracle, couple, worked, overall, rings, behavior, flavored, thick, device, best, making, pit, ll, soft, expensive, both, every, enjoys, taste, nearly, those, battery, says, figured, older, directions, hair, needs, stays, covered, cause, mm, extra, yes, near, anymore, constantly, look, instructions, live, come, 15, fence, lucky, hold, turn, gives, feed, pieces, know, sleep, gate, strong, jump, another, cut, animal, should, review, poor, trick, continued, fix, body, destroyed, vibration, fine, looking, helps, continues, yet, hour, having, annoying, 00, warning, stay, four, tail, tiny, said, solid, plays, glued, answer, 30, healthy, dark, learned, respond, wasn, somehow, properly, woof, cosequin, sprenger, springer, kibble, fastener, schnauzers, interactive, barky, rottweiler, flea, mend, fetch, herm, hairball, whining, uncontrollable, together, ago, bed, mode, improvement, most, plain, idea, start, noticed, light, today, difference, ok, bedroom, problems, buckle, tough, seemed, must, outside, blue, inexpensive, chest, area, store, remove, string, someone, looks, bigger, supposed, emitting, choke, minis, cbd, 33, dane, poops, harnesses, collie, correction, splinter, dehydrate, worth, else, especially, dry, pack, fabric, cannot, torn, larger, suppose, ordered, came, fake, smelled, terrible, returning, others, schnauzer, biting, anxious, dislikes, hyper, oats, probiotic, liver, bull, miniature, temper, licking, shin, ticks, certainly, tube, issues, negative, hand, orange, minute, tear, hurt, plenty, purchase, 2nd, call, cant, want, attach, sorry, nearby, overtime, pig, dachshund, relaxed, top, sensitive, nose, concept, corner, ends, room, shown, different, helped, kind, drink, five, full, dosage, pointer, rabbit, property, tug, tender, vibrating, swear, none, left, went, completely, heavy, push, quite, threw, safe, fast, tunnel, diarrhea, breath, afternoon, movements, model, piece, holding, hit, against, preventing, visibility, latex, appetite, thinks, velcro, impossible, check, compared\n",
            "taking, me, it, for, this, to, and, product, energy, my, pain, use, sleep, easy, help, used, have, of, so, pills, in, ve, been, feel, is, work, take, that, but, has, you, much, not, she, as, relief, the, back, yet, with, can, very, at, any, night, better, if, really, day, works, vitamins, will, was, good, while, difference, helps, like, on, would, all, also, did, these, snoring, massager, more, using, sleeping, noticed, does, after, weeks, am, are, few, support, no, or, great, review, massage, time, neck, see, just, don, pressure, we, daily, didn, morning, took, had, only, weight, other, his, helped, recommend, get, husband, than, week, bottle, baby, now, love, try, tried, anxiety, days, be, haven, first, he, they, her, stomach, well, an, supplement, from, them, some, lot, do, started, when, far, effects, before, sure, swallow, your, magnesium, felt, little, out, having, got, then, pregnancy, give, made, posture, doesn, make, trying, working, bought, arthritis, routine, up, lower, useful, results, capsules, mouth, pounds, too, were, hard, asleep, there, think, recommended, couple, what, by, hurt, cramps, same, both, every, drink, problem, heating, relieve, keep, sick, because, buy, chronic, lose, hoping, appetite, muscles, its, preworkout, gives, seems, who, anything, least, knee, getting, month, supplements, best, mother, heat, boost, hours, vitamin, strong, exercises, heavy, one, quite, something, bed, tell, seem, quick, longer, definitely, re, feeling, products, inflammation, pad, already, our, again, knees, away, anymore, less, even, due, needs, notice, drinking, massagers, melatonin, loss, months, extra, helpful, purpose, hand, diet, symptoms, instructions, gas, enough, nice, couldn, always, still, improvement, hour, migraines, stars, regular, giving, cheaper, going, free, capsule, may, anyone, go, want, though, powder, found, different, quality, takes, amazon, deep, stuff, big, put, own, say, healing, spine, continue, about, highly, calm, test, most, muscle, him, those, arms, amazing, makes, dose, minutes, chin, never, disappointed, pretty, provided, issues, workouts, wish, people, serves, times, reduce, without, bad, over, ever, comfortable, gets, unfortunately, off, didnt, weird, blood, tablets, through, purchased, guard, since, often, instead, another, thing, could, almost, last, each, stop, body, drinks, friend, levels, significantly, workout, four, worked, into, 10, nothing, years, said, drops, which, reviews, right, 30, wife, second, health, horrible, slowly, endurance, restless, detoxing, spotting, meniscus, maca, fibromyalgia, suppress, pcos, energized, cravings, jittery, yesterday, faster, elsewhere, light, hands, need, during, eating, wanted, let, ingredients, inexpensive, area, many, freak, mouthpiece, exclusively, koala, concentration, erection, concentrate, poses, purity, positive, else, face, especially, mom, needed, harder, taken, gym, taste, find, awesome, side, came, effective, heart, everyday, super, hot, syndrome, bowel, digest, probiotic, low, thought, prevent, read, stretch, life, feels, stack, forms, absorption, coral, provider, painless, jaw, la, old, nose, per, either, luck, son, hate, star, three, looking, around, upset, office, panic, medications, dosage, compensation, gut, literally, new, until, likes, fast, stopped, hip, movements, diarrhea, burst, turns, price, down, worse, probably, bit, wakes, lean, follow, drop, stay, careful, issue, everyone, reversed, swallowing, sleeps, improvements, land, system, gone, entire, maybe, long, return, temporary, pump, however, legs, money, lifestyle, vents, brain, saver, wasn, wonders, dinner, part, directed, vary, easier, app, past, able, register, sore, benefits, intense, where, myself, lately, pill, situations, uses, shift, grinding, type, usually, twice, worth, girlfriend, joint, yoga, measure, hurts, lost, material, rubs, sometimes, benefit, wake, reaction, although, huge, wearing, accident, formula, water, row, absolute, keeps, surgery, beginner, helping, should, tissue, air, excellent, order, described, men, shoulders, treat, update, experienced, consistently, increase, painful, clear, fine, deal, choose, size, power, skin, focus, standing, suggested, practical, fun, assume, enjoying, reason, dad, handle, changes, awhile, butt, otherwise, healthy, personally, sweat, required, state, program, might, sugar, waited, full, offered, stores, company, throughout, cloth, round, toddler, went, began, initially, several, received, shoulder, slight, quickly, smell, difficult, form, returned, daughter, half, liked, exactly, lay, bubbles, bottom, memory, result, chance, areas, job, natural, seeing, mostly, 40, important, sadly, actually, how, heard, possible, plenty, provide, balls, sensitive, doesnt, once, hoped, their, being, recently, suggest, snug, fingers, options, trouble, large, hopefully, gotten, kinda, level, year, prefer, writing, loved, rating, covers, single, hit, wear, thinking, based, wonderful, live, come, hold, setting, written, know, purchasing, seal, totally, late, dropped, purchase, version, seen, bottles, lara, regeneration, ovulating, orignal, begining, overweight, ovulate, lifter, ingrediants, conceiving, insists, coupled, insulin, strengthening, corrector, inulin, controlling, jitters, contraption, amped, startle, ketones, constipated, kine, soured, lable, bladders, reflex\n",
            "cable, charge, cables, battery, charging, charger, the, phone, not, charged, adapter, iphone, it, cords, to, work, batteries, of, and, one, have, with, usb, these, is, this, for, after, all, my, working, but, in, great, charges, you, on, that, no, dead, can, does, plug, fast, are, months, when, use, worked, get, product, just, only, life, they, so, stopped, time, will, works, about, out, good, had, as, them, was, very, month, chargers, port, apple, got, cord, at, supported, other, long, tried, two, by, be, well, longer, been, an, would, different, if, or, don, really, doesn, ve, go, last, turn, has, like, accessory, power, connection, nice, should, again, even, used, fully, quality, off, from, buy, what, beware, bought, adapters, first, using, up, than, couple, within, item, lasted, me, won, short, back, pack, now, however, money, then, 10, times, unit, your, since, length, never, message, connector, both, plugged, same, received, adaptor, quickly, still, easily, worth, few, also, deal, right, price, service, purchased, broke, hours, though, pixel, weeks, failed, were, made, died, ports, because, several, ft, wire, supposed, compatible, started, seems, return, light, recharging, much, second, phones, contact, buyer, there, little, fine, 100, came, do, could, audio, lightning, we, how, didn, replacement, far, solar, see, am, sometimes, input, did, plastic, another, any, dock, over, want, kept, vivofit, real, customer, seller, week, ordered, data, small, into, while, 7plus, traveling, way, travel, defective, sure, car, issues, durable, fail, ever, days, either, stop, needed, strong, take, connect, went, buying, definitely, quit, half, going, purchase, size, indicates, may, cheap, set, happens, amazon, start, waste, construction, loses, break, put, already, flimsy, new, before, 2nd, excellent, doesnt, once, its, home, which, make, day, recommend, pay, convenient, low, pretty, files, perform, bad, feel, three, slow, worst, through, know, more, left, poor, ones, old, order, computer, housing, save, end, recommended, having, multiple, better, galaxy, losing, randomly, later, nothing, uses, solid, down, type, arrival, amount, less, shutoff, prong, rocksmith, samsung, most, takes, transfer, luckily, reviewers, value, able, run, being, access, makes, camera, try, plugs, device, devices, tested, described, energizer, replace, wish, certain, support, too, cannot, fell, house, something, find, give, awesome, advertised, needs, tie, fit, super, returning, minutes, hot, organizers, tester, iphonex, realized, reason, rate, position, minute, people, wireless, feels, indicating, certified, instructions, center, always, night, love, 50, drained, vibrating, outputs, lightening, saying, company, big, third, stiff, completely, wrong, next, countries, turns, storage, returned, pad, probably, brand, bit, yet, trash, flashing, lengths, moto, anymore, stay, job, gives, satisfied, actual, disappointed, organize, international, unsure, laptop, trip, easy, box, built, version, overall, failing, fewer, away, package, wasn, best, sound, party, fix, providing, blinking, eight, etc, part, ll, hour, goods, anker, applications, fails, annoying, shuts, four, wanted, regular, s8, suddenly, interface, many, 30, nintendo, android, plus, year, red, loved, cost, flexibility, gauge, drone, immediately, 99, casing, excited, happy, outlets, reply, suitable, bulk, output, today, taking, country, quick, extend, must, keeps, some, recharge, micro, okay, thing, arrived, store, re, here, making, individual, earlier, numerous, disappointing, products, done, customers, december, especially, ac, feedback, guess, female, breeze, tells, around, improved, slot, via, count, band, min, such, terrible, metal, others, proper, under, risk, ive, listing, switched, appeared, google, vendor, otherwise, hard, force, panel, knock, weight, strange, states, rated, performance, loose, promptly, gets, 18, slowly, trying, shorts, usage, owned, pin, various, full, offered, motor, slim, instead, seriously, plate, headset, began, missed, quite, until, review, necessary, inexpensive, look, bring, features, mouth, china, looks, flexible, causing, exactly, sturdy, functions, choice, comes, costume, 24, found, black, maybe, years, fake, yourself, lasts, setup, mail, turning, anything, sense, error, actually, say, separate, getting, eventually, process, waterproof, ship, intended, luck, hoped, ends, every, recently, unable, upset, friends, stated, complete, connected, junk, sitting, gotten, note, total, tablet, provided, available, warranty, weak, throw, appears, near, covers, against, single, thinking, bluetooth, closed, constantly, compared, come, playing, hold, held, think, system, correct, written, told, except, believe, protection, contacted, pleased, 16ft, disturbed, usbc, glitching, mfi, converters, ruggedly, prius, ploy, fluctuate, stowaway, haver, premature, profiles, prediction, displaying, rg, hoot, 3ah, sorted, modded, gues, purge, flemsy, reall, whacked, lounger, substandard, watertight, synchronization, shure, ast, outright, duracell, klip, oart, weedwhacker, adaptive, shibari, droid, listings, ihome, passthrough, leaflet, unacceptably, minivan, minimally, rebound, 5ah, replaced, lot, impressed, favorite, shape, our, green, window, bent, packaged, cute, turned, please, enjoyed\n",
            "bag, cards, bags, wallet, backpack, the, card, zipper, and, it, is, for, pockets, of, to, this, are, but, my, in, pocket, not, that, love, would, was, so, be, they, have, purse, can, one, these, like, with, really, great, on, quality, them, had, nice, you, credit, all, out, only, just, very, what, fit, as, than, there, get, more, use, because, has, items, will, if, up, too, got, good, or, hold, off, leather, also, first, little, made, when, at, we, bought, from, front, thin, color, trash, me, however, broke, inside, cheap, time, return, box, handbag, carry, your, much, instead, perfect, well, looking, big, small, were, travel, purchase, no, price, design, zippers, been, beautiful, do, other, look, don, sturdy, closed, durable, some, needed, open, new, few, am, right, thought, still, apart, after, top, came, lot, long, many, way, cute, ripped, wish, money, strap, better, feels, holds, an, looks, used, which, product, doesn, buy, compost, bigger, ve, main, need, back, picture, slots, keep, easily, id, issue, while, does, before, material, take, tote, older, overall, lots, its, seems, enough, best, fact, now, pretty, several, around, any, year, trip, fall, far, pack, about, something, think, tokens, holder, size, how, thing, beeswax, last, style, room, same, fine, bin, being, pouch, clothes, slot, again, large, wrong, did, stuff, difficult, paper, times, could, stars, place, having, bad, longer, whole, see, recommend, since, disappointed, envelopes, due, second, couple, re, straps, want, wasn, amazon, roomy, 100, cash, into, son, stock, family, he, try, unstable, sure, even, pull, put, loved, didn, deck, tear, quite, coming, two, without, things, side, brand, delivered, through, school, going, his, compartment, currency, trolley, husband, different, deal, packaging, expected, ordered, ll, criteria, carhartt, months, reason, opened, able, purpose, down, case, hard, makes, easy, bit, alot, day, unfortunately, trying, light, bladder, backpacks, never, company, carrying, give, using, tight, work, super, lining, shoulder, know, wouldn, daughter, loves, liked, read, another, organization, space, seem, stuck, though, smaller, years, taking, change, must, own, worked, hoping, wash, sent, phone, week, extremely, less, game, disappointing, addition, most, broken, their, make, larger, problem, least, wanted, transparent, such, issues, handle, tearing, extra, received, weight, over, photo, why, gets, slide, poorly, freezer, works, late, clip, met, defect, perfectly, go, poor, old, securely, our, riding, shopping, gift, may, clean, flat, seat, nicely, comfortably, anything, show, say, already, details, thank, holders, unlike, lost, oxygen, pluses, minuses, misprinted, oracle, mtg, multiplication, dax, cartoons, canapy, iceland, sleeved, ids, sometimes, ago, weeks, noticed, idea, vacation, zip, soft, expect, value, break, during, stand, where, outside, lasted, okay, fits, store, original, days, kept, track, excellent, described, purses, favourite, worth, sleeve, mine, choice, taken, happy, guess, fell, chance, six, close, find, those, feel, keys, windows, needs, 97, overhead, absorbency, gels, shorter, purchased, stitching, separate, pulled, kids, rip, compliments, cant, status, score, ever, order, within, set, star, three, everywhere, basically, travels, duplicates, dirty, options, went, heavy, convenient, colors, until, replacement, wet, quickly, usability, stitches, fraying, secure, prefer, high, storage, returned, isn, magnet, exactly, probably, bottom, questionable, gloss, binder, end, leak, wonderful, matter, notice, comes, job, everything, by, morning, surprised, told, nothing, black, started, maybe, finish, opaque, international, protection, sides, month, built, seen, away, pleased, normal, then, monday, saw, opening, once, part, craftsmanship, lightly, inserted, falling, given, ok, multiple, both, edges, took, discs, lined, contains, grocery, aren, uses, food, useless, add, matched, amount, immediately, classy, genuine, individually, simple, checking, separating, separated, person, pleasantly, wraps, start, receive, huge, paid, tell, january, reference, quick, definitely, random, row, between, keeps, plastic, notch, point, area, art, locks, us, should, making, pulls, tire, flap, timer, products, else, done, replace, organized, compartments, absolutely, measurements, clear, cannot, chips, missing, liking, designs, functionality, awesome, band, pay, lunch, refund, traveling, ideal, logo, player, under, sand, tend, otherwise, itself, taller, concerned, square, hours, including, compare, shame, undone, loose, either, might, thus, liner, shorts, kind, ride, owned, suit, shiny, repair, bunch, attractive, numbers, friendly, strong, left, buckle, cut, girls, colored, next, rear, fair, almost, driver, guy, phones, smell, rolls, inexpensive, pre, each, string, book, gave, compact, girl, beat, teeth, allows, materials, pattern, result, mean, insert, vacuum, mentioned, adorable, hanging, bend, who, said, ready, showed, construction, reviews, leaving, beach, wasted, deep, eye, certainly, despite, 40, actually, getting, possible, seam, pro, hurt, package, stretch, corners, arrive, lighter, seller, obviously, tank\n",
            "watch, band, clock, it, the, to, fitbit, is, this, accurate, bands, and, that, of, my, but, for, so, time, not, on, alarm, one, you, in, with, have, tracker, like, was, very, off, wrist, up, or, battery, can, use, just, scale, if, set, great, fitness, when, don, really, your, as, about, doesn, only, get, be, phone, from, easy, has, other, had, original, color, out, temperature, work, all, does, price, because, much, than, me, at, bought, back, will, an, love, good, quality, steps, then, are, what, after, way, well, even, would, nice, thermometer, do, seems, clasp, how, looks, light, too, there, days, cheap, buy, now, day, difficult, give, hr, no, which, we, small, also, product, hard, over, timer, am, looking, replacement, little, more, new, watches, first, know, rate, read, did, bp, some, face, works, look, 20, see, display, itself, readings, same, fine, heart, never, far, keep, without, reading, fit, app, didn, broke, links, lot, could, year, everything, however, apple, she, two, times, strap, they, any, stars, few, instructions, sure, functions, again, bit, weeks, ll, purchase, device, should, until, able, long, were, pretty, isn, end, received, power, monitor, seconds, minutes, found, months, wear, find, durable, couple, life, screen, tracking, charge, came, less, another, perfect, warranty, turn, been, return, want, buttons, last, got, fits, high, many, still, short, worth, else, loud, similar, fell, tool, item, think, clocks, dst, leviton, seiko, thermometers, alta, unit, ve, thing, working, disappointed, most, unfortunately, being, made, function, temp, lost, these, wanted, colors, large, stays, hands, wearing, beautiful, own, blue, liked, probably, point, material, take, enough, stay, supposed, morning, started, adjust, who, sleep, option, since, numbers, need, actually, though, tried, messages, features, extra, track, once, hours, every, won, worked, problem, son, while, makes, kind, 30, company, put, loved, wish, several, review, stopped, better, by, loves, comfortable, super, change, tell, having, quick, longer, purchased, issue, them, link, 10, black, date, years, sending, order, old, notifications, oneida, replace, second, felt, say, our, automatically, magnet, cannot, seller, hit, close, sent, batteries, leather, impossible, degrees, expected, reset, correct, glass, smartwatch, syncing, alarms, stethoscope, he, ok, under, their, uncomfortable, actual, right, kids, remind, projection, loose, either, couldn, easily, room, release, mode, outdoor, given, rod, heavy, step, aren, vibrate, useless, returned, things, sensor, wife, tested, exactly, going, removing, yet, cracked, gift, button, re, place, go, magnetic, gym, holds, comes, wall, nothing, ordered, amazon, fact, around, anything, reviews, error, must, getting, outside, into, average, okay, ended, sound, remove, week, walk, mile, temps, accuracy, cant, charger, charging, husband, hassle, kid, its, deal, make, customer, dial, inaccurate, says, due, number, wrists, pay, metal, faces, low, sync, online, something, walks, bad, compared, come, always, wake, removal, hold, gets, used, night, kitchen, through, water, finish, defective, thought, doctor, cut, wrong, buying, poor, pleased, replaced, miles, different, gave, adds, record, piece, hour, significantly, losing, 100, connect, matches, slightly, before, maybe, doing, said, barely, pins, dark, inside, month, flaw, open, atomic, circuitry, trackers, km, rage, bip, sphygmomanometer, vector, sometimes, cooking, part, various, miss, grey, size, broken, repair, attractive, soft, took, toddler, using, meant, money, try, here, flexible, ballpark, surge, popped, appear, especially, awkward, him, 3rd, missing, least, amazing, side, advertised, silver, scratched, fun, returning, service, bright, refund, metric, doa, simpler, timers, texts, mph, calls, definitely, tighten, hand, heard, sizing, otherwise, arrived, feels, compliments, response, attach, molded, s3, monitoring, beeps, lighted, reminder, reboot, chore, timing, integrated, aquarium, durability, doesnt, within, why, install, upset, versa, xlarge, counting, smartphone, stabilize, figured, removed, course, likes, dead, almost, fast, quickly, measures, ray, bet, prefer, each, wouldn, down, sturdy, remained, shorten, recorded, programming, vibrates, spend, bluetooth, check, gold, golf, measurement, worn, gives, gone, setting, results, smaller, purchasing, runs, waste, helpful, fasten, visual, intuitive, schedule, often, wore, box, overall, zone, attaches, child, expecting, wasn, contact, stop, fix, immediate, cuff, un, becoming, teacher, etc, humidity, forehead, multiple, edges, switch, investment, manually, raw, where, tiny, rubber, family, true, explain, blank, gripe, loops, 12, picture, cord, iphone, giving, rather, multi, conditions, activity, touch, show, twice, delay, fade, rash, student, amount, case, web, active, simple, hope, digital, classroom, cool, ago, screw, person, rechargeable, walked, start, although, huge, usb, her, taking, research, blood, nylon, testing, excess, text, resistance, problems, during, stand, decide, tracks, instantly, refurbished, pushing, decent, ours, thankfully, lasted, us, extremely, whole, someone, constant\n",
            "sound, headphones, music, the, bluetooth, ear, to, is, and, quality, my, mic, speaker, these, them, they, you, speakers, volume, for, of, good, phone, in, on, that, hear, it, great, are, with, have, pair, but, this, headset, ears, if, work, noise, bass, not, can, earbuds, your, really, device, so, loud, very, like, or, price, was, sounds, use, microphone, battery, listen, just, as, when, has, from, one, out, at, would, other, be, me, earbud, calls, buds, had, well, about, earpiece, charge, no, ve, all, using, which, only, than, off, after, an, life, headphone, bought, also, months, time, problem, fit, connect, better, get, were, up, tv, radio, will, working, left, could, recommend, even, wireless, broke, there, do, right, turn, comfortable, used, because, best, product, karaoke, cord, works, way, didn, what, lasted, connection, back, easy, since, don, any, want, bud, buy, lot, voice, low, ago, isn, long, amp, while, both, before, computer, okay, then, play, now, much, cheap, overall, cancellation, still, constantly, little, love, head, audio, however, been, definitely, re, comes, nice, aukey, pretty, louder, app, feel, too, clear, how, money, go, set, system, does, same, disappointed, listening, bad, more, less, over, weeks, update, again, its, expensive, press, died, tried, static, iphone, fine, level, wish, expected, case, worse, happy, into, hours, find, am, cool, signal, person, away, bit, made, during, decent, ll, thing, until, built, review, buying, by, poor, old, return, high, automatically, different, two, siri, box, year, amazing, easily, far, muffled, few, said, give, without, range, bose, gaming, connected, doesn, first, through, know, ordered, ever, previous, week, model, sounded, perfect, once, part, full, never, wearing, need, last, got, plugged, completely, received, stopped, look, worked, loved, some, enjoy, paired, times, power, sony, driving, make, anything, treble, annoying, day, second, car, control, pocket, going, wasn, though, cancelling, 30, kind, around, supply, canceling, name, went, did, change, sounding, each, bar, short, came, hard, needed, brand, item, may, having, longer, put, see, charging, playing, issue, lower, everything, especially, design, adjust, uncomfortable, cannot, youtube, reviews, airpods, another, least, awesome, actually, say, should, month, such, similar, refund, issues, looking, pairs, gym, rattle, where, he, makes, unfortunately, included, happens, try, size, sure, hearing, song, disconnect, stars, durability, come, side, songs, today, sets, gift, end, problems, expect, run, function, saying, hoping, purchase, started, years, note, spotify, corsairs, subwoofer, riders, replace, cable, amazon, seller, understand, spend, workout, we, wire, small, send, gives, bt, player, reason, comfortably, down, wanted, people, expecting, muddy, pitched, enough, days, couldn, might, worth, three, hour, aux, headsets, unless, take, heavy, replacement, ones, uses, boom, stereo, swipe, purchased, rather, gave, style, probably, watt, sonic, coming, listened, voices, matt, found, maybe, receive, lasts, usb, damaging, big, seemed, getting, blue, folder, new, point, sent, call, extremely, making, complaining, clarity, shut, sub, adjustments, ok, every, real, able, customer, being, echo, basically, due, literally, light, minutes, simply, unit, upon, provided, lose, sync, extra, weak, itself, rich, something, anymore, trucks, instructions, lasting, hold, think, talking, lg, seems, defective, thought, except, attached, often, par, instead, perfectly, wrong, constant, charged, difficult, main, stop, impressed, favorite, shows, account, increase, exactly, liked, half, chinese, blew, seem, figure, via, 100, decided, nothing, who, risk, waste, background, google, plays, barely, distance, couple, click, button, anyone, plug, simple, cd, logged, podcasts, crackly, soundbar, tascam, elliptical, announces, nobs, equalizer, videos, most, takes, christmas, usage, start, huge, themselves, max, fact, carrying, connector, value, won, took, let, phones, exchange, expectations, highly, quit, mouth, ease, disappointing, jbl, 8hrs, effect, fall, mine, display, wear, close, starts, missing, those, cell, directly, pay, terrible, turning, returning, others, service, frequency, pause, sing, cords, noticeable, feet, plastic, waterproof, future, average, pro, sort, feature, monitor, studio, forms, tempted, either, always, star, manufacturer, unable, five, looked, distortion, figured, options, she, junk, sad, next, sitting, dead, quickly, tones, robust, raining, fm, tangle, turns, drive, warranty, garbage, wouldn, experience, apple, piece, online, trash, against, beeping, beats, default, vibrates, earphones, place, impossible, drop, gold, matter, notice, held, buzzing, distorted, users, job, fully, 10, setting, purchasing, video, satisfied, option, late, clip, loses, recharging, graduation, contacted, seen, open, audible, connectivity, base, contact, reconnect, weld, fraction, conversation, silicon, dont, cover, save, window, turned, naturally, noises, skipping, given, multiple, broken, middle, mediocre, later, nicely, regular, adaptor, apps, doing, many, giving, calling, favor, 20, wife, touch, ripped, twice, windy, workouts\n",
            "stick, tape, adhesive, the, markers, to, magnets, vinyl, stickers, on, glue, it, not, and, magnet, off, of, wall, this, for, paper, my, are, these, was, as, very, sticky, they, is, would, have, that, with, had, but, rolls, you, does, when, product, use, sticker, strong, just, strips, them, well, don, all, in, be, bubbles, did, only, one, if, will, were, we, what, out, than, after, put, didn, like, or, up, plastic, at, good, labels, tapes, great, so, work, even, get, because, do, stickiness, tried, stay, no, disappointed, roll, without, more, back, really, there, little, fall, again, small, still, quality, erase, brand, try, piece, doesn, however, board, weak, bought, too, applied, ink, also, paint, go, top, claw, wouldn, dry, money, better, then, into, find, come, letters, hold, caps, thought, stuck, ve, peel, how, now, used, fine, remove, which, easily, much, letter, few, some, down, make, anything, day, definitely, got, should, using, once, lot, walls, easy, over, tp, can, time, first, although, before, each, wish, came, hard, exactly, chalk, toilet, its, comes, super, recommend, backing, expensive, am, other, though, metal, peeling, looks, buy, papers, expected, every, adhesion, could, marker, from, adhere, your, hope, difficult, idea, sticks, place, surfaces, through, received, write, another, purchase, removed, fridge, re, surface, look, supposed, old, writing, looking, fell, larger, size, thin, love, ok, been, their, non, me, right, wanted, white, erasers, enough, about, by, pieces, falling, multiple, cat, included, regular, soon, think, decals, price, since, add, half, thing, thinner, guards, clean, everything, maybe, works, envelopes, expect, couple, inside, tear, touched, while, called, wasn, sure, bubble, done, weeks, bit, an, clear, has, everywhere, press, skin, terrible, need, covered, mount, clogged, onto, pad, needed, rips, any, something, falls, instructions, feel, couldn, gets, purchasing, defective, rolling, applying, left, completely, cut, colors, alcohol, removable, until, smooth, want, strength, ones, apart, amazon, fit, around, annoying, big, fallen, edges, job, new, started, horrible, staying, wipe, excited, sent, see, week, less, slowly, adheres, applicators, dymo, icemaker, ama, cover, bed, part, transfer, ll, never, tell, pretty, hands, won, application, where, began, portion, project, holes, outside, thick, packing, days, excellent, described, bulletin, magnetized, deal, taken, result, guess, dried, nice, label, least, side, advertised, send, screen, others, eyelid, president, kt, way, image, itself, kids, eyes, apply, boxes, stamps, order, within, concept, son, corner, why, set, room, same, different, made, delta, company, name, match, container, went, several, he, buying, months, reapply, command, isn, near, bottom, gift, peels, applicator, resulting, pressure, careful, color, perfect, coil, existent, component, correct, found, smaller, return, waste, wood, spice, open, bleed, impressed, together, heat, begins, fading, broken, middle, took, unfortunate, recommendation, slightly, makes, ordered, curling, tears, transparent, layers, refrigerator, aren, useless, many, barely, rather, advertisement, permanent, activity, 20, putting, pull, show, red, jars, case, lost, stars, christmas, dries, noticed, fact, existing, crappy, value, know, purchased, brother, wrench, maker, between, hoping, flimsy, difficulty, going, area, making, bigger, replace, sided, absolutely, our, cute, site, designs, moment, rope, keep, worked, pay, painted, glass, logo, ive, car, awhile, projects, glued, sign, residue, create, ruined, ton, folded, learned, gun, item, hours, weight, search, cleaner, requires, worthless, ever, might, cleaned, sliding, unlike, compatible, minimal, chemical, shipping, burned, long, fragile, strip, earbuds, numbers, instead, sticking, nail, heavy, box, poor, almost, fast, slight, quickly, stainless, road, cardboard, caused, scratch, gave, installing, flexible, trust, liked, removing, lay, yet, end, mean, magnetic, chance, padding, grandson, nothing, design, years, tray, mail, stayed, certainly, manual, followed, happen, second, tube, fill, separate, already, month, eventually, steel, pens, beware, underneath, arrive, corners, continue, seller, mouse, call, dust, spent, center, per, most, hoped, places, wrap, standard, realize, page, sun, both, able, ran, correctly, problem, disappointment, figured, third, film, complete, junk, fits, convenient, feeling, pads, stays, inch, worth, double, damage, birthday, worse, covers, happy, times, hit, against, holding, tools, trash, single, online, running, velcro, drop, useful, gone, pictured, shower, poorly, complaint, cleaning, satisfied, runs, actual, totally, often, laptop, ordering, dropped, arrived, similar, pleased, tactics, chalkboard, ghosting, chalks, tapering, enlarge, adhesiveness, restick, rift, secretary, unreturnable, readjusted, amusement, streaky, bubbled, eventhough, purchsed, stang, fooling, pumice, unattached, theyd, sizeable, staedtler, elmers, disgusted, ewe, 10pcs, lion, disformed, peeve, icd, copious, 60lb, coolant, hrc, 14month, contradictory, neodymium, 44th, nasa, nala, mot, holographic, pricking, deduction, definitively, maneuvered, difficulties, historic, lisence, pern, lent, plyers, larry, lanyards, accelerates, fragance\n",
            "fit, fits, perfectly, not, it, good, great, but, well, did, and, the, perfect, to, was, my, does, didn, as, side, fitting, product, advertised, expected, fittings, cherokee, had, they, quality, snug, nice, oem, up, like, sensor, you, of, looks, for, on, so, chevy, in, ok, that, just, them, foam, right, 2015, have, be, says, is, factory, doesn, back, jeep, bit, material, return, made, look, would, 2005, put, works, or, dodge, will, f150, this, need, cut, blades, too, work, mounting, very, because, with, part, ll, toyota, if, easily, damage, money, feels, small, off, more, came, grand, when, one, than, how, short, little, housing, fine, after, job, waste, all, item, buy, properly, popsicles, actuators, are, can, these, inner, bolt, 2018, at, additional, latitude, 2012, thinner, out, again, needed, hold, hardware, metal, crv, get, seems, plastic, should, ninja, thicker, camry, worked, quite, tight, fitment, returned, birthday, exactly, against, homework, place, make, use, careful, 2006, everything, your, shaft, honda, however, inside, overall, sloppy, there, 2014, an, won, edges, loosely, where, ass, universal, style, loved, wish, love, were, roof, genuine, better, bad, feel, wall, door, tell, know, wrench, some, flimsy, heater, arrived, original, itchy, top, price, no, mine, larger, size, close, latch, brackets, even, due, yarn, pay, returning, front, sure, me, pet, alternative, down, much, easy, loose, about, lift, shiny, bracket, disappointed, instead, left, temperature, received, rear, 2019, then, string, wouldn, don, loves, gift, allows, seem, design, said, way, roll, winter, functional, actually, what, really, compliments, key, once, which, complete, threw, kinda, year, mount, covered, far, only, happy, trash, filter, summer, holding, something, stars, give, wire, her, didnt, correct, weird, poorly, since, bag, other, pleased, tried, hauler, k1500, grueling, xterra, tankless, culturing, surpise, wraith, impala, autozone, arnt, thrift, urinals, 525i, 590, veges, wiil, abarth, airbox, laredo, immaterial, worng, jackass, caravan, spats, rx330, saggy, camrea, carson, rockports, reshaped, renegade, redrilled, shockwave, multimeter, smidgen, perfeclty, bobby, narcissistic, r12, nuwave, stiched, controler, peal, expedition, phasing, belongings, fabricate, fabricating, malibu, old, floor, lot, opening, around, please, keep, she, move, cat, cheaply, slightly, while, seat, rubber, true, hard, plus, line, installed, horrible, coming, ring, columns, contructed, 07, dandy, descibed, goid, explorer, giveaway, 05, belong, 2001, suburban, xlt, rav4, le, lexus, strat, trike, insulate, gt, rejects, wiper, motorcraft, altima, subaru, time, by, delivery, holes, lasted, description, okay, ended, remove, air, products, gmc, chime, ans, 2010, tread, forester, 2500, piping, rtic, jimmy, 4x4, tolerances, reg, nissan, denied, barrier, positively, ped, felt, support, from, amazing, ordered, needs, send, terrible, minutes, refund, others, overhang, outcome, bmw, fob, checks, 2003, turbo, accord, mustang, cami, 97, contractor, sessions, dealership, low, car, opened, hand, stick, now, kids, weight, am, ir, 2002, scare, polished, ignition, 2011, bowed, stripping, squared, mill, gets, star, shipping, kind, looked, cab, 98, securing, seated, pooch, accordingly, 2000, fir, fishy, til, completely, review, ones, quickly, smell, stripe, spacers, speaking, stitches, safer, yeti, crew, specified, paste, duo, 350, liked, probably, sturdy, yet, bottom, ram, alignment, end, got, used, comes, scuffed, substantial, husbands, thermal, decently, motorcycle, maybe, anything, 2013, lays, escape, supporting, ex, surprising, stud, couple, 2016, ford, vents, minus, 250, distracting, away, package, seller, sent, tumbler, sturdiness, ya, stunning, select, unnecessary, fyi, stretching, incomplete, bought, lab, final, noises, events, springs, has, took, rattle, operation, maintain, brake, sooo, custom, battery, peace, float, warned, pliers, do, wrinkled, cuz, we, worth, touches, fade, supports, drivers, accept, supposedly, rips, windshield, camper, crotch, structure, grown, times, wear, claimed, rolled, engine, exercise, request, wasting, hitting, without, come, pets, lucky, acceptable, preferred, comfortable, alright, accessory, shortly, snaps, measured, planned, wiring, diameter, ridiculously, casual, bumper, flush, whatsoever, bumps, notch, ensure, incorrect, another, going, alcohol, growing, oven, locks, re, working, anyways, replacements, isnt, stripped, copper, 4th, developed, order, last, needing, weigh, improve, operate, same, tightening, pushed, softer, gear, rock, generally, seats, channel, slots, appearance, tighter, big, vent, equipment, shell, trim, general, age, new, tabs, ideal, upgrade, allowed, gap, few, returns, appeared, sand, pc, specific, halloween, pins, panel, listen, carefully, usual, sons, required, fitted, shame, ways, color, day, constructed, makeup, glove, vehicle, long, guide, outer, fragile, refunded, motor, miss, gonna, filters, never, pretty, breaks, repair, carrying, garage, round, project, heavier, listed, stronger, box, replacing, meant, special, finding, washes, driver, shop, lining, flip, 2017, necessary, aware, bowl, buyer, form, over, ask, installing, iron, self, wheel, block, radio\n"
          ]
        }
      ],
      "source": [
        "for i in range(0, 25):\n",
        "  print(bert_LR_coef[0][i])   "
      ]
    },
    {
      "cell_type": "code",
      "execution_count": 146,
      "metadata": {},
      "outputs": [
        {
          "name": "stdout",
          "output_type": "stream",
          "text": [
            "hose, filter, pump, water, tank, the, filters, suction, to, it, faucet, and, is, of, this, not, that, tube, in, but, one, with, was, be, have, leak, leaks, so, on, for, works, we, has, amazon, as, my, you, gallon, or, product, out, after, like, good, pressure, when, air, do, at, had, would, more, use, up, months, well, replacement, time, great, from, fish, hoses, than, off, only, flow, bought, quality, no, very, part, what, if, top, work, doesn, first, psi, just, new, sink, can, still, used, because, does, working, will, these, return, could, our, pipe, other, gauge, about, worked, over, even, tubes, small, which, company, they, tried, carbon, last, replace, nozzle, are, need, now, customer, piece, kink, brita, head, unit, cup, came, did, change, two, perfectly, shower, brand, much, bottom, hard, there, little, make, leaking, all, leaked, cups, garden, both, easy, made, also, buy, several, days, item, point, gauges, end, don, by, too, who, purchased, attached, plastic, strainer, tanks, thing, arrived, month, 2018, exchange, get, under, me, cover, fit, weeks, sept, really, makes, many, full, barely, down, prime, cost, love, poor, needed, valve, wouldn, wall, never, must, 10, any, years, an, sprayer, should, old, lemons, filtration, available, cheap, warranty, again, open, seller, sent, around, expected, big, needs, into, send, metal, were, didn, system, service, been, defective, put, every, your, being, where, often, believe, right, itself, them, its, within, year, wish, recommend, long, drain, something, without, plate, money, buying, almost, stopped, fluid, then, back, purchase, free, installed, broke, clean, want, length, comes, job, screw, nothing, noticed, looking, crazy, way, run, ve, second, couple, during, how, getting, pumping, section, us, thin, less, pumps, am, damaged, expensive, took, see, power, stiff, perfect, brass, gotten, refund, disappointed, car, connection, inch, using, clogged, fittings, happy, times, installation, trash, hours, screwed, feel, compared, come, refill, gets, her, star, kit, leaves, reel, another, going, went, completely, fridge, contacted, spending, lemon, upper, order, floor, nice, contact, base, main, replaced, same, different, window, blew, current, glue, tile, past, cheaply, while, design, doing, waste, hole, 20, some, actually, wonder, possibly, button, immediately, day, coupler, faucets, thrust, price, once, frequently, light, huge, conditioner, stores, ok, connector, able, proof, temperature, paper, remove, disappointing, dribbles, oracal, trickle, contributed, 80s, ointment, worth, else, functions, home, period, find, batteries, missing, bad, email, side, tray, hold, pool, such, think, employees, crimped, algae, gal, receptacle, low, know, tighten, extra, fitting, better, though, wetting, filtering, empty, ends, set, room, unfortunately, turn, allow, shipping, everywhere, function, higher, keep, instead, until, next, review, before, ones, moms, responsibility, upon, high, storage, returned, short, weak, appears, worse, liked, half, exactly, yet, feb, tubing, may, place, longer, got, weird, found, black, cleaning, along, anything, hem, away, neck, fix, look, reservoir, looks, friend, opening, leakage, specs, sucked, annoying, their, won, control, included, try, pitcher, operated, refrigerator, picture, solid, useless, putting, style, easily, calf, ultimately, lots, indicator, disconnect, connections, aspect, stuck, holds, properly, dozen, louder, nut, tightened, closely, take, challenge, dissatisfied, problems, delivered, quick, through, emails, flush, between, holes, connectors, lasted, hooked, false, hits, extremely, making, go, someone, compartment, suck, products, supplier, selling, tub, mine, cannot, breaker, attachment, rock, breeze, meaning, house, amazing, she, trim, marked, flag, pay, terrible, glass, few, sure, somewhere, otherwise, entirely, minor, fail, bit, relatively, respond, interested, requires, powerful, moves, washer, gas, enough, might, why, settings, blow, trying, improvement, kind, split, electric, beautifully, fitbit, badly, max, offered, lip, pretty, repair, paying, strong, below, cut, however, odd, missed, portion, box, tight, wrong, received, replacing, fast, showing, necessary, guy, quickly, difficult, pre, receiving, stainless, changing, bowl, counter, basket, each, buyer, factory, things, caused, beginning, gave, tested, priced, become, probably, forever, wind, seem, major, quiet, choice, help, dried, 3rd, wont, 24, mostly, started, maybe, became, 25, said, hook, lasts, reviews, despite, prevent, shorter, sadly, say, rate, silicone, overall, steel, process, eventually, plenty, pulled, 2nd, breaking, continue, dust, eyes, charges, response, feature, doesnt, concept, shut, spot, disappointment, battery, wanted, name, connected, complete, mess, trouble, convenient, surface, literally, threw, rough, wet, behind, turns, model, garbage, double, damage, mind, stars, material, give, based, live, useful, lower, everyone, fully, correct, setting, morning, poorly, seal, late, except, wood, machine, glad, built, 1oz, retains, vape, unfiltered, pond, valves, kitchens, uncoil, kinked, carboy, popularity, 270, instal, breakdown, kraus, irreparably, sags, runaround, scotts, roughed\n",
            "glasses, camera, lens, the, lenses, them, they, and, to, is, of, are, cameras, for, with, sunglasses, video, my, good, on, that, this, have, you, cam, as, from, it, clear, quality, so, very, these, was, but, great, can, your, in, be, not, when, nose, up, get, which, vision, pair, well, look, one, like, pictures, were, about, would, picture, all, goggles, we, had, or, really, if, image, just, 4k, only, easy, time, than, at, set, no, also, bought, tripod, do, out, nice, while, however, thing, will, an, view, phone, because, too, work, home, don, what, there, more, focus, could, subscription, glass, has, works, use, am, used, me, give, app, ve, backup, plastic, selfie, see, issue, after, eye, buy, way, much, other, any, comfortable, monitor, connect, came, motion, cheap, need, price, box, back, find, gopro, small, again, another, re, perfect, able, manual, off, head, down, love, definitely, product, little, night, how, light, took, got, using, our, around, then, made, face, some, right, without, driving, black, come, who, minutes, field, bifocal, day, action, put, by, otherwise, case, now, going, sound, eyes, better, clearly, always, money, still, problem, wanted, first, into, shutter, far, wear, something, been, seem, reading, two, especially, does, know, seems, real, satisfied, clip, dvr, pretty, wifi, say, away, tried, phones, lot, doesn, same, looking, once, user, broken, keep, both, display, battery, setup, needed, recommend, anti, disappointed, controls, fit, point, photos, behind, network, actually, baby, against, adjustment, matter, worked, most, screens, terrible, system, lense, low, adjust, frame, try, evo, color, worth, stylish, computer, etc, wish, green, long, return, looked, stars, bad, 100, card, completely, buying, super, think, beautiful, headaches, thought, cheaper, liked, red, brand, sturdy, pairs, fusion, recorded, safety, memory, even, go, properly, cloudy, everything, 10, found, cool, receive, cute, mail, zoom, wearing, expect, couple, outside, viewing, flimsy, before, sure, excellent, did, bit, arm, deal, their, every, cannot, make, enough, range, batteries, higher, trunk, such, android, front, pick, connection, recording, hand, resolution, mind, take, over, careful, didn, screen, dash, through, full, since, totally, orders, purchase, arrived, costs, quite, poor, though, contact, draw, impressed, returned, favorite, save, security, having, frames, functionality, movement, annoying, pocket, new, leave, included, solid, useless, dark, plus, alarm, getting, lots, anyone, package, sent, sliding, thin, holds, shattered, monocular, william, res, optic, alerts, part, takes, ll, vacation, size, never, friendly, won, run, cloth, being, during, blue, makes, area, large, scratch, features, year, looks, crying, messenger, 1080p, fisheye, integration, husband, cable, update, felt, fall, major, happy, expensive, chance, close, power, sounds, seeing, amazing, feel, cell, side, advertised, wires, pay, distinguish, painter, solution, 40, purchased, issues, silicone, stick, kids, people, bag, broke, response, weight, cant, frustrating, seconds, attach, stare, uploaded, top, old, might, couldn, concept, luck, son, ground, trying, function, playback, distortion, nest, binoculars, gimbal, theater, arms, figured, big, she, older, left, heavy, snap, literally, wrong, sitting, fast, prescription, canon, polarized, drive, mirror, high, short, hard, isn, installation, bottom, capabilities, floppy, doorbell, end, understand, fairly, place, its, clean, longer, wire, hear, selected, retainer, chat, swap, ghost, job, kit, keeping, cards, gone, gives, surprised, design, maybe, non, condition, edge, along, anything, communicate, drawback, modes, often, glad, second, lightweight, already, inside, open, glare, ford, cheeks, wasn, remote, best, less, wide, bridge, freezes, lap, diffuser, easiest, easier, figure, decided, where, tiny, nicely, ordered, speeds, adapters, updates, iphone, share, suspect, anytime, 20, wife, usually, screws, loved, cost, cracked, hangs, grass, reverse, sync, complained, aspect, web, annoyed, stuck, times, purposes, dies, connecting, idea, start, hold, huge, difference, her, fact, auto, delivered, seemed, direct, august, attempted, models, own, porch, labeled, ended, us, should, extremely, highly, want, kept, spending, products, last, operate, drinks, different, amazon, packaging, breeze, record, attachment, fell, missing, those, expected, says, awesome, via, download, send, returning, others, internet, gap, unit, tech, accessories, width, instruction, vendor, mechanism, address, durable, life, carefully, flash, personally, possibly, fail, relief, states, shame, bummer, shot, loose, room, settings, minimal, bucks, moisture, unfortunately, three, turn, shipping, install, videos, downside, pieces, strip, pass, themselves, max, stable, went, girls, specifically, shade, several, until, rear, almost, worry, flip, ones, each, things, bring, include, gave, loves, purse, additional, priced, tested, half, probably, anywhere, wind, complain, effect, snapped, may, angle, stay, asked, mentioned, hanging, games, bend, nothing, yourself, said, directly, waste, silver, ready, construction, scratched, reviews, functional, error, build\n",
            "ink, pen, pens, printer, cartridge, cartridges, the, pencil, print, with, and, to, of, black, have, pencils, it, not, out, at, but, in, work, tips, write, these, for, printing, that, tip, was, fine, toner, hp, them, would, they, this, is, so, one, as, on, my, good, when, just, worked, you, are, works, be, had, will, color, inks, been, very, all, use, which, depot, from, shipping, only, buy, price, no, quality, problems, box, new, there, buying, time, again, refills, same, if, times, than, prints, even, after, has, can, much, first, pages, colors, working, recommend, filament, way, try, amazon, great, brand, used, does, office, smoothly, some, writes, ordered, writing, streaks, ve, tried, an, or, don, replace, barrel, too, pack, little, like, back, through, get, error, by, well, sharpener, last, still, then, also, almost, paper, came, more, really, now, two, up, other, money, bleed, smooth, nice, me, product, did, what, fountain, both, sharpening, three, got, many, went, perfectly, love, far, make, ones, quickly, because, about, run, purchased, bought, go, carts, second, expensive, seller, running, printed, most, head, nib, clog, remanufactured, won, your, problem, straight, better, am, long, full, find, message, give, however, replacement, canon, any, thought, short, plastic, cheaper, probably, thing, yet, cost, across, installed, horrible, were, simple, order, small, cheap, didn, different, around, getting, inside, package, few, right, disappointing, recognized, ok, packaging, twin, lesson, do, never, over, look, ever, loose, couldn, recognize, interesting, kind, seems, sale, edge, arrived, easy, stopped, fix, longer, cheaply, while, found, made, giving, chipped, we, couple, learned, fan, item, amount, thank, wasn, stuck, see, less, shipped, smoothest, petg, ld, cover, items, weeks, return, disappointed, pretty, hands, every, able, using, break, colored, jet, 3mm, extrusion, epson, leaky, done, update, absolutely, damaged, fell, missing, those, fit, pay, super, think, zebra, japan, reinstalled, lines, sense, definitely, how, issues, leaked, apply, broke, charges, want, though, desk, stamp, empty, set, trying, install, ran, fulfilled, doesn, before, poor, sure, rotates, wouldn, apple, piece, online, gift, copies, mechanical, documents, leak, may, seem, constantly, issue, vivid, clients, 10, correct, years, who, forward, satisfied, need, ordering, actually, received, sharpen, away, normal, replaced, contact, favorite, bridge, stunning, etc, tool, once, ll, lived, 100, where, nicely, drawstring, brass, aren, 30, days, line, put, worth, supports, free, needed, genuine, convenience, lost, stars, supplies, occasionally, bad, goes, feel, dries, idea, receive, delivery, off, change, know, decent, ensure, going, point, store, us, here, lead, lot, dry, coloring, moment, messed, awesome, amazing, keep, due, vibrant, others, months, risk, extra, down, hard, itself, messy, bit, feels, weight, required, its, might, day, why, perfect, star, pieces, usage, gel, beautifully, light, badly, themselves, left, filled, until, cardboard, caused, isn, gave, half, exactly, appear, removing, certain, areas, starts, flow, nothing, 25, checked, waste, mail, leaking, anything, reviews, important, tube, already, month, overall, image, charge, 2nd, continue, wrapped, sent, doesnt, per, part, hassle, walking, broken, page, took, figured, third, none, trouble, junk, mess, picture, removed, literally, likes, sitting, gotten, course, note, stays, rough, sending, tablet, easily, model, behind, available, double, garbage, rating, happy, size, single, installation, falls, thinking, spend, pressure, closed, come, hold, hear, protect, gives, written, complaint, adjust, defective, cleaning, option, since, late, purchase, paint, should, enjoy, expecting, lapped, lessening, igniter, huion, lamy, kum, jinhao, journalling, marketplace, mg6620, colleague, minneapolis, confidential, yield, cheapskate, schneider, shack, shimmering, ballpoint, filaments, squiggly, steppers, stubby, tattooing, asvertised, toners, totoro, twsbi, ummm, undisturbed, unnoticed, espcially, vacant, varies, accompaniment, 62, dispersement, 4stars, cheapens, seize, wunderbrow, packer, printers, bridging, cussed, regifted, cafes, calibrated, rejected, boogers, givin, blobs, resolves, haves, rollerball, crummy, sakura, greg, top, finally, save, bent, window, turned, glue, holder, edges, decided, four, regular, doing, uses, 20, usually, dark, show, tape, hope, length, 380, speedo, estimate, pigmented, dipping, ream, merry, upped, infrequently, insure, increments, signatures, malfunction, sharpeners, rs, thingy, janky, crayon, discolorations, printout, amending, printouts, grands, 101, specify, tinkering, onset, 240, choked, cr, reserved, start, paid, during, own, let, lasted, okay, thick, extremely, charging, supposed, excellent, products, commercials, elementary, stir, dozens, copying, resume, retighten, strangely, legible, retract, stringing, granddaughters, stylist, sorely, allot, skimp, mma, spotty, crossword, multipack, cleanly, exit, procedure, crayola, beaten, mexico, disappears, enthusiast, sash, mine, real, guess, cannot, needs, send, such, terrible, pair, could, service, brows, smeared, blob, flair, distribution, unbeatable, interchangeable, recycled, ranges, hello, unit, opened, hand, case, people, life, hours\n",
            "stand, velcro, hooks, hang, the, it, to, hangers, mount, of, and, on, hook, tv, down, in, was, clips, my, wall, hold, but, this, is, with, place, clip, use, had, as, came, are, that, one, string, sturdy, for, have, would, them, so, they, not, only, very, put, from, mounting, doesn, up, we, fall, off, hanger, nice, too, broke, these, if, little, metal, strings, move, product, once, screws, both, after, you, time, all, easily, more, stay, slide, great, no, missing, laptop, stable, me, our, well, or, has, be, can, bit, wish, love, were, without, other, corner, holes, design, really, secure, sizes, set, work, fell, tools, falls, tvs, out, hard, easy, better, its, leans, room, owned, made, bracket, some, side, ones, at, price, look, plastic, bottom, 65, re, even, top, cheap, door, because, around, 75, ve, adjustable, while, desk, monitor, together, bigger, when, than, pistol, silly, needs, first, white, small, didn, like, includes, thought, purpose, another, sides, much, contacted, crooked, replaced, things, isn, looking, cute, piece, recommended, brackets, an, keep, issue, screens, closet, tops, myself, couch, pins, actually, overall, away, will, holds, toyotas, stairwell, by, recommend, part, hands, able, using, just, however, keeps, used, money, necessary, reach, picture, then, over, good, nails, hdtv, sata, fells, worth, update, needed, rack, hanging, take, there, moving, come, did, could, super, mags, tilts, glock, get, since, position, extra, weight, want, attach, drapes, vizio, don, lot, different, arm, which, pieces, kindly, also, surface, few, assemble, inch, garbage, right, item, horizontal, stability, may, make, photo, perfect, adjust, who, finish, your, disappointed, straight, built, decorations, any, swivel, bent, fit, most, ssd, tricky, holder, figure, unless, won, 100, upgraded, cheaply, where, nicely, rubber, unstable, do, putting, projector, hence, far, two, times, phone, stars, slips, quality, dents, fact, surfaces, through, seems, connectors, porch, slipping, closing, stands, becomes, spread, painful, amazon, expensive, size, expected, worked, into, standing, returning, proper, unit, under, doors, sand, feet, works, flash, ever, enough, constructed, three, samsung, bought, various, saved, bolts, company, attractive, connector, strong, left, nail, heavy, box, difficult, inexpensive, apart, looks, half, spring, twist, having, certain, tips, help, oh, fixed, drill, comes, job, black, smaller, way, scratches, second, funny, getting, now, average, shelf, seller, best, balls, opinion, grip, sets, broken, took, manufacturer, fingers, nearly, stiff, try, slip, complete, none, removed, safe, model, behind, bar, pop, pants, find, constantly, gold, lower, didnt, travel, non, definitely, edge, wood, dropped, frame, glad, trip, should, though, hobbit, heap, inbox, suppot, trademarked, carpal, pcbs, vietnam, 190lbs, strung, calking, airy, knifes, merchants, 65in, positioning, replacemt, mountable, demonstrating, presumed, pokey, clothesline, lenghts, definetley, neatness, echogear, sprained, teeny, celebrate, splintery, 30lbs, retightened, floor, dont, fine, rest, opening, chair, big, control, past, flat, slightly, tiny, included, months, soon, aren, cord, useless, pull, ripped, installed, space, coming, immediately, strap, simple, length, ring, properly, caved, indentation, misled, swivels, posters, unhook, tended, wilton, bk, biking, falsely, robes, leveling, emailing, thay, litttle, carabiner, siding, handicap, hay, reorganized, items, christmas, return, idea, light, although, never, value, during, what, received, decent, flimsy, description, remove, kept, excellent, disappointing, thereby, elevate, punches, bulletin, qa, clumsy, skirts, doorway, skilled, ans, distributed, focusing, scrap, fused, clings, rigidity, retract, wreaths, 30s, wrestle, mag, especially, mine, cannot, house, larger, close, those, ordered, advertised, send, others, incorporated, lumpy, responses, tines, shortest, reinstalled, inability, bore, walnut, jumping, bronze, mountain, been, front, hand, people, am, bothers, wobbles, hemp, extends, fiance, texas, laminated, magazines, loose, within, couldn, gets, still, install, kind, circumstances, medicine, vice, reattach, foldable, angled, tipping, stroke, opted, furthermore, positioned, gen, dangling, instead, lights, went, cut, until, replacement, almost, quickly, beautiful, tunnel, spacers, stitches, filed, generic, pitch, renting, reordering, prepare, computers, unpacked, wouldn, short, daughter, back, remotes, superior, btw, interferes, sweaters, 360, balanced, garland, end, splitting, skid, withstand, clipped, th, determined, everything, found, does, said, waste, anything, reviews, fasten, unsure, loosening, friction, shit, snagged, hunting, dresser, couple, magnifying, pile, leading, tilt, decorative, sloppy, flew, ladder, appealing, package, about, less, lap, teacher, manufactured, loaded, creases, repeatedly, insulation, weeks, equally, killed, overseas, directed, basis, toyota, object, survive, their, every, being, bends, functioning, scary, hesitant, shallow, disappoint, stocking, wanted, makes, drawstring, regarding, opener, meets, consuming, 19, loops, creating, stairs, fits, chin, universal, slid, wobble, america, net, year, hangs, deck, jars, bending, stained, vest, serves, peeled, shapes, manner, robe, stuffed, individually, classroom, closely, separated\n",
            "chair, seat, chairs, mattress, the, bed, to, and, this, is, it, for, back, in, my, of, on, that, we, with, have, comfortable, so, cover, but, had, great, one, you, was, not, together, an, very, support, like, graco, be, put, would, easy, as, no, couch, me, just, only, really, get, sturdy, seats, are, up, our, happy, good, could, from, sitting, headboard, they, screws, made, at, all, look, well, or, product, do, bought, can, doesn, seems, price, more, car, extra, height, legs, out, side, months, about, if, use, too, purchase, quality, will, office, first, pain, sofa, queen, foam, nice, two, sit, lumbar, say, looks, safety, when, other, money, even, don, them, much, also, love, after, better, furniture, small, am, didn, sleep, still, short, worth, bottom, than, help, issue, buy, because, enough, overall, now, underneath, ever, any, their, strap, time, there, new, little, cushion, pad, piece, topper, firm, sits, super, by, does, him, customer, bolts, wood, except, however, re, contacted, lightweight, getting, which, service, reason, off, beds, amazon, looking, rest, around, middle, took, while, room, he, ordered, sure, foot, full, been, how, leg, dog, feel, screw, ago, recommend, pretty, place, these, arms, did, some, fit, another, broke, has, go, old, footboard, seatbelts, reclined, husband, last, worse, covers, part, protect, metal, minutes, entire, ok, ve, complaint, both, down, frame, fits, weight, install, wider, bent, return, recline, bunk, disappointed, need, completely, move, quite, replacement, sleeping, platform, futon, high, solid, definitely, over, yet, ergonomic, seating, having, ups, comfort, used, different, came, reviews, dresser, needless, keep, actually, already, keeps, holes, month, few, before, seller, thin, bridge, cant, someone, center, slept, item, baby, fabric, cannot, make, where, makes, perfect, pay, under, front, secure, itself, far, needed, cushions, hours, then, something, find, without, got, lock, unfortunately, night, worst, surprised, again, print, your, what, works, company, review, budget, order, floor, returned, wait, probably, expected, into, comes, maybe, alternative, useless, gaming, couple, possibly, parts, lack, its, away, anyone, immediately, see, sways, split, light, size, paid, able, problem, between, own, wanted, let, try, bolt, okay, dollars, area, year, 200lbs, suv, lay, done, guess, house, stars, bend, amazing, padding, yourself, send, construction, think, refund, fastening, seatbelt, recliner, cloud, hydraulic, quilted, way, duty, tighten, position, heard, assembly, durable, arrived, though, tried, attach, cats, rocking, plastics, rocker, nap, top, cheap, same, mattresses, ikea, cab, saying, perfectly, stays, assemble, quickly, booster, secondary, teens, crew, headrest, difficult, onto, hard, half, liked, bit, dining, velcro, closed, stay, day, essentially, 10, years, forward, satisfied, never, attached, totally, minimum, reaching, sides, dogs, second, built, understood, child, sent, replaced, base, stop, swivel, lever, noticeably, fabrics, marketing, given, broken, please, easier, won, being, custom, halfway, console, invest, four, myself, soon, twin, transport, vehicles, wobble, 20, days, pull, add, line, cost, fabulous, amount, space, excited, hope, holds, material, give, request, takes, folding, pets, requested, hold, difference, tell, rods, serve, accident, value, break, purchased, row, since, hoping, flimsy, upright, sat, ties, going, point, us, highly, want, trick, stripped, excellent, supposed, replace, shoulders, update, layer, work, home, cute, shopping, those, wobbly, frames, says, awesome, via, building, others, adults, width, pet, chose, protected, taller, kids, haven, folded, website, currently, reached, sons, respond, alot, either, son, somehow, pic, color, why, constructed, slowly, blow, darker, trying, downside, puppy, seams, motion, vehicle, elsewhere, grey, offered, carrying, bedroom, strong, left, below, using, went, heavy, pulling, box, tight, until, next, rear, replacing, tore, buying, poor, biggest, beautiful, exchange, each, buyer, things, scratch, features, daughter, gave, spring, end, twist, may, pounds, materials, were, fold, adult, period, his, nothing, black, design, sweet, crack, said, waste, ready, hardware, anything, beach, truck, calls, important, scratches, children, prevent, waiting, hardly, separate, adjustable, inside, beware, weather, build, considering, arrive, wheels, less, provide, spent, frustrating, desk, tall, grip, addition, most, soft, every, range, basically, upset, number, none, directions, slip, comfy, photos, feeling, many, safe, sized, mount, drive, available, loved, warranty, storage, double, wish, board, weak, throw, mind, tools, falls, brown, spend, impossible, based, take, follow, live, belt, thanks, held, lower, everyone, kit, fully, weird, setting, gone, gives, system, told, through, poorly, adjust, know, purchasing, defective, thought, actual, option, late, plastic, ordering, thing, straight, trip, straps, should, enjoy, 6months, lounging, armrests, ps3, paintable, bedframe, submitting, um, 280, 350lbs, unbox, midair, medicate, sectionals, blemish, talalay, reclines, respawn, kia, orthopedic, noone\n",
            "table, shelf, calendar, planner, shelves, drawers, the, of, to, for, my, and, is, it, in, not, are, this, on, that, one, would, have, them, drawer, you, pages, but, we, was, all, each, space, great, storage, will, nice, there, if, with, organizer, organize, very, be, fit, or, so, top, bottom, like, more, put, up, they, just, hold, room, from, two, has, looks, something, cabinet, also, open, buy, perfect, together, pieces, can, at, easy, love, house, enough, foosball, tiers, when, plastic, need, shelving, out, don, compartments, apartment, looking, over, these, keep, heavy, had, way, as, use, small, than, damaged, no, missing, box, other, look, an, came, good, work, screws, plenty, were, excited, holds, much, because, about, only, little, some, bought, found, arrived, smaller, go, sized, anything, calendars, batts, price, different, away, home, size, close, used, closet, could, does, down, better, cookbooks, what, pocket, flat, think, tables, any, putting, back, piece, dates, layout, get, screw, our, ordered, quality, fine, boots, lines, expected, while, sure, did, corner, broken, which, five, wanted, cabinets, recommend, unit, pretty, me, damage, well, then, closed, come, side, another, straight, quite, though, difficult, cheap, december, sided, how, set, things, daughter, now, bin, sturdy, yet, place, may, help, job, design, solid, made, doesn, carefully, getting, month, amount, make, see, sliding, simple, product, day, plants, lop, planners, appointments, items, by, return, numbers, stuff, every, received, holes, decent, store, extremely, year, easily, triumph, again, needed, expensive, areas, due, needs, tier, cigars, backward, hockey, been, despite, under, front, thought, do, sort, am, silverware, journals, vanity, scrapes, disks, lot, page, activities, company, time, write, left, worked, wrong, before, off, writing, right, liked, item, bins, its, thanks, stay, careful, keeping, years, your, works, never, wood, schedule, however, inside, week, bikes, bent, falling, middle, won, able, being, four, where, regular, trunk, aren, fits, large, ve, lid, worth, parts, scared, washers, installed, bench, happy, times, books, find, wrote, without, wall, noticed, through, paper, water, april, row, decide, agree, description, area, art, thickness, manufacturing, should, want, air, order, fall, same, jewelry, after, discovered, direction, college, customer, uneven, wobbly, latch, catch, brackets, even, got, big, slot, pay, send, new, metal, didn, service, tabs, issues, extra, accessories, dirt, square, knock, feels, weight, flaw, washer, holders, limited, son, usable, three, install, besides, reasonable, lip, disappointed, info, strong, below, garage, using, went, furniture, remember, until, money, driver, high, features, isn, probably, lay, end, having, mounting, rack, bathroom, his, black, tray, pool, sleeves, ready, important, attention, duty, couple, hardly, negative, build, toys, assembly, considering, package, sent, best, thin, less, really, handles, most, part, weeks, handy, still, their, cases, disappointment, honestly, makes, clothes, try, surface, many, note, previous, pockets, cause, covered, model, double, wish, rating, onto, sit, covers, holding, thinking, brown, spend, give, hang, live, lock, slide, lower, super, kitchen, system, defective, definitely, purchased, forward, helpful, purpose, re, lightweight, legs, smooth, 3pk, attatch, clang, assured, unsturdy, arrieved, glamorous, jpegs, unfortunetly, 5x8, franklin, unbalanced, covey, subway, creature, appointment, dare, tangible, anothers, alphabetically, eyeliners, downsized, thre, attorneys, unclutter, rebuilt, reinforcement, nutmeg, 123, speechless, locating, notepads, probes, nativity, prioritizing, playroom, nsf, installations, irrigation, replant, squirrely, mounding, organizes, main, party, finally, computer, saw, amazon, save, opening, annoying, slightly, tiny, family, nicely, myself, months, soon, useless, barely, giving, wife, touch, cheaper, line, bit, lots, tape, pictures, someones, fiberboard, tended, fins, customizable, ample, thrive, protrude, template, presume, instruments, latching, nines, 13th, passwords, refusal, bitty, charts, cr, punching, grail, gardening, attorney, caddies, stackable, organizational, furnish, lang, labelled, birthdays, motivates, ago, person, value, seemed, own, shoes, outside, flimsy, making, disappointing, described, products, sorting, tackle, yearly, 2k, goals, evenings, tiered, ornament, planter, sky, meticulously, weary, watering, vulnerable, notches, widths, dive, readily, myriad, ne, complement, perforated, placemats, husband, replace, felt, support, guess, batteries, amazing, such, others, exquisite, colour, divided, functionally, tabletop, disturbing, drape, formal, transform, ocd, riser, walnut, dunno, dvds, oak, shortest, reason, car, otherwise, kids, haven, distances, mass, pvc, laminated, mallet, diagram, mate, holy, charms, van, cedar, rows, bowed, bangs, humidor, either, might, gets, star, shipping, looked, hamper, advent, swear, physics, instance, vacuums, rushed, slack, promise, produced, pours, gamble, furthermore, resources, detailing, welded, believed, knots, first, tight, buying, ones, beautiful, strongest, powers, tuck, glance, circles, 6th, creased, incredible, upsetting, document, lingers, spices, apart, gave, exactly, ii, remotes, alignment, binder, guests, aligned, worries, seating, resulting\n",
            "knife, sharp, blade, knives, cutting, cut, the, it, and, to, shears, is, this, blades, edge, that, with, for, as, you, scissors, in, but, be, sharpened, cuts, on, of, have, like, sharpening, my, nice, get, buy, good, just, use, not, work, are, these, sharpen, great, would, very, was, one, so, well, them, will, out, kitchen, they, stone, if, through, came, screw, set, money, all, apart, your, saw, slicing, when, plastic, small, really, need, much, after, can, more, only, or, dull, ve, make, come, used, from, easy, should, open, metal, because, bought, an, than, steel, works, better, handles, at, me, quality, anti, which, first, coarser, pineapple, foam, price, too, back, no, while, does, sure, butter, how, hand, its, assisted, chop, what, by, peel, bent, times, something, stars, also, pocket, using, heavy, veggie, stainless, factory, screws, rust, got, different, maybe, amazon, could, around, own, thin, product, did, once, up, most, has, some, do, don, pretty, board, love, apple, casing, tools, boards, off, again, water, thing, other, been, tool, isn, opening, uneven, edges, into, flat, job, tension, file, solid, made, anything, cost, had, were, pealer, hori, eafengrow, locktite, honing, chisels, guide, fact, able, rod, however, try, then, whole, days, cucumber, spiralizer, sharper, dulled, pork, spring, sleeve, needed, expensive, fell, material, there, side, hold, pay, super, peeler, local, duty, finger, know, thought, definitely, handle, section, itself, two, adapter, tip, tried, backed, jagged, chipper, center, grip, might, couldn, lot, engraving, bullet, keep, quite, tight, few, safe, ones, beautiful, pinched, things, down, hard, bit, size, clean, careful, day, slide, found, black, wood, clip, cutters, loosening, straight, second, getting, apples, core, cutter, smooth, pleased, wasn, any, sent, cover, looks, carry, plane, figure, toy, unless, took, lawn, tiny, makes, soon, mower, plus, twice, put, breast, drone, touches, far, bones, holds, am, time, take, sometimes, items, pleasantly, think, tab, quick, cheese, let, mainly, store, fridge, magic, closing, extremely, making, want, bigger, replace, cheap, opens, same, mine, guess, close, says, even, tile, wooden, drawer, chicken, such, pair, new, stones, under, force, nuts, feels, till, requires, loose, release, little, trying, three, improvement, wow, kind, recommend, fit, electric, waited, tough, went, began, odd, box, until, several, almost, shop, fish, wouldn, iron, priced, self, exactly, sturdy, piece, dishwasher, teeth, snapped, place, having, safety, angle, longer, exact, harder, help, wont, 10, yourself, everyday, mail, deep, attention, actually, orange, now, considering, best, less, designed, part, ll, broken, every, won, problem, where, 50, disappointment, wanted, match, none, slip, large, snap, many, stays, worth, wish, throw, sit, wear, spend, find, bad, information, compared, comfortable, didn, system, surprised, complaint, finish, satisfied, except, along, purpose, another, glad, going, arrived, enjoy, go, bottles, kershaw, heaving, leafy, napa, gravely, mangoes, nother, ofcourse, inclement, grwat, olives, imperial, misc, hacksaw, onion, mincing, lke, sharpens, sharping, 24in, stocked, edc, corer, ding, chopping, vines, aftermarkets, unbecoming, craftmanship, spiraled, scream, specialty, dalstrong, dam, excluding, usages, 460, resharpening, stab, dicing, 100ft, protrudes, tensioning, 1660, sharpest, ano, remedied, quasi, tenderloin, ranks, razer, troybuilt, normal, shape, wide, our, dont, fine, looking, given, holder, easier, enjoyed, 100, move, worked, rubber, useless, giving, 20, show, we, item, free, tape, anyone, enough, thingy, swiss, cores, observation, corrosion, striping, stared, tomatoes, burred, toothpick, unattractive, torx, unappealing, carve, slices, annoyances, slicer, ferro, fifteen, scissor, seized, gundam, greens, examine, accompanied, sharpeners, ego, wiper, apparatus, smiles, sparks, papaya, competitively, mortar, ga, cool, ago, takes, long, today, usb, tell, hands, expect, paper, received, holes, decent, okay, thick, point, original, look, disappointing, jigsaw, generated, afterward, 30s, bush, triangles, mistaken, maintaining, clipper, carrots, professionals, haft, steak, pivot, scales, eyesore, saws, featuring, sorely, disclosed, spiral, grabs, retract, onions, fatal, punches, striker, progressively, propellers, girly, edged, damaged, deal, home, cannot, those, awesome, due, band, hot, weeding, methods, army, alleviate, meats, wattage, server, ridges, bandages, bearing, overfill, vibrations, handsome, swinging, humorous, potatoes, inadequate, sum, oscillating, way, issues, otherwise, stick, case, life, weight, white, sharpener, edger, glides, advised, bandaid, crafting, grit, brownish, survival, supervision, zucchini, stationary, visually, photograph, pasta, squirrel, slope, mill, messing, unsafe, sandpaper, squared, vegetable, either, still, pieces, looked, reattach, diamonds, er, sheath, sheared, ruler, whats, rotation, wanna, dangling, trimming, largest, desperate, efficiently, laughs, lightening, herbs, aftermarket, wedge, doesn, wrong, next, buying, fast, quickly, garlic, flaky, prepare, decals, guessed, fingernail, extras, badge, filed, savings, crafted, weighted, difficult, gave, half, brand, bottom, horse\n",
            "tent, umbrella, waterproof, it, wind, rain, the, stakes, up, and, to, in, for, is, we, on, not, this, water, of, was, that, windy, canopy, be, mattress, sun, had, you, out, my, too, ground, with, have, weekend, will, if, because, one, but, as, built, nice, off, at, cover, would, our, no, just, when, are, very, product, could, sturdy, am, winds, set, keep, use, like, so, he, good, down, beach, went, its, light, pretty, patio, only, well, some, thing, all, after, breeze, even, great, get, frame, make, see, did, really, also, can, left, first, completely, over, crank, me, though, or, put, easy, about, sure, camp, together, an, both, poles, assemble, year, worth, crib, deck, however, love, any, fairly, material, live, weights, blows, through, going, should, shed, top, than, lot, zipper, bent, fly, around, falling, from, worked, into, his, design, camping, overall, yard, enough, excited, color, umbrellas, tents, price, quality, stable, proof, during, small, outside, camera, flimsy, ended, then, air, tested, princesses, there, little, come, fit, bought, crazy, think, raincoat, way, how, issues, since, now, broke, weight, fogged, nap, instructions, ends, made, strong, few, raining, secure, pad, appears, yet, storm, end, place, got, spacious, work, concrete, sides, sharp, seller, wasn, floor, week, bbq, soaked, saw, looks, pocket, cheaply, where, slightest, putting, electrical, trees, wish, they, sometimes, person, huge, difference, still, super, accident, know, seems, stand, random, street, keeps, buy, go, snow, compartment, flap, stands, old, trailer, sewn, spill, fabric, gear, customer, tighter, pay, such, while, metal, hot, service, months, sand, handle, resistant, specific, sign, haven, other, mesh, couldn, might, within, son, somehow, always, day, by, liner, outer, return, looked, using, heavy, shade, next, tore, sleeping, money, lining, slight, ridiculous, do, apart, wouldn, things, don, daughter, additional, may, longer, were, moved, help, comes, time, windows, started, maybe, came, directly, purple, despite, roll, second, what, say, position, weather, jacket, seam, eventually, open, more, away, lens, liquid, lovely, best, rip, means, corner, kid, soft, their, correctly, took, wanted, third, try, stated, sitting, pick, easily, foam, storage, birthday, far, back, needed, times, size, trash, give, without, take, follow, 15, hold, useful, weird, does, complaint, travel, definitely, purchased, purpose, plastic, ordering, another, protection, legs, seen, want, tried, byke, zoomed, critters, 100lb, firepit, campy, augers, connectable, hyke, cot, 28ft, frogs, inverted, collapsing, vestibule, teardrop, utah, zion, lumber, loveeeee, pavers, kiddish, sank, staking, itll, hurricane, grt, gusts, gust, base, amazon, heat, opening, easier, 100, move, new, later, nicely, food, right, add, bit, cold, installed, tape, space, properly, motorhome, sandbags, catchy, alaska, canyon, den, slats, foe, deterrent, unzipped, crawls, wether, coolers, sone, yosemite, dwarfs, sunshade, coupling, chasing, sail, spines, bathtime, unroll, perfect, bed, screw, recommend, idea, never, break, must, box, them, description, store, whole, charging, disappointing, shocks, ness, withstood, stake, squeaking, shortened, gadgets, 4x4, valley, lush, awsome, balcony, discolor, husband, support, baby, deal, fell, larger, close, batteries, amazing, awesome, returning, resulted, kt, overhang, underarm, buckets, mph, spaced, steep, columbia, shady, rake, parked, pretend, atv, pallet, landing, fires, trained, grilling, reason, under, hand, itself, better, grommet, rains, anchor, rotted, enclosure, slope, campus, collapsed, hefty, polished, firstly, shining, room, unfortunately, trying, star, shipping, kind, pieces, griddle, slack, ny, cement, hammock, ish, unzip, weatherproof, stabilize, harley, reattach, bunches, sagging, doesn, until, buying, stopped, beautiful, afternoon, smoking, bet, collect, rattling, uv, difficult, each, isn, gave, brand, bottom, fooled, warping, flooring, decrease, hopeful, seem, used, shredded, trusted, stood, novelty, shelter, neon, rusting, california, foundation, ur, listened, requesting, rained, 10, didn, found, black, your, works, waste, posts, serving, staples, rainy, treated, military, spikes, hubby, downfall, much, couple, actually, already, inside, knobs, flew, disney, openings, haha, absorbs, forgot, lake, sent, gotta, visit, soaking, elements, bikes, mile, blown, drip, palm, costco, weeks, ll, adjustments, lifetime, cumbersome, harsh, havent, roomy, slept, frustration, ok, every, able, being, toxic, stress, hazard, stem, problem, battery, these, makes, shield, hood, twin, trunk, stairs, privacy, drawstring, meets, large, steady, potty, theres, served, loved, joint, shouldn, lady, queen, hence, navy, fade, penny, serves, baggy, roof, secured, casing, camper, shocked, structure, something, stars, find, claimed, ad, ripping, walks, separating, meat, side, edit, folding, traditional, reply, comfortable, sees, ridiculously, happening, research, hasn, busy, sat, ours, raised, cycle, outdoors, purchase, tries, location, met, chrome, closer, cross, accidentally, ceiling, bag, points, obvious, copper, individual, hiking, same, bummed, layer, destroyed, sewing\n",
            "mirror, curtain, window, curtains, the, it, on, mirrors, and, to, windows, sun, is, this, shower, not, that, but, see, was, my, film, for, view, of, you, outside, with, very, glass, tape, windshield, look, in, side, however, so, great, visor, too, work, as, are, they, up, looking, piece, sunlight, just, did, dashcam, back, be, all, does, we, room, good, at, onto, product, if, used, perfect, like, no, bracket, from, when, because, have, would, fit, only, facing, will, driving, don, one, clips, adapter, beautiful, still, well, use, there, suction, hoping, than, car, makes, or, off, mirrored, what, install, an, has, rear, blocking, out, seem, pattern, job, your, visual, inside, into, before, nice, clear, which, large, get, hangers, joint, emergency, itself, then, got, looks, panels, keeping, existing, much, easy, re, replacement, old, way, how, bottom, brackets, everything, also, had, were, pic, thin, sheers, wall, liner, once, transfer, ll, size, pretty, can, need, took, using, holes, didn, over, signal, worth, rain, happy, about, blackout, wasted, thought, noticeable, purchase, breaking, should, am, turn, showers, curled, keep, some, instead, added, wrong, few, plan, short, sturdy, holding, installation, place, really, stay, small, ball, said, stud, cling, sunny, money, tapes, best, glue, problem, tiny, ordered, privacy, shades, fits, picture, do, days, ultimately, installed, now, coming, needed, adhere, something, semi, feel, bed, come, quality, takes, dents, weights, huge, desired, camera, shake, doesn, ended, highly, making, tried, sided, win, price, jewelry, site, close, frames, functionality, temp, even, while, hot, reason, me, cabinet, otherwise, them, nuts, other, states, unusable, makeup, unfortunately, trying, by, light, mold, disappointed, bedroom, below, rod, completely, buying, bolt, living, exactly, effect, love, again, sheet, mounting, help, fold, bathroom, time, found, started, design, waste, could, put, actually, stitching, already, rings, waterproof, open, case, underneath, two, cups, better, texture, attach, together, shut, standard, 50, suggest, honestly, thicker, these, friends, first, surface, simply, year, secure, mount, covered, inch, double, material, closed, hang, photo, adhesive, wire, hold, super, think, gone, entire, seems, water, finish, works, video, attached, frame, glad, sides, thing, arrived, glasses, lightweight, though, whipping, spyder, mone, borosilicate, 3aaa, tiebacks, thisnis, 1995, closeup, resist, stuffy, streetlights, superimposed, imperfection, ezgo, peacock, shadowy, rumbling, soapy, perfected, dizzy, dinky, base, lot, finally, fine, opening, helps, cute, bought, around, expected, holder, easier, she, worked, new, leave, nicely, family, myself, months, right, rather, down, putting, cup, style, ripped, cost, item, space, enough, stuck, color, length, properly, hangars, janky, lubricant, oxidized, gt, magnified, discrepancy, 72, restoring, fiberglass, anticipate, darkens, farmhouse, wetted, squeegee, 10min, 56, dismay, blinding, asin, chaos, draft, recommend, person, christmas, return, paid, problems, during, between, own, decent, let, any, area, store, remove, whole, disappointing, described, slouch, strangely, reflections, crossbar, tees, se, rattles, netting, thier, pilot, workers, expands, packaging, home, guess, fell, larger, awesome, came, needs, returning, metal, bright, fancier, retaining, implies, blob, choosing, screwing, wiping, mustang, tge, expansion, awfully, noting, tilts, wrinkly, been, stick, durable, solves, overwhelmed, vanity, shining, collects, crashing, 3d, pathetic, pita, stitch, biggie, hideous, roads, instructions, might, made, looked, bullet, north, valuable, armor, 24hrs, bold, 5mm, harm, flop, esp, sheared, cue, dimmed, efforts, fulfilled, distortion, heavy, colors, quite, poor, sleeper, diamond, rotating, highway, vintage, imperfections, wal, passenger, headrest, deformed, treatments, definition, retain, tact, difficult, gave, loves, brand, gift, wings, misaligned, binder, rep, shared, vibrates, mart, legit, trimmed, layout, strain, tinted, closes, having, clean, grommets, regards, yours, clipped, reduction, partly, shines, drove, blind, distorted, bob, cloudy, thermal, saturated, 10, smaller, raise, rise, co, honda, license, considered, bay, 48, couple, useable, lacks, virtually, completed, conclusion, openings, glare, decor, decorative, excuse, recommending, fyi, maximum, accent, swivel, gaps, repeatedly, elements, little, stored, adjustments, forehead, freezing, south, drilled, oddly, broken, their, reflective, hinges, intense, picking, where, wanted, adaptor, sample, cabinets, attempting, adhesion, sections, whoever, sheer, dissapointed, many, nasty, fashion, electronic, heated, blowing, transit, maneuver, bending, fabulous, lady, girlfriend, wish, far, team, shark, camper, give, closely, success, flaws, without, bad, take, images, pleasantly, dries, versatile, dimensions, sturdier, blows, knowing, rods, through, street, regardless, challenging, bumps, defeats, since, plastic, lacking, upright, pleasant, babies, thankfully, more, balance, manufacturing, matching, defect, knob, location, alcohol, closing, go, want, obvious, anyways, stripped, protecting, top, order, last, cheap, headache, opens, continued, improve, our, same, housing, depending, significant, speak, hung, increase, sewn, tub, becomes, wrinkles, different, after, exposed, breaker, direction, choose, guessing, appearance, printed\n",
            "antenna, wifi, router, channels, reception, to, tv, signal, modem, the, this, not, radio, internet, get, with, it, my, but, up, range, network, on, connection, connect, and, that, of, was, have, cable, channel, for, is, isp, connected, had, work, in, as, no, one, so, better, arris, netgear, you, other, fire, any, easy, at, good, did, working, stations, set, fine, all, works, would, house, from, speed, xfinity, local, got, wireless, does, installed, just, problem, about, into, scale, new, level, only, device, netflix, will, tried, same, more, great, be, speeds, we, am, units, or, then, want, comcast, than, home, do, very, after, live, reset, could, system, downstairs, unit, out, tech, use, bill, linux, stop, which, wi, has, need, instead, plugs, systems, provides, over, tested, fi, again, even, if, time, setup, much, put, two, product, like, when, bought, still, power, also, some, older, adaptor, recommend, service, pick, however, were, online, nut, bluetooth, install, what, laptop, can, remote, high, now, window, may, phone, an, app, decided, connects, picked, day, 4ghz, speedtest, dunkin, rangefinder, various, although, youtube, are, paying, problems, every, able, using, battery, money, try, picture, factory, really, devices, easily, coax, powerline, restore, else, wish, moved, cannot, those, games, cell, terrible, pci, utility, hotspot, reason, through, me, minute, stick, another, thing, adapter, go, clearly, interference, extenders, dc, old, our, turn, amazon, looking, extender, desktop, savvy, none, doesn, went, worked, buy, tablet, off, upstairs, radios, fm, advertises, hotel, behind, right, weak, probably, commands, spend, its, constantly, enough, 10, your, video, machine, getting, less, look, city, most, well, freezing, object, slower, figure, won, switch, successfully, where, dual, don, anyone, needed, roof, happy, times, give, amp, connecting, stream, start, because, usb, talking, claims, seems, thought, seemed, extend, hoping, camera, source, going, sports, though, strength, lot, support, different, clear, keep, small, send, few, before, months, load, feet, otherwise, listen, address, them, they, item, states, lack, instructions, yard, see, rid, voice, unlike, room, little, three, outdoor, samsung, long, return, guys, pass, grill, cuts, hopes, earbuds, lights, oem, access, quite, box, several, stopped, changing, each, returned, short, include, having, spots, email, found, windows, waste, stayed, solution, been, ve, second, eventually, away, response, test, boxes, seconds, once, corner, hassle, ground, their, page, both, ran, recently, upset, wanted, junk, many, total, hopefully, provided, available, port, back, single, installation, something, fairly, running, based, information, plugged, morning, know, sleep, definitely, purchased, since, purchase, volume, abt, hulu, hurdle, intel, fads, sangean, affiliate, uhf, whoop, relocating, televisions, repeaters, variables, networks, naively, ncis, routers, ac1900, 88, structural, hinders, restarted, 46, recommenced, persuasion, mast, xm, ghz, cw, 100mbps, chromecast, mismatch, receptors, ubs, gmg, augment, curios, usb2, assigned, greeted, chipset, ssid, qos, receptions, junkyard, nbc, campsite, throttling, nice, main, last, finally, wait, save, packaged, multiple, card, he, pull, wife, cheaper, plus, button, lots, plug, excited, hope, lost, emit, boosted, vouch, nfl, ip, unrelated, 5g, adaptors, implementing, parallel, signaling, pings, plaster, stalling, standalone, hardwired, donuts, 4g, login, logging, locales, experts, buggy, antennae, scanned, by, ago, takes, receive, never, disappointed, run, during, own, must, outside, ended, area, us, original, game, kept, looks, excellent, described, disable, appearing, clearer, hdtv, bandwidth, universe, puma, renewed, desktops, lan, entered, aiming, bingo, forums, verizon, justified, hides, applies, advertisements, guess, says, due, advertised, came, pay, metal, minutes, returning, recognizing, server, directional, weekends, splitter, parent, baseline, configure, requirement, exist, aggravating, extending, vendors, inventory, browsing, bronze, keychains, way, how, issues, extra, people, life, simplicity, pathetic, amd, reboot, streaming, defiantly, programmed, arc, j7, password, bundles, vpn, depend, abilities, technical, 55, ships, beast, statement, restart, why, unfortunately, star, trying, looked, full, outputs, aftermarket, pedestal, superb, tp, greater, sales, independent, changer, roku, smartphone, firmware, recognition, first, cut, until, replacement, poor, almost, deleted, recall, sources, southern, pricing, replaceable, price, things, gave, brand, size, 360, crash, communication, settled, wired, installment, storm, clean, help, bills, california, vivid, fades, golf, experiences, hoops, monthly, greatly, swap, users, rely, selected, everything, didn, black, nothing, who, years, said, reviews, episodes, 75, patient, ha, activate, froze, communicate, november, actually, pumping, downloaded, core, connectivity, minus, folder, lake, wound, best, there, football, palm, inconsistent, unnecessary, select, operating, driveway, bridge, accuracy, reported, amazed, together, cumbersome, male, lite, hidden, sub, researching, occasions, additionally, discover, carries, station, stating, ok, roughly, rooms, invest, attempts, horror, register, manually, powered, these, services, meets, knowledge, apps, brass, rv, nature, hd\n",
            "balls, balloons, ball, inflate, inflated, to, the, and, not, of, it, blow, for, them, have, with, deflate, pump, up, we, in, be, was, balloon, my, one, that, these, air, were, so, you, this, hole, would, had, at, but, time, is, off, popped, out, very, use, holes, also, an, they, pad, fully, able, kids, as, other, party, practice, are, come, money, ones, any, got, last, didn, quality, because, tee, product, hard, than, after, stress, day, least, net, throw, rim, give, all, purchased, your, paint, when, been, same, no, amazon, two, from, has, stay, flat, said, camping, some, doesn, great, first, helium, apologized, glove, back, refunded, disappointed, being, small, received, sleeping, over, volleyball, fall, happy, insert, could, service, prom, baseball, way, seems, me, car, on, extra, another, or, better, hours, do, blah, grasp, within, basically, league, bat, into, next, review, before, bounces, price, birthday, hit, enough, waste, much, contacted, tennis, then, football, did, players, broken, just, where, soon, came, students, many, barely, blast, needed, exercise, dozen, break, if, pup, flimsy, bag, should, want, though, disappointing, order, old, nozzle, delicate, set, fine, packaging, missing, says, even, keep, send, outlet, easy, nice, surprise, season, color, there, unfortunately, trying, bought, plain, affordable, full, company, carrying, using, however, filled, replacement, offer, driver, quickly, like, difficult, high, brand, moved, major, gym, smaller, beach, ve, what, month, seam, away, average, package, stretch, rip, really, tip, together, grip, most, weeks, shown, ok, still, which, every, fault, 50, upset, comfy, removed, dead, sending, cause, easily, worth, foam, appears, well, anymore, take, constantly, gold, 15, will, hold, used, correct, does, pictured, works, can, thing, trip, broke, go, awarded, fireworks, golfer, onyx, passer, pitching, hass, sharpe, basketballs, asinine, blowup, 8u, ofr, useage, offerings, tiki, triplet, detent, learnt, reimbursement, yellowed, replaced, lot, our, different, carry, big, 100, while, new, few, included, 12, sure, uses, right, putting, free, love, make, plug, anticipate, graduated, inflating, unfortunatelly, instructor, signatures, festive, newbies, wicker, indestructible, frigging, door, long, return, receive, huge, tell, pretty, need, during, between, hoping, more, description, point, play, good, granddaughters, looses, lanterns, seldom, meantime, wastes, attraction, untangle, unraveling, bush, tees, arrangements, myriad, punctured, absolutely, home, expensive, real, fell, ordered, others, flopping, cigarette, rotten, ziplock, discription, hamster, terrain, outline, parks, tremendously, slam, scuff, get, put, people, durable, weight, white, stopper, inconvenience, 31, flour, unicorns, ruins, trainer, displays, twins, nyc, either, couldn, three, star, night, weirdly, mattresses, seek, searched, bling, clubs, guarantee, refunds, left, went, perfectly, buying, poor, dissipate, deflated, unraveled, aggressive, fuel, critical, responding, 6th, marketed, isn, half, bottom, 500, closes, latex, therapy, replied, remotely, decorate, soccer, place, issue, fourth, instructed, neon, unicorn, cheapest, avail, hoop, years, bay, headboard, public, holiday, psi, bounce, say, already, getting, inside, open, grandkids, displayed, torch, precise, detached, openings, best, sent, less, pit, visit, themed, blown, tedious, 300, begins, puts, guest, overseas, slept, soft, won, unfortunate, stem, enjoys, chewed, loosely, wanted, drawstring, incorrectly, twin, layers, flight, picture, large, served, slightest, don, year, letter, blowing, companies, indoor, exercises, foil, backwards, bending, mounts, shark, physical, something, stars, trips, filling, feel, busted, rarely, swing, eligible, her, field, accessory, blood, prepared, through, emails, overly, instantly, strings, club, since, plastic, outdoors, weren, going, purchase, evening, parents, re, developed, tried, cheap, opens, attempt, lit, feedback, ac, niece, gross, cute, thrown, fly, chips, blew, discovered, coloring, messed, expected, she, tons, particular, 00, general, pops, begin, lunch, warped, event, loss, player, bc, adults, tend, vendor, oils, chipped, letters, types, distance, only, tent, health, carefully, reached, sons, straw, market, weekend, chip, firm, marks, performance, dollar, somehow, chain, cooler, chemical, constructed, by, puppy, walmart, seams, faster, recommend, various, electric, themselves, pass, brought, never, bunch, hopes, numbers, listed, pulling, specifically, began, sell, girls, special, fair, 2019, meant, whatever, variety, ridiculous, 2018, dollars, provides, inexpensive, string, bring, mouth, sucks, tree, played, again, rust, pounds, certain, pattern, exact, oh, torn, six, asked, complaints, early, starts, seeing, costume, bend, pillows, sealed, nor, height, spots, stock, driving, crazy, stayed, certainly, purple, deep, 40, children, cords, fill, funny, granddaughter, tear, minute, rings, now, wrapped, arrive, means, compliments, feature, obviously, attach, knew, tall, sorry, test, opinion, sold, doesnt, durability, shut, ends, places, hate, changed, sun, correctly, drink, made, range, spot, manufacturer, disappointment, dirty, third, yellow, write, added, literally, buy, likes, pick, lose, secure, inch, model, rating, board, yes\n",
            "bugs, traps, mice, birds, trap, in, ants, insects, caught, the, bird, we, have, wasps, of, plugged, to, for, around, and, one, it, flies, feeder, that, not, this, work, these, roaches, away, are, moth, bait, them, snap, bought, or, out, if, crawling, is, your, my, spikes, seen, had, at, there, but, on, so, few, bug, small, now, were, mouse, would, still, which, just, money, more, any, area, spiders, mosquitoes, ant, exterminator, gopher, all, apartment, after, house, repellent, pest, you, they, beetles, saw, did, light, squirrels, be, with, bees, early, effective, works, will, other, backyard, enough, from, first, do, don, dead, as, product, quite, several, about, ve, than, set, garden, two, catch, an, clean, was, building, get, month, yard, see, day, rodents, photographs, rodent, bengal, dusted, poison, even, garage, where, up, used, didn, us, days, easily, moths, feeders, resort, mosquitos, wicks, has, put, since, enclosure, attract, squirrel, scare, instructions, within, japanese, valuable, rat, mole, keep, some, none, doesn, buy, before, off, each, damage, back, pellets, sonic, attracts, running, sticky, trampoline, like, kitchen, recommend, no, creatures, using, overall, weeks, only, well, very, move, four, tiny, many, good, placing, trees, when, coming, success, door, come, kill, fruit, use, flying, keeps, outside, sprayed, thing, device, really, highly, whole, tried, bigger, old, lot, blocks, animals, does, ft, months, under, sure, outlet, pet, room, night, long, bedroom, however, fast, ones, bowl, spring, wind, across, place, may, having, seem, certain, moved, narrow, nothing, ordered, directly, waste, construction, anything, solution, way, despite, couple, case, week, better, less, together, luck, placed, correctly, problem, clothes, yellow, inch, led, happy, find, check, gone, keeping, results, definitely, spray, late, believe, can, trip, scorpions, baiting, entering, astronomical, woodpecker, evaded, blockage, catchers, exterminated, scavenger, cinderblock, eclectus, decoy, whiteness, whiff, ultrasonic, arr, gnawed, trapping, sq, nat, parakeet, nape, playground, maggots, procduct, learners, repelled, kindest, repellers, repelling, shreds, inundated, roach, gophers, hangout, hast, hummingbirds, identification, imparts, insecticides, invading, nourishment, top, nice, contact, care, stop, finally, wide, same, our, etc, save, window, please, easier, past, control, into, while, family, food, down, putting, line, free, lots, its, make, plug, stuck, intimidated, kicking, ecosystem, mongoose, bushes, downtown, snakes, attracting, learner, slanted, jr, crawled, sneaky, doest, dispatch, plentiful, beetle, pesky, perch, lizards, deterring, citronella, rounding, gigantic, prolonging, rotting, roaming, realised, greenhouse, siding, sams, time, by, wall, return, start, difference, pretty, hands, seemed, must, what, holes, store, over, wildlife, refuse, fulfills, percent, spike, buggers, jacked, bee, fluorescent, 900, creation, glows, baths, court, southwest, understandable, iam, horrific, appreciation, rats, protruding, absolutely, again, too, home, least, such, head, great, minutes, bright, teaching, chances, entrance, waves, gimmick, tooo, mosquito, attracted, destroying, colder, tabletop, been, me, how, issues, hours, am, owl, potentially, accidents, advised, introduction, predator, jackets, lice, unfortunately, trying, shipping, laughed, efficiently, prevented, enhance, neighborhood, chickens, fir, bites, satisfaction, planted, savvy, lowe, mowing, houses, beside, delta, strong, instead, lights, went, cut, until, next, almost, quickly, beautiful, catcher, sucking, safer, effectiveness, barley, bouncing, overcome, isn, yet, beeping, approach, ineffective, mileage, goo, hopeful, wings, continuously, catching, help, particles, rely, yards, reduction, kills, ins, withstand, fixture, vegetables, signs, found, maybe, reviews, killer, spider, barn, bay, escape, granted, much, getting, inside, winds, fewer, feeding, torque, format, openings, increased, entry, dream, treatment, bringing, blown, providing, burner, household, teacher, blinking, costco, cereal, fight, chewing, streaks, once, fit, ll, grew, discover, killed, frustration, located, premise, assortment, their, both, won, every, able, hurting, resolve, ignored, mixing, rooms, prices, lawn, alive, neighbors, poles, contains, tears, clamps, large, suspect, universal, activity, nature, net, nasty, loved, indoor, joy, electrical, supposedly, far, web, method, fishing, upside, times, give, material, closely, con, boards, meat, bucket, without, bad, side, kinds, pets, swing, florida, text, through, know, flowers, common, club, chemicals, porch, july, jump, another, going, helping, passed, wasnt, kick, situation, bag, working, go, want, though, shed, lemon, boyfriend, last, ten, glow, increase, walls, aluminum, gross, different, amazon, looking, fly, discovered, bin, bonus, guessing, clothing, big, equipment, lives, consistent, pole, slot, worked, joke, he, cast, grade, alternative, tech, grab, types, policy, caps, carefully, ton, including, states, lack, worthless, state, dollar, unlike, young, season, assembled, chemical, burned, liner, outdoor, sugar, downside, refunded, waited, bolts, disappointed, reliable, proof, alone, received, following, necessary, beginning, features, book, mother, living, tested, effect, positive, worried, wax, six, bathroom, seeing, moving, wires, mistake, smelled, 14, lasts, manual\n",
            "rug, rugs, mats, mat, carpet, the, are, tiles, it, they, so, on, floor, to, and, our, tile, in, not, of, with, as, is, this, my, white, area, we, these, but, flooring, for, love, great, gray, was, backsplash, very, floors, will, be, colors, up, runner, kitchen, when, living, hardwood, out, if, room, do, have, all, ones, that, beautiful, them, over, good, looks, would, get, soft, hard, sign, perfect, bought, really, an, side, traffic, definitely, price, look, plastic, just, clean, used, bathroom, more, had, thick, home, wanted, loops, picture, under, wish, however, brown, rolled, quality, what, ordered, re, go, high, there, did, shaped, has, rubber, down, dark, were, color, thin, chenille, votive, backing, grey, change, one, ended, stomp, appear, easy, no, sheet, pattern, expensive, material, amazing, padding, hold, heart, think, like, stark, roomba, winter, feet, only, well, or, product, better, walk, want, countertops, looking, you, some, time, doesn, buy, dog, pad, experience, back, size, place, use, see, photo, didn, return, work, print, your, tummy, pretty, from, much, received, muted, little, depicted, ok, edges, being, absorbent, fits, don, show, put, now, far, am, feel, off, super, asap, okay, purchase, store, should, cheap, than, especially, wrinkles, amazon, fine, real, candles, expected, even, got, worked, while, cushion, ft, sure, diaper, background, dirt, alternative, outlet, itself, folded, enough, nice, day, three, by, slides, long, badly, can, instead, toddler, coverage, furniture, wrong, next, money, review, peeling, returned, vinyl, sticker, across, having, again, perhaps, vacuum, issue, found, smaller, fake, could, cream, lines, roll, functional, how, overall, weather, best, corner, too, which, after, made, where, match, slip, pads, onto, pop, find, bad, daily, playing, slide, does, shower, non, thought, purchased, purpose, wood, another, dogs, arrived, other, seen, pink, fora, perusing, fringe, mosaic, plasticy, hardwoods, pergo, pegging, imprinted, ornamental, irl, linear, kay, kindergartners, overlying, zippable, welcomes, elegance, bluish, breeds, 4x6, 6x9, brightly, eufy, scrabble, blogs, weathertech, distinctive, wavey, toenails, soiled, abundant, bloodhounds, robovac, upfront, rentals, summarize, remodeled, 1200, approves, redid, old, normal, last, at, impressed, fix, same, around, big, decided, move, flat, slightly, new, family, true, twice, space, stuck, hope, sunroom, wiggly, stapled, crawl, newbies, subdued, noticable, tacked, hexagon, praise, depiction, carpeting, matting, yikes, dinning, gluing, vender, grout, puncturing, idea, because, light, difference, disappointed, value, holes, hoping, extremely, outlined, vaccum, tripping, tread, overlap, assure, chilled, casually, butcher, perimeter, distressed, magazine, hallway, mousepad, luxurious, 2009, wrangler, gripper, update, baby, close, due, advertised, came, returning, fun, profit, rambunctious, aged, vacuuming, nubs, focuses, sewed, recycled, squares, defense, crinkled, tickled, adore, low, been, ve, me, kids, durable, feels, threat, steaming, remedy, suffice, woven, wiped, experiment, article, 44, dings, unfortunately, install, weave, mistakes, mush, camry, notification, changer, reusable, flattened, hardest, softness, pierced, stunk, paw, fir, bum, also, first, cut, heavy, poor, spacers, resemble, passenger, indeed, ourselves, stripe, flipping, diamond, loves, liked, exactly, piece, yet, comparable, uniform, gripping, notified, hopeful, may, seem, comes, rectangular, flatten, rained, bare, hadn, decently, wool, gladly, 10, design, said, reviews, temporary, concrete, staples, advantage, creatures, damaging, treated, diy, second, actually, say, already, getting, inside, shoot, decorative, decor, smudges, deciding, frayed, recommending, pile, entry, anybody, 26, sent, teacher, newborn, wrinkle, accent, together, part, weeks, ll, arrives, havent, factor, vertical, hates, laid, additionally, basis, directed, drilled, hazard, craft, binding, problem, makes, sufficient, updates, sea, cabinets, giant, neighbors, large, many, nature, permanent, tacky, easily, worth, 200, stove, comparison, classy, happy, wear, classroom, outlets, fluffy, beauty, ripping, insulated, take, come, panels, cozy, inconvenient, weights, trigger, sooner, dents, patterns, comfortable, her, theme, padded, searching, laser, shine, through, seems, know, water, plush, defeats, instantly, inserts, tomorrow, rolling, lie, babies, outdoors, scratchy, going, false, matching, passed, evening, offers, tone, top, order, securely, set, walls, sewing, tub, cute, thrown, uneven, messed, catch, keep, sew, matches, pics, colorful, gap, claim, few, god, bits, grab, plays, appreciate, right, entirely, mention, pricey, previously, messy, website, reached, undone, holders, cleaner, limited, mixed, yard, young, bucks, thus, improvement, seams, outdoor, peel, 1st, pros, beautifully, suit, brought, never, toes, hopes, attractive, need, salt, round, nail, steps, buckle, cons, girls, began, remember, colored, honest, stain, driver, step, any, inexpensive, ridiculous, wears, pre, cardboard, factory, beginning, trust, priced, strips, popped, block, lay, beat, memory, materials, magnetic, crap, torn, starts, sealed, height, mostly, moving, crazy, stayed, followed, packed, certainly, way, sense, 40, happen, im, adjustable, eventually, considering, shelf\n",
            "belt, holster, the, belts, for, to, buckle, target, with, gun, release, and, carry, not, this, but, pistol, look, you, will, is, it, have, firing, if, little, waist, bullets, on, in, would, just, fits, good, my, of, they, trigger, other, that, kydex, too, when, 9mm, pubg, be, works, well, targets, concealed, fit, bought, guns, after, was, small, your, shoot, did, walking, very, at, loops, one, out, do, or, size, wear, leather, comfortable, loop, since, clip, cycle, really, way, than, how, end, an, use, while, as, made, holds, holsters, g2, rifles, snipped, can, these, any, game, bigger, taurus, aiming, firearm, sig, pistols, could, great, pellet, retaining, get, finger, adjustable, another, had, are, want, jams, fired, kid, same, sheath, theirs, mens, time, first, perfectly, buy, sights, secure, weak, hard, pouches, may, velcro, even, see, issue, perfect, worn, maybe, helpful, reviews, from, month, money, me, thin, product, there, advise, every, so, try, style, button, better, something, find, come, because, off, like, jeans, opposite, through, thought, purchased, also, working, top, all, cheap, back, serious, locking, larger, around, pouch, send, ft, low, comfortably, down, mechanism, people, only, its, loose, either, recommend, cut, heavy, however, pulling, review, guy, exchange, over, track, teeth, were, cell, started, quality, hook, been, tighten, now, package, clips, designed, cant, am, concept, still, no, work, their, fantastic, able, function, range, some, bulky, double, price, bar, accurate, stars, without, got, cap, lock, hold, used, didn, does, definitely, wood, along, up, sp101, blackhawk, bew, hank, deffinetly, g19, hl, sauer, moa, airsoft, hindrance, fobus, g2c, convinient, cqb, xds, habe, tlr, harming, tighting, owb, lcr, sighting, buckmark, p365, silhouette, cleveland, revolver, originator, whistling, xdm, assault, unknowingly, order, about, tool, opening, unless, 100, worked, flat, months, sure, right, 20, touch, pull, we, make, properly, pointing, scott, cock, vegans, inadvertently, battlefield, shotgun, iit, united, pinches, nerf, mongoose, prepaid, shabby, snip, tensioner, ago, person, fact, wearing, paper, decent, flimsy, highly, champ, iv, weapon, spartan, mag, dart, dealt, youre, rattles, triggers, taping, fastened, seperate, axe, disintegrate, retention, ect, aim, fall, again, mine, cannot, metal, refund, mags, parent, craftsman, handgun, bearing, co2, registers, glock, seatbelt, newly, buckets, groups, discounted, ve, put, extra, stick, two, phone, feels, magazines, span, locate, mil, mega, rattled, darts, upward, contract, capable, gunk, swiping, concerns, clamping, shots, star, turn, rotation, shells, chamber, behold, railing, brutal, mistakes, cleared, releasing, avoided, until, buying, stopped, hunter, effectiveness, clicked, pant, robust, staple, postage, rifle, returned, isn, loves, probably, piece, seemingly, crush, battle, programming, massive, visibility, stay, index, stitched, s9, dot, stretches, jammed, waistband, pointless, profile, yards, curves, smaller, who, thigh, melt, supporting, bumped, severely, ha, embarrassing, intuitive, skipped, flaps, much, second, couple, actually, say, overall, open, finicky, jam, occasion, frayed, wiggle, recommending, repurchase, frequent, fight, pregnant, loaded, automatic, wished, paddle, sideways, weeks, craftsmanship, rendering, lightly, sucked, deeper, fluke, ok, won, took, usa, stress, bends, discount, xmas, problem, transparent, greatest, mower, shield, pressing, warned, brittle, placing, activity, slid, year, easily, loved, mins, sight, aid, bending, hangs, buyers, wish, shooting, fear, active, rounded, serves, happy, material, rolled, lips, slips, request, potential, bad, feel, cam, reply, scissors, super, testing, resistance, feed, laser, unlock, meh, water, dig, taped, notch, thing, beginner, parents, broke, should, though, stretched, pulls, tried, last, draw, securely, glow, lot, wrapping, depending, different, fine, looking, female, leggings, squeeze, gear, direction, discovered, advice, reasons, clothing, catch, planning, fortunately, big, tons, fallen, comment, galaxy, adjustment, general, matches, begin, standing, he, tension, few, mounted, thumb, class, tag, usual, ton, bit, till, training, relief, interested, promised, states, strange, performance, limited, shot, worthless, young, day, yr, heads, practice, downside, frequently, pin, elsewhere, electric, light, reviewers, drain, pretty, carrying, tough, listed, box, received, tore, finding, fair, then, cardboard, beat, complain, spring, caught, worried, snapped, safety, burn, sheet, women, harder, comfort, dried, complaints, stock, nor, games, email, came, setup, fire, everyday, manual, wasted, solution, action, happen, 40, duty, shorter, sadly, elastic, sizing, build, tear, ship, called, pro, pulled, stretch, wrapped, lighter, fitting, knew, tall, doesnt, sensitive, shut, sticks, therefore, standard, allow, which, ran, manufacturer, suggest, snug, them, clothes, name, write, connected, trouble, slip, friends, doesn, somewhat, push, convenient, sitting, likes, course, gotten, pick, pockets, upon, inch, connection, sizes, storage, damage, birthday, appears, hit, running, falls, closed, follow, adhesive, careful, matter, daily, held, didnt, correct, gives, cards, noise, complaint, poorly, travel\n",
            "bike, wheels, tire, the, tires, to, for, scooter, derailleur, and, on, is, bolts, this, wheel, it, my, riding, front, car, of, not, we, that, you, very, so, but, smooth, handle, did, has, are, with, in, down, get, nice, about, only, use, fit, hitch, good, as, they, cheap, shifters, bicycle, one, have, rear, be, even, walker, came, quality, off, she, now, can, bikes, when, transport, 200, far, back, over, swing, shine, adjust, applying, frame, go, daughter, no, after, gear, sturdy, out, grade, few, hard, also, some, cracks, ghd, vehicle, recommend, would, ride, both, up, used, bolt, basket, at, really, beginning, bars, than, easy, rack, was, shimano, forwards, well, weight, am, attach, van, were, sidewalk, brakes, level, high, price, bar, right, pressure, if, perfect, somebody, tendency, route, like, does, who, finish, travel, your, works, posture, need, child, had, buckles, rest, task, easier, lawn, brake, mediocre, just, seat, rubber, regarding, foot, been, ve, how, rim, roof, active, better, find, tightened, without, rarely, still, sale, outside, outdoors, more, going, ended, re, us, whole, helmet, miles, improve, our, folds, too, home, size, close, product, due, pole, small, into, responded, tension, unit, under, me, extra, much, or, item, cars, couldn, will, dollar, 60, there, trying, turn, install, an, round, perfectly, box, replacement, money, fast, road, brand, spring, help, comfort, fold, because, way, 40, tighten, inside, weather, cutting, walk, monitor, most, weeks, kid, failed, ok, helped, standard, arm, able, being, made, spot, five, problem, where, 50, from, them, number, none, doesn, first, large, rough, year, mount, double, weak, sit, happy, installation, hit, single, check, hold, lower, fully, great, written, machine, pump, contacted, straps, though, fenders, mows, footings, bicycles, mounth, restoration, weakening, flyer, rustler, resent, ferry, spoilt, vespa, swung, perfectl, streets, paved, readjustment, sidewalks, aerial, purveyor, nitty, 114, kuat, dew, tricycle, 2004, kayaks, kawasaki, 250lbs, 2wd, 3s, 550, uhaul, suggesting, absorbers, accomplishing, etching, old, stop, amazon, fine, bought, while, nicely, months, do, type, style, add, parts, installed, immediately, enough, strap, simple, 2001, freeway, illogical, makeshift, skate, pu, kayak, reglue, scooters, indirectly, shear, hop, splatter, microscopic, meguiars, 87, approaching, polite, pep, derailer, disassembly, rollator, carriage, picnics, mule, walkers, time, christmas, long, light, although, problems, expect, using, what, let, any, air, vigorous, undersized, mechanically, tractors, ownership, pebbles, cardio, crossbar, 9yr, commentary, exerciser, trusting, maintaining, face, replace, update, especially, fall, support, least, advertised, send, minutes, metal, others, refund, inclined, terrain, incident, documentation, clicks, driven, bearing, 43, cramped, sled, automotive, generously, yamaha, balances, twigs, droops, crv, put, feet, itself, tow, excessively, accompanying, rocking, 160, remedy, guides, wary, stationary, relying, instructions, within, three, star, which, sheared, squeezing, prefect, stroke, activities, f150, rests, gears, wanna, aftermarket, horrendous, league, modifications, traction, company, quite, several, until, next, review, almost, quickly, crew, verify, deals, barley, pedals, racks, platform, handlebar, unglued, razors, headaches, gave, loves, bottom, questionable, flooring, alittle, cousin, interferes, gloss, having, seem, got, stay, 2006, requesting, spins, markings, airport, freely, th, california, path, rectangular, shines, drove, allen, tractor, 10, didn, maybe, smaller, years, said, anything, reviews, lastly, suspension, pedal, honda, cargo, secondly, loosening, disassemble, stage, psi, rainy, skills, all, already, month, completed, gritty, understood, finicky, grandkids, mirrors, flew, sudden, drilling, moderate, bearings, jam, issued, anybody, forgot, package, elderly, wrinkle, loaded, manufactured, incomplete, blinking, shifting, backyard, pumps, brick, little, tricky, cumbersome, carries, balloon, measuring, station, highest, every, took, manually, illustrations, battery, sufficient, components, unstable, many, efficient, wobble, rocks, shift, sling, outstanding, vehicles, stroller, don, hangs, yoga, trees, flexibility, maneuver, handling, love, prompt, secured, times, something, checking, trips, drawing, weighs, dozen, shock, locked, grips, separated, bad, take, side, rubbing, refused, forth, her, alright, meh, terribly, claims, regularly, solved, existing, through, purchased, bumps, knows, gate, par, upright, boys, allowing, external, ensure, labeled, purchase, parents, adjusted, sports, situation, tries, lifting, knob, bag, working, sole, spending, tired, trick, tried, according, trailer, lot, unique, spill, tightening, different, looking, question, chinese, serious, rock, around, fortunately, sellers, asking, losing, brightness, particular, worked, suggested, colorful, connects, new, he, bc, cushion, allowed, before, sure, load, tend, camping, comfortably, alternative, vendor, adding, answer, daughters, taller, minor, mechanism, wanting, smoothly, typical, portable, nuts, folded, flaw, search, plates, its, make, requires, yard, english, holders, moves, see, sits, apparently, day, unusable, chain, 90, minimal, assembled, drying, yr, slowly, settings, owned, threads, luckily, transfer, stores, offered, disappointed, repair, reliable, misleading, stable\n",
            "diapers, straw, diaper, straws, baby, these, pacifiers, we, they, the, to, are, pacifier, so, for, and, nipple, this, my, just, using, use, of, really, have, because, but, you, him, love, in, that, on, bottle, is, it, environment, ve, leaked, am, like, too, both, them, also, pad, got, product, plastic, can, instead, much, ones, old, same, brand, he, all, not, onesie, alva, would, paper, honest, what, up, used, makes, as, if, very, material, be, been, or, better, accidents, nighttime, son, first, when, hydro, hard, out, even, help, everyone, cleaning, waste, from, protection, version, scented, infant, brush, silicon, green, wanted, family, rubber, flask, cup, rash, at, change, snaps, through, bumps, blue, going, removable, re, buy, though, suck, tried, win, different, back, no, with, after, cute, amazing, was, skin, coating, new, metal, didn, few, get, sure, me, extra, grab, kids, feels, other, will, night, bought, imagine, owned, boy, pass, never, disappointed, has, need, specifically, wrong, money, great, inner, changing, don, china, daughter, liked, girl, teeth, again, tips, dried, time, found, ordered, years, who, leaking, happen, how, month, more, package, best, designed, doesnt, sensitive, once, part, still, work, their, mattress, everywhere, which, drink, recently, 50, doesn, snap, pads, good, far, only, well, something, thinking, give, waist, daily, small, her, water, sleep, your, often, another, pink, bottles, alvababy, returing, unsanitary, tumbles, respectively, cheesecloth, tommee, bambo, tippee, contigo, lilly, sippy, crevasses, huggies, doubts, eddy, wripped, munchin, delaminating, elevation, seventh, suckle, pail, pampers, teensy, strangling, order, one, there, our, little, save, around, multiple, keep, big, she, do, useless, pull, ripped, had, were, enough, properties, movers, noses, stocks, streamlined, absorbant, gerbils, genie, poo, environmental, ripoff, infants, handwashing, gumdrop, peeing, wetter, difference, ended, wash, look, air, products, notices, koala, poops, lifesaver, nurses, soaks, designing, squeaking, regimen, sipping, dupe, proprietary, fused, wicking, wierd, update, especially, real, fell, taste, came, cent, ocean, disassembled, distinguish, thousands, differences, separates, way, issues, handle, people, two, life, unaware, branded, makers, airplane, nipples, nursery, improvise, couldn, unfortunately, pieces, made, spit, believed, melting, sheath, reusable, arent, mama, gerber, bladder, company, cut, colors, quite, almost, smell, sucking, born, bedtime, tune, wouldn, gave, sturdy, yay, 65, pee, liners, brita, updating, irritate, turtle, sip, place, may, having, clean, yours, land, flipped, originals, woke, drove, generation, proud, everything, 10, his, does, maybe, smaller, works, anything, dolls, popular, miracle, easy, already, bringing, blocked, feeding, heavily, haha, away, sent, week, inconsistent, newborn, puppies, flower, soaked, frequent, beds, fit, ll, hates, leakage, noises, soften, an, won, defects, shedding, attempts, problem, try, whoever, 000, absorbent, lately, everytime, days, year, clogged, switching, handled, locations, wish, mice, rips, crotch, comparison, bang, organic, find, insulated, lips, asleep, prints, yeah, bad, take, come, quality, bulk, recognize, cozy, nephew, hold, think, feed, meh, diameter, terribly, alright, seems, purchased, spout, target, spilled, row, decide, inserts, random, since, orders, arrived, parents, bag, go, appreciated, tired, top, cheap, overnight, weigh, destroyed, spread, drinks, layer, term, account, whenever, generally, animals, printed, warning, wants, into, contents, general, bc, outfit, claim, god, milk, tend, down, frustrated, grow, regret, throwing, messy, possibly, personally, bit, gifts, compare, mug, shame, its, make, shot, ability, cleaner, cleaned, 13, color, blow, word, tho, chemical, release, perfect, by, liner, walmart, long, pros, outer, carrying, cuts, misleading, cons, known, initially, colored, offer, any, ridiculous, buyer, professional, bring, mouth, causing, bubbles, anywhere, complain, pounds, materials, burn, ups, rose, pattern, moved, oh, insert, adult, became, 25, pool, cream, crazy, bother, despite, children, fill, prevent, elastic, put, stitching, silicone, im, eventually, waterproof, now, liquid, hurt, lovely, continue, cups, sort, spent, cant, mask, clearly, starting, lol, correctly, five, nearly, suction, higher, saying, name, number, some, friends, bulky, photos, sad, course, pockets, level, prefer, sheets, sizes, price, onto, board, throw, mind, near, worse, size, holding, filter, washing, understand, leak, washed, pressure, thanks, gold, 15, kit, weird, keeping, shower, told, noise, defective, non, print, option, attached, except, believe, happened, sides, glad, loud, legs, enjoy, similar, child, neck, about, care, replaced, fix, favorite, etc, dont, heat, did, opening, packaged, carry, easier, toy, unless, enjoyed, past, switch, decided, tiny, included, regular, doing, uses, 30, barely, usually, line, lid, free, lots, tape, thank, stuck, holds, sometimes, christmas, start, idea, noticed, today, wearing, run, seemed, own, must, keeps, let, okay, thick, remove, original, whole, protector, kept, bigger, disappointing, face, than, absolutely, fall, felt\n",
            "fan, fans, air, quiet, it, the, when, to, you, and, is, room, cool, off, on, turn, of, this, only, noise, but, power, loud, my, in, blows, little, thing, that, so, up, cooler, work, after, not, installed, if, turning, cooling, spider, had, with, great, be, down, would, thermostat, refund, globe, for, unit, led, will, small, can, really, remote, out, from, use, switch, few, still, have, very, cold, enough, chain, return, even, makes, more, good, zapper, airflow, customer, speed, there, moving, was, like, service, get, itself, are, they, broke, response, seconds, locate, gets, trying, night, fine, which, nest, company, he, bulbs, got, job, didn, by, setting, told, sleep, light, laptop, trip, however, money, then, one, product, heat, annoying, dial, don, blowing, coming, camper, times, at, amp, wiring, run, definitely, xbox, also, contacting, point, ceiling, re, buy, as, tried, lot, vibration, real, thread, temp, keep, she, worked, hot, me, burning, your, works, just, right, its, powerful, loose, about, day, shipping, motor, bedroom, strong, left, 2017, stopped, bathroom, time, design, started, said, hook, wires, scratched, all, finger, waiting, already, minute, sound, cover, desk, shut, ll, hassle, too, won, battery, these, wanted, them, some, days, price, mind, something, stars, feel, come, careful, her, think, does, defective, helpful, contacted, should, go, crt, circulate, cools, simulated, setpoint, airbnb, inverters, popup, mw, cms, imperceptible, osd, banal, top, contact, main, finally, our, amazon, turned, bought, holder, 100, move, new, tiny, later, before, months, doing, screws, bit, button, thank, make, were, circulates, waving, hum, thay, brushless, downgrading, configurable, exhaust, disturb, nah, discarding, involve, hottest, instill, coolers, perfect, bed, recommend, start, because, change, pretty, need, expect, during, what, received, any, area, extremely, making, looks, grilled, wobbling, workers, bartender, variable, flames, distribute, producing, ro, magazine, cares, done, update, support, no, him, batteries, pay, could, bright, configure, fastening, duration, toggle, likeable, configuration, inclined, installer, jerk, squares, zapped, motors, front, car, put, two, well, life, conditioning, converter, activated, trapped, beta, ignition, compressor, always, why, install, full, considerable, mute, hungry, commented, displeased, lights, next, buying, smell, fireplace, hollow, conference, pitch, latest, rotates, thousand, confidence, bedtime, back, half, default, comparable, btw, shared, conveniently, 500, help, issue, used, comes, fixture, skid, essentially, europe, blind, wtf, creates, banged, lowest, yours, who, voltage, toward, wonky, bite, laptops, intake, co, inside, month, open, vents, jam, knobs, partially, torque, hint, fixing, away, nice, sounded, placement, weeks, highest, located, circuit, wouldnt, sucked, an, has, attempts, mediocre, powered, tangled, problem, spaces, peace, threaded, incorrectly, stairs, sufficient, flight, speeds, sheds, depot, bug, damn, do, tap, we, electrical, reverse, needed, manner, method, modify, find, louder, locked, managed, letting, without, take, edit, output, fence, hold, controls, blood, units, seems, thats, tomorrow, steam, direct, flush, heater, par, july, porch, another, met, balance, helping, working, want, anyways, old, last, draw, customers, operate, than, ac, hung, looking, discovered, direction, breaker, choose, breeze, current, around, separately, movement, supply, heating, expected, emailed, equipment, warning, into, min, timely, grade, ideal, load, god, cabinet, forget, pet, picked, hard, panel, listen, types, or, staying, sons, alot, requires, ways, slowly, outdoor, stupid, electric, strip, fragile, beautifully, conditioner, drain, disappointed, friendly, attractive, detail, seriously, rod, stronger, box, sleeping, fair, over, quit, compact, additional, positive, user, snapped, angle, pounds, result, complaints, happens, ordered, effective, directly, checked, construction, solution, certainly, leaving, local, way, bother, sense, hardly, how, negative, separate, blade, im, build, case, now, called, pro, means, anyway, call, better, provide, spent, sort, test, knew, per, opinion, inches, corner, therefore, places, handy, placed, bulb, function, connected, doesn, first, removed, feeling, surface, note, simply, dead, level, ears, covered, prefer, mount, behind, bar, onto, throw, covers, near, summer, hit, holding, thinking, fairly, understand, based, closed, plugged, hear, fully, didnt, weird, results, surprised, adjust, non, satisfied, often, other, enjoy, similar, neck, replaced, favorite, etc, saw, save, did, window, hour, given, multiple, middle, control, 30, tv, touch, pull, dark, usually, show, cost, amount, lots, space, pictures, plug, stuck, lost, medium, goes, ago, wall, screw, quality, christmas, noticed, usb, paid, warm, blue, decent, whole, game, someone, bigger, excellent, face, deal, expensive, home, fell, house, close, least, due, band, needs, such, pair, terrible, metal, feet, hand, people, feels, hours, instructions, ever, couldn, might, within, three, completely, heavy, perfectly, until, almost, quickly, each, high, things, daughter, loves, brand, probably, piece, may, seem, 10, his, nothing\n",
            "kit, what, exactly, needed, looking, just, great, was, we, wanted, lead, price, for, thought, shuffleboard, babysits, assignment, banquet, lloyd, joined, continuity, tick, need, it, awsome, confortable, rendered, shipping, sanding, and, went, kits, everything, beginners, product, together, laid, broken, to, has, explained, rocks, ripping, is, know, replacements, lot, our, gear, adjusting, warped, few, this, reached, unusable, reasonable, finding, at, as, priced, out, very, complaints, yourself, checked, ready, leaking, mail, put, negative, build, clips, wheels, am, seconds, empty, still, realize, everywhere, basically, office, school, good, sending, in, upon, thinking, wire, used, everyone, useful, but, paint, easy, there, little, opening, recommended, myself, useless, don, love, were, hope, items, value, quick, highly, described, no, such, haven, why, have, my, company, replacement, buying, almost, fast, daughter, gave, isn, liked, who, said, package, seller, week, being, try, hair, picture, be, seems, arrived, want, order, old, last, the, worked, new, see, perfect, received, over, looks, how, case, better, which, doesn, back, didn, nice, did, bought, an, that, on, time, off, more, really, than, from, get, well, when, use, had, would, of, like, one, you, they, with, not, \n",
            "reel, rod, fish, fishing, spools, spool, reels, drag, and, tip, cycle, kastking, to, casts, the, it, of, was, for, engine, reply, that, great, rods, would, in, smooth, this, with, is, out, cast, fishpond, squid, but, good, tackle, have, hook, assassin, thirty, braid, finder, delight, on, buy, new, level, back, yards, purchasing, crimp, box, had, about, replaced, weed, problem, do, grinding, when, not, know, what, price, gas, yard, there, 1st, guide, an, my, meant, shop, you, additional, caught, harder, very, fixed, issue, so, came, became, because, ve, all, happen, now, every, just, far, belt, didn, system, your, outwards, gearing, redfish, gutting, reeling, concurred, steelhead, wading, spooled, rewinding, berkley, makita, baitcasting, meters, perigee, crappie, carburetors, soso, surf, snaking, nice, stop, favorite, bought, they, if, use, doing, sure, cord, pull, line, excited, day, holds, outing, untangling, isolated, shovel, eater, lure, engines, toro, trout, 20lb, leader, ferro, fished, admirably, voicemail, jas, long, start, stuff, need, blue, money, more, ryobi, saltwater, captain, fatigue, negatives, striker, oiling, lures, machining, damaged, deal, customer, house, terrible, minutes, service, snake, shimano, internally, weeding, edging, heartbeat, masking, be, been, get, only, well, haven, better, mega, scope, rattled, pvc, drapes, still, made, stroke, bumpy, gears, can, went, first, up, quickly, tables, clutch, anchors, suggestions, jaws, approximately, at, exactly, piece, yet, decker, remains, ii, coated, buck, catching, hopeful, even, small, used, sites, 34, unravel, black, are, combo, stubborn, lettering, nonetheless, couple, say, wound, performed, gritty, bringing, owner, displayed, sent, week, palm, loaded, sorts, lever, nervous, storing, ok, has, echo, lawn, hesitant, where, incorrectly, trunk, depot, poles, large, shift, don, we, emergency, transit, were, annoyed, spinning, bang, something, material, hitting, request, checking, ceramic, dozen, potential, louder, rubs, effects, without, time, take, come, silky, weights, rubbing, pound, auto, feed, includes, purchased, extend, bumps, faulty, another, purchase, accidentally, hooked, purchases, 4th, lemon, pulls, floors, old, last, one, pressed, destroyed, too, no, amazon, work, fine, after, mid, breaker, around, appearance, catch, equipment, pole, slot, depth, suggested, before, sand, load, specific, regret, smoothly, or, arrival, bass, holders, weekend, see, effort, heads, thus, recommend, saved, return, light, hopes, using, however, worry, then, exchange, factory, over, caused, bring, packing, professional, looks, tested, compact, anywhere, truly, magnetic, pan, 3rd, height, hanging, ordered, checked, silver, setup, beach, 40, zero, sadly, 11, heard, ship, case, plenty, pulled, two, breaking, am, cats, clearly, tank, mix, opinion, therefore, which, function, 50, saying, figured, also, none, friends, junk, course, dead, sending, previous, sized, pick, upon, onto, board, experience, birthday, throw, tools, single, anymore, spend, hang, got, drop, held, hear, kit, protect, worn, fully, morning, noise, complaint, works, condition, machine, late, much, sharp, contacted, main, care, shape, etc, tool, did, friend, bent, holder, past, 100, pocket, edges, card, oil, leave, 12, useless, 30, 20, add, twice, parts, cost, lots, love, tape, space, lost, hope, simple, medium, wall, ago, takes, noticed, fact, off, paper, break, seemed, keeps, flimsy, remove, really, whole, bigger, products, replace, dry, pack, expensive, home, close, missing, from, amazing, awesome, pay, fun, reason, unit, me, opened, issues, handle, extra, durable, hours, feels, will, always, why, room, turn, strong, heavy, until, next, replacement, poor, high, isn, gave, end, place, longer, help, comes, everything, found, started, design, smaller, said, anything, reviews, actually, getting, inside, seller, wasn, best, sound, cover, together, weeks, ll, their, both, won, took, being, these, wanted, them, year, worth, loved, wish, times, stars, feel, side, hold, her, like, through, seems, water, definitely, since, plastic, read, broke, go, want, though, order, same, looking, expected, keep, big, worked, months, right, down, hard, bit, its, make, color, perfect, disappointed, received, any, as, again, way, how, some, doesn, size, easy, other, little, fit, quality, than, \n",
            "ice, cubes, cold, water, trays, cooler, the, bottle, freezer, to, drinks, is, that, temperature, lids, plastic, tray, insulation, this, them, are, get, and, hours, maker, of, bottles, it, keep, as, wine, don, lid, be, makes, for, easy, out, other, so, all, how, vegas, drink, he, in, on, leak, clean, but, machine, freeze, trip, beef, very, hinges, frozen, will, way, space, like, use, have, keeps, some, doesn, my, with, bin, not, tops, well, straw, day, there, bought, full, great, melted, do, things, packs, isn, flexible, mother, forever, love, stay, stayed, beach, two, best, work, everywhere, just, wanted, large, stays, pop, happy, summer, careful, used, seal, believe, can, purchase, go, chilling, dips, halved, sanitize, recycles, defrost, hookup, refrigerators, san, defrosted, vented, igloo, shows, heat, fine, opening, recommended, big, if, into, while, few, food, useless, item, make, seperately, las, cod, grubby, by, would, takes, pretty, break, however, really, making, tilting, ledge, dosent, quart, subsequent, face, mine, from, such, hot, glass, puddle, overfill, ma, shatter, hotels, fl, only, or, fasteners, luxury, countertop, crashing, quits, might, gets, room, still, beer, pine, suits, melting, machines, property, cape, heavy, up, quite, next, fast, beverages, at, loves, half, bottom, imo, eliminating, warping, washings, essentially, upcoming, instructed, 10, does, design, started, your, granted, melt, escape, accurately, firmly, cube, adhered, much, getting, noisy, affected, poke, punch, virtually, product, freezes, maximum, wished, you, cover, did, wonderfully, reflect, scoop, suitcase, broken, an, has, their, spilling, transparent, spaces, picture, rocks, we, companies, sunlight, foil, shocked, they, filling, without, take, side, rarely, happier, folding, benefit, suitable, preferred, 120, hold, fruit, seems, challenging, brother, ours, mainly, more, fridge, concern, accidentally, trick, one, delicate, lot, walls, blocks, no, amazon, designs, overpriced, separately, particular, drinking, acting, sink, allowed, before, sure, mark, camping, appreciate, cans, down, hard, gentle, regret, compare, required, search, strange, towards, limited, mixed, perfect, pros, owned, transfer, saved, cons, toddler, missed, filled, when, received, aware, prior, then, inexpensive, bowl, basket, stainless, road, bring, include, towel, thinner, effect, twist, materials, choice, suppose, 24, business, directly, checked, construction, cream, everyday, leaking, truck, leaving, realized, ve, energy, fill, put, silicone, rings, brands, had, breaking, corners, feature, sort, leaks, test, sold, key, sticks, ground, wrap, sun, made, office, 50, these, was, stated, mess, convenient, photos, likes, sitting, size, holding, drop, held, surprised, spray, works, totally, glad, built, pink, similar, nice, about, care, shape, friend, middle, easier, edges, four, flat, family, doing, 12, solid, hole, touch, plus, twice, cracked, free, anyone, simple, shipped, time, sometimes, door, because, delivery, huge, fact, tell, hands, run, paper, must, between, description, store, remove, husband, fall, too, home, fabric, after, larger, says, due, skin, metal, fun, service, under, me, car, extra, stick, itself, within, why, star, pieces, left, completely, buying, almost, ones, quickly, returned, gave, exactly, liked, brand, sturdy, piece, yet, gift, place, story, having, seem, longer, job, everything, his, years, who, said, anything, open, away, together, most, part, weeks, ok, soft, every, able, took, being, problem, where, try, good, easily, loved, far, something, stars, feel, think, know, thought, definitely, purchased, since, another, going, thing, though, top, cheap, same, around, expected, she, worked, right, bit, enough, see, recommend, long, return, disappointed, need, using, look, again, could, now, better, am, which, also, first, price, even, small, didn, little, quality, off, what, than, \n",
            "mold, rust, castle, resin, paint, spots, rusted, washers, the, brand, resistant, this, rotors, it, after, to, water, tank, of, use, barn, from, inside, soaking, and, soil, removal, think, be, problems, with, few, before, works, only, other, for, about, bath, coat, can, oem, is, as, looks, spring, because, been, ve, zero, how, month, had, week, mix, than, no, on, name, first, buy, safe, covered, used, told, thing, up, negetive, mrs, resins, alarming, sieze, poweder, salts, strainers, meyers, doodler, suppsed, dementions, wok, daystar, there, that, decided, in, all, installed, see, potting, freshwater, convienent, sanitizer, mating, caddy, accumulate, paperweight, cider, sprouting, door, would, but, off, my, disappointed, what, wash, not, you, products, maple, beveled, done, advertised, metal, generously, expansion, handle, hand, eco, epoxy, scrape, cave, basics, overtime, alternating, dissolving, one, leaf, vinegar, clearance, perfectly, buying, generic, ram, acrylic, 29, gloss, clean, wick, mildew, signs, skid, rusting, clients, started, maybe, are, reviews, concrete, poured, moldy, already, joints, occasion, away, thin, less, weld, primary, soaked, soda, bought, weeks, their, caution, refills, threaded, do, failure, placing, don, days, year, we, aid, soak, were, 99, structure, times, they, something, perform, gallon, closely, hub, pets, great, like, diameter, models, thats, row, common, more, concern, should, working, want, though, developed, set, different, fine, candles, appearance, was, coating, knives, drinking, stops, sink, umbrella, claim, get, appeared, grow, or, knock, doubt, throwing, item, hooks, performance, will, chemical, plants, besides, frequently, waited, reviewers, guys, bolts, never, clasp, garage, proof, using, began, stickers, missed, received, lids, aware, showing, protective, at, over, applied, installing, user, again, if, mean, areas, so, bathroom, stock, soap, 14, followed, wasted, happen, despite, blade, pulled, called, continue, cutting, product, frustrating, spent, center, sold, starting, inches, likely, fantastic, manufacturer, suggest, have, died, some, complete, none, stated, junk, hopefully, stays, model, garbage, apple, even, live, purchasing, seal, finish, spray, your, ordering, floor, shape, little, body, dont, bent, fit, hour, an, smells, has, unless, soon, 12, solid, cup, horrible, coming, stuck, length, noticed, change, seemed, between, outside, holes, flimsy, ended, area, remove, whole, air, supposed, reading, else, dry, expensive, real, pair, reason, me, car, issues, well, weight, instructions, within, either, might, always, gets, unfortunately, looked, when, quite, wrong, quickly, smell, high, wouldn, returned, isn, loves, half, liked, piece, end, out, may, seem, stay, issue, job, 10, nothing, years, open, sent, cover, together, once, most, won, able, just, where, these, fits, worth, far, needed, happy, stars, give, bad, feel, side, super, through, seems, definitely, another, going, re, go, top, old, order, last, cheap, our, amazon, looking, into, while, months, right, hard, perfect, pretty, however, money, any, look, very, ordered, came, could, way, now, better, still, back, size, got, small, does, easy, did, love, really, too, good, \n",
            "instructions, directions, no, come, with, instruction, came, manual, operating, figure, brake, parts, orders, packets, helmet, back, clear, had, to, box, were, job, tube, how, package, together, the, it, drink, figured, assemble, well, follow, didn, written, trendy, argh, cigar, boveda, similarity, excellant, not, there, out, an, and, 30, rather, don, hard, explanatory, verifying, estimated, steer, of, however, telephoto, tampered, tutorial, 68, done, very, minutes, haven, styling, either, detector, 98, but, squeak, favors, lego, slit, wouldn, booklet, if, use, comes, transmitter, nothing, your, ex, headboard, was, overall, wasn, you, did, once, took, on, packet, greatest, remaining, queen, times, receiver, off, be, purchased, gate, modern, plastic, sat, purchase, alcohol, bag, confusing, set, continues, asking, joke, contents, pics, few, get, code, glued, accessories, down, minor, english, drying, videos, plain, guide, never, up, received, shop, is, include, packs, book, self, perhaps, could, local, all, despite, sense, tighten, put, build, beware, process, called, pulled, better, sort, key, durability, shown, lol, placed, mattress, have, arms, this, some, complete, pads, in, installation, tools, even, got, small, kit, poorly, video, glad, frame, paint, easy, seen, about, party, one, wide, falling, annoying, easier, cheaply, true, soon, useless, line, cost, quality, takes, idea, are, tell, stand, flimsy, as, supposed, too, deal, packaging, real, missing, amazing, head, terrible, fun, front, me, extra, only, white, might, three, shipping, pieces, looked, went, when, quickly, ones, difficult, each, probably, piece, years, said, waste, couple, actually, inside, weeks, that, both, where, these, try, picture, good, find, give, take, think, through, thought, definitely, since, going, arrived, working, go, lot, amazon, looking, cute, keep, worked, into, sure, bit, item, make, light, need, using, money, any, then, again, so, been, way, case, now, two, they, still, made, also, first, for, price, used, does, nice, little, time, what, more, really, after, can, product, would, just, like, my, \n",
            "grill, cover, bbq, grates, fit, grilling, on, the, and, weber, grills, stainless, was, it, heavy, covers, to, formed, they, this, years, burner, or, of, cooked, solid, now, rips, news, meat, in, is, flying, for, my, exposed, so, afraid, great, bars, wind, longer, quality, off, rip, places, made, problem, previous, with, well, summer, material, velcro, feel, side, hold, held, didn, but, straps, when, maw, overcooking, galore, cvo, barbeque, charbroil, 14inch, davidson, corolla, gaping, inferred, char, broil, laminating, interstate, nice, last, at, wide, easier, use, right, down, ripped, its, anyone, had, le, regulator, rotting, searing, 12inch, performer, perfect, by, ago, light, never, these, decent, flimsy, lasted, us, not, look, flaking, seldom, discolor, inevitably, environments, lodged, forming, no, fabric, after, turbo, beloved, nubs, glide, car, handle, otherwise, lifespan, stiffer, couldn, one, night, which, harley, de, temperatures, lifts, preparing, climate, out, ladies, started, are, mild, 2013, much, 2016, sloppy, ultra, less, indoors, buckles, extreme, sturdiness, stored, harsh, debris, that, won, able, brittle, large, def, confident, year, toss, tearing, blowing, touches, needed, something, grips, come, burnt, like, mats, purchased, tasted, grand, really, snow, developed, top, bristles, securely, than, too, question, shopping, current, meet, keep, new, months, listing, faded, whether, bummer, powerful, gas, shot, marks, see, will, unlike, constructed, outdoor, long, themselves, reasonable, garage, portion, initially, up, shop, guy, 2018, road, factory, over, professional, rain, allows, user, snapped, across, worried, materials, incredibly, rust, if, exact, spots, tie, fire, realized, ve, duty, winter, put, how, stitching, position, tear, steel, shelf, two, am, addition, durability, ground, failed, sun, manufacturer, just, snug, saying, dirty, number, some, junk, snap, sitting, good, lose, secure, damage, magnet, near, even, kit, kitchen, does, leaves, cleaning, your, satisfied, clip, edge, along, glad, sides, easy, neck, about, brush, shape, there, dont, body, wait, tool, saw, did, opening, bought, has, decided, myself, food, do, 30, lots, love, were, time, start, because, difference, huge, tell, expect, value, during, seemed, must, own, holes, outside, point, highly, whole, as, kept, supposed, excellent, reading, husband, absolutely, felt, dry, fell, larger, those, amazing, advertised, such, minutes, hot, get, front, me, weight, ever, loose, might, star, looked, have, can, strong, left, perfectly, until, replacement, buying, almost, apart, wouldn, things, short, gave, loves, liked, exactly, gift, end, place, seem, clean, job, everything, who, reviews, all, couple, say, getting, month, seller, wasn, best, would, once, their, took, where, them, makes, hair, fits, many, easily, worth, far, times, give, without, bad, take, think, be, know, definitely, since, another, going, broke, tried, old, cheap, our, different, around, expected, he, bit, make, enough, recommend, return, disappointed, pretty, then, you, looks, very, came, also, doesn, first, buy, price, used, other, don, more, from, only, product, \n",
            "difference, notice, didn, any, much, change, see, truthfully, using, really, gimmick, hopeful, improvements, remaining, impact, effects, not, whatsoever, helping, no, appearance, improvement, hopes, zero, noticeable, brands, continue, hopefully, lower, seen, saw, save, soon, doing, aren, do, wife, we, amount, noticed, tell, of, absolutely, especially, refund, have, can, stopped, smell, high, at, returned, yet, help, maybe, all, already, week, product, far, feel, think, know, definitely, working, months, right, disappointed, money, it, been, am, price, does, your, did, has, don, than, too, after, in, only, or, will, my, if, use, had, just, this, them, for, and, so, was, the, to, \n",
            "fake, shark, pads, not, amazon, knock, beverly, real, serial, knockoffs, detector, kong, staff, received, these, authentic, do, digital, in, quality, labels, products, last, same, sellers, sure, bill, have, are, shade, label, ordered, off, what, pens, obviously, number, match, buy, the, compared, definitely, believe, version, scholl, bareminerals, beefy, they, and, cheaper, line, is, product, lauren, apprehension, offs, ralph, box, this, store, as, revise, suppliers, dept, tees, deal, packaging, bogus, hanes, people, boxing, counterfeit, bootleg, restaurant, salon, bottle, knockoff, duo, with, legit, sonic, if, use, used, decently, originals, markings, bills, much, other, dr, convinced, their, on, being, production, bird, tags, year, 99, posted, times, letting, bad, feel, because, comments, regularly, seems, purchased, whatsoever, train, labeled, to, recent, nowhere, wrapping, different, no, fragrance, chinese, from, warning, list, sign, letters, typical, wonder, compare, search, training, chip, for, will, numbers, that, oem, known, sell, at, china, caught, again, materials, harder, torn, crack, construction, realized, how, stitching, now, leaked, am, empty, still, made, office, third, first, feeling, sending, wet, near, check, lower, non, cleaning, purpose, party, stop, shows, save, fit, an, smells, 100, true, it, don, show, were, items, noticed, although, tell, stuff, of, seemed, shoes, lasted, description, original, here, reading, clear, work, expensive, fell, those, says, was, needs, send, others, low, hand, or, hours, weight, might, star, my, several, buying, almost, dog, gave, probably, brand, out, clean, help, comes, smaller, years, said, reviews, actually, had, package, seller, thin, ll, ok, both, them, try, picture, many, needed, give, material, come, hold, super, be, know, plastic, bag, top, order, old, fine, looking, keep, before, down, its, color, day, long, disappointed, need, money, look, looks, came, could, way, which, doesn, price, back, even, easy, about, did, bought, love, time, more, really, after, get, only, well, but, up, when, all, good, great, like, one, you, very, so, \n"
          ]
        }
      ],
      "source": [
        "for i in range(25, 50):\n",
        "  print(bert_LR_coef[0][i])   "
      ]
    },
    {
      "cell_type": "code",
      "execution_count": 147,
      "metadata": {
        "id": "0R0ZKUQBN4vf"
      },
      "outputs": [
        {
          "data": {
            "text/html": [
              "<div>\n",
              "<style scoped>\n",
              "    .dataframe tbody tr th:only-of-type {\n",
              "        vertical-align: middle;\n",
              "    }\n",
              "\n",
              "    .dataframe tbody tr th {\n",
              "        vertical-align: top;\n",
              "    }\n",
              "\n",
              "    .dataframe thead th {\n",
              "        text-align: right;\n",
              "    }\n",
              "</style>\n",
              "<table border=\"1\" class=\"dataframe\">\n",
              "  <thead>\n",
              "    <tr style=\"text-align: right;\">\n",
              "      <th></th>\n",
              "      <th>0</th>\n",
              "      <th>1</th>\n",
              "    </tr>\n",
              "  </thead>\n",
              "  <tbody>\n",
              "    <tr>\n",
              "      <th>0</th>\n",
              "      <td>the, it, to, and, for, is, not, this, of, in, ...</td>\n",
              "      <td>-211.408904</td>\n",
              "    </tr>\n",
              "    <tr>\n",
              "      <th>1</th>\n",
              "      <td>book, story, read, of, the, this, and, was, ch...</td>\n",
              "      <td>184.106869</td>\n",
              "    </tr>\n",
              "    <tr>\n",
              "      <th>2</th>\n",
              "      <td>never, quality, received, product, price, item...</td>\n",
              "      <td>-75.775534</td>\n",
              "    </tr>\n",
              "    <tr>\n",
              "      <th>3</th>\n",
              "      <td>dress, size, small, shirt, it, the, but, and, ...</td>\n",
              "      <td>-63.615768</td>\n",
              "    </tr>\n",
              "    <tr>\n",
              "      <th>4</th>\n",
              "      <td>work, works, it, working, to, not, the, worked...</td>\n",
              "      <td>-215.211418</td>\n",
              "    </tr>\n",
              "    <tr>\n",
              "      <th>5</th>\n",
              "      <td>pillow, very, soft, it, sheets, and, not, the,...</td>\n",
              "      <td>-187.852159</td>\n",
              "    </tr>\n",
              "    <tr>\n",
              "      <th>6</th>\n",
              "      <td>ring, loves, my, for, it, gift, and, she, the,...</td>\n",
              "      <td>201.001476</td>\n",
              "    </tr>\n",
              "    <tr>\n",
              "      <th>7</th>\n",
              "      <td>they, these, shoes, are, them, size, shoe, fee...</td>\n",
              "      <td>-62.124271</td>\n",
              "    </tr>\n",
              "    <tr>\n",
              "      <th>8</th>\n",
              "      <td>taste, smell, flavor, scent, it, like, the, sm...</td>\n",
              "      <td>9.228646</td>\n",
              "    </tr>\n",
              "    <tr>\n",
              "      <th>9</th>\n",
              "      <td>hair, skin, my, it, this, and, to, wig, produc...</td>\n",
              "      <td>-90.855721</td>\n",
              "    </tr>\n",
              "    <tr>\n",
              "      <th>10</th>\n",
              "      <td>color, colors, not, as, the, pink, what, pictu...</td>\n",
              "      <td>-30.480780</td>\n",
              "    </tr>\n",
              "    <tr>\n",
              "      <th>11</th>\n",
              "      <td>lights, light, bright, bulbs, the, bulb, and, ...</td>\n",
              "      <td>113.867545</td>\n",
              "    </tr>\n",
              "    <tr>\n",
              "      <th>12</th>\n",
              "      <td>box, bottle, the, was, broken, lid, arrived, b...</td>\n",
              "      <td>-326.803672</td>\n",
              "    </tr>\n",
              "    <tr>\n",
              "      <th>13</th>\n",
              "      <td>coffee, the, to, recipes, and, for, it, is, of...</td>\n",
              "      <td>77.933525</td>\n",
              "    </tr>\n",
              "    <tr>\n",
              "      <th>14</th>\n",
              "      <td>phone, case, screen, protector, the, it, is, t...</td>\n",
              "      <td>18.214187</td>\n",
              "    </tr>\n",
              "    <tr>\n",
              "      <th>15</th>\n",
              "      <td>install, easy, to, tool, the, and, screws, it,...</td>\n",
              "      <td>40.435852</td>\n",
              "    </tr>\n",
              "    <tr>\n",
              "      <th>16</th>\n",
              "      <td>brush, brushes, clean, the, to, towels, and, i...</td>\n",
              "      <td>595.692961</td>\n",
              "    </tr>\n",
              "    <tr>\n",
              "      <th>17</th>\n",
              "      <td>dog, collar, he, dogs, cat, she, my, cats, it,...</td>\n",
              "      <td>-37.230300</td>\n",
              "    </tr>\n",
              "    <tr>\n",
              "      <th>18</th>\n",
              "      <td>taking, me, it, for, this, to, and, product, e...</td>\n",
              "      <td>257.714178</td>\n",
              "    </tr>\n",
              "    <tr>\n",
              "      <th>19</th>\n",
              "      <td>cable, charge, cables, battery, charging, char...</td>\n",
              "      <td>-45.267227</td>\n",
              "    </tr>\n",
              "    <tr>\n",
              "      <th>20</th>\n",
              "      <td>bag, cards, bags, wallet, backpack, the, card,...</td>\n",
              "      <td>52.619320</td>\n",
              "    </tr>\n",
              "    <tr>\n",
              "      <th>21</th>\n",
              "      <td>watch, band, clock, it, the, to, fitbit, is, t...</td>\n",
              "      <td>-87.002156</td>\n",
              "    </tr>\n",
              "    <tr>\n",
              "      <th>22</th>\n",
              "      <td>sound, headphones, music, the, bluetooth, ear,...</td>\n",
              "      <td>-13.410921</td>\n",
              "    </tr>\n",
              "    <tr>\n",
              "      <th>23</th>\n",
              "      <td>stick, tape, adhesive, the, markers, to, magne...</td>\n",
              "      <td>-273.891095</td>\n",
              "    </tr>\n",
              "    <tr>\n",
              "      <th>24</th>\n",
              "      <td>fit, fits, perfectly, not, it, good, great, bu...</td>\n",
              "      <td>41.536936</td>\n",
              "    </tr>\n",
              "    <tr>\n",
              "      <th>25</th>\n",
              "      <td>hose, filter, pump, water, tank, the, filters,...</td>\n",
              "      <td>-59.340711</td>\n",
              "    </tr>\n",
              "    <tr>\n",
              "      <th>26</th>\n",
              "      <td>glasses, camera, lens, the, lenses, them, they...</td>\n",
              "      <td>239.860069</td>\n",
              "    </tr>\n",
              "    <tr>\n",
              "      <th>27</th>\n",
              "      <td>ink, pen, pens, printer, cartridge, cartridges...</td>\n",
              "      <td>153.124045</td>\n",
              "    </tr>\n",
              "    <tr>\n",
              "      <th>28</th>\n",
              "      <td>stand, velcro, hooks, hang, the, it, to, hange...</td>\n",
              "      <td>109.520525</td>\n",
              "    </tr>\n",
              "    <tr>\n",
              "      <th>29</th>\n",
              "      <td>chair, seat, chairs, mattress, the, bed, to, a...</td>\n",
              "      <td>111.305636</td>\n",
              "    </tr>\n",
              "    <tr>\n",
              "      <th>30</th>\n",
              "      <td>table, shelf, calendar, planner, shelves, draw...</td>\n",
              "      <td>170.929052</td>\n",
              "    </tr>\n",
              "    <tr>\n",
              "      <th>31</th>\n",
              "      <td>knife, sharp, blade, knives, cutting, cut, the...</td>\n",
              "      <td>58.221401</td>\n",
              "    </tr>\n",
              "    <tr>\n",
              "      <th>32</th>\n",
              "      <td>tent, umbrella, waterproof, it, wind, rain, th...</td>\n",
              "      <td>-22.999216</td>\n",
              "    </tr>\n",
              "    <tr>\n",
              "      <th>33</th>\n",
              "      <td>mirror, curtain, window, curtains, the, it, on...</td>\n",
              "      <td>33.576465</td>\n",
              "    </tr>\n",
              "    <tr>\n",
              "      <th>34</th>\n",
              "      <td>antenna, wifi, router, channels, reception, to...</td>\n",
              "      <td>-102.933823</td>\n",
              "    </tr>\n",
              "    <tr>\n",
              "      <th>35</th>\n",
              "      <td>balls, balloons, ball, inflate, inflated, to, ...</td>\n",
              "      <td>-224.732170</td>\n",
              "    </tr>\n",
              "    <tr>\n",
              "      <th>36</th>\n",
              "      <td>bugs, traps, mice, birds, trap, in, ants, inse...</td>\n",
              "      <td>-164.871094</td>\n",
              "    </tr>\n",
              "    <tr>\n",
              "      <th>37</th>\n",
              "      <td>rug, rugs, mats, mat, carpet, the, are, tiles,...</td>\n",
              "      <td>241.791103</td>\n",
              "    </tr>\n",
              "    <tr>\n",
              "      <th>38</th>\n",
              "      <td>belt, holster, the, belts, for, to, buckle, ta...</td>\n",
              "      <td>21.950999</td>\n",
              "    </tr>\n",
              "    <tr>\n",
              "      <th>39</th>\n",
              "      <td>bike, wheels, tire, the, tires, to, for, scoot...</td>\n",
              "      <td>16.713651</td>\n",
              "    </tr>\n",
              "    <tr>\n",
              "      <th>40</th>\n",
              "      <td>diapers, straw, diaper, straws, baby, these, p...</td>\n",
              "      <td>-188.363841</td>\n",
              "    </tr>\n",
              "    <tr>\n",
              "      <th>41</th>\n",
              "      <td>fan, fans, air, quiet, it, the, when, to, you,...</td>\n",
              "      <td>-136.976683</td>\n",
              "    </tr>\n",
              "    <tr>\n",
              "      <th>42</th>\n",
              "      <td>kit, what, exactly, needed, looking, just, gre...</td>\n",
              "      <td>64.671526</td>\n",
              "    </tr>\n",
              "    <tr>\n",
              "      <th>43</th>\n",
              "      <td>reel, rod, fish, fishing, spools, spool, reels...</td>\n",
              "      <td>-74.010229</td>\n",
              "    </tr>\n",
              "    <tr>\n",
              "      <th>44</th>\n",
              "      <td>ice, cubes, cold, water, trays, cooler, the, b...</td>\n",
              "      <td>110.266044</td>\n",
              "    </tr>\n",
              "    <tr>\n",
              "      <th>45</th>\n",
              "      <td>mold, rust, castle, resin, paint, spots, ruste...</td>\n",
              "      <td>-117.420843</td>\n",
              "    </tr>\n",
              "    <tr>\n",
              "      <th>46</th>\n",
              "      <td>instructions, directions, no, come, with, inst...</td>\n",
              "      <td>-17.570125</td>\n",
              "    </tr>\n",
              "    <tr>\n",
              "      <th>47</th>\n",
              "      <td>grill, cover, bbq, grates, fit, grilling, on, ...</td>\n",
              "      <td>-6.853125</td>\n",
              "    </tr>\n",
              "    <tr>\n",
              "      <th>48</th>\n",
              "      <td>difference, notice, didn, any, much, change, s...</td>\n",
              "      <td>-16.637297</td>\n",
              "    </tr>\n",
              "    <tr>\n",
              "      <th>49</th>\n",
              "      <td>fake, shark, pads, not, amazon, knock, beverly...</td>\n",
              "      <td>-63.327521</td>\n",
              "    </tr>\n",
              "  </tbody>\n",
              "</table>\n",
              "</div>"
            ],
            "text/plain": [
              "                                                    0           1\n",
              "0   the, it, to, and, for, is, not, this, of, in, ... -211.408904\n",
              "1   book, story, read, of, the, this, and, was, ch...  184.106869\n",
              "2   never, quality, received, product, price, item...  -75.775534\n",
              "3   dress, size, small, shirt, it, the, but, and, ...  -63.615768\n",
              "4   work, works, it, working, to, not, the, worked... -215.211418\n",
              "5   pillow, very, soft, it, sheets, and, not, the,... -187.852159\n",
              "6   ring, loves, my, for, it, gift, and, she, the,...  201.001476\n",
              "7   they, these, shoes, are, them, size, shoe, fee...  -62.124271\n",
              "8   taste, smell, flavor, scent, it, like, the, sm...    9.228646\n",
              "9   hair, skin, my, it, this, and, to, wig, produc...  -90.855721\n",
              "10  color, colors, not, as, the, pink, what, pictu...  -30.480780\n",
              "11  lights, light, bright, bulbs, the, bulb, and, ...  113.867545\n",
              "12  box, bottle, the, was, broken, lid, arrived, b... -326.803672\n",
              "13  coffee, the, to, recipes, and, for, it, is, of...   77.933525\n",
              "14  phone, case, screen, protector, the, it, is, t...   18.214187\n",
              "15  install, easy, to, tool, the, and, screws, it,...   40.435852\n",
              "16  brush, brushes, clean, the, to, towels, and, i...  595.692961\n",
              "17  dog, collar, he, dogs, cat, she, my, cats, it,...  -37.230300\n",
              "18  taking, me, it, for, this, to, and, product, e...  257.714178\n",
              "19  cable, charge, cables, battery, charging, char...  -45.267227\n",
              "20  bag, cards, bags, wallet, backpack, the, card,...   52.619320\n",
              "21  watch, band, clock, it, the, to, fitbit, is, t...  -87.002156\n",
              "22  sound, headphones, music, the, bluetooth, ear,...  -13.410921\n",
              "23  stick, tape, adhesive, the, markers, to, magne... -273.891095\n",
              "24  fit, fits, perfectly, not, it, good, great, bu...   41.536936\n",
              "25  hose, filter, pump, water, tank, the, filters,...  -59.340711\n",
              "26  glasses, camera, lens, the, lenses, them, they...  239.860069\n",
              "27  ink, pen, pens, printer, cartridge, cartridges...  153.124045\n",
              "28  stand, velcro, hooks, hang, the, it, to, hange...  109.520525\n",
              "29  chair, seat, chairs, mattress, the, bed, to, a...  111.305636\n",
              "30  table, shelf, calendar, planner, shelves, draw...  170.929052\n",
              "31  knife, sharp, blade, knives, cutting, cut, the...   58.221401\n",
              "32  tent, umbrella, waterproof, it, wind, rain, th...  -22.999216\n",
              "33  mirror, curtain, window, curtains, the, it, on...   33.576465\n",
              "34  antenna, wifi, router, channels, reception, to... -102.933823\n",
              "35  balls, balloons, ball, inflate, inflated, to, ... -224.732170\n",
              "36  bugs, traps, mice, birds, trap, in, ants, inse... -164.871094\n",
              "37  rug, rugs, mats, mat, carpet, the, are, tiles,...  241.791103\n",
              "38  belt, holster, the, belts, for, to, buckle, ta...   21.950999\n",
              "39  bike, wheels, tire, the, tires, to, for, scoot...   16.713651\n",
              "40  diapers, straw, diaper, straws, baby, these, p... -188.363841\n",
              "41  fan, fans, air, quiet, it, the, when, to, you,... -136.976683\n",
              "42  kit, what, exactly, needed, looking, just, gre...   64.671526\n",
              "43  reel, rod, fish, fishing, spools, spool, reels...  -74.010229\n",
              "44  ice, cubes, cold, water, trays, cooler, the, b...  110.266044\n",
              "45  mold, rust, castle, resin, paint, spots, ruste... -117.420843\n",
              "46  instructions, directions, no, come, with, inst...  -17.570125\n",
              "47  grill, cover, bbq, grates, fit, grilling, on, ...   -6.853125\n",
              "48  difference, notice, didn, any, much, change, s...  -16.637297\n",
              "49  fake, shark, pads, not, amazon, knock, beverly...  -63.327521"
            ]
          },
          "execution_count": 147,
          "metadata": {},
          "output_type": "execute_result"
        }
      ],
      "source": [
        "bert_LR_coef"
      ]
    }
  ],
  "metadata": {
    "accelerator": "GPU",
    "colab": {
      "collapsed_sections": [
        "GPJW1I8d0RLC",
        "jdrTu5G70cH0",
        "P6XQTwmDMyBY"
      ],
      "provenance": []
    },
    "kernelspec": {
      "display_name": "Python 3",
      "name": "python3"
    },
    "language_info": {
      "codemirror_mode": {
        "name": "ipython",
        "version": 3
      },
      "file_extension": ".py",
      "mimetype": "text/x-python",
      "name": "python",
      "nbconvert_exporter": "python",
      "pygments_lexer": "ipython3",
      "version": "3.11.0"
    },
    "widgets": {
      "application/vnd.jupyter.widget-state+json": {
        "09a11feda42f4d6ba5e008e767db9697": {
          "model_module": "@jupyter-widgets/controls",
          "model_module_version": "1.5.0",
          "model_name": "HTMLModel",
          "state": {
            "_dom_classes": [],
            "_model_module": "@jupyter-widgets/controls",
            "_model_module_version": "1.5.0",
            "_model_name": "HTMLModel",
            "_view_count": null,
            "_view_module": "@jupyter-widgets/controls",
            "_view_module_version": "1.5.0",
            "_view_name": "HTMLView",
            "description": "",
            "description_tooltip": null,
            "layout": "IPY_MODEL_f16a84666a9642c882d8482ef9a63c20",
            "placeholder": "​",
            "style": "IPY_MODEL_db532f2eafbf4aaeb4596a938d606543",
            "value": " 3/0 [00:00&lt;00:00, 76.32 examples/s]"
          }
        },
        "1ea1810429f741709e31785ad5ff4722": {
          "model_module": "@jupyter-widgets/controls",
          "model_module_version": "1.5.0",
          "model_name": "DescriptionStyleModel",
          "state": {
            "_model_module": "@jupyter-widgets/controls",
            "_model_module_version": "1.5.0",
            "_model_name": "DescriptionStyleModel",
            "_view_count": null,
            "_view_module": "@jupyter-widgets/base",
            "_view_module_version": "1.2.0",
            "_view_name": "StyleView",
            "description_width": ""
          }
        },
        "30807e5b126248d2a445f0a0ee7e591b": {
          "model_module": "@jupyter-widgets/base",
          "model_module_version": "1.2.0",
          "model_name": "LayoutModel",
          "state": {
            "_model_module": "@jupyter-widgets/base",
            "_model_module_version": "1.2.0",
            "_model_name": "LayoutModel",
            "_view_count": null,
            "_view_module": "@jupyter-widgets/base",
            "_view_module_version": "1.2.0",
            "_view_name": "LayoutView",
            "align_content": null,
            "align_items": null,
            "align_self": null,
            "border": null,
            "bottom": null,
            "display": null,
            "flex": null,
            "flex_flow": null,
            "grid_area": null,
            "grid_auto_columns": null,
            "grid_auto_flow": null,
            "grid_auto_rows": null,
            "grid_column": null,
            "grid_gap": null,
            "grid_row": null,
            "grid_template_areas": null,
            "grid_template_columns": null,
            "grid_template_rows": null,
            "height": null,
            "justify_content": null,
            "justify_items": null,
            "left": null,
            "margin": null,
            "max_height": null,
            "max_width": null,
            "min_height": null,
            "min_width": null,
            "object_fit": null,
            "object_position": null,
            "order": null,
            "overflow": null,
            "overflow_x": null,
            "overflow_y": null,
            "padding": null,
            "right": null,
            "top": null,
            "visibility": null,
            "width": "20px"
          }
        },
        "8c5467e7f7994fdaa72fe05debdacf78": {
          "model_module": "@jupyter-widgets/controls",
          "model_module_version": "1.5.0",
          "model_name": "FloatProgressModel",
          "state": {
            "_dom_classes": [],
            "_model_module": "@jupyter-widgets/controls",
            "_model_module_version": "1.5.0",
            "_model_name": "FloatProgressModel",
            "_view_count": null,
            "_view_module": "@jupyter-widgets/controls",
            "_view_module_version": "1.5.0",
            "_view_name": "ProgressView",
            "bar_style": "success",
            "description": "",
            "description_tooltip": null,
            "layout": "IPY_MODEL_30807e5b126248d2a445f0a0ee7e591b",
            "max": 1,
            "min": 0,
            "orientation": "horizontal",
            "style": "IPY_MODEL_c37c202c50564d5a8feefa849bba962e",
            "value": 1
          }
        },
        "a3f38945aa624fd992e9f6e81b56ea2d": {
          "model_module": "@jupyter-widgets/base",
          "model_module_version": "1.2.0",
          "model_name": "LayoutModel",
          "state": {
            "_model_module": "@jupyter-widgets/base",
            "_model_module_version": "1.2.0",
            "_model_name": "LayoutModel",
            "_view_count": null,
            "_view_module": "@jupyter-widgets/base",
            "_view_module_version": "1.2.0",
            "_view_name": "LayoutView",
            "align_content": null,
            "align_items": null,
            "align_self": null,
            "border": null,
            "bottom": null,
            "display": null,
            "flex": null,
            "flex_flow": null,
            "grid_area": null,
            "grid_auto_columns": null,
            "grid_auto_flow": null,
            "grid_auto_rows": null,
            "grid_column": null,
            "grid_gap": null,
            "grid_row": null,
            "grid_template_areas": null,
            "grid_template_columns": null,
            "grid_template_rows": null,
            "height": null,
            "justify_content": null,
            "justify_items": null,
            "left": null,
            "margin": null,
            "max_height": null,
            "max_width": null,
            "min_height": null,
            "min_width": null,
            "object_fit": null,
            "object_position": null,
            "order": null,
            "overflow": null,
            "overflow_x": null,
            "overflow_y": null,
            "padding": null,
            "right": null,
            "top": null,
            "visibility": null,
            "width": null
          }
        },
        "a7893bbd0a80417186a1728ff855ac1f": {
          "model_module": "@jupyter-widgets/controls",
          "model_module_version": "1.5.0",
          "model_name": "HTMLModel",
          "state": {
            "_dom_classes": [],
            "_model_module": "@jupyter-widgets/controls",
            "_model_module_version": "1.5.0",
            "_model_name": "HTMLModel",
            "_view_count": null,
            "_view_module": "@jupyter-widgets/controls",
            "_view_module_version": "1.5.0",
            "_view_name": "HTMLView",
            "description": "",
            "description_tooltip": null,
            "layout": "IPY_MODEL_fd1a362062b94243946dd4d10a450c0f",
            "placeholder": "​",
            "style": "IPY_MODEL_1ea1810429f741709e31785ad5ff4722",
            "value": "Generating train split: "
          }
        },
        "c37c202c50564d5a8feefa849bba962e": {
          "model_module": "@jupyter-widgets/controls",
          "model_module_version": "1.5.0",
          "model_name": "ProgressStyleModel",
          "state": {
            "_model_module": "@jupyter-widgets/controls",
            "_model_module_version": "1.5.0",
            "_model_name": "ProgressStyleModel",
            "_view_count": null,
            "_view_module": "@jupyter-widgets/base",
            "_view_module_version": "1.2.0",
            "_view_name": "StyleView",
            "bar_color": null,
            "description_width": ""
          }
        },
        "c70668e3494c42bcbdc58563ec598c71": {
          "model_module": "@jupyter-widgets/controls",
          "model_module_version": "1.5.0",
          "model_name": "HBoxModel",
          "state": {
            "_dom_classes": [],
            "_model_module": "@jupyter-widgets/controls",
            "_model_module_version": "1.5.0",
            "_model_name": "HBoxModel",
            "_view_count": null,
            "_view_module": "@jupyter-widgets/controls",
            "_view_module_version": "1.5.0",
            "_view_name": "HBoxView",
            "box_style": "",
            "children": [
              "IPY_MODEL_a7893bbd0a80417186a1728ff855ac1f",
              "IPY_MODEL_8c5467e7f7994fdaa72fe05debdacf78",
              "IPY_MODEL_09a11feda42f4d6ba5e008e767db9697"
            ],
            "layout": "IPY_MODEL_a3f38945aa624fd992e9f6e81b56ea2d"
          }
        },
        "db532f2eafbf4aaeb4596a938d606543": {
          "model_module": "@jupyter-widgets/controls",
          "model_module_version": "1.5.0",
          "model_name": "DescriptionStyleModel",
          "state": {
            "_model_module": "@jupyter-widgets/controls",
            "_model_module_version": "1.5.0",
            "_model_name": "DescriptionStyleModel",
            "_view_count": null,
            "_view_module": "@jupyter-widgets/base",
            "_view_module_version": "1.2.0",
            "_view_name": "StyleView",
            "description_width": ""
          }
        },
        "f16a84666a9642c882d8482ef9a63c20": {
          "model_module": "@jupyter-widgets/base",
          "model_module_version": "1.2.0",
          "model_name": "LayoutModel",
          "state": {
            "_model_module": "@jupyter-widgets/base",
            "_model_module_version": "1.2.0",
            "_model_name": "LayoutModel",
            "_view_count": null,
            "_view_module": "@jupyter-widgets/base",
            "_view_module_version": "1.2.0",
            "_view_name": "LayoutView",
            "align_content": null,
            "align_items": null,
            "align_self": null,
            "border": null,
            "bottom": null,
            "display": null,
            "flex": null,
            "flex_flow": null,
            "grid_area": null,
            "grid_auto_columns": null,
            "grid_auto_flow": null,
            "grid_auto_rows": null,
            "grid_column": null,
            "grid_gap": null,
            "grid_row": null,
            "grid_template_areas": null,
            "grid_template_columns": null,
            "grid_template_rows": null,
            "height": null,
            "justify_content": null,
            "justify_items": null,
            "left": null,
            "margin": null,
            "max_height": null,
            "max_width": null,
            "min_height": null,
            "min_width": null,
            "object_fit": null,
            "object_position": null,
            "order": null,
            "overflow": null,
            "overflow_x": null,
            "overflow_y": null,
            "padding": null,
            "right": null,
            "top": null,
            "visibility": null,
            "width": null
          }
        },
        "fd1a362062b94243946dd4d10a450c0f": {
          "model_module": "@jupyter-widgets/base",
          "model_module_version": "1.2.0",
          "model_name": "LayoutModel",
          "state": {
            "_model_module": "@jupyter-widgets/base",
            "_model_module_version": "1.2.0",
            "_model_name": "LayoutModel",
            "_view_count": null,
            "_view_module": "@jupyter-widgets/base",
            "_view_module_version": "1.2.0",
            "_view_name": "LayoutView",
            "align_content": null,
            "align_items": null,
            "align_self": null,
            "border": null,
            "bottom": null,
            "display": null,
            "flex": null,
            "flex_flow": null,
            "grid_area": null,
            "grid_auto_columns": null,
            "grid_auto_flow": null,
            "grid_auto_rows": null,
            "grid_column": null,
            "grid_gap": null,
            "grid_row": null,
            "grid_template_areas": null,
            "grid_template_columns": null,
            "grid_template_rows": null,
            "height": null,
            "justify_content": null,
            "justify_items": null,
            "left": null,
            "margin": null,
            "max_height": null,
            "max_width": null,
            "min_height": null,
            "min_width": null,
            "object_fit": null,
            "object_position": null,
            "order": null,
            "overflow": null,
            "overflow_x": null,
            "overflow_y": null,
            "padding": null,
            "right": null,
            "top": null,
            "visibility": null,
            "width": null
          }
        }
      }
    }
  },
  "nbformat": 4,
  "nbformat_minor": 0
}
